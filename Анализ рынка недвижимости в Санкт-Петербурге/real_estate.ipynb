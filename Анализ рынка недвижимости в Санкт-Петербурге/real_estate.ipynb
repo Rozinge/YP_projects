{
 "cells": [
  {
   "cell_type": "markdown",
   "metadata": {},
   "source": [
    "# Исследование объявлений о продаже квартир\n",
    "\n",
    "Нужно определить рыночную стоимость объектов недвижимости по данным сервиса Яндекс.Недвижимость — архиву объявлений о продаже квартир в Санкт-Петербурге и соседних населённых пунктах за несколько лет. \n",
    "\n",
    "По каждой квартире на продажу доступны два вида данных. Первые вписаны пользователем, вторые получены автоматически на основе картографических данных. Например, расстояние до центра, аэропорта, ближайшего парка и водоёма. "
   ]
  },
  {
   "cell_type": "markdown",
   "metadata": {},
   "source": [
    "## Изучение данных из файла  <a class=\"anchor\" id=\"Изучение-данных-из-файла\"></a>"
   ]
  },
  {
   "cell_type": "code",
   "execution_count": 1,
   "metadata": {
    "scrolled": true
   },
   "outputs": [
    {
     "data": {
      "text/html": [
       "<div>\n",
       "<style scoped>\n",
       "    .dataframe tbody tr th:only-of-type {\n",
       "        vertical-align: middle;\n",
       "    }\n",
       "\n",
       "    .dataframe tbody tr th {\n",
       "        vertical-align: top;\n",
       "    }\n",
       "\n",
       "    .dataframe thead th {\n",
       "        text-align: right;\n",
       "    }\n",
       "</style>\n",
       "<table border=\"1\" class=\"dataframe\">\n",
       "  <thead>\n",
       "    <tr style=\"text-align: right;\">\n",
       "      <th></th>\n",
       "      <th>total_images</th>\n",
       "      <th>last_price</th>\n",
       "      <th>total_area</th>\n",
       "      <th>first_day_exposition</th>\n",
       "      <th>rooms</th>\n",
       "      <th>ceiling_height</th>\n",
       "      <th>floors_total</th>\n",
       "      <th>living_area</th>\n",
       "      <th>floor</th>\n",
       "      <th>is_apartment</th>\n",
       "      <th>studio</th>\n",
       "      <th>open_plan</th>\n",
       "      <th>kitchen_area</th>\n",
       "      <th>balcony</th>\n",
       "      <th>locality_name</th>\n",
       "      <th>airports_nearest</th>\n",
       "      <th>cityCenters_nearest</th>\n",
       "      <th>parks_around3000</th>\n",
       "      <th>parks_nearest</th>\n",
       "      <th>ponds_around3000</th>\n",
       "      <th>ponds_nearest</th>\n",
       "      <th>days_exposition</th>\n",
       "    </tr>\n",
       "  </thead>\n",
       "  <tbody>\n",
       "    <tr>\n",
       "      <th>0</th>\n",
       "      <td>20</td>\n",
       "      <td>13000000.0</td>\n",
       "      <td>108.0</td>\n",
       "      <td>2019-03-07T00:00:00</td>\n",
       "      <td>3</td>\n",
       "      <td>2.70</td>\n",
       "      <td>16.0</td>\n",
       "      <td>51.0</td>\n",
       "      <td>8</td>\n",
       "      <td>NaN</td>\n",
       "      <td>False</td>\n",
       "      <td>False</td>\n",
       "      <td>25.0</td>\n",
       "      <td>NaN</td>\n",
       "      <td>Санкт-Петербург</td>\n",
       "      <td>18863.0</td>\n",
       "      <td>16028.0</td>\n",
       "      <td>1.0</td>\n",
       "      <td>482.0</td>\n",
       "      <td>2.0</td>\n",
       "      <td>755.0</td>\n",
       "      <td>NaN</td>\n",
       "    </tr>\n",
       "    <tr>\n",
       "      <th>1</th>\n",
       "      <td>7</td>\n",
       "      <td>3350000.0</td>\n",
       "      <td>40.4</td>\n",
       "      <td>2018-12-04T00:00:00</td>\n",
       "      <td>1</td>\n",
       "      <td>NaN</td>\n",
       "      <td>11.0</td>\n",
       "      <td>18.6</td>\n",
       "      <td>1</td>\n",
       "      <td>NaN</td>\n",
       "      <td>False</td>\n",
       "      <td>False</td>\n",
       "      <td>11.0</td>\n",
       "      <td>2.0</td>\n",
       "      <td>посёлок Шушары</td>\n",
       "      <td>12817.0</td>\n",
       "      <td>18603.0</td>\n",
       "      <td>0.0</td>\n",
       "      <td>NaN</td>\n",
       "      <td>0.0</td>\n",
       "      <td>NaN</td>\n",
       "      <td>81.0</td>\n",
       "    </tr>\n",
       "    <tr>\n",
       "      <th>2</th>\n",
       "      <td>10</td>\n",
       "      <td>5196000.0</td>\n",
       "      <td>56.0</td>\n",
       "      <td>2015-08-20T00:00:00</td>\n",
       "      <td>2</td>\n",
       "      <td>NaN</td>\n",
       "      <td>5.0</td>\n",
       "      <td>34.3</td>\n",
       "      <td>4</td>\n",
       "      <td>NaN</td>\n",
       "      <td>False</td>\n",
       "      <td>False</td>\n",
       "      <td>8.3</td>\n",
       "      <td>0.0</td>\n",
       "      <td>Санкт-Петербург</td>\n",
       "      <td>21741.0</td>\n",
       "      <td>13933.0</td>\n",
       "      <td>1.0</td>\n",
       "      <td>90.0</td>\n",
       "      <td>2.0</td>\n",
       "      <td>574.0</td>\n",
       "      <td>558.0</td>\n",
       "    </tr>\n",
       "    <tr>\n",
       "      <th>3</th>\n",
       "      <td>0</td>\n",
       "      <td>64900000.0</td>\n",
       "      <td>159.0</td>\n",
       "      <td>2015-07-24T00:00:00</td>\n",
       "      <td>3</td>\n",
       "      <td>NaN</td>\n",
       "      <td>14.0</td>\n",
       "      <td>NaN</td>\n",
       "      <td>9</td>\n",
       "      <td>NaN</td>\n",
       "      <td>False</td>\n",
       "      <td>False</td>\n",
       "      <td>NaN</td>\n",
       "      <td>0.0</td>\n",
       "      <td>Санкт-Петербург</td>\n",
       "      <td>28098.0</td>\n",
       "      <td>6800.0</td>\n",
       "      <td>2.0</td>\n",
       "      <td>84.0</td>\n",
       "      <td>3.0</td>\n",
       "      <td>234.0</td>\n",
       "      <td>424.0</td>\n",
       "    </tr>\n",
       "    <tr>\n",
       "      <th>4</th>\n",
       "      <td>2</td>\n",
       "      <td>10000000.0</td>\n",
       "      <td>100.0</td>\n",
       "      <td>2018-06-19T00:00:00</td>\n",
       "      <td>2</td>\n",
       "      <td>3.03</td>\n",
       "      <td>14.0</td>\n",
       "      <td>32.0</td>\n",
       "      <td>13</td>\n",
       "      <td>NaN</td>\n",
       "      <td>False</td>\n",
       "      <td>False</td>\n",
       "      <td>41.0</td>\n",
       "      <td>NaN</td>\n",
       "      <td>Санкт-Петербург</td>\n",
       "      <td>31856.0</td>\n",
       "      <td>8098.0</td>\n",
       "      <td>2.0</td>\n",
       "      <td>112.0</td>\n",
       "      <td>1.0</td>\n",
       "      <td>48.0</td>\n",
       "      <td>121.0</td>\n",
       "    </tr>\n",
       "  </tbody>\n",
       "</table>\n",
       "</div>"
      ],
      "text/plain": [
       "   total_images  last_price  total_area first_day_exposition  rooms  \\\n",
       "0            20  13000000.0       108.0  2019-03-07T00:00:00      3   \n",
       "1             7   3350000.0        40.4  2018-12-04T00:00:00      1   \n",
       "2            10   5196000.0        56.0  2015-08-20T00:00:00      2   \n",
       "3             0  64900000.0       159.0  2015-07-24T00:00:00      3   \n",
       "4             2  10000000.0       100.0  2018-06-19T00:00:00      2   \n",
       "\n",
       "   ceiling_height  floors_total  living_area  floor is_apartment  studio  \\\n",
       "0            2.70          16.0         51.0      8          NaN   False   \n",
       "1             NaN          11.0         18.6      1          NaN   False   \n",
       "2             NaN           5.0         34.3      4          NaN   False   \n",
       "3             NaN          14.0          NaN      9          NaN   False   \n",
       "4            3.03          14.0         32.0     13          NaN   False   \n",
       "\n",
       "   open_plan  kitchen_area  balcony    locality_name  airports_nearest  \\\n",
       "0      False          25.0      NaN  Санкт-Петербург           18863.0   \n",
       "1      False          11.0      2.0   посёлок Шушары           12817.0   \n",
       "2      False           8.3      0.0  Санкт-Петербург           21741.0   \n",
       "3      False           NaN      0.0  Санкт-Петербург           28098.0   \n",
       "4      False          41.0      NaN  Санкт-Петербург           31856.0   \n",
       "\n",
       "   cityCenters_nearest  parks_around3000  parks_nearest  ponds_around3000  \\\n",
       "0              16028.0               1.0          482.0               2.0   \n",
       "1              18603.0               0.0            NaN               0.0   \n",
       "2              13933.0               1.0           90.0               2.0   \n",
       "3               6800.0               2.0           84.0               3.0   \n",
       "4               8098.0               2.0          112.0               1.0   \n",
       "\n",
       "   ponds_nearest  days_exposition  \n",
       "0          755.0              NaN  \n",
       "1            NaN             81.0  \n",
       "2          574.0            558.0  \n",
       "3          234.0            424.0  \n",
       "4           48.0            121.0  "
      ]
     },
     "execution_count": 1,
     "metadata": {},
     "output_type": "execute_result"
    }
   ],
   "source": [
    "import pandas as pd\n",
    "import matplotlib.pyplot as plt\n",
    "import numpy as np\n",
    "import math as mt\n",
    "from IPython.core.interactiveshell import InteractiveShell\n",
    "InteractiveShell.ast_node_interactivity = 'all'\n",
    "pd.options.display.max_columns = None\n",
    "\n",
    "df = pd.read_csv('real_estate_data.csv', sep = '\\t')\n",
    "    \n",
    "df.head()"
   ]
  },
  {
   "cell_type": "code",
   "execution_count": 2,
   "metadata": {},
   "outputs": [
    {
     "name": "stdout",
     "output_type": "stream",
     "text": [
      "<class 'pandas.core.frame.DataFrame'>\n",
      "RangeIndex: 23699 entries, 0 to 23698\n",
      "Data columns (total 22 columns):\n",
      " #   Column                Non-Null Count  Dtype  \n",
      "---  ------                --------------  -----  \n",
      " 0   total_images          23699 non-null  int64  \n",
      " 1   last_price            23699 non-null  float64\n",
      " 2   total_area            23699 non-null  float64\n",
      " 3   first_day_exposition  23699 non-null  object \n",
      " 4   rooms                 23699 non-null  int64  \n",
      " 5   ceiling_height        14504 non-null  float64\n",
      " 6   floors_total          23613 non-null  float64\n",
      " 7   living_area           21796 non-null  float64\n",
      " 8   floor                 23699 non-null  int64  \n",
      " 9   is_apartment          2775 non-null   object \n",
      " 10  studio                23699 non-null  bool   \n",
      " 11  open_plan             23699 non-null  bool   \n",
      " 12  kitchen_area          21421 non-null  float64\n",
      " 13  balcony               12180 non-null  float64\n",
      " 14  locality_name         23650 non-null  object \n",
      " 15  airports_nearest      18157 non-null  float64\n",
      " 16  cityCenters_nearest   18180 non-null  float64\n",
      " 17  parks_around3000      18181 non-null  float64\n",
      " 18  parks_nearest         8079 non-null   float64\n",
      " 19  ponds_around3000      18181 non-null  float64\n",
      " 20  ponds_nearest         9110 non-null   float64\n",
      " 21  days_exposition       20518 non-null  float64\n",
      "dtypes: bool(2), float64(14), int64(3), object(3)\n",
      "memory usage: 3.7+ MB\n"
     ]
    }
   ],
   "source": [
    "df.info()"
   ]
  },
  {
   "cell_type": "markdown",
   "metadata": {},
   "source": [
    "В таблице 22 столбца, во многих есть пропущенные значения, больше всего пропусков в столбце `is_apartment`. Присутствуют данные 4 типов: `int`, `float`, `object`, `bool`."
   ]
  },
  {
   "cell_type": "markdown",
   "metadata": {},
   "source": [
    "## Предобработка данных <a class=\"anchor\" id=\"Предобработка-данных\"></a>"
   ]
  },
  {
   "cell_type": "markdown",
   "metadata": {},
   "source": [
    "Для начала стоит привести к единому формату названия столбцов."
   ]
  },
  {
   "cell_type": "code",
   "execution_count": 3,
   "metadata": {},
   "outputs": [],
   "source": [
    "df = df.rename(columns = {'cityCenters_nearest': 'city_centers_nearest', 'studio':'is_studio'})"
   ]
  },
  {
   "cell_type": "markdown",
   "metadata": {},
   "source": [
    " "
   ]
  },
  {
   "cell_type": "code",
   "execution_count": 4,
   "metadata": {
    "scrolled": false
   },
   "outputs": [
    {
     "data": {
      "text/plain": [
       "4500000.0     342\n",
       "3500000.0     291\n",
       "4000000.0     260\n",
       "4300000.0     260\n",
       "4200000.0     259\n",
       "             ... \n",
       "10430000.0      1\n",
       "9917600.0       1\n",
       "3180500.0       1\n",
       "7297000.0       1\n",
       "4386000.0       1\n",
       "Name: last_price, Length: 2978, dtype: int64"
      ]
     },
     "execution_count": 4,
     "metadata": {},
     "output_type": "execute_result"
    }
   ],
   "source": [
    "df['last_price'].value_counts()"
   ]
  },
  {
   "cell_type": "markdown",
   "metadata": {},
   "source": [
    "В столбце `last_price` все данные типа `float`, хотя дробных значений нет. Можно привести к типу `int`."
   ]
  },
  {
   "cell_type": "code",
   "execution_count": 5,
   "metadata": {},
   "outputs": [],
   "source": [
    "df['last_price'] = df['last_price'].astype('int')"
   ]
  },
  {
   "cell_type": "markdown",
   "metadata": {},
   "source": [
    " "
   ]
  },
  {
   "cell_type": "markdown",
   "metadata": {},
   "source": [
    "Приведение даты к нормальному виду:"
   ]
  },
  {
   "cell_type": "code",
   "execution_count": 6,
   "metadata": {},
   "outputs": [],
   "source": [
    "df['first_day_exposition'] = pd.to_datetime(df['first_day_exposition'], format='%Y-%m-%dT%H:%M:%S')"
   ]
  },
  {
   "cell_type": "markdown",
   "metadata": {},
   "source": [
    " "
   ]
  },
  {
   "cell_type": "code",
   "execution_count": 7,
   "metadata": {
    "scrolled": true
   },
   "outputs": [
    {
     "data": {
      "text/plain": [
       "1     8047\n",
       "2     7940\n",
       "3     5814\n",
       "4     1180\n",
       "5      326\n",
       "0      197\n",
       "6      105\n",
       "7       59\n",
       "8       12\n",
       "9        8\n",
       "10       3\n",
       "11       2\n",
       "14       2\n",
       "19       1\n",
       "16       1\n",
       "12       1\n",
       "15       1\n",
       "Name: rooms, dtype: int64"
      ]
     },
     "execution_count": 7,
     "metadata": {},
     "output_type": "execute_result"
    }
   ],
   "source": [
    "df['rooms'].value_counts()"
   ]
  },
  {
   "cell_type": "markdown",
   "metadata": {},
   "source": [
    "Из столбца `rooms` видно, что есть 197 значений 0 для комнат. Вероятно это ошибка, стоит поставить хотя бы 1 комнату."
   ]
  },
  {
   "cell_type": "code",
   "execution_count": 8,
   "metadata": {},
   "outputs": [],
   "source": [
    "df.loc[df['rooms'] == 0, 'rooms'] = 1"
   ]
  },
  {
   "cell_type": "markdown",
   "metadata": {},
   "source": [
    " "
   ]
  },
  {
   "cell_type": "markdown",
   "metadata": {},
   "source": [
    "Первый столбец с пропущенными значениями - `ceiling_height`. Скорее всего при вводе данных пункт с высотой потолков был необязательным, поэтому люди их не указывали, что привело к появлению пропусков."
   ]
  },
  {
   "cell_type": "code",
   "execution_count": 9,
   "metadata": {},
   "outputs": [
    {
     "data": {
      "text/plain": [
       "9195"
      ]
     },
     "execution_count": 9,
     "metadata": {},
     "output_type": "execute_result"
    }
   ],
   "source": [
    "df['ceiling_height'].isna().sum()"
   ]
  },
  {
   "cell_type": "code",
   "execution_count": 10,
   "metadata": {},
   "outputs": [],
   "source": [
    "df.loc[df['ceiling_height'].isna(), 'ceiling_height'] = (df.groupby('floor')['ceiling_height'].transform('median'))"
   ]
  },
  {
   "cell_type": "markdown",
   "metadata": {},
   "source": [
    "Пропуски в столбце `ceiling_height` можно заменить на медиану среди всех значений столбца floor. Оставшиеся 4 пропуска стоит заменить средним значением."
   ]
  },
  {
   "cell_type": "code",
   "execution_count": 11,
   "metadata": {},
   "outputs": [
    {
     "data": {
      "text/html": [
       "<div>\n",
       "<style scoped>\n",
       "    .dataframe tbody tr th:only-of-type {\n",
       "        vertical-align: middle;\n",
       "    }\n",
       "\n",
       "    .dataframe tbody tr th {\n",
       "        vertical-align: top;\n",
       "    }\n",
       "\n",
       "    .dataframe thead th {\n",
       "        text-align: right;\n",
       "    }\n",
       "</style>\n",
       "<table border=\"1\" class=\"dataframe\">\n",
       "  <thead>\n",
       "    <tr style=\"text-align: right;\">\n",
       "      <th></th>\n",
       "      <th>total_images</th>\n",
       "      <th>last_price</th>\n",
       "      <th>total_area</th>\n",
       "      <th>first_day_exposition</th>\n",
       "      <th>rooms</th>\n",
       "      <th>ceiling_height</th>\n",
       "      <th>floors_total</th>\n",
       "      <th>living_area</th>\n",
       "      <th>floor</th>\n",
       "      <th>is_apartment</th>\n",
       "      <th>is_studio</th>\n",
       "      <th>open_plan</th>\n",
       "      <th>kitchen_area</th>\n",
       "      <th>balcony</th>\n",
       "      <th>locality_name</th>\n",
       "      <th>airports_nearest</th>\n",
       "      <th>city_centers_nearest</th>\n",
       "      <th>parks_around3000</th>\n",
       "      <th>parks_nearest</th>\n",
       "      <th>ponds_around3000</th>\n",
       "      <th>ponds_nearest</th>\n",
       "      <th>days_exposition</th>\n",
       "    </tr>\n",
       "  </thead>\n",
       "  <tbody>\n",
       "    <tr>\n",
       "      <th>0</th>\n",
       "      <td>20</td>\n",
       "      <td>13000000</td>\n",
       "      <td>108.0</td>\n",
       "      <td>2019-03-07</td>\n",
       "      <td>3</td>\n",
       "      <td>2.70</td>\n",
       "      <td>16.0</td>\n",
       "      <td>51.0</td>\n",
       "      <td>8</td>\n",
       "      <td>NaN</td>\n",
       "      <td>False</td>\n",
       "      <td>False</td>\n",
       "      <td>25.0</td>\n",
       "      <td>NaN</td>\n",
       "      <td>Санкт-Петербург</td>\n",
       "      <td>18863.0</td>\n",
       "      <td>16028.0</td>\n",
       "      <td>1.0</td>\n",
       "      <td>482.0</td>\n",
       "      <td>2.0</td>\n",
       "      <td>755.0</td>\n",
       "      <td>NaN</td>\n",
       "    </tr>\n",
       "    <tr>\n",
       "      <th>1</th>\n",
       "      <td>7</td>\n",
       "      <td>3350000</td>\n",
       "      <td>40.4</td>\n",
       "      <td>2018-12-04</td>\n",
       "      <td>1</td>\n",
       "      <td>2.60</td>\n",
       "      <td>11.0</td>\n",
       "      <td>18.6</td>\n",
       "      <td>1</td>\n",
       "      <td>NaN</td>\n",
       "      <td>False</td>\n",
       "      <td>False</td>\n",
       "      <td>11.0</td>\n",
       "      <td>2.0</td>\n",
       "      <td>посёлок Шушары</td>\n",
       "      <td>12817.0</td>\n",
       "      <td>18603.0</td>\n",
       "      <td>0.0</td>\n",
       "      <td>NaN</td>\n",
       "      <td>0.0</td>\n",
       "      <td>NaN</td>\n",
       "      <td>81.0</td>\n",
       "    </tr>\n",
       "    <tr>\n",
       "      <th>2</th>\n",
       "      <td>10</td>\n",
       "      <td>5196000</td>\n",
       "      <td>56.0</td>\n",
       "      <td>2015-08-20</td>\n",
       "      <td>2</td>\n",
       "      <td>2.65</td>\n",
       "      <td>5.0</td>\n",
       "      <td>34.3</td>\n",
       "      <td>4</td>\n",
       "      <td>NaN</td>\n",
       "      <td>False</td>\n",
       "      <td>False</td>\n",
       "      <td>8.3</td>\n",
       "      <td>0.0</td>\n",
       "      <td>Санкт-Петербург</td>\n",
       "      <td>21741.0</td>\n",
       "      <td>13933.0</td>\n",
       "      <td>1.0</td>\n",
       "      <td>90.0</td>\n",
       "      <td>2.0</td>\n",
       "      <td>574.0</td>\n",
       "      <td>558.0</td>\n",
       "    </tr>\n",
       "    <tr>\n",
       "      <th>3</th>\n",
       "      <td>0</td>\n",
       "      <td>64900000</td>\n",
       "      <td>159.0</td>\n",
       "      <td>2015-07-24</td>\n",
       "      <td>3</td>\n",
       "      <td>2.60</td>\n",
       "      <td>14.0</td>\n",
       "      <td>NaN</td>\n",
       "      <td>9</td>\n",
       "      <td>NaN</td>\n",
       "      <td>False</td>\n",
       "      <td>False</td>\n",
       "      <td>NaN</td>\n",
       "      <td>0.0</td>\n",
       "      <td>Санкт-Петербург</td>\n",
       "      <td>28098.0</td>\n",
       "      <td>6800.0</td>\n",
       "      <td>2.0</td>\n",
       "      <td>84.0</td>\n",
       "      <td>3.0</td>\n",
       "      <td>234.0</td>\n",
       "      <td>424.0</td>\n",
       "    </tr>\n",
       "    <tr>\n",
       "      <th>4</th>\n",
       "      <td>2</td>\n",
       "      <td>10000000</td>\n",
       "      <td>100.0</td>\n",
       "      <td>2018-06-19</td>\n",
       "      <td>2</td>\n",
       "      <td>3.03</td>\n",
       "      <td>14.0</td>\n",
       "      <td>32.0</td>\n",
       "      <td>13</td>\n",
       "      <td>NaN</td>\n",
       "      <td>False</td>\n",
       "      <td>False</td>\n",
       "      <td>41.0</td>\n",
       "      <td>NaN</td>\n",
       "      <td>Санкт-Петербург</td>\n",
       "      <td>31856.0</td>\n",
       "      <td>8098.0</td>\n",
       "      <td>2.0</td>\n",
       "      <td>112.0</td>\n",
       "      <td>1.0</td>\n",
       "      <td>48.0</td>\n",
       "      <td>121.0</td>\n",
       "    </tr>\n",
       "  </tbody>\n",
       "</table>\n",
       "</div>"
      ],
      "text/plain": [
       "   total_images  last_price  total_area first_day_exposition  rooms  \\\n",
       "0            20    13000000       108.0           2019-03-07      3   \n",
       "1             7     3350000        40.4           2018-12-04      1   \n",
       "2            10     5196000        56.0           2015-08-20      2   \n",
       "3             0    64900000       159.0           2015-07-24      3   \n",
       "4             2    10000000       100.0           2018-06-19      2   \n",
       "\n",
       "   ceiling_height  floors_total  living_area  floor is_apartment  is_studio  \\\n",
       "0            2.70          16.0         51.0      8          NaN      False   \n",
       "1            2.60          11.0         18.6      1          NaN      False   \n",
       "2            2.65           5.0         34.3      4          NaN      False   \n",
       "3            2.60          14.0          NaN      9          NaN      False   \n",
       "4            3.03          14.0         32.0     13          NaN      False   \n",
       "\n",
       "   open_plan  kitchen_area  balcony    locality_name  airports_nearest  \\\n",
       "0      False          25.0      NaN  Санкт-Петербург           18863.0   \n",
       "1      False          11.0      2.0   посёлок Шушары           12817.0   \n",
       "2      False           8.3      0.0  Санкт-Петербург           21741.0   \n",
       "3      False           NaN      0.0  Санкт-Петербург           28098.0   \n",
       "4      False          41.0      NaN  Санкт-Петербург           31856.0   \n",
       "\n",
       "   city_centers_nearest  parks_around3000  parks_nearest  ponds_around3000  \\\n",
       "0               16028.0               1.0          482.0               2.0   \n",
       "1               18603.0               0.0            NaN               0.0   \n",
       "2               13933.0               1.0           90.0               2.0   \n",
       "3                6800.0               2.0           84.0               3.0   \n",
       "4                8098.0               2.0          112.0               1.0   \n",
       "\n",
       "   ponds_nearest  days_exposition  \n",
       "0          755.0              NaN  \n",
       "1            NaN             81.0  \n",
       "2          574.0            558.0  \n",
       "3          234.0            424.0  \n",
       "4           48.0            121.0  "
      ]
     },
     "execution_count": 11,
     "metadata": {},
     "output_type": "execute_result"
    }
   ],
   "source": [
    "df.loc[df['ceiling_height'].isna(), 'ceiling_height'] = df['ceiling_height'].mean()\n",
    "df['ceiling_height'] = round(df['ceiling_height'], 2)\n",
    "df.head()"
   ]
  },
  {
   "cell_type": "markdown",
   "metadata": {},
   "source": [
    " "
   ]
  },
  {
   "cell_type": "markdown",
   "metadata": {},
   "source": [
    "Далее идет столбец `floors_total`."
   ]
  },
  {
   "cell_type": "code",
   "execution_count": 12,
   "metadata": {
    "scrolled": false
   },
   "outputs": [
    {
     "data": {
      "text/plain": [
       "86"
      ]
     },
     "execution_count": 12,
     "metadata": {},
     "output_type": "execute_result"
    }
   ],
   "source": [
    "(df['floors_total'].isna().sum())\n",
    "df.loc[df['floors_total'].isna(), 'floors_total'] = (df.groupby('floor')['floors_total'].transform('mean'))\n",
    "df['floors_total'] = np.ceil(df['floors_total']).astype('int')"
   ]
  },
  {
   "cell_type": "markdown",
   "metadata": {},
   "source": [
    "Пропуски в столбце `floors_total` можно заменить на среднее среди всех значений столбца `floor`, округленное в большую сторону. Вероятно пропуски появились из-за неправильного ввода количества этажей, либо же этот пункт был опциональным. Также количество этажей - это всегда целое число, поэтому `float` необходимо преобразовать."
   ]
  },
  {
   "cell_type": "markdown",
   "metadata": {},
   "source": [
    " "
   ]
  },
  {
   "cell_type": "markdown",
   "metadata": {},
   "source": [
    "Пропуски в столбцах `living_area`, `kitchen_area` можно заменить на среднее среди всех значений столбца `total_area`. Это очень важные пункты в объявлении, поэтому пропуски могли появиться в результате неправильной обработки данных."
   ]
  },
  {
   "cell_type": "code",
   "execution_count": 13,
   "metadata": {
    "scrolled": true
   },
   "outputs": [
    {
     "name": "stdout",
     "output_type": "stream",
     "text": [
      "living_area: 1903    kitchen_area: 2278\n"
     ]
    }
   ],
   "source": [
    "print('living_area:', df['living_area'].isna().sum(), '   kitchen_area:', df['kitchen_area'].isna().sum())"
   ]
  },
  {
   "cell_type": "code",
   "execution_count": 14,
   "metadata": {
    "scrolled": true
   },
   "outputs": [
    {
     "name": "stdout",
     "output_type": "stream",
     "text": [
      "living_area: 143    kitchen_area: 205\n"
     ]
    }
   ],
   "source": [
    "df.loc[df['living_area'].isna(), 'living_area'] = df.groupby('total_area')['living_area'].transform('mean')\n",
    "df.loc[df['kitchen_area'].isna(), 'kitchen_area'] = df.groupby('total_area')['kitchen_area'].transform('mean')\n",
    "print('living_area:', df['living_area'].isna().sum(), '   kitchen_area:', df['kitchen_area'].isna().sum())"
   ]
  },
  {
   "cell_type": "markdown",
   "metadata": {},
   "source": [
    "Конечно, не для всех значений столбца `total_area` можно найти среднее, поэтому в некоторых местах пропуски остались."
   ]
  },
  {
   "cell_type": "markdown",
   "metadata": {},
   "source": [
    " "
   ]
  },
  {
   "cell_type": "code",
   "execution_count": 15,
   "metadata": {
    "scrolled": false
   },
   "outputs": [
    {
     "data": {
      "text/plain": [
       "NaN      20924\n",
       "False     2725\n",
       "True        50\n",
       "Name: is_apartment, dtype: int64"
      ]
     },
     "execution_count": 15,
     "metadata": {},
     "output_type": "execute_result"
    }
   ],
   "source": [
    "df['is_apartment'].value_counts(dropna = False)"
   ]
  },
  {
   "cell_type": "markdown",
   "metadata": {},
   "source": [
    "В столбце `is_apartment` очень много пропусков и значений `False`. Вероятно вводился не булев тип данных, что привело к ошибке и пропускам, которые не ясно чем заменить."
   ]
  },
  {
   "cell_type": "markdown",
   "metadata": {},
   "source": [
    " "
   ]
  },
  {
   "cell_type": "code",
   "execution_count": 16,
   "metadata": {
    "scrolled": true
   },
   "outputs": [
    {
     "data": {
      "text/plain": [
       "NaN    11519\n",
       "1.0     4195\n",
       "0.0     3758\n",
       "2.0     3659\n",
       "5.0      304\n",
       "4.0      183\n",
       "3.0       81\n",
       "Name: balcony, dtype: int64"
      ]
     },
     "execution_count": 16,
     "metadata": {},
     "output_type": "execute_result"
    }
   ],
   "source": [
    "df['balcony'].value_counts(dropna = False)"
   ]
  },
  {
   "cell_type": "markdown",
   "metadata": {},
   "source": [
    "А в столбце `balcony` пропущенные значения вероятно означают остутствие балконов, поэтому пропуски следует заменить на 0. Пропущенные значения скорее всего связаны с неправильным вводом."
   ]
  },
  {
   "cell_type": "code",
   "execution_count": 17,
   "metadata": {
    "scrolled": true
   },
   "outputs": [],
   "source": [
    "df.loc[df['balcony'].isna(), 'balcony'] = 0"
   ]
  },
  {
   "cell_type": "markdown",
   "metadata": {},
   "source": [
    "Также стоит заменить `float` на `int`."
   ]
  },
  {
   "cell_type": "code",
   "execution_count": 18,
   "metadata": {
    "scrolled": true
   },
   "outputs": [
    {
     "data": {
      "text/html": [
       "<div>\n",
       "<style scoped>\n",
       "    .dataframe tbody tr th:only-of-type {\n",
       "        vertical-align: middle;\n",
       "    }\n",
       "\n",
       "    .dataframe tbody tr th {\n",
       "        vertical-align: top;\n",
       "    }\n",
       "\n",
       "    .dataframe thead th {\n",
       "        text-align: right;\n",
       "    }\n",
       "</style>\n",
       "<table border=\"1\" class=\"dataframe\">\n",
       "  <thead>\n",
       "    <tr style=\"text-align: right;\">\n",
       "      <th></th>\n",
       "      <th>total_images</th>\n",
       "      <th>last_price</th>\n",
       "      <th>total_area</th>\n",
       "      <th>first_day_exposition</th>\n",
       "      <th>rooms</th>\n",
       "      <th>ceiling_height</th>\n",
       "      <th>floors_total</th>\n",
       "      <th>living_area</th>\n",
       "      <th>floor</th>\n",
       "      <th>is_apartment</th>\n",
       "      <th>is_studio</th>\n",
       "      <th>open_plan</th>\n",
       "      <th>kitchen_area</th>\n",
       "      <th>balcony</th>\n",
       "      <th>locality_name</th>\n",
       "      <th>airports_nearest</th>\n",
       "      <th>city_centers_nearest</th>\n",
       "      <th>parks_around3000</th>\n",
       "      <th>parks_nearest</th>\n",
       "      <th>ponds_around3000</th>\n",
       "      <th>ponds_nearest</th>\n",
       "      <th>days_exposition</th>\n",
       "    </tr>\n",
       "  </thead>\n",
       "  <tbody>\n",
       "    <tr>\n",
       "      <th>0</th>\n",
       "      <td>20</td>\n",
       "      <td>13000000</td>\n",
       "      <td>108.0</td>\n",
       "      <td>2019-03-07</td>\n",
       "      <td>3</td>\n",
       "      <td>2.70</td>\n",
       "      <td>16</td>\n",
       "      <td>51.0</td>\n",
       "      <td>8</td>\n",
       "      <td>NaN</td>\n",
       "      <td>False</td>\n",
       "      <td>False</td>\n",
       "      <td>25.0</td>\n",
       "      <td>0</td>\n",
       "      <td>Санкт-Петербург</td>\n",
       "      <td>18863.0</td>\n",
       "      <td>16028.0</td>\n",
       "      <td>1.0</td>\n",
       "      <td>482.0</td>\n",
       "      <td>2.0</td>\n",
       "      <td>755.0</td>\n",
       "      <td>NaN</td>\n",
       "    </tr>\n",
       "    <tr>\n",
       "      <th>1</th>\n",
       "      <td>7</td>\n",
       "      <td>3350000</td>\n",
       "      <td>40.4</td>\n",
       "      <td>2018-12-04</td>\n",
       "      <td>1</td>\n",
       "      <td>2.60</td>\n",
       "      <td>11</td>\n",
       "      <td>18.6</td>\n",
       "      <td>1</td>\n",
       "      <td>NaN</td>\n",
       "      <td>False</td>\n",
       "      <td>False</td>\n",
       "      <td>11.0</td>\n",
       "      <td>2</td>\n",
       "      <td>посёлок Шушары</td>\n",
       "      <td>12817.0</td>\n",
       "      <td>18603.0</td>\n",
       "      <td>0.0</td>\n",
       "      <td>NaN</td>\n",
       "      <td>0.0</td>\n",
       "      <td>NaN</td>\n",
       "      <td>81.0</td>\n",
       "    </tr>\n",
       "    <tr>\n",
       "      <th>2</th>\n",
       "      <td>10</td>\n",
       "      <td>5196000</td>\n",
       "      <td>56.0</td>\n",
       "      <td>2015-08-20</td>\n",
       "      <td>2</td>\n",
       "      <td>2.65</td>\n",
       "      <td>5</td>\n",
       "      <td>34.3</td>\n",
       "      <td>4</td>\n",
       "      <td>NaN</td>\n",
       "      <td>False</td>\n",
       "      <td>False</td>\n",
       "      <td>8.3</td>\n",
       "      <td>0</td>\n",
       "      <td>Санкт-Петербург</td>\n",
       "      <td>21741.0</td>\n",
       "      <td>13933.0</td>\n",
       "      <td>1.0</td>\n",
       "      <td>90.0</td>\n",
       "      <td>2.0</td>\n",
       "      <td>574.0</td>\n",
       "      <td>558.0</td>\n",
       "    </tr>\n",
       "    <tr>\n",
       "      <th>3</th>\n",
       "      <td>0</td>\n",
       "      <td>64900000</td>\n",
       "      <td>159.0</td>\n",
       "      <td>2015-07-24</td>\n",
       "      <td>3</td>\n",
       "      <td>2.60</td>\n",
       "      <td>14</td>\n",
       "      <td>80.2</td>\n",
       "      <td>9</td>\n",
       "      <td>NaN</td>\n",
       "      <td>False</td>\n",
       "      <td>False</td>\n",
       "      <td>16.1</td>\n",
       "      <td>0</td>\n",
       "      <td>Санкт-Петербург</td>\n",
       "      <td>28098.0</td>\n",
       "      <td>6800.0</td>\n",
       "      <td>2.0</td>\n",
       "      <td>84.0</td>\n",
       "      <td>3.0</td>\n",
       "      <td>234.0</td>\n",
       "      <td>424.0</td>\n",
       "    </tr>\n",
       "    <tr>\n",
       "      <th>4</th>\n",
       "      <td>2</td>\n",
       "      <td>10000000</td>\n",
       "      <td>100.0</td>\n",
       "      <td>2018-06-19</td>\n",
       "      <td>2</td>\n",
       "      <td>3.03</td>\n",
       "      <td>14</td>\n",
       "      <td>32.0</td>\n",
       "      <td>13</td>\n",
       "      <td>NaN</td>\n",
       "      <td>False</td>\n",
       "      <td>False</td>\n",
       "      <td>41.0</td>\n",
       "      <td>0</td>\n",
       "      <td>Санкт-Петербург</td>\n",
       "      <td>31856.0</td>\n",
       "      <td>8098.0</td>\n",
       "      <td>2.0</td>\n",
       "      <td>112.0</td>\n",
       "      <td>1.0</td>\n",
       "      <td>48.0</td>\n",
       "      <td>121.0</td>\n",
       "    </tr>\n",
       "  </tbody>\n",
       "</table>\n",
       "</div>"
      ],
      "text/plain": [
       "   total_images  last_price  total_area first_day_exposition  rooms  \\\n",
       "0            20    13000000       108.0           2019-03-07      3   \n",
       "1             7     3350000        40.4           2018-12-04      1   \n",
       "2            10     5196000        56.0           2015-08-20      2   \n",
       "3             0    64900000       159.0           2015-07-24      3   \n",
       "4             2    10000000       100.0           2018-06-19      2   \n",
       "\n",
       "   ceiling_height  floors_total  living_area  floor is_apartment  is_studio  \\\n",
       "0            2.70            16         51.0      8          NaN      False   \n",
       "1            2.60            11         18.6      1          NaN      False   \n",
       "2            2.65             5         34.3      4          NaN      False   \n",
       "3            2.60            14         80.2      9          NaN      False   \n",
       "4            3.03            14         32.0     13          NaN      False   \n",
       "\n",
       "   open_plan  kitchen_area  balcony    locality_name  airports_nearest  \\\n",
       "0      False          25.0        0  Санкт-Петербург           18863.0   \n",
       "1      False          11.0        2   посёлок Шушары           12817.0   \n",
       "2      False           8.3        0  Санкт-Петербург           21741.0   \n",
       "3      False          16.1        0  Санкт-Петербург           28098.0   \n",
       "4      False          41.0        0  Санкт-Петербург           31856.0   \n",
       "\n",
       "   city_centers_nearest  parks_around3000  parks_nearest  ponds_around3000  \\\n",
       "0               16028.0               1.0          482.0               2.0   \n",
       "1               18603.0               0.0            NaN               0.0   \n",
       "2               13933.0               1.0           90.0               2.0   \n",
       "3                6800.0               2.0           84.0               3.0   \n",
       "4                8098.0               2.0          112.0               1.0   \n",
       "\n",
       "   ponds_nearest  days_exposition  \n",
       "0          755.0              NaN  \n",
       "1            NaN             81.0  \n",
       "2          574.0            558.0  \n",
       "3          234.0            424.0  \n",
       "4           48.0            121.0  "
      ]
     },
     "execution_count": 18,
     "metadata": {},
     "output_type": "execute_result"
    }
   ],
   "source": [
    "df['balcony'] = df['balcony'].astype('int')\n",
    "df.head()"
   ]
  },
  {
   "cell_type": "markdown",
   "metadata": {},
   "source": [
    " "
   ]
  },
  {
   "cell_type": "markdown",
   "metadata": {},
   "source": [
    "В столбце `locality_name` всего 49 пропусков, которые нечем заменить. Вероятно неправильно введены данные. Также можно убрать неявные дубликаты, повторяющие одни и те же названия. "
   ]
  },
  {
   "cell_type": "code",
   "execution_count": 19,
   "metadata": {
    "scrolled": false
   },
   "outputs": [
    {
     "data": {
      "text/plain": [
       "Санкт-Петербург              15721\n",
       "поселок Мурино                 556\n",
       "поселок Шушары                 440\n",
       "Всеволожск                     398\n",
       "Пушкин                         369\n",
       "Колпино                        338\n",
       "поселок Парголово              327\n",
       "Гатчина                        307\n",
       "деревня Кудрово                299\n",
       "Выборг                         237\n",
       "Петергоф                       201\n",
       "Сестрорецк                     183\n",
       "Красное Село                   178\n",
       "Кудрово                        173\n",
       "деревня Новое Девяткино        144\n",
       "Сертолово                      142\n",
       "Ломоносов                      133\n",
       "Кириши                         125\n",
       "поселок Бугры                  114\n",
       "Сланцы                         112\n",
       "Волхов                         111\n",
       "Тосно                          104\n",
       "Кингисепп                      104\n",
       "Кронштадт                       96\n",
       "Никольское                      93\n",
       "Коммунар                        89\n",
       "Сосновый Бор                    87\n",
       "Кировск                         84\n",
       "Отрадное                        80\n",
       "городской поселок Янино-1       68\n",
       "Name: locality_name, dtype: int64"
      ]
     },
     "metadata": {},
     "output_type": "display_data"
    }
   ],
   "source": [
    "df['locality_name'] = df['locality_name'].str.replace('ё', 'е')\n",
    "display(df['locality_name'].value_counts().head(30))"
   ]
  },
  {
   "cell_type": "markdown",
   "metadata": {},
   "source": [
    " "
   ]
  },
  {
   "cell_type": "code",
   "execution_count": 20,
   "metadata": {
    "scrolled": false
   },
   "outputs": [
    {
     "data": {
      "text/plain": [
       "count    18157.000000\n",
       "mean     28793.672193\n",
       "std      12630.880622\n",
       "min          0.000000\n",
       "2%       10130.080000\n",
       "50%      26726.000000\n",
       "98%      54337.000000\n",
       "max      84869.000000\n",
       "Name: airports_nearest, dtype: float64"
      ]
     },
     "execution_count": 20,
     "metadata": {},
     "output_type": "execute_result"
    }
   ],
   "source": [
    "df['airports_nearest'].describe(percentiles = [.02, .5, .98])"
   ]
  },
  {
   "cell_type": "markdown",
   "metadata": {},
   "source": [
    "Так как большинство значений столбца `airports_nearest` находятся в диапазоне 10000 - 55000 метров, то для пропусков можно взять среднее. Также в столбцах используются значения в метрах, которые лучше преобразовать к целым числам."
   ]
  },
  {
   "cell_type": "code",
   "execution_count": 21,
   "metadata": {
    "scrolled": true
   },
   "outputs": [
    {
     "data": {
      "text/plain": [
       "0"
      ]
     },
     "execution_count": 21,
     "metadata": {},
     "output_type": "execute_result"
    }
   ],
   "source": [
    "df.loc[df['airports_nearest'].isna(), 'airports_nearest'] = (df['airports_nearest'].mean())\n",
    "df['airports_nearest'].isna().sum()\n",
    "df['airports_nearest'] = df['airports_nearest'].astype('int')"
   ]
  },
  {
   "cell_type": "markdown",
   "metadata": {},
   "source": [
    "Аналогичную замену можно провести со столбцами `city_centers_nearest`, `parks_nearest`, `ponds_nearest`."
   ]
  },
  {
   "cell_type": "code",
   "execution_count": 22,
   "metadata": {
    "scrolled": true
   },
   "outputs": [
    {
     "data": {
      "text/html": [
       "<div>\n",
       "<style scoped>\n",
       "    .dataframe tbody tr th:only-of-type {\n",
       "        vertical-align: middle;\n",
       "    }\n",
       "\n",
       "    .dataframe tbody tr th {\n",
       "        vertical-align: top;\n",
       "    }\n",
       "\n",
       "    .dataframe thead th {\n",
       "        text-align: right;\n",
       "    }\n",
       "</style>\n",
       "<table border=\"1\" class=\"dataframe\">\n",
       "  <thead>\n",
       "    <tr style=\"text-align: right;\">\n",
       "      <th></th>\n",
       "      <th>city_centers_nearest</th>\n",
       "      <th>parks_nearest</th>\n",
       "      <th>ponds_nearest</th>\n",
       "    </tr>\n",
       "  </thead>\n",
       "  <tbody>\n",
       "    <tr>\n",
       "      <th>count</th>\n",
       "      <td>18180.000000</td>\n",
       "      <td>8079.000000</td>\n",
       "      <td>9110.000000</td>\n",
       "    </tr>\n",
       "    <tr>\n",
       "      <th>mean</th>\n",
       "      <td>14191.277833</td>\n",
       "      <td>490.804555</td>\n",
       "      <td>517.980900</td>\n",
       "    </tr>\n",
       "    <tr>\n",
       "      <th>std</th>\n",
       "      <td>8608.386210</td>\n",
       "      <td>342.317995</td>\n",
       "      <td>277.720643</td>\n",
       "    </tr>\n",
       "    <tr>\n",
       "      <th>min</th>\n",
       "      <td>181.000000</td>\n",
       "      <td>1.000000</td>\n",
       "      <td>13.000000</td>\n",
       "    </tr>\n",
       "    <tr>\n",
       "      <th>2%</th>\n",
       "      <td>2117.320000</td>\n",
       "      <td>41.000000</td>\n",
       "      <td>55.000000</td>\n",
       "    </tr>\n",
       "    <tr>\n",
       "      <th>50%</th>\n",
       "      <td>13098.500000</td>\n",
       "      <td>455.000000</td>\n",
       "      <td>502.000000</td>\n",
       "    </tr>\n",
       "    <tr>\n",
       "      <th>98%</th>\n",
       "      <td>35511.000000</td>\n",
       "      <td>1514.000000</td>\n",
       "      <td>1086.820000</td>\n",
       "    </tr>\n",
       "    <tr>\n",
       "      <th>max</th>\n",
       "      <td>65968.000000</td>\n",
       "      <td>3190.000000</td>\n",
       "      <td>1344.000000</td>\n",
       "    </tr>\n",
       "  </tbody>\n",
       "</table>\n",
       "</div>"
      ],
      "text/plain": [
       "       city_centers_nearest  parks_nearest  ponds_nearest\n",
       "count          18180.000000    8079.000000    9110.000000\n",
       "mean           14191.277833     490.804555     517.980900\n",
       "std             8608.386210     342.317995     277.720643\n",
       "min              181.000000       1.000000      13.000000\n",
       "2%              2117.320000      41.000000      55.000000\n",
       "50%            13098.500000     455.000000     502.000000\n",
       "98%            35511.000000    1514.000000    1086.820000\n",
       "max            65968.000000    3190.000000    1344.000000"
      ]
     },
     "execution_count": 22,
     "metadata": {},
     "output_type": "execute_result"
    }
   ],
   "source": [
    "df[['city_centers_nearest', 'parks_nearest', 'ponds_nearest']].describe(percentiles = [.02, .5, .98])"
   ]
  },
  {
   "cell_type": "code",
   "execution_count": 23,
   "metadata": {
    "scrolled": false
   },
   "outputs": [
    {
     "data": {
      "text/html": [
       "<div>\n",
       "<style scoped>\n",
       "    .dataframe tbody tr th:only-of-type {\n",
       "        vertical-align: middle;\n",
       "    }\n",
       "\n",
       "    .dataframe tbody tr th {\n",
       "        vertical-align: top;\n",
       "    }\n",
       "\n",
       "    .dataframe thead th {\n",
       "        text-align: right;\n",
       "    }\n",
       "</style>\n",
       "<table border=\"1\" class=\"dataframe\">\n",
       "  <thead>\n",
       "    <tr style=\"text-align: right;\">\n",
       "      <th></th>\n",
       "      <th>total_images</th>\n",
       "      <th>last_price</th>\n",
       "      <th>total_area</th>\n",
       "      <th>first_day_exposition</th>\n",
       "      <th>rooms</th>\n",
       "      <th>ceiling_height</th>\n",
       "      <th>floors_total</th>\n",
       "      <th>living_area</th>\n",
       "      <th>floor</th>\n",
       "      <th>is_apartment</th>\n",
       "      <th>is_studio</th>\n",
       "      <th>open_plan</th>\n",
       "      <th>kitchen_area</th>\n",
       "      <th>balcony</th>\n",
       "      <th>locality_name</th>\n",
       "      <th>airports_nearest</th>\n",
       "      <th>city_centers_nearest</th>\n",
       "      <th>parks_around3000</th>\n",
       "      <th>parks_nearest</th>\n",
       "      <th>ponds_around3000</th>\n",
       "      <th>ponds_nearest</th>\n",
       "      <th>days_exposition</th>\n",
       "    </tr>\n",
       "  </thead>\n",
       "  <tbody>\n",
       "    <tr>\n",
       "      <th>0</th>\n",
       "      <td>20</td>\n",
       "      <td>13000000</td>\n",
       "      <td>108.00</td>\n",
       "      <td>2019-03-07</td>\n",
       "      <td>3</td>\n",
       "      <td>2.70</td>\n",
       "      <td>16</td>\n",
       "      <td>51.000000</td>\n",
       "      <td>8</td>\n",
       "      <td>NaN</td>\n",
       "      <td>False</td>\n",
       "      <td>False</td>\n",
       "      <td>25.00</td>\n",
       "      <td>0</td>\n",
       "      <td>Санкт-Петербург</td>\n",
       "      <td>18863</td>\n",
       "      <td>16028</td>\n",
       "      <td>1.0</td>\n",
       "      <td>482</td>\n",
       "      <td>2.0</td>\n",
       "      <td>755</td>\n",
       "      <td>NaN</td>\n",
       "    </tr>\n",
       "    <tr>\n",
       "      <th>1</th>\n",
       "      <td>7</td>\n",
       "      <td>3350000</td>\n",
       "      <td>40.40</td>\n",
       "      <td>2018-12-04</td>\n",
       "      <td>1</td>\n",
       "      <td>2.60</td>\n",
       "      <td>11</td>\n",
       "      <td>18.600000</td>\n",
       "      <td>1</td>\n",
       "      <td>NaN</td>\n",
       "      <td>False</td>\n",
       "      <td>False</td>\n",
       "      <td>11.00</td>\n",
       "      <td>2</td>\n",
       "      <td>поселок Шушары</td>\n",
       "      <td>12817</td>\n",
       "      <td>18603</td>\n",
       "      <td>0.0</td>\n",
       "      <td>490</td>\n",
       "      <td>0.0</td>\n",
       "      <td>517</td>\n",
       "      <td>81.0</td>\n",
       "    </tr>\n",
       "    <tr>\n",
       "      <th>2</th>\n",
       "      <td>10</td>\n",
       "      <td>5196000</td>\n",
       "      <td>56.00</td>\n",
       "      <td>2015-08-20</td>\n",
       "      <td>2</td>\n",
       "      <td>2.65</td>\n",
       "      <td>5</td>\n",
       "      <td>34.300000</td>\n",
       "      <td>4</td>\n",
       "      <td>NaN</td>\n",
       "      <td>False</td>\n",
       "      <td>False</td>\n",
       "      <td>8.30</td>\n",
       "      <td>0</td>\n",
       "      <td>Санкт-Петербург</td>\n",
       "      <td>21741</td>\n",
       "      <td>13933</td>\n",
       "      <td>1.0</td>\n",
       "      <td>90</td>\n",
       "      <td>2.0</td>\n",
       "      <td>574</td>\n",
       "      <td>558.0</td>\n",
       "    </tr>\n",
       "    <tr>\n",
       "      <th>3</th>\n",
       "      <td>0</td>\n",
       "      <td>64900000</td>\n",
       "      <td>159.00</td>\n",
       "      <td>2015-07-24</td>\n",
       "      <td>3</td>\n",
       "      <td>2.60</td>\n",
       "      <td>14</td>\n",
       "      <td>80.200000</td>\n",
       "      <td>9</td>\n",
       "      <td>NaN</td>\n",
       "      <td>False</td>\n",
       "      <td>False</td>\n",
       "      <td>16.10</td>\n",
       "      <td>0</td>\n",
       "      <td>Санкт-Петербург</td>\n",
       "      <td>28098</td>\n",
       "      <td>6800</td>\n",
       "      <td>2.0</td>\n",
       "      <td>84</td>\n",
       "      <td>3.0</td>\n",
       "      <td>234</td>\n",
       "      <td>424.0</td>\n",
       "    </tr>\n",
       "    <tr>\n",
       "      <th>4</th>\n",
       "      <td>2</td>\n",
       "      <td>10000000</td>\n",
       "      <td>100.00</td>\n",
       "      <td>2018-06-19</td>\n",
       "      <td>2</td>\n",
       "      <td>3.03</td>\n",
       "      <td>14</td>\n",
       "      <td>32.000000</td>\n",
       "      <td>13</td>\n",
       "      <td>NaN</td>\n",
       "      <td>False</td>\n",
       "      <td>False</td>\n",
       "      <td>41.00</td>\n",
       "      <td>0</td>\n",
       "      <td>Санкт-Петербург</td>\n",
       "      <td>31856</td>\n",
       "      <td>8098</td>\n",
       "      <td>2.0</td>\n",
       "      <td>112</td>\n",
       "      <td>1.0</td>\n",
       "      <td>48</td>\n",
       "      <td>121.0</td>\n",
       "    </tr>\n",
       "    <tr>\n",
       "      <th>5</th>\n",
       "      <td>10</td>\n",
       "      <td>2890000</td>\n",
       "      <td>30.40</td>\n",
       "      <td>2018-09-10</td>\n",
       "      <td>1</td>\n",
       "      <td>2.60</td>\n",
       "      <td>12</td>\n",
       "      <td>14.400000</td>\n",
       "      <td>5</td>\n",
       "      <td>NaN</td>\n",
       "      <td>False</td>\n",
       "      <td>False</td>\n",
       "      <td>9.10</td>\n",
       "      <td>0</td>\n",
       "      <td>городской поселок Янино-1</td>\n",
       "      <td>28793</td>\n",
       "      <td>14191</td>\n",
       "      <td>NaN</td>\n",
       "      <td>490</td>\n",
       "      <td>NaN</td>\n",
       "      <td>517</td>\n",
       "      <td>55.0</td>\n",
       "    </tr>\n",
       "    <tr>\n",
       "      <th>6</th>\n",
       "      <td>6</td>\n",
       "      <td>3700000</td>\n",
       "      <td>37.30</td>\n",
       "      <td>2017-11-02</td>\n",
       "      <td>1</td>\n",
       "      <td>2.65</td>\n",
       "      <td>26</td>\n",
       "      <td>10.600000</td>\n",
       "      <td>6</td>\n",
       "      <td>NaN</td>\n",
       "      <td>False</td>\n",
       "      <td>False</td>\n",
       "      <td>14.40</td>\n",
       "      <td>1</td>\n",
       "      <td>поселок Парголово</td>\n",
       "      <td>52996</td>\n",
       "      <td>19143</td>\n",
       "      <td>0.0</td>\n",
       "      <td>490</td>\n",
       "      <td>0.0</td>\n",
       "      <td>517</td>\n",
       "      <td>155.0</td>\n",
       "    </tr>\n",
       "    <tr>\n",
       "      <th>7</th>\n",
       "      <td>5</td>\n",
       "      <td>7915000</td>\n",
       "      <td>71.60</td>\n",
       "      <td>2019-04-18</td>\n",
       "      <td>2</td>\n",
       "      <td>2.70</td>\n",
       "      <td>24</td>\n",
       "      <td>42.771429</td>\n",
       "      <td>22</td>\n",
       "      <td>NaN</td>\n",
       "      <td>False</td>\n",
       "      <td>False</td>\n",
       "      <td>18.90</td>\n",
       "      <td>2</td>\n",
       "      <td>Санкт-Петербург</td>\n",
       "      <td>23982</td>\n",
       "      <td>11634</td>\n",
       "      <td>0.0</td>\n",
       "      <td>490</td>\n",
       "      <td>0.0</td>\n",
       "      <td>517</td>\n",
       "      <td>NaN</td>\n",
       "    </tr>\n",
       "    <tr>\n",
       "      <th>8</th>\n",
       "      <td>20</td>\n",
       "      <td>2900000</td>\n",
       "      <td>33.16</td>\n",
       "      <td>2018-05-23</td>\n",
       "      <td>1</td>\n",
       "      <td>2.63</td>\n",
       "      <td>27</td>\n",
       "      <td>15.430000</td>\n",
       "      <td>26</td>\n",
       "      <td>NaN</td>\n",
       "      <td>False</td>\n",
       "      <td>False</td>\n",
       "      <td>8.81</td>\n",
       "      <td>0</td>\n",
       "      <td>поселок Мурино</td>\n",
       "      <td>28793</td>\n",
       "      <td>14191</td>\n",
       "      <td>NaN</td>\n",
       "      <td>490</td>\n",
       "      <td>NaN</td>\n",
       "      <td>517</td>\n",
       "      <td>189.0</td>\n",
       "    </tr>\n",
       "    <tr>\n",
       "      <th>9</th>\n",
       "      <td>18</td>\n",
       "      <td>5400000</td>\n",
       "      <td>61.00</td>\n",
       "      <td>2017-02-26</td>\n",
       "      <td>3</td>\n",
       "      <td>2.50</td>\n",
       "      <td>9</td>\n",
       "      <td>43.600000</td>\n",
       "      <td>7</td>\n",
       "      <td>NaN</td>\n",
       "      <td>False</td>\n",
       "      <td>False</td>\n",
       "      <td>6.50</td>\n",
       "      <td>2</td>\n",
       "      <td>Санкт-Петербург</td>\n",
       "      <td>50898</td>\n",
       "      <td>15008</td>\n",
       "      <td>0.0</td>\n",
       "      <td>490</td>\n",
       "      <td>0.0</td>\n",
       "      <td>517</td>\n",
       "      <td>289.0</td>\n",
       "    </tr>\n",
       "  </tbody>\n",
       "</table>\n",
       "</div>"
      ],
      "text/plain": [
       "   total_images  last_price  total_area first_day_exposition  rooms  \\\n",
       "0            20    13000000      108.00           2019-03-07      3   \n",
       "1             7     3350000       40.40           2018-12-04      1   \n",
       "2            10     5196000       56.00           2015-08-20      2   \n",
       "3             0    64900000      159.00           2015-07-24      3   \n",
       "4             2    10000000      100.00           2018-06-19      2   \n",
       "5            10     2890000       30.40           2018-09-10      1   \n",
       "6             6     3700000       37.30           2017-11-02      1   \n",
       "7             5     7915000       71.60           2019-04-18      2   \n",
       "8            20     2900000       33.16           2018-05-23      1   \n",
       "9            18     5400000       61.00           2017-02-26      3   \n",
       "\n",
       "   ceiling_height  floors_total  living_area  floor is_apartment  is_studio  \\\n",
       "0            2.70            16    51.000000      8          NaN      False   \n",
       "1            2.60            11    18.600000      1          NaN      False   \n",
       "2            2.65             5    34.300000      4          NaN      False   \n",
       "3            2.60            14    80.200000      9          NaN      False   \n",
       "4            3.03            14    32.000000     13          NaN      False   \n",
       "5            2.60            12    14.400000      5          NaN      False   \n",
       "6            2.65            26    10.600000      6          NaN      False   \n",
       "7            2.70            24    42.771429     22          NaN      False   \n",
       "8            2.63            27    15.430000     26          NaN      False   \n",
       "9            2.50             9    43.600000      7          NaN      False   \n",
       "\n",
       "   open_plan  kitchen_area  balcony              locality_name  \\\n",
       "0      False         25.00        0            Санкт-Петербург   \n",
       "1      False         11.00        2             поселок Шушары   \n",
       "2      False          8.30        0            Санкт-Петербург   \n",
       "3      False         16.10        0            Санкт-Петербург   \n",
       "4      False         41.00        0            Санкт-Петербург   \n",
       "5      False          9.10        0  городской поселок Янино-1   \n",
       "6      False         14.40        1          поселок Парголово   \n",
       "7      False         18.90        2            Санкт-Петербург   \n",
       "8      False          8.81        0             поселок Мурино   \n",
       "9      False          6.50        2            Санкт-Петербург   \n",
       "\n",
       "   airports_nearest  city_centers_nearest  parks_around3000  parks_nearest  \\\n",
       "0             18863                 16028               1.0            482   \n",
       "1             12817                 18603               0.0            490   \n",
       "2             21741                 13933               1.0             90   \n",
       "3             28098                  6800               2.0             84   \n",
       "4             31856                  8098               2.0            112   \n",
       "5             28793                 14191               NaN            490   \n",
       "6             52996                 19143               0.0            490   \n",
       "7             23982                 11634               0.0            490   \n",
       "8             28793                 14191               NaN            490   \n",
       "9             50898                 15008               0.0            490   \n",
       "\n",
       "   ponds_around3000  ponds_nearest  days_exposition  \n",
       "0               2.0            755              NaN  \n",
       "1               0.0            517             81.0  \n",
       "2               2.0            574            558.0  \n",
       "3               3.0            234            424.0  \n",
       "4               1.0             48            121.0  \n",
       "5               NaN            517             55.0  \n",
       "6               0.0            517            155.0  \n",
       "7               0.0            517              NaN  \n",
       "8               NaN            517            189.0  \n",
       "9               0.0            517            289.0  "
      ]
     },
     "execution_count": 23,
     "metadata": {},
     "output_type": "execute_result"
    }
   ],
   "source": [
    "df.loc[df['city_centers_nearest'].isna(), 'city_centers_nearest'] = (df['city_centers_nearest'].mean())\n",
    "df.loc[df['parks_nearest'].isna(), 'parks_nearest'] = (df['parks_nearest'].mean())\n",
    "df.loc[df['ponds_nearest'].isna(), 'ponds_nearest'] = (df['ponds_nearest'].mean())\n",
    "df['city_centers_nearest'] = df['city_centers_nearest'].astype('int')\n",
    "df['parks_nearest'] = df['parks_nearest'].astype('int')\n",
    "df['ponds_nearest'] = df['ponds_nearest'].astype('int')\n",
    "df.head(10)"
   ]
  },
  {
   "cell_type": "markdown",
   "metadata": {},
   "source": [
    "Данные, находящиеся в столбцах `airports_nearest`, `city_centers_nearest`, `parks_nearest`, `ponds_nearest`, вероятно были необязательными для ввода, поэтому многие их не писали, что привело к пропускам. Еще возможно люди отключили геолокацию, и система не смогла определить расстояние до объектов."
   ]
  },
  {
   "cell_type": "markdown",
   "metadata": {},
   "source": [
    " "
   ]
  },
  {
   "cell_type": "code",
   "execution_count": 24,
   "metadata": {
    "scrolled": false
   },
   "outputs": [
    {
     "data": {
      "text/html": [
       "<div>\n",
       "<style scoped>\n",
       "    .dataframe tbody tr th:only-of-type {\n",
       "        vertical-align: middle;\n",
       "    }\n",
       "\n",
       "    .dataframe tbody tr th {\n",
       "        vertical-align: top;\n",
       "    }\n",
       "\n",
       "    .dataframe thead th {\n",
       "        text-align: right;\n",
       "    }\n",
       "</style>\n",
       "<table border=\"1\" class=\"dataframe\">\n",
       "  <thead>\n",
       "    <tr style=\"text-align: right;\">\n",
       "      <th></th>\n",
       "      <th>total_images</th>\n",
       "      <th>last_price</th>\n",
       "      <th>total_area</th>\n",
       "      <th>first_day_exposition</th>\n",
       "      <th>rooms</th>\n",
       "      <th>ceiling_height</th>\n",
       "      <th>floors_total</th>\n",
       "      <th>living_area</th>\n",
       "      <th>floor</th>\n",
       "      <th>is_apartment</th>\n",
       "      <th>is_studio</th>\n",
       "      <th>open_plan</th>\n",
       "      <th>kitchen_area</th>\n",
       "      <th>balcony</th>\n",
       "      <th>locality_name</th>\n",
       "      <th>airports_nearest</th>\n",
       "      <th>city_centers_nearest</th>\n",
       "      <th>parks_around3000</th>\n",
       "      <th>parks_nearest</th>\n",
       "      <th>ponds_around3000</th>\n",
       "      <th>ponds_nearest</th>\n",
       "      <th>days_exposition</th>\n",
       "    </tr>\n",
       "  </thead>\n",
       "  <tbody>\n",
       "    <tr>\n",
       "      <th>5</th>\n",
       "      <td>10</td>\n",
       "      <td>2890000</td>\n",
       "      <td>30.40</td>\n",
       "      <td>2018-09-10</td>\n",
       "      <td>1</td>\n",
       "      <td>2.60</td>\n",
       "      <td>12</td>\n",
       "      <td>14.40</td>\n",
       "      <td>5</td>\n",
       "      <td>NaN</td>\n",
       "      <td>False</td>\n",
       "      <td>False</td>\n",
       "      <td>9.100000</td>\n",
       "      <td>0</td>\n",
       "      <td>городской поселок Янино-1</td>\n",
       "      <td>28793</td>\n",
       "      <td>14191</td>\n",
       "      <td>NaN</td>\n",
       "      <td>490</td>\n",
       "      <td>NaN</td>\n",
       "      <td>517</td>\n",
       "      <td>55.0</td>\n",
       "    </tr>\n",
       "    <tr>\n",
       "      <th>8</th>\n",
       "      <td>20</td>\n",
       "      <td>2900000</td>\n",
       "      <td>33.16</td>\n",
       "      <td>2018-05-23</td>\n",
       "      <td>1</td>\n",
       "      <td>2.63</td>\n",
       "      <td>27</td>\n",
       "      <td>15.43</td>\n",
       "      <td>26</td>\n",
       "      <td>NaN</td>\n",
       "      <td>False</td>\n",
       "      <td>False</td>\n",
       "      <td>8.810000</td>\n",
       "      <td>0</td>\n",
       "      <td>поселок Мурино</td>\n",
       "      <td>28793</td>\n",
       "      <td>14191</td>\n",
       "      <td>NaN</td>\n",
       "      <td>490</td>\n",
       "      <td>NaN</td>\n",
       "      <td>517</td>\n",
       "      <td>189.0</td>\n",
       "    </tr>\n",
       "    <tr>\n",
       "      <th>12</th>\n",
       "      <td>10</td>\n",
       "      <td>3890000</td>\n",
       "      <td>54.00</td>\n",
       "      <td>2016-06-30</td>\n",
       "      <td>2</td>\n",
       "      <td>2.60</td>\n",
       "      <td>5</td>\n",
       "      <td>30.00</td>\n",
       "      <td>5</td>\n",
       "      <td>NaN</td>\n",
       "      <td>False</td>\n",
       "      <td>False</td>\n",
       "      <td>9.000000</td>\n",
       "      <td>0</td>\n",
       "      <td>Сертолово</td>\n",
       "      <td>28793</td>\n",
       "      <td>14191</td>\n",
       "      <td>NaN</td>\n",
       "      <td>490</td>\n",
       "      <td>NaN</td>\n",
       "      <td>517</td>\n",
       "      <td>90.0</td>\n",
       "    </tr>\n",
       "    <tr>\n",
       "      <th>22</th>\n",
       "      <td>20</td>\n",
       "      <td>5000000</td>\n",
       "      <td>58.00</td>\n",
       "      <td>2017-04-24</td>\n",
       "      <td>2</td>\n",
       "      <td>2.75</td>\n",
       "      <td>25</td>\n",
       "      <td>30.00</td>\n",
       "      <td>15</td>\n",
       "      <td>NaN</td>\n",
       "      <td>False</td>\n",
       "      <td>False</td>\n",
       "      <td>11.000000</td>\n",
       "      <td>2</td>\n",
       "      <td>деревня Кудрово</td>\n",
       "      <td>28793</td>\n",
       "      <td>14191</td>\n",
       "      <td>NaN</td>\n",
       "      <td>490</td>\n",
       "      <td>NaN</td>\n",
       "      <td>517</td>\n",
       "      <td>60.0</td>\n",
       "    </tr>\n",
       "    <tr>\n",
       "      <th>30</th>\n",
       "      <td>12</td>\n",
       "      <td>2200000</td>\n",
       "      <td>32.80</td>\n",
       "      <td>2018-02-19</td>\n",
       "      <td>1</td>\n",
       "      <td>2.65</td>\n",
       "      <td>9</td>\n",
       "      <td>16.90</td>\n",
       "      <td>2</td>\n",
       "      <td>NaN</td>\n",
       "      <td>False</td>\n",
       "      <td>False</td>\n",
       "      <td>7.700000</td>\n",
       "      <td>0</td>\n",
       "      <td>Коммунар</td>\n",
       "      <td>28793</td>\n",
       "      <td>14191</td>\n",
       "      <td>NaN</td>\n",
       "      <td>490</td>\n",
       "      <td>NaN</td>\n",
       "      <td>517</td>\n",
       "      <td>63.0</td>\n",
       "    </tr>\n",
       "    <tr>\n",
       "      <th>...</th>\n",
       "      <td>...</td>\n",
       "      <td>...</td>\n",
       "      <td>...</td>\n",
       "      <td>...</td>\n",
       "      <td>...</td>\n",
       "      <td>...</td>\n",
       "      <td>...</td>\n",
       "      <td>...</td>\n",
       "      <td>...</td>\n",
       "      <td>...</td>\n",
       "      <td>...</td>\n",
       "      <td>...</td>\n",
       "      <td>...</td>\n",
       "      <td>...</td>\n",
       "      <td>...</td>\n",
       "      <td>...</td>\n",
       "      <td>...</td>\n",
       "      <td>...</td>\n",
       "      <td>...</td>\n",
       "      <td>...</td>\n",
       "      <td>...</td>\n",
       "      <td>...</td>\n",
       "    </tr>\n",
       "    <tr>\n",
       "      <th>23683</th>\n",
       "      <td>16</td>\n",
       "      <td>2100000</td>\n",
       "      <td>62.80</td>\n",
       "      <td>2018-09-18</td>\n",
       "      <td>4</td>\n",
       "      <td>2.50</td>\n",
       "      <td>5</td>\n",
       "      <td>45.50</td>\n",
       "      <td>3</td>\n",
       "      <td>NaN</td>\n",
       "      <td>False</td>\n",
       "      <td>False</td>\n",
       "      <td>5.500000</td>\n",
       "      <td>0</td>\n",
       "      <td>поселок Дзержинского</td>\n",
       "      <td>28793</td>\n",
       "      <td>14191</td>\n",
       "      <td>NaN</td>\n",
       "      <td>490</td>\n",
       "      <td>NaN</td>\n",
       "      <td>517</td>\n",
       "      <td>NaN</td>\n",
       "    </tr>\n",
       "    <tr>\n",
       "      <th>23692</th>\n",
       "      <td>2</td>\n",
       "      <td>1350000</td>\n",
       "      <td>30.00</td>\n",
       "      <td>2017-07-07</td>\n",
       "      <td>1</td>\n",
       "      <td>2.65</td>\n",
       "      <td>5</td>\n",
       "      <td>17.50</td>\n",
       "      <td>4</td>\n",
       "      <td>NaN</td>\n",
       "      <td>False</td>\n",
       "      <td>False</td>\n",
       "      <td>6.000000</td>\n",
       "      <td>0</td>\n",
       "      <td>Тихвин</td>\n",
       "      <td>28793</td>\n",
       "      <td>14191</td>\n",
       "      <td>NaN</td>\n",
       "      <td>490</td>\n",
       "      <td>NaN</td>\n",
       "      <td>517</td>\n",
       "      <td>413.0</td>\n",
       "    </tr>\n",
       "    <tr>\n",
       "      <th>23695</th>\n",
       "      <td>14</td>\n",
       "      <td>3100000</td>\n",
       "      <td>59.00</td>\n",
       "      <td>2018-01-15</td>\n",
       "      <td>3</td>\n",
       "      <td>2.65</td>\n",
       "      <td>5</td>\n",
       "      <td>38.00</td>\n",
       "      <td>4</td>\n",
       "      <td>NaN</td>\n",
       "      <td>False</td>\n",
       "      <td>False</td>\n",
       "      <td>8.500000</td>\n",
       "      <td>0</td>\n",
       "      <td>Тосно</td>\n",
       "      <td>28793</td>\n",
       "      <td>14191</td>\n",
       "      <td>NaN</td>\n",
       "      <td>490</td>\n",
       "      <td>NaN</td>\n",
       "      <td>517</td>\n",
       "      <td>45.0</td>\n",
       "    </tr>\n",
       "    <tr>\n",
       "      <th>23696</th>\n",
       "      <td>18</td>\n",
       "      <td>2500000</td>\n",
       "      <td>56.70</td>\n",
       "      <td>2018-02-11</td>\n",
       "      <td>2</td>\n",
       "      <td>2.60</td>\n",
       "      <td>3</td>\n",
       "      <td>29.70</td>\n",
       "      <td>1</td>\n",
       "      <td>NaN</td>\n",
       "      <td>False</td>\n",
       "      <td>False</td>\n",
       "      <td>8.822222</td>\n",
       "      <td>0</td>\n",
       "      <td>село Рождествено</td>\n",
       "      <td>28793</td>\n",
       "      <td>14191</td>\n",
       "      <td>NaN</td>\n",
       "      <td>490</td>\n",
       "      <td>NaN</td>\n",
       "      <td>517</td>\n",
       "      <td>NaN</td>\n",
       "    </tr>\n",
       "    <tr>\n",
       "      <th>23698</th>\n",
       "      <td>4</td>\n",
       "      <td>1350000</td>\n",
       "      <td>32.30</td>\n",
       "      <td>2017-07-21</td>\n",
       "      <td>1</td>\n",
       "      <td>2.50</td>\n",
       "      <td>5</td>\n",
       "      <td>12.30</td>\n",
       "      <td>1</td>\n",
       "      <td>NaN</td>\n",
       "      <td>False</td>\n",
       "      <td>False</td>\n",
       "      <td>9.000000</td>\n",
       "      <td>0</td>\n",
       "      <td>поселок Новый Учхоз</td>\n",
       "      <td>28793</td>\n",
       "      <td>14191</td>\n",
       "      <td>NaN</td>\n",
       "      <td>490</td>\n",
       "      <td>NaN</td>\n",
       "      <td>517</td>\n",
       "      <td>NaN</td>\n",
       "    </tr>\n",
       "  </tbody>\n",
       "</table>\n",
       "<p>5518 rows × 22 columns</p>\n",
       "</div>"
      ],
      "text/plain": [
       "       total_images  last_price  total_area first_day_exposition  rooms  \\\n",
       "5                10     2890000       30.40           2018-09-10      1   \n",
       "8                20     2900000       33.16           2018-05-23      1   \n",
       "12               10     3890000       54.00           2016-06-30      2   \n",
       "22               20     5000000       58.00           2017-04-24      2   \n",
       "30               12     2200000       32.80           2018-02-19      1   \n",
       "...             ...         ...         ...                  ...    ...   \n",
       "23683            16     2100000       62.80           2018-09-18      4   \n",
       "23692             2     1350000       30.00           2017-07-07      1   \n",
       "23695            14     3100000       59.00           2018-01-15      3   \n",
       "23696            18     2500000       56.70           2018-02-11      2   \n",
       "23698             4     1350000       32.30           2017-07-21      1   \n",
       "\n",
       "       ceiling_height  floors_total  living_area  floor is_apartment  \\\n",
       "5                2.60            12        14.40      5          NaN   \n",
       "8                2.63            27        15.43     26          NaN   \n",
       "12               2.60             5        30.00      5          NaN   \n",
       "22               2.75            25        30.00     15          NaN   \n",
       "30               2.65             9        16.90      2          NaN   \n",
       "...               ...           ...          ...    ...          ...   \n",
       "23683            2.50             5        45.50      3          NaN   \n",
       "23692            2.65             5        17.50      4          NaN   \n",
       "23695            2.65             5        38.00      4          NaN   \n",
       "23696            2.60             3        29.70      1          NaN   \n",
       "23698            2.50             5        12.30      1          NaN   \n",
       "\n",
       "       is_studio  open_plan  kitchen_area  balcony              locality_name  \\\n",
       "5          False      False      9.100000        0  городской поселок Янино-1   \n",
       "8          False      False      8.810000        0             поселок Мурино   \n",
       "12         False      False      9.000000        0                  Сертолово   \n",
       "22         False      False     11.000000        2            деревня Кудрово   \n",
       "30         False      False      7.700000        0                   Коммунар   \n",
       "...          ...        ...           ...      ...                        ...   \n",
       "23683      False      False      5.500000        0       поселок Дзержинского   \n",
       "23692      False      False      6.000000        0                     Тихвин   \n",
       "23695      False      False      8.500000        0                      Тосно   \n",
       "23696      False      False      8.822222        0           село Рождествено   \n",
       "23698      False      False      9.000000        0        поселок Новый Учхоз   \n",
       "\n",
       "       airports_nearest  city_centers_nearest  parks_around3000  \\\n",
       "5                 28793                 14191               NaN   \n",
       "8                 28793                 14191               NaN   \n",
       "12                28793                 14191               NaN   \n",
       "22                28793                 14191               NaN   \n",
       "30                28793                 14191               NaN   \n",
       "...                 ...                   ...               ...   \n",
       "23683             28793                 14191               NaN   \n",
       "23692             28793                 14191               NaN   \n",
       "23695             28793                 14191               NaN   \n",
       "23696             28793                 14191               NaN   \n",
       "23698             28793                 14191               NaN   \n",
       "\n",
       "       parks_nearest  ponds_around3000  ponds_nearest  days_exposition  \n",
       "5                490               NaN            517             55.0  \n",
       "8                490               NaN            517            189.0  \n",
       "12               490               NaN            517             90.0  \n",
       "22               490               NaN            517             60.0  \n",
       "30               490               NaN            517             63.0  \n",
       "...              ...               ...            ...              ...  \n",
       "23683            490               NaN            517              NaN  \n",
       "23692            490               NaN            517            413.0  \n",
       "23695            490               NaN            517             45.0  \n",
       "23696            490               NaN            517              NaN  \n",
       "23698            490               NaN            517              NaN  \n",
       "\n",
       "[5518 rows x 22 columns]"
      ]
     },
     "execution_count": 24,
     "metadata": {},
     "output_type": "execute_result"
    }
   ],
   "source": [
    "df[(df['parks_around3000'].isna()) & (df['ponds_around3000'].isna())]"
   ]
  },
  {
   "cell_type": "markdown",
   "metadata": {},
   "source": [
    "Видно, что пропуски в столбцах `parks_around3000` и `ponds_around3000` совпадают. Сами пропуски вероятно связаны с отсутствием парков и водоемов, поэтому их можно заменить 0, а также привести к типу `int`. Пропущенные значения могли быть вызваны неправильным вводом."
   ]
  },
  {
   "cell_type": "code",
   "execution_count": 25,
   "metadata": {},
   "outputs": [],
   "source": [
    "df.loc[df['parks_around3000'].isna(), 'parks_around3000'] = 0\n",
    "df.loc[df['ponds_around3000'].isna(), 'ponds_around3000'] = 0\n",
    "df['parks_around3000'] = df['parks_around3000'].astype('int')\n",
    "df['ponds_around3000'] = df['ponds_around3000'].astype('int')"
   ]
  },
  {
   "cell_type": "markdown",
   "metadata": {},
   "source": [
    " "
   ]
  },
  {
   "cell_type": "code",
   "execution_count": 26,
   "metadata": {},
   "outputs": [],
   "source": [
    "df.loc[df['days_exposition'].isna(), 'days_exposition'] = \\\n",
    "df.groupby(df['first_day_exposition'].dt.year)['days_exposition'].transform('mean')\n",
    "df['days_exposition'] = df['days_exposition'].astype('int')"
   ]
  },
  {
   "cell_type": "markdown",
   "metadata": {},
   "source": [
    "В столбце `days_exposition` пропуски можно заменить на среднее среди всех значений столбца `first_day_exposition` по году."
   ]
  },
  {
   "cell_type": "code",
   "execution_count": 27,
   "metadata": {},
   "outputs": [
    {
     "name": "stdout",
     "output_type": "stream",
     "text": [
      "<class 'pandas.core.frame.DataFrame'>\n",
      "RangeIndex: 23699 entries, 0 to 23698\n",
      "Data columns (total 22 columns):\n",
      " #   Column                Non-Null Count  Dtype         \n",
      "---  ------                --------------  -----         \n",
      " 0   total_images          23699 non-null  int64         \n",
      " 1   last_price            23699 non-null  int64         \n",
      " 2   total_area            23699 non-null  float64       \n",
      " 3   first_day_exposition  23699 non-null  datetime64[ns]\n",
      " 4   rooms                 23699 non-null  int64         \n",
      " 5   ceiling_height        23699 non-null  float64       \n",
      " 6   floors_total          23699 non-null  int64         \n",
      " 7   living_area           23556 non-null  float64       \n",
      " 8   floor                 23699 non-null  int64         \n",
      " 9   is_apartment          2775 non-null   object        \n",
      " 10  is_studio             23699 non-null  bool          \n",
      " 11  open_plan             23699 non-null  bool          \n",
      " 12  kitchen_area          23494 non-null  float64       \n",
      " 13  balcony               23699 non-null  int64         \n",
      " 14  locality_name         23650 non-null  object        \n",
      " 15  airports_nearest      23699 non-null  int64         \n",
      " 16  city_centers_nearest  23699 non-null  int64         \n",
      " 17  parks_around3000      23699 non-null  int64         \n",
      " 18  parks_nearest         23699 non-null  int64         \n",
      " 19  ponds_around3000      23699 non-null  int64         \n",
      " 20  ponds_nearest         23699 non-null  int64         \n",
      " 21  days_exposition       23699 non-null  int64         \n",
      "dtypes: bool(2), datetime64[ns](1), float64(4), int64(13), object(2)\n",
      "memory usage: 3.7+ MB\n"
     ]
    }
   ],
   "source": [
    "df.info()"
   ]
  },
  {
   "cell_type": "markdown",
   "metadata": {},
   "source": [
    "В таблице много столбцов с пропусками, некоторые из них можно заменить средними или медианными значениями, а некоторые, к сожалению, заменить нельзя, их придется оставить. Таких столбцов всего 4, в 3 из них пропусков очень мало. Также многие типы данных подверглись изменению для экономии времени и памяти. "
   ]
  },
  {
   "cell_type": "markdown",
   "metadata": {},
   "source": [
    "## Расчёты и добавление результатов в таблицу <a class=\"anchor\" id=\"Расчёты-и-добавление-результатов-в-таблицу\"></a>"
   ]
  },
  {
   "cell_type": "code",
   "execution_count": 28,
   "metadata": {},
   "outputs": [
    {
     "data": {
      "text/html": [
       "<div>\n",
       "<style scoped>\n",
       "    .dataframe tbody tr th:only-of-type {\n",
       "        vertical-align: middle;\n",
       "    }\n",
       "\n",
       "    .dataframe tbody tr th {\n",
       "        vertical-align: top;\n",
       "    }\n",
       "\n",
       "    .dataframe thead th {\n",
       "        text-align: right;\n",
       "    }\n",
       "</style>\n",
       "<table border=\"1\" class=\"dataframe\">\n",
       "  <thead>\n",
       "    <tr style=\"text-align: right;\">\n",
       "      <th></th>\n",
       "      <th>total_images</th>\n",
       "      <th>last_price</th>\n",
       "      <th>total_area</th>\n",
       "      <th>first_day_exposition</th>\n",
       "      <th>rooms</th>\n",
       "      <th>ceiling_height</th>\n",
       "      <th>floors_total</th>\n",
       "      <th>living_area</th>\n",
       "      <th>floor</th>\n",
       "      <th>is_apartment</th>\n",
       "      <th>is_studio</th>\n",
       "      <th>open_plan</th>\n",
       "      <th>kitchen_area</th>\n",
       "      <th>balcony</th>\n",
       "      <th>locality_name</th>\n",
       "      <th>airports_nearest</th>\n",
       "      <th>city_centers_nearest</th>\n",
       "      <th>parks_around3000</th>\n",
       "      <th>parks_nearest</th>\n",
       "      <th>ponds_around3000</th>\n",
       "      <th>ponds_nearest</th>\n",
       "      <th>days_exposition</th>\n",
       "      <th>price_per_meter</th>\n",
       "      <th>exposition_day_name</th>\n",
       "      <th>exposition_month_name</th>\n",
       "      <th>exposition_year</th>\n",
       "      <th>floor_names</th>\n",
       "      <th>living_total_ratio</th>\n",
       "      <th>kitchen_total_ratio</th>\n",
       "    </tr>\n",
       "  </thead>\n",
       "  <tbody>\n",
       "    <tr>\n",
       "      <th>0</th>\n",
       "      <td>20</td>\n",
       "      <td>13000000</td>\n",
       "      <td>108.0</td>\n",
       "      <td>2019-03-07</td>\n",
       "      <td>3</td>\n",
       "      <td>2.70</td>\n",
       "      <td>16</td>\n",
       "      <td>51.0</td>\n",
       "      <td>8</td>\n",
       "      <td>NaN</td>\n",
       "      <td>False</td>\n",
       "      <td>False</td>\n",
       "      <td>25.0</td>\n",
       "      <td>0</td>\n",
       "      <td>Санкт-Петербург</td>\n",
       "      <td>18863</td>\n",
       "      <td>16028</td>\n",
       "      <td>1</td>\n",
       "      <td>482</td>\n",
       "      <td>2</td>\n",
       "      <td>755</td>\n",
       "      <td>30</td>\n",
       "      <td>120370.370370</td>\n",
       "      <td>Thursday</td>\n",
       "      <td>March</td>\n",
       "      <td>2019</td>\n",
       "      <td>другой</td>\n",
       "      <td>0.472222</td>\n",
       "      <td>0.231481</td>\n",
       "    </tr>\n",
       "    <tr>\n",
       "      <th>1</th>\n",
       "      <td>7</td>\n",
       "      <td>3350000</td>\n",
       "      <td>40.4</td>\n",
       "      <td>2018-12-04</td>\n",
       "      <td>1</td>\n",
       "      <td>2.60</td>\n",
       "      <td>11</td>\n",
       "      <td>18.6</td>\n",
       "      <td>1</td>\n",
       "      <td>NaN</td>\n",
       "      <td>False</td>\n",
       "      <td>False</td>\n",
       "      <td>11.0</td>\n",
       "      <td>2</td>\n",
       "      <td>поселок Шушары</td>\n",
       "      <td>12817</td>\n",
       "      <td>18603</td>\n",
       "      <td>0</td>\n",
       "      <td>490</td>\n",
       "      <td>0</td>\n",
       "      <td>517</td>\n",
       "      <td>81</td>\n",
       "      <td>82920.792079</td>\n",
       "      <td>Tuesday</td>\n",
       "      <td>December</td>\n",
       "      <td>2018</td>\n",
       "      <td>первый</td>\n",
       "      <td>0.460396</td>\n",
       "      <td>0.272277</td>\n",
       "    </tr>\n",
       "    <tr>\n",
       "      <th>2</th>\n",
       "      <td>10</td>\n",
       "      <td>5196000</td>\n",
       "      <td>56.0</td>\n",
       "      <td>2015-08-20</td>\n",
       "      <td>2</td>\n",
       "      <td>2.65</td>\n",
       "      <td>5</td>\n",
       "      <td>34.3</td>\n",
       "      <td>4</td>\n",
       "      <td>NaN</td>\n",
       "      <td>False</td>\n",
       "      <td>False</td>\n",
       "      <td>8.3</td>\n",
       "      <td>0</td>\n",
       "      <td>Санкт-Петербург</td>\n",
       "      <td>21741</td>\n",
       "      <td>13933</td>\n",
       "      <td>1</td>\n",
       "      <td>90</td>\n",
       "      <td>2</td>\n",
       "      <td>574</td>\n",
       "      <td>558</td>\n",
       "      <td>92785.714286</td>\n",
       "      <td>Thursday</td>\n",
       "      <td>August</td>\n",
       "      <td>2015</td>\n",
       "      <td>другой</td>\n",
       "      <td>0.612500</td>\n",
       "      <td>0.148214</td>\n",
       "    </tr>\n",
       "    <tr>\n",
       "      <th>3</th>\n",
       "      <td>0</td>\n",
       "      <td>64900000</td>\n",
       "      <td>159.0</td>\n",
       "      <td>2015-07-24</td>\n",
       "      <td>3</td>\n",
       "      <td>2.60</td>\n",
       "      <td>14</td>\n",
       "      <td>80.2</td>\n",
       "      <td>9</td>\n",
       "      <td>NaN</td>\n",
       "      <td>False</td>\n",
       "      <td>False</td>\n",
       "      <td>16.1</td>\n",
       "      <td>0</td>\n",
       "      <td>Санкт-Петербург</td>\n",
       "      <td>28098</td>\n",
       "      <td>6800</td>\n",
       "      <td>2</td>\n",
       "      <td>84</td>\n",
       "      <td>3</td>\n",
       "      <td>234</td>\n",
       "      <td>424</td>\n",
       "      <td>408176.100629</td>\n",
       "      <td>Friday</td>\n",
       "      <td>July</td>\n",
       "      <td>2015</td>\n",
       "      <td>другой</td>\n",
       "      <td>0.504403</td>\n",
       "      <td>0.101258</td>\n",
       "    </tr>\n",
       "    <tr>\n",
       "      <th>4</th>\n",
       "      <td>2</td>\n",
       "      <td>10000000</td>\n",
       "      <td>100.0</td>\n",
       "      <td>2018-06-19</td>\n",
       "      <td>2</td>\n",
       "      <td>3.03</td>\n",
       "      <td>14</td>\n",
       "      <td>32.0</td>\n",
       "      <td>13</td>\n",
       "      <td>NaN</td>\n",
       "      <td>False</td>\n",
       "      <td>False</td>\n",
       "      <td>41.0</td>\n",
       "      <td>0</td>\n",
       "      <td>Санкт-Петербург</td>\n",
       "      <td>31856</td>\n",
       "      <td>8098</td>\n",
       "      <td>2</td>\n",
       "      <td>112</td>\n",
       "      <td>1</td>\n",
       "      <td>48</td>\n",
       "      <td>121</td>\n",
       "      <td>100000.000000</td>\n",
       "      <td>Tuesday</td>\n",
       "      <td>June</td>\n",
       "      <td>2018</td>\n",
       "      <td>другой</td>\n",
       "      <td>0.320000</td>\n",
       "      <td>0.410000</td>\n",
       "    </tr>\n",
       "  </tbody>\n",
       "</table>\n",
       "</div>"
      ],
      "text/plain": [
       "   total_images  last_price  total_area first_day_exposition  rooms  \\\n",
       "0            20    13000000       108.0           2019-03-07      3   \n",
       "1             7     3350000        40.4           2018-12-04      1   \n",
       "2            10     5196000        56.0           2015-08-20      2   \n",
       "3             0    64900000       159.0           2015-07-24      3   \n",
       "4             2    10000000       100.0           2018-06-19      2   \n",
       "\n",
       "   ceiling_height  floors_total  living_area  floor is_apartment  is_studio  \\\n",
       "0            2.70            16         51.0      8          NaN      False   \n",
       "1            2.60            11         18.6      1          NaN      False   \n",
       "2            2.65             5         34.3      4          NaN      False   \n",
       "3            2.60            14         80.2      9          NaN      False   \n",
       "4            3.03            14         32.0     13          NaN      False   \n",
       "\n",
       "   open_plan  kitchen_area  balcony    locality_name  airports_nearest  \\\n",
       "0      False          25.0        0  Санкт-Петербург             18863   \n",
       "1      False          11.0        2   поселок Шушары             12817   \n",
       "2      False           8.3        0  Санкт-Петербург             21741   \n",
       "3      False          16.1        0  Санкт-Петербург             28098   \n",
       "4      False          41.0        0  Санкт-Петербург             31856   \n",
       "\n",
       "   city_centers_nearest  parks_around3000  parks_nearest  ponds_around3000  \\\n",
       "0                 16028                 1            482                 2   \n",
       "1                 18603                 0            490                 0   \n",
       "2                 13933                 1             90                 2   \n",
       "3                  6800                 2             84                 3   \n",
       "4                  8098                 2            112                 1   \n",
       "\n",
       "   ponds_nearest  days_exposition  price_per_meter exposition_day_name  \\\n",
       "0            755               30    120370.370370            Thursday   \n",
       "1            517               81     82920.792079             Tuesday   \n",
       "2            574              558     92785.714286            Thursday   \n",
       "3            234              424    408176.100629              Friday   \n",
       "4             48              121    100000.000000             Tuesday   \n",
       "\n",
       "  exposition_month_name exposition_year floor_names  living_total_ratio  \\\n",
       "0                 March            2019      другой            0.472222   \n",
       "1              December            2018      первый            0.460396   \n",
       "2                August            2015      другой            0.612500   \n",
       "3                  July            2015      другой            0.504403   \n",
       "4                  June            2018      другой            0.320000   \n",
       "\n",
       "   kitchen_total_ratio  \n",
       "0             0.231481  \n",
       "1             0.272277  \n",
       "2             0.148214  \n",
       "3             0.101258  \n",
       "4             0.410000  "
      ]
     },
     "execution_count": 28,
     "metadata": {},
     "output_type": "execute_result"
    }
   ],
   "source": [
    "df['price_per_meter'] = df['last_price'] / df['total_area'] # цена квадратного метра\n",
    "\n",
    "df['exposition_day_name'] = (df['first_day_exposition']).dt.day_name()\n",
    "df['exposition_month_name'] = (df['first_day_exposition']).dt.month_name()\n",
    "df['exposition_year'] = (df['first_day_exposition'].dt.year).astype('str')   # день недели, месяц и год публикации объявления\n",
    "\n",
    "def floors(total):\n",
    "    floor = total['floor']\n",
    "    floors_total = total['floors_total']\n",
    "    if floor == 1:\n",
    "        return 'первый'\n",
    "    elif floor == floors_total:\n",
    "        return 'последний'\n",
    "    else:\n",
    "        return 'другой'\n",
    "    \n",
    "df['floor_names'] = df.apply(floors, axis = 1) #название этажа квартиры\n",
    "\n",
    "df['living_total_ratio'] = df['living_area'] / df['total_area'] # отношение жилой площади к общей\n",
    "\n",
    "df['kitchen_total_ratio'] = df['kitchen_area'] / df['total_area'] # отношение площади кухни к общей\n",
    "\n",
    "df.head()"
   ]
  },
  {
   "cell_type": "markdown",
   "metadata": {},
   "source": [
    "Добавленные столбцы со значениями более наглядны для понимания и последующего анализа."
   ]
  },
  {
   "cell_type": "markdown",
   "metadata": {},
   "source": [
    "## Исследовательский анализ данных <a class=\"anchor\" id=\"Исследовательский-анализ-данных\"></a>"
   ]
  },
  {
   "cell_type": "markdown",
   "metadata": {},
   "source": [
    "###   Гистограммы для площади, цены, числа комнат, высоты потолков <a class=\"anchor\" id=\"Гистограммы-для-площади,-цены,-числа-комнат,-высоты-потолков\"></a>"
   ]
  },
  {
   "cell_type": "code",
   "execution_count": 29,
   "metadata": {},
   "outputs": [
    {
     "data": {
      "image/png": "[encoded data removed]",
      "text/plain": [
       "<Figure size 432x288 with 1 Axes>"
      ]
     },
     "metadata": {
      "needs_background": "light"
     },
     "output_type": "display_data"
    }
   ],
   "source": [
    "df.plot(kind = 'hist', y = 'total_area', grid = True, bins = 50, range = (0, 200), title = 'Общая площадь');\n",
    "plt.xlabel('Площадь, м^2'); \n",
    "plt.ylabel('Частота'); \n",
    "plt.show();"
   ]
  },
  {
   "cell_type": "code",
   "execution_count": 30,
   "metadata": {
    "scrolled": false
   },
   "outputs": [
    {
     "data": {
      "image/png": "[encoded data removed]",
      "text/plain": [
       "<Figure size 432x288 with 1 Axes>"
      ]
     },
     "metadata": {
      "needs_background": "light"
     },
     "output_type": "display_data"
    }
   ],
   "source": [
    "df.plot(kind = 'hist', y = 'last_price', grid = True, bins = 100, range = (0, 0.3e8), title = ' Цена');\n",
    "plt.xlabel('Цена, 10^7'); \n",
    "plt.ylabel('Частота'); \n",
    "plt.show();"
   ]
  },
  {
   "cell_type": "code",
   "execution_count": 31,
   "metadata": {
    "scrolled": false
   },
   "outputs": [
    {
     "data": {
      "image/png": "[encoded data removed]",
      "text/plain": [
       "<Figure size 432x288 with 1 Axes>"
      ]
     },
     "metadata": {
      "needs_background": "light"
     },
     "output_type": "display_data"
    }
   ],
   "source": [
    "df.plot(kind = 'hist', y = 'rooms', grid = True, bins = 10, range = (0, 10), title = 'Число комнат');\n",
    "plt.xlabel('Количество'); \n",
    "plt.ylabel('Частота'); \n",
    "plt.show();"
   ]
  },
  {
   "cell_type": "code",
   "execution_count": 32,
   "metadata": {
    "scrolled": false
   },
   "outputs": [
    {
     "data": {
      "image/png": "[encoded data removed]",
      "text/plain": [
       "<Figure size 432x288 with 1 Axes>"
      ]
     },
     "metadata": {
      "needs_background": "light"
     },
     "output_type": "display_data"
    }
   ],
   "source": [
    "df.plot(kind = 'hist', y = 'ceiling_height', grid = True, bins = 30, range = (2.4, 4), title = 'Высота потолков');\n",
    "plt.xlabel('Высота, м'); \n",
    "plt.ylabel('Частота'); \n",
    "plt.show();"
   ]
  },
  {
   "cell_type": "markdown",
   "metadata": {},
   "source": [
    "Все гистограммы имеют вид распределения Пуассона."
   ]
  },
  {
   "cell_type": "markdown",
   "metadata": {},
   "source": [
    " "
   ]
  },
  {
   "cell_type": "markdown",
   "metadata": {},
   "source": [
    "###   Изучение времени продажи квартиры <a class=\"anchor\" id=\"Изучение-времени-продажи-квартиры\"></a>"
   ]
  },
  {
   "cell_type": "code",
   "execution_count": 33,
   "metadata": {},
   "outputs": [
    {
     "data": {
      "image/png": "[encoded data removed]",
      "text/plain": [
       "<Figure size 432x288 with 1 Axes>"
      ]
     },
     "metadata": {
      "needs_background": "light"
     },
     "output_type": "display_data"
    }
   ],
   "source": [
    "df.plot(kind = 'hist', y = 'days_exposition', grid = True, bins = 50, range = (0, 1000), title = 'Количество дней размещения объявления');\n",
    "plt.xlabel('Количество дней'); \n",
    "plt.ylabel('Частота'); \n",
    "plt.show();"
   ]
  },
  {
   "cell_type": "code",
   "execution_count": 34,
   "metadata": {
    "scrolled": false
   },
   "outputs": [
    {
     "data": {
      "text/plain": [
       "count    23699.000000\n",
       "mean       168.002743\n",
       "std        211.597739\n",
       "min          1.000000\n",
       "10%         20.000000\n",
       "50%         92.000000\n",
       "75%        204.000000\n",
       "90%        434.200000\n",
       "max       1580.000000\n",
       "Name: days_exposition, dtype: float64"
      ]
     },
     "execution_count": 34,
     "metadata": {},
     "output_type": "execute_result"
    }
   ],
   "source": [
    "df['days_exposition'].describe(percentiles = [.1, .5, .75, .90])\n",
    "iqr = df['days_exposition'].quantile([0.25,0.5,0.75])[0.75] - df['days_exposition'].quantile([0.25,0.5,0.75])[0.25]"
   ]
  },
  {
   "cell_type": "markdown",
   "metadata": {},
   "source": [
    "По медиане видно, что половина квартир были проданы менее, чем за 3 месяца. 90% квартир продавались чуть больше года. Также больше всего квартир были проданы за 30 дней. Отсюда можно сделать вывод, что быстрее всего квартиры продавались за первые 1 - 3 месяца, медленнее всего продажи шли за более чем 440 дней. "
   ]
  },
  {
   "cell_type": "markdown",
   "metadata": {},
   "source": [
    " "
   ]
  },
  {
   "cell_type": "markdown",
   "metadata": {},
   "source": [
    "### Удаление редких и выбивающихся значений <a class=\"anchor\" id=\"Удаление-редких-и-выбивающихся-значений\"></a>"
   ]
  },
  {
   "cell_type": "code",
   "execution_count": 35,
   "metadata": {
    "scrolled": true
   },
   "outputs": [
    {
     "data": {
      "image/png": "[encoded data removed]",
      "text/plain": [
       "<Figure size 432x288 with 1 Axes>"
      ]
     },
     "metadata": {
      "needs_background": "light"
     },
     "output_type": "display_data"
    }
   ],
   "source": [
    "df.boxplot(column = ['days_exposition']);\n",
    "plt.xlabel('Диаграмма размаха'); \n",
    "plt.ylabel('Количество дней'); "
   ]
  },
  {
   "cell_type": "code",
   "execution_count": 36,
   "metadata": {},
   "outputs": [
    {
     "data": {
      "text/plain": [
       "2156"
      ]
     },
     "execution_count": 36,
     "metadata": {},
     "output_type": "execute_result"
    }
   ],
   "source": [
    "df[ (df['days_exposition'].quantile([0.25,0.5,0.75])[0.25] - 1.5 * iqr > df['days_exposition']) \\\n",
    "   | (df['days_exposition'] > df['days_exposition'].quantile([0.25,0.5,0.75])[0.75] + 1.5 * iqr)]['days_exposition'].count()"
   ]
  },
  {
   "cell_type": "markdown",
   "metadata": {},
   "source": [
    "2156 значений столбца `days_exposition` являются выбросами так как не попадают в диапазон [Q1 – 1,5IQR, Q3 + 1,5IQR]. Те же действия необходимо провести с столбцами `last_price`, `total_area`, `rooms`."
   ]
  },
  {
   "cell_type": "code",
   "execution_count": 37,
   "metadata": {
    "scrolled": false
   },
   "outputs": [
    {
     "data": {
      "text/html": [
       "<div>\n",
       "<style scoped>\n",
       "    .dataframe tbody tr th:only-of-type {\n",
       "        vertical-align: middle;\n",
       "    }\n",
       "\n",
       "    .dataframe tbody tr th {\n",
       "        vertical-align: top;\n",
       "    }\n",
       "\n",
       "    .dataframe thead th {\n",
       "        text-align: right;\n",
       "    }\n",
       "</style>\n",
       "<table border=\"1\" class=\"dataframe\">\n",
       "  <thead>\n",
       "    <tr style=\"text-align: right;\">\n",
       "      <th></th>\n",
       "      <th>total_images</th>\n",
       "      <th>last_price</th>\n",
       "      <th>total_area</th>\n",
       "      <th>first_day_exposition</th>\n",
       "      <th>rooms</th>\n",
       "      <th>ceiling_height</th>\n",
       "      <th>floors_total</th>\n",
       "      <th>living_area</th>\n",
       "      <th>floor</th>\n",
       "      <th>is_apartment</th>\n",
       "      <th>is_studio</th>\n",
       "      <th>open_plan</th>\n",
       "      <th>kitchen_area</th>\n",
       "      <th>balcony</th>\n",
       "      <th>locality_name</th>\n",
       "      <th>airports_nearest</th>\n",
       "      <th>city_centers_nearest</th>\n",
       "      <th>parks_around3000</th>\n",
       "      <th>parks_nearest</th>\n",
       "      <th>ponds_around3000</th>\n",
       "      <th>ponds_nearest</th>\n",
       "      <th>days_exposition</th>\n",
       "      <th>price_per_meter</th>\n",
       "      <th>exposition_day_name</th>\n",
       "      <th>exposition_month_name</th>\n",
       "      <th>exposition_year</th>\n",
       "      <th>floor_names</th>\n",
       "      <th>living_total_ratio</th>\n",
       "      <th>kitchen_total_ratio</th>\n",
       "    </tr>\n",
       "  </thead>\n",
       "  <tbody>\n",
       "    <tr>\n",
       "      <th>1</th>\n",
       "      <td>7</td>\n",
       "      <td>3350000</td>\n",
       "      <td>40.4</td>\n",
       "      <td>2018-12-04</td>\n",
       "      <td>1</td>\n",
       "      <td>2.60</td>\n",
       "      <td>11</td>\n",
       "      <td>18.600000</td>\n",
       "      <td>1</td>\n",
       "      <td>NaN</td>\n",
       "      <td>False</td>\n",
       "      <td>False</td>\n",
       "      <td>11.000000</td>\n",
       "      <td>2</td>\n",
       "      <td>поселок Шушары</td>\n",
       "      <td>12817</td>\n",
       "      <td>18603</td>\n",
       "      <td>0</td>\n",
       "      <td>490</td>\n",
       "      <td>0</td>\n",
       "      <td>517</td>\n",
       "      <td>81</td>\n",
       "      <td>82920.792079</td>\n",
       "      <td>Tuesday</td>\n",
       "      <td>December</td>\n",
       "      <td>2018</td>\n",
       "      <td>первый</td>\n",
       "      <td>0.460396</td>\n",
       "      <td>0.272277</td>\n",
       "    </tr>\n",
       "    <tr>\n",
       "      <th>4</th>\n",
       "      <td>2</td>\n",
       "      <td>10000000</td>\n",
       "      <td>100.0</td>\n",
       "      <td>2018-06-19</td>\n",
       "      <td>2</td>\n",
       "      <td>3.03</td>\n",
       "      <td>14</td>\n",
       "      <td>32.000000</td>\n",
       "      <td>13</td>\n",
       "      <td>NaN</td>\n",
       "      <td>False</td>\n",
       "      <td>False</td>\n",
       "      <td>41.000000</td>\n",
       "      <td>0</td>\n",
       "      <td>Санкт-Петербург</td>\n",
       "      <td>31856</td>\n",
       "      <td>8098</td>\n",
       "      <td>2</td>\n",
       "      <td>112</td>\n",
       "      <td>1</td>\n",
       "      <td>48</td>\n",
       "      <td>121</td>\n",
       "      <td>100000.000000</td>\n",
       "      <td>Tuesday</td>\n",
       "      <td>June</td>\n",
       "      <td>2018</td>\n",
       "      <td>другой</td>\n",
       "      <td>0.320000</td>\n",
       "      <td>0.410000</td>\n",
       "    </tr>\n",
       "    <tr>\n",
       "      <th>5</th>\n",
       "      <td>10</td>\n",
       "      <td>2890000</td>\n",
       "      <td>30.4</td>\n",
       "      <td>2018-09-10</td>\n",
       "      <td>1</td>\n",
       "      <td>2.60</td>\n",
       "      <td>12</td>\n",
       "      <td>14.400000</td>\n",
       "      <td>5</td>\n",
       "      <td>NaN</td>\n",
       "      <td>False</td>\n",
       "      <td>False</td>\n",
       "      <td>9.100000</td>\n",
       "      <td>0</td>\n",
       "      <td>городской поселок Янино-1</td>\n",
       "      <td>28793</td>\n",
       "      <td>14191</td>\n",
       "      <td>0</td>\n",
       "      <td>490</td>\n",
       "      <td>0</td>\n",
       "      <td>517</td>\n",
       "      <td>55</td>\n",
       "      <td>95065.789474</td>\n",
       "      <td>Monday</td>\n",
       "      <td>September</td>\n",
       "      <td>2018</td>\n",
       "      <td>другой</td>\n",
       "      <td>0.473684</td>\n",
       "      <td>0.299342</td>\n",
       "    </tr>\n",
       "    <tr>\n",
       "      <th>6</th>\n",
       "      <td>6</td>\n",
       "      <td>3700000</td>\n",
       "      <td>37.3</td>\n",
       "      <td>2017-11-02</td>\n",
       "      <td>1</td>\n",
       "      <td>2.65</td>\n",
       "      <td>26</td>\n",
       "      <td>10.600000</td>\n",
       "      <td>6</td>\n",
       "      <td>NaN</td>\n",
       "      <td>False</td>\n",
       "      <td>False</td>\n",
       "      <td>14.400000</td>\n",
       "      <td>1</td>\n",
       "      <td>поселок Парголово</td>\n",
       "      <td>52996</td>\n",
       "      <td>19143</td>\n",
       "      <td>0</td>\n",
       "      <td>490</td>\n",
       "      <td>0</td>\n",
       "      <td>517</td>\n",
       "      <td>155</td>\n",
       "      <td>99195.710456</td>\n",
       "      <td>Thursday</td>\n",
       "      <td>November</td>\n",
       "      <td>2017</td>\n",
       "      <td>другой</td>\n",
       "      <td>0.284182</td>\n",
       "      <td>0.386059</td>\n",
       "    </tr>\n",
       "    <tr>\n",
       "      <th>7</th>\n",
       "      <td>5</td>\n",
       "      <td>7915000</td>\n",
       "      <td>71.6</td>\n",
       "      <td>2019-04-18</td>\n",
       "      <td>2</td>\n",
       "      <td>2.70</td>\n",
       "      <td>24</td>\n",
       "      <td>42.771429</td>\n",
       "      <td>22</td>\n",
       "      <td>NaN</td>\n",
       "      <td>False</td>\n",
       "      <td>False</td>\n",
       "      <td>18.900000</td>\n",
       "      <td>2</td>\n",
       "      <td>Санкт-Петербург</td>\n",
       "      <td>23982</td>\n",
       "      <td>11634</td>\n",
       "      <td>0</td>\n",
       "      <td>490</td>\n",
       "      <td>0</td>\n",
       "      <td>517</td>\n",
       "      <td>30</td>\n",
       "      <td>110544.692737</td>\n",
       "      <td>Thursday</td>\n",
       "      <td>April</td>\n",
       "      <td>2019</td>\n",
       "      <td>другой</td>\n",
       "      <td>0.597366</td>\n",
       "      <td>0.263966</td>\n",
       "    </tr>\n",
       "    <tr>\n",
       "      <th>...</th>\n",
       "      <td>...</td>\n",
       "      <td>...</td>\n",
       "      <td>...</td>\n",
       "      <td>...</td>\n",
       "      <td>...</td>\n",
       "      <td>...</td>\n",
       "      <td>...</td>\n",
       "      <td>...</td>\n",
       "      <td>...</td>\n",
       "      <td>...</td>\n",
       "      <td>...</td>\n",
       "      <td>...</td>\n",
       "      <td>...</td>\n",
       "      <td>...</td>\n",
       "      <td>...</td>\n",
       "      <td>...</td>\n",
       "      <td>...</td>\n",
       "      <td>...</td>\n",
       "      <td>...</td>\n",
       "      <td>...</td>\n",
       "      <td>...</td>\n",
       "      <td>...</td>\n",
       "      <td>...</td>\n",
       "      <td>...</td>\n",
       "      <td>...</td>\n",
       "      <td>...</td>\n",
       "      <td>...</td>\n",
       "      <td>...</td>\n",
       "      <td>...</td>\n",
       "    </tr>\n",
       "    <tr>\n",
       "      <th>23692</th>\n",
       "      <td>2</td>\n",
       "      <td>1350000</td>\n",
       "      <td>30.0</td>\n",
       "      <td>2017-07-07</td>\n",
       "      <td>1</td>\n",
       "      <td>2.65</td>\n",
       "      <td>5</td>\n",
       "      <td>17.500000</td>\n",
       "      <td>4</td>\n",
       "      <td>NaN</td>\n",
       "      <td>False</td>\n",
       "      <td>False</td>\n",
       "      <td>6.000000</td>\n",
       "      <td>0</td>\n",
       "      <td>Тихвин</td>\n",
       "      <td>28793</td>\n",
       "      <td>14191</td>\n",
       "      <td>0</td>\n",
       "      <td>490</td>\n",
       "      <td>0</td>\n",
       "      <td>517</td>\n",
       "      <td>413</td>\n",
       "      <td>45000.000000</td>\n",
       "      <td>Friday</td>\n",
       "      <td>July</td>\n",
       "      <td>2017</td>\n",
       "      <td>другой</td>\n",
       "      <td>0.583333</td>\n",
       "      <td>0.200000</td>\n",
       "    </tr>\n",
       "    <tr>\n",
       "      <th>23693</th>\n",
       "      <td>9</td>\n",
       "      <td>4600000</td>\n",
       "      <td>62.4</td>\n",
       "      <td>2016-08-05</td>\n",
       "      <td>3</td>\n",
       "      <td>2.60</td>\n",
       "      <td>9</td>\n",
       "      <td>40.000000</td>\n",
       "      <td>8</td>\n",
       "      <td>NaN</td>\n",
       "      <td>False</td>\n",
       "      <td>False</td>\n",
       "      <td>8.000000</td>\n",
       "      <td>0</td>\n",
       "      <td>Петергоф</td>\n",
       "      <td>45602</td>\n",
       "      <td>34104</td>\n",
       "      <td>1</td>\n",
       "      <td>352</td>\n",
       "      <td>1</td>\n",
       "      <td>675</td>\n",
       "      <td>239</td>\n",
       "      <td>73717.948718</td>\n",
       "      <td>Friday</td>\n",
       "      <td>August</td>\n",
       "      <td>2016</td>\n",
       "      <td>другой</td>\n",
       "      <td>0.641026</td>\n",
       "      <td>0.128205</td>\n",
       "    </tr>\n",
       "    <tr>\n",
       "      <th>23695</th>\n",
       "      <td>14</td>\n",
       "      <td>3100000</td>\n",
       "      <td>59.0</td>\n",
       "      <td>2018-01-15</td>\n",
       "      <td>3</td>\n",
       "      <td>2.65</td>\n",
       "      <td>5</td>\n",
       "      <td>38.000000</td>\n",
       "      <td>4</td>\n",
       "      <td>NaN</td>\n",
       "      <td>False</td>\n",
       "      <td>False</td>\n",
       "      <td>8.500000</td>\n",
       "      <td>0</td>\n",
       "      <td>Тосно</td>\n",
       "      <td>28793</td>\n",
       "      <td>14191</td>\n",
       "      <td>0</td>\n",
       "      <td>490</td>\n",
       "      <td>0</td>\n",
       "      <td>517</td>\n",
       "      <td>45</td>\n",
       "      <td>52542.372881</td>\n",
       "      <td>Monday</td>\n",
       "      <td>January</td>\n",
       "      <td>2018</td>\n",
       "      <td>другой</td>\n",
       "      <td>0.644068</td>\n",
       "      <td>0.144068</td>\n",
       "    </tr>\n",
       "    <tr>\n",
       "      <th>23696</th>\n",
       "      <td>18</td>\n",
       "      <td>2500000</td>\n",
       "      <td>56.7</td>\n",
       "      <td>2018-02-11</td>\n",
       "      <td>2</td>\n",
       "      <td>2.60</td>\n",
       "      <td>3</td>\n",
       "      <td>29.700000</td>\n",
       "      <td>1</td>\n",
       "      <td>NaN</td>\n",
       "      <td>False</td>\n",
       "      <td>False</td>\n",
       "      <td>8.822222</td>\n",
       "      <td>0</td>\n",
       "      <td>село Рождествено</td>\n",
       "      <td>28793</td>\n",
       "      <td>14191</td>\n",
       "      <td>0</td>\n",
       "      <td>490</td>\n",
       "      <td>0</td>\n",
       "      <td>517</td>\n",
       "      <td>94</td>\n",
       "      <td>44091.710758</td>\n",
       "      <td>Sunday</td>\n",
       "      <td>February</td>\n",
       "      <td>2018</td>\n",
       "      <td>первый</td>\n",
       "      <td>0.523810</td>\n",
       "      <td>0.155595</td>\n",
       "    </tr>\n",
       "    <tr>\n",
       "      <th>23698</th>\n",
       "      <td>4</td>\n",
       "      <td>1350000</td>\n",
       "      <td>32.3</td>\n",
       "      <td>2017-07-21</td>\n",
       "      <td>1</td>\n",
       "      <td>2.50</td>\n",
       "      <td>5</td>\n",
       "      <td>12.300000</td>\n",
       "      <td>1</td>\n",
       "      <td>NaN</td>\n",
       "      <td>False</td>\n",
       "      <td>False</td>\n",
       "      <td>9.000000</td>\n",
       "      <td>0</td>\n",
       "      <td>поселок Новый Учхоз</td>\n",
       "      <td>28793</td>\n",
       "      <td>14191</td>\n",
       "      <td>0</td>\n",
       "      <td>490</td>\n",
       "      <td>0</td>\n",
       "      <td>517</td>\n",
       "      <td>158</td>\n",
       "      <td>41795.665635</td>\n",
       "      <td>Friday</td>\n",
       "      <td>July</td>\n",
       "      <td>2017</td>\n",
       "      <td>первый</td>\n",
       "      <td>0.380805</td>\n",
       "      <td>0.278638</td>\n",
       "    </tr>\n",
       "  </tbody>\n",
       "</table>\n",
       "<p>19570 rows × 29 columns</p>\n",
       "</div>"
      ],
      "text/plain": [
       "       total_images  last_price  total_area first_day_exposition  rooms  \\\n",
       "1                 7     3350000        40.4           2018-12-04      1   \n",
       "4                 2    10000000       100.0           2018-06-19      2   \n",
       "5                10     2890000        30.4           2018-09-10      1   \n",
       "6                 6     3700000        37.3           2017-11-02      1   \n",
       "7                 5     7915000        71.6           2019-04-18      2   \n",
       "...             ...         ...         ...                  ...    ...   \n",
       "23692             2     1350000        30.0           2017-07-07      1   \n",
       "23693             9     4600000        62.4           2016-08-05      3   \n",
       "23695            14     3100000        59.0           2018-01-15      3   \n",
       "23696            18     2500000        56.7           2018-02-11      2   \n",
       "23698             4     1350000        32.3           2017-07-21      1   \n",
       "\n",
       "       ceiling_height  floors_total  living_area  floor is_apartment  \\\n",
       "1                2.60            11    18.600000      1          NaN   \n",
       "4                3.03            14    32.000000     13          NaN   \n",
       "5                2.60            12    14.400000      5          NaN   \n",
       "6                2.65            26    10.600000      6          NaN   \n",
       "7                2.70            24    42.771429     22          NaN   \n",
       "...               ...           ...          ...    ...          ...   \n",
       "23692            2.65             5    17.500000      4          NaN   \n",
       "23693            2.60             9    40.000000      8          NaN   \n",
       "23695            2.65             5    38.000000      4          NaN   \n",
       "23696            2.60             3    29.700000      1          NaN   \n",
       "23698            2.50             5    12.300000      1          NaN   \n",
       "\n",
       "       is_studio  open_plan  kitchen_area  balcony              locality_name  \\\n",
       "1          False      False     11.000000        2             поселок Шушары   \n",
       "4          False      False     41.000000        0            Санкт-Петербург   \n",
       "5          False      False      9.100000        0  городской поселок Янино-1   \n",
       "6          False      False     14.400000        1          поселок Парголово   \n",
       "7          False      False     18.900000        2            Санкт-Петербург   \n",
       "...          ...        ...           ...      ...                        ...   \n",
       "23692      False      False      6.000000        0                     Тихвин   \n",
       "23693      False      False      8.000000        0                   Петергоф   \n",
       "23695      False      False      8.500000        0                      Тосно   \n",
       "23696      False      False      8.822222        0           село Рождествено   \n",
       "23698      False      False      9.000000        0        поселок Новый Учхоз   \n",
       "\n",
       "       airports_nearest  city_centers_nearest  parks_around3000  \\\n",
       "1                 12817                 18603                 0   \n",
       "4                 31856                  8098                 2   \n",
       "5                 28793                 14191                 0   \n",
       "6                 52996                 19143                 0   \n",
       "7                 23982                 11634                 0   \n",
       "...                 ...                   ...               ...   \n",
       "23692             28793                 14191                 0   \n",
       "23693             45602                 34104                 1   \n",
       "23695             28793                 14191                 0   \n",
       "23696             28793                 14191                 0   \n",
       "23698             28793                 14191                 0   \n",
       "\n",
       "       parks_nearest  ponds_around3000  ponds_nearest  days_exposition  \\\n",
       "1                490                 0            517               81   \n",
       "4                112                 1             48              121   \n",
       "5                490                 0            517               55   \n",
       "6                490                 0            517              155   \n",
       "7                490                 0            517               30   \n",
       "...              ...               ...            ...              ...   \n",
       "23692            490                 0            517              413   \n",
       "23693            352                 1            675              239   \n",
       "23695            490                 0            517               45   \n",
       "23696            490                 0            517               94   \n",
       "23698            490                 0            517              158   \n",
       "\n",
       "       price_per_meter exposition_day_name exposition_month_name  \\\n",
       "1         82920.792079             Tuesday              December   \n",
       "4        100000.000000             Tuesday                  June   \n",
       "5         95065.789474              Monday             September   \n",
       "6         99195.710456            Thursday              November   \n",
       "7        110544.692737            Thursday                 April   \n",
       "...                ...                 ...                   ...   \n",
       "23692     45000.000000              Friday                  July   \n",
       "23693     73717.948718              Friday                August   \n",
       "23695     52542.372881              Monday               January   \n",
       "23696     44091.710758              Sunday              February   \n",
       "23698     41795.665635              Friday                  July   \n",
       "\n",
       "      exposition_year floor_names  living_total_ratio  kitchen_total_ratio  \n",
       "1                2018      первый            0.460396             0.272277  \n",
       "4                2018      другой            0.320000             0.410000  \n",
       "5                2018      другой            0.473684             0.299342  \n",
       "6                2017      другой            0.284182             0.386059  \n",
       "7                2019      другой            0.597366             0.263966  \n",
       "...               ...         ...                 ...                  ...  \n",
       "23692            2017      другой            0.583333             0.200000  \n",
       "23693            2016      другой            0.641026             0.128205  \n",
       "23695            2018      другой            0.644068             0.144068  \n",
       "23696            2018      первый            0.523810             0.155595  \n",
       "23698            2017      первый            0.380805             0.278638  \n",
       "\n",
       "[19570 rows x 29 columns]"
      ]
     },
     "execution_count": 37,
     "metadata": {},
     "output_type": "execute_result"
    }
   ],
   "source": [
    "df_in_iqr = df[ (df['days_exposition'].quantile([0.25,0.5,0.75])[0.25] - 1.5 * iqr < df['days_exposition']) \\\n",
    "   & (df['days_exposition'] < df['days_exposition'].quantile([0.25,0.5,0.75])[0.75] + 1.5 * iqr)]\n",
    "\n",
    "\n",
    "iqr = df['last_price'].quantile([0.25,0.5,0.75])[0.75] - df['last_price'].quantile([0.25,0.5,0.75])[0.25]\n",
    "\n",
    "df_in_iqr = df_in_iqr[ (df_in_iqr['last_price'].quantile([0.25,0.5,0.75])[0.25] - 1.5 * iqr < df_in_iqr['last_price']) \\\n",
    "   & (df_in_iqr['last_price'] < df_in_iqr['last_price'].quantile([0.25,0.5,0.75])[0.75] + 1.5 * iqr)]\n",
    "\n",
    "iqr = df['total_area'].quantile([0.25,0.5,0.75])[0.75] - df['total_area'].quantile([0.25,0.5,0.75])[0.25]\n",
    "\n",
    "df_in_iqr = df_in_iqr[ (df_in_iqr['total_area'].quantile([0.25,0.5,0.75])[0.25] - 1.5 * iqr < df_in_iqr['total_area']) \\\n",
    "   & (df_in_iqr['total_area'] < df_in_iqr['total_area'].quantile([0.25,0.5,0.75])[0.75] + 1.5 * iqr)]\n",
    "\n",
    "iqr = df['rooms'].quantile([0.25,0.5,0.75])[0.75] - df['rooms'].quantile([0.25,0.5,0.75])[0.25]\n",
    "\n",
    "df_in_iqr = df_in_iqr[ (df_in_iqr['rooms'].quantile([0.25,0.5,0.75])[0.25] - 1.5 * iqr < df_in_iqr['rooms']) \\\n",
    "   & (df_in_iqr['rooms'] < df_in_iqr['rooms'].quantile([0.25,0.5,0.75])[0.75] + 1.5 * iqr)]\n",
    "\n",
    "df_in_iqr # df без выбросов по days_exposition, last_price, total_area, rooms."
   ]
  },
  {
   "cell_type": "markdown",
   "metadata": {},
   "source": [
    "Так как отрицательных значений нет, то нижняя граница, совпадает с 0, то есть все 2156 значений выходят за рамки верхней границы, равной 457.5. Это означает, что менее 10% квартир (2156) продавалось более 458 дней."
   ]
  },
  {
   "cell_type": "markdown",
   "metadata": {},
   "source": [
    " "
   ]
  },
  {
   "cell_type": "markdown",
   "metadata": {},
   "source": [
    "### Факторы, влияющие на стоимость квартиры <a class=\"anchor\" id=\"Факторы,-влияющие-на-стоимость-квартиры\"></a>"
   ]
  },
  {
   "cell_type": "code",
   "execution_count": 38,
   "metadata": {
    "scrolled": false
   },
   "outputs": [
    {
     "data": {
      "text/html": [
       "<div>\n",
       "<style scoped>\n",
       "    .dataframe tbody tr th:only-of-type {\n",
       "        vertical-align: middle;\n",
       "    }\n",
       "\n",
       "    .dataframe tbody tr th {\n",
       "        vertical-align: top;\n",
       "    }\n",
       "\n",
       "    .dataframe thead th {\n",
       "        text-align: right;\n",
       "    }\n",
       "</style>\n",
       "<table border=\"1\" class=\"dataframe\">\n",
       "  <thead>\n",
       "    <tr style=\"text-align: right;\">\n",
       "      <th></th>\n",
       "      <th>last_price</th>\n",
       "      <th>total_area</th>\n",
       "      <th>rooms</th>\n",
       "      <th>city_centers_nearest</th>\n",
       "    </tr>\n",
       "  </thead>\n",
       "  <tbody>\n",
       "    <tr>\n",
       "      <th>last_price</th>\n",
       "      <td>1.000000</td>\n",
       "      <td>0.653675</td>\n",
       "      <td>0.365209</td>\n",
       "      <td>-0.201918</td>\n",
       "    </tr>\n",
       "    <tr>\n",
       "      <th>total_area</th>\n",
       "      <td>0.653675</td>\n",
       "      <td>1.000000</td>\n",
       "      <td>0.760233</td>\n",
       "      <td>-0.220446</td>\n",
       "    </tr>\n",
       "    <tr>\n",
       "      <th>rooms</th>\n",
       "      <td>0.365209</td>\n",
       "      <td>0.760233</td>\n",
       "      <td>1.000000</td>\n",
       "      <td>-0.171025</td>\n",
       "    </tr>\n",
       "    <tr>\n",
       "      <th>city_centers_nearest</th>\n",
       "      <td>-0.201918</td>\n",
       "      <td>-0.220446</td>\n",
       "      <td>-0.171025</td>\n",
       "      <td>1.000000</td>\n",
       "    </tr>\n",
       "  </tbody>\n",
       "</table>\n",
       "</div>"
      ],
      "text/plain": [
       "                      last_price  total_area     rooms  city_centers_nearest\n",
       "last_price              1.000000    0.653675  0.365209             -0.201918\n",
       "total_area              0.653675    1.000000  0.760233             -0.220446\n",
       "rooms                   0.365209    0.760233  1.000000             -0.171025\n",
       "city_centers_nearest   -0.201918   -0.220446 -0.171025              1.000000"
      ]
     },
     "execution_count": 38,
     "metadata": {},
     "output_type": "execute_result"
    }
   ],
   "source": [
    "df[['last_price', 'total_area', 'rooms', 'city_centers_nearest']].corr()"
   ]
  },
  {
   "cell_type": "markdown",
   "metadata": {},
   "source": [
    "По таблице корреляции видно, что сильная связь есть только между общей площадью и количеством комнат. Поэтому нет сильной корреляции между ростом цены и площадью, количеством комнат, удалённостью от центра."
   ]
  },
  {
   "cell_type": "code",
   "execution_count": 39,
   "metadata": {
    "scrolled": false
   },
   "outputs": [
    {
     "data": {
      "image/png": "[encoded data removed]",
      "text/plain": [
       "<Figure size 432x288 with 1 Axes>"
      ]
     },
     "metadata": {
      "needs_background": "light"
     },
     "output_type": "display_data"
    },
    {
     "data": {
      "image/png": "[encoded data removed]",
      "text/plain": [
       "<Figure size 432x288 with 1 Axes>"
      ]
     },
     "metadata": {
      "needs_background": "light"
     },
     "output_type": "display_data"
    },
    {
     "data": {
      "image/png": "[encoded data removed]",
      "text/plain": [
       "<Figure size 432x288 with 1 Axes>"
      ]
     },
     "metadata": {
      "needs_background": "light"
     },
     "output_type": "display_data"
    }
   ],
   "source": [
    "df_in_iqr.pivot_table(index = 'total_area', values = 'last_price', aggfunc = 'mean').plot(style = 'o',  grid=True);\n",
    "plt.xlabel('Общая площадь, м^2'); \n",
    "plt.ylabel('Цена, 10^8'); \n",
    "df_in_iqr.pivot_table(index = 'rooms', values = 'last_price', aggfunc = 'mean').plot(style = 'o',  grid=True);\n",
    "plt.xlabel('Количество комнат'); \n",
    "plt.ylabel('Цена, 10^8'); \n",
    "df_in_iqr.pivot_table(index = 'city_centers_nearest', values = 'last_price', aggfunc = 'mean').plot(style = 'o',  grid=True);\n",
    "plt.xlabel('Удаленность от центра, м'); \n",
    "plt.ylabel('Цена, 10^8'); "
   ]
  },
  {
   "cell_type": "markdown",
   "metadata": {},
   "source": [
    "Построив графики по сводным таблицам, можно увидеть, что с ростом площади и количества комнат растет и цена, а также, чем дальше находится недвижимость, тем она дешевле, но не всегда недвижимость рядом с центром дорогая."
   ]
  },
  {
   "cell_type": "code",
   "execution_count": 40,
   "metadata": {
    "scrolled": true
   },
   "outputs": [
    {
     "data": {
      "image/png": "[encoded data removed]",
      "text/plain": [
       "<Figure size 432x288 with 1 Axes>"
      ]
     },
     "metadata": {
      "needs_background": "light"
     },
     "output_type": "display_data"
    }
   ],
   "source": [
    "df_in_iqr.pivot_table(index = 'floor_names', values = 'last_price', aggfunc = ['mean', 'median']).plot(style = 'o',  grid=True);\n",
    "plt.legend(['mean', 'median'])\n",
    "plt.xlabel('Тип этажа'); \n",
    "plt.ylabel('Цена, 10^6'); "
   ]
  },
  {
   "cell_type": "markdown",
   "metadata": {},
   "source": [
    "По графику видно, что для среднего и медианы самые низкие значения цены у первого этажа, а самые высокие значения у всех остальных этажей, кроме последних."
   ]
  },
  {
   "cell_type": "code",
   "execution_count": 41,
   "metadata": {
    "scrolled": false
   },
   "outputs": [
    {
     "data": {
      "image/png": "[encoded data removed]",
      "text/plain": [
       "<Figure size 864x432 with 1 Axes>"
      ]
     },
     "metadata": {
      "needs_background": "light"
     },
     "output_type": "display_data"
    }
   ],
   "source": [
    "bar_day = df_in_iqr.pivot_table(index = 'exposition_day_name', values = 'last_price', aggfunc = ['mean', 'median']).plot.bar(y=['mean', 'median'], figsize=(12, 6), label = ['mean', 'median'])\n",
    "plt.xlabel('Дни недели'); \n",
    "plt.ylabel('Цена, млн.'); "
   ]
  },
  {
   "cell_type": "markdown",
   "metadata": {},
   "source": [
    "Из графика видно только то, что среднее значение цены из объявления, выставленного в выходные дни меньше, чем в остальные."
   ]
  },
  {
   "cell_type": "code",
   "execution_count": 42,
   "metadata": {},
   "outputs": [
    {
     "data": {
      "image/png": "[encoded data removed]",
      "text/plain": [
       "<Figure size 864x432 with 1 Axes>"
      ]
     },
     "metadata": {
      "needs_background": "light"
     },
     "output_type": "display_data"
    }
   ],
   "source": [
    "bar_month = df_in_iqr.pivot_table(index = 'exposition_month_name', values = 'last_price', aggfunc = ['median', 'mean']).plot.bar(y=['mean', 'median'], figsize=(12, 6), label = ['mean', 'median'])\n",
    "plt.xlabel('Месяцы'); \n",
    "plt.ylabel('Цена, млн.'); "
   ]
  },
  {
   "cell_type": "markdown",
   "metadata": {},
   "source": [
    "Среднее значение цены в апреле и сентябре выше, чем в другие месяцы. Самые маленькие значения среднего и медианы - в июне."
   ]
  },
  {
   "cell_type": "code",
   "execution_count": 43,
   "metadata": {
    "scrolled": false
   },
   "outputs": [
    {
     "data": {
      "image/png": "[encoded data removed]",
      "text/plain": [
       "<Figure size 864x432 with 1 Axes>"
      ]
     },
     "metadata": {
      "needs_background": "light"
     },
     "output_type": "display_data"
    }
   ],
   "source": [
    "bar_year = df_in_iqr.pivot_table(index = 'exposition_year', values = 'last_price', aggfunc = ['median', 'mean']).plot.bar(y=['mean', 'median'], figsize=(12, 6), label = ['mean', 'median'])\n",
    "plt.xlabel('Годы'); \n",
    "plt.ylabel('Цена, млн.'); "
   ]
  },
  {
   "cell_type": "markdown",
   "metadata": {},
   "source": [
    "В 2019 году средняя и медианная цены резко увеличились по сравнению с прошлыми годами."
   ]
  },
  {
   "cell_type": "markdown",
   "metadata": {},
   "source": [
    " "
   ]
  },
  {
   "cell_type": "markdown",
   "metadata": {},
   "source": [
    "\n",
    "\n",
    "\n",
    "### 10 населённых пунктов с наибольшим числом объявлений <a class=\"anchor\" id=\"10-населённых-пунктов-с-наибольшим-числом-объявлений\"></a>\n",
    "\n"
   ]
  },
  {
   "cell_type": "code",
   "execution_count": 44,
   "metadata": {
    "scrolled": false
   },
   "outputs": [
    {
     "data": {
      "text/html": [
       "<div>\n",
       "<style scoped>\n",
       "    .dataframe tbody tr th:only-of-type {\n",
       "        vertical-align: middle;\n",
       "    }\n",
       "\n",
       "    .dataframe tbody tr th {\n",
       "        vertical-align: top;\n",
       "    }\n",
       "\n",
       "    .dataframe thead th {\n",
       "        text-align: right;\n",
       "    }\n",
       "</style>\n",
       "<table border=\"1\" class=\"dataframe\">\n",
       "  <thead>\n",
       "    <tr style=\"text-align: right;\">\n",
       "      <th></th>\n",
       "      <th>price_per_meter</th>\n",
       "    </tr>\n",
       "    <tr>\n",
       "      <th>locality_name</th>\n",
       "      <th></th>\n",
       "    </tr>\n",
       "  </thead>\n",
       "  <tbody>\n",
       "    <tr>\n",
       "      <th>Выборг</th>\n",
       "      <td>58268.799109</td>\n",
       "    </tr>\n",
       "    <tr>\n",
       "      <th>Всеволожск</th>\n",
       "      <td>67196.264239</td>\n",
       "    </tr>\n",
       "    <tr>\n",
       "      <th>Гатчина</th>\n",
       "      <td>68897.831055</td>\n",
       "    </tr>\n",
       "    <tr>\n",
       "      <th>Колпино</th>\n",
       "      <td>75214.811650</td>\n",
       "    </tr>\n",
       "    <tr>\n",
       "      <th>поселок Шушары</th>\n",
       "      <td>78675.273957</td>\n",
       "    </tr>\n",
       "    <tr>\n",
       "      <th>поселок Мурино</th>\n",
       "      <td>85941.434926</td>\n",
       "    </tr>\n",
       "    <tr>\n",
       "      <th>поселок Парголово</th>\n",
       "      <td>90091.670964</td>\n",
       "    </tr>\n",
       "    <tr>\n",
       "      <th>деревня Кудрово</th>\n",
       "      <td>92602.833271</td>\n",
       "    </tr>\n",
       "    <tr>\n",
       "      <th>Пушкин</th>\n",
       "      <td>100307.777783</td>\n",
       "    </tr>\n",
       "    <tr>\n",
       "      <th>Санкт-Петербург</th>\n",
       "      <td>105796.436666</td>\n",
       "    </tr>\n",
       "  </tbody>\n",
       "</table>\n",
       "</div>"
      ],
      "text/plain": [
       "                   price_per_meter\n",
       "locality_name                     \n",
       "Выборг                58268.799109\n",
       "Всеволожск            67196.264239\n",
       "Гатчина               68897.831055\n",
       "Колпино               75214.811650\n",
       "поселок Шушары        78675.273957\n",
       "поселок Мурино        85941.434926\n",
       "поселок Парголово     90091.670964\n",
       "деревня Кудрово       92602.833271\n",
       "Пушкин               100307.777783\n",
       "Санкт-Петербург      105796.436666"
      ]
     },
     "execution_count": 44,
     "metadata": {},
     "output_type": "execute_result"
    }
   ],
   "source": [
    "top10_locality = pd.DataFrame()\n",
    "for i in range(len(df_in_iqr['locality_name'].value_counts().head(10).index.tolist())):    \n",
    "    df1_ = pd.concat([top10_locality, df_in_iqr.loc[df['locality_name'].isin(df_in_iqr['locality_name'].value_counts().head(10).index.tolist())]])\n",
    "    top10_locality = df1_.copy()\n",
    "    \n",
    "top10_locality.pivot_table(index = 'locality_name', values = 'price_per_meter', aggfunc = 'mean').sort_values('price_per_meter')"
   ]
  },
  {
   "cell_type": "markdown",
   "metadata": {},
   "source": [
    "Из таблицы видно, что самая дорогая недвижимость находится в Санкт-Петербурге и Пушкине, самая дешевая - в Выборге, Всеволожске и  Гатчине."
   ]
  },
  {
   "cell_type": "markdown",
   "metadata": {},
   "source": [
    " "
   ]
  },
  {
   "cell_type": "markdown",
   "metadata": {},
   "source": [
    "### Расстояние до центра из области <a class=\"anchor\" id=\"Расстояние-до-центра-из-области\"></a>"
   ]
  },
  {
   "cell_type": "code",
   "execution_count": 45,
   "metadata": {
    "scrolled": false
   },
   "outputs": [
    {
     "data": {
      "image/png": "[encoded data removed]",
      "text/plain": [
       "<Figure size 864x432 with 1 Axes>"
      ]
     },
     "metadata": {
      "needs_background": "light"
     },
     "output_type": "display_data"
    }
   ],
   "source": [
    "df['city_centers_nearest_km'] = round(df['city_centers_nearest'] / 1000)\n",
    "\n",
    "df['city_centers_nearest_km'] = df['city_centers_nearest_km'].astype('int')\n",
    "\n",
    "iqr = df['days_exposition'].quantile([0.25,0.5,0.75])[0.75] - df['days_exposition'].quantile([0.25,0.5,0.75])[0.25]\n",
    "\n",
    "df_in_iqr = df[ (df['days_exposition'].quantile([0.25,0.5,0.75])[0.25] - 1.5 * iqr < df['days_exposition']) \\\n",
    "   & (df['days_exposition'] < df['days_exposition'].quantile([0.25,0.5,0.75])[0.75] + 1.5 * iqr)]\n",
    "\n",
    "iqr = df['last_price'].quantile([0.25,0.5,0.75])[0.75] - df['last_price'].quantile([0.25,0.5,0.75])[0.25]\n",
    "\n",
    "df_in_iqr = df_in_iqr[ (df_in_iqr['last_price'].quantile([0.25,0.5,0.75])[0.25] - 1.5 * iqr < df_in_iqr['last_price']) \\\n",
    "   & (df_in_iqr['last_price'] < df_in_iqr['last_price'].quantile([0.25,0.5,0.75])[0.75] + 1.5 * iqr)]\n",
    "\n",
    "iqr = df['total_area'].quantile([0.25,0.5,0.75])[0.75] - df['total_area'].quantile([0.25,0.5,0.75])[0.25]\n",
    "\n",
    "df_in_iqr = df_in_iqr[ (df_in_iqr['total_area'].quantile([0.25,0.5,0.75])[0.25] - 1.5 * iqr < df_in_iqr['total_area']) \\\n",
    "   & (df_in_iqr['total_area'] < df_in_iqr['total_area'].quantile([0.25,0.5,0.75])[0.75] + 1.5 * iqr)]\n",
    "\n",
    "iqr = df['rooms'].quantile([0.25,0.5,0.75])[0.75] - df['rooms'].quantile([0.25,0.5,0.75])[0.25]\n",
    "\n",
    "df_in_iqr = df_in_iqr[ (df_in_iqr['rooms'].quantile([0.25,0.5,0.75])[0.25] - 1.5 * iqr < df_in_iqr['rooms']) \\\n",
    "   & (df_in_iqr['rooms'] < df_in_iqr['rooms'].quantile([0.25,0.5,0.75])[0.75] + 1.5 * iqr)]\n",
    "\n",
    "\n",
    "bar_km = df_in_iqr.pivot_table(index = 'city_centers_nearest_km', values = 'last_price', aggfunc = ['mean', 'count']).plot.bar(y = 'mean', figsize=(12, 6), grid = True)\n",
    "plt.xlabel('Удаленность от центра, км'); \n",
    "plt.ylabel('Цена, 10^7'); "
   ]
  },
  {
   "cell_type": "markdown",
   "metadata": {},
   "source": [
    "Цена на графике начинает резко убывать на значении 9, то есть центральной зоной считается все в радиусе 9 км."
   ]
  },
  {
   "cell_type": "markdown",
   "metadata": {},
   "source": [
    " "
   ]
  },
  {
   "cell_type": "markdown",
   "metadata": {},
   "source": [
    "### Сегмент квартир в центре <a class=\"anchor\" id=\"Сегмент-квартир-в-центре\"></a>"
   ]
  },
  {
   "cell_type": "code",
   "execution_count": 46,
   "metadata": {
    "scrolled": false
   },
   "outputs": [
    {
     "data": {
      "image/png": "[encoded data removed]",
      "text/plain": [
       "<Figure size 432x288 with 1 Axes>"
      ]
     },
     "metadata": {
      "needs_background": "light"
     },
     "output_type": "display_data"
    }
   ],
   "source": [
    "df_center = df_in_iqr.query('city_centers_nearest_km < 10')\n",
    "df_center.plot(kind = 'hist', y = 'total_area', grid = True, bins = 50, range = (0, 120), title = 'Общая площадь');\n",
    "plt.xlabel('Площадь, м^2'); \n",
    "plt.ylabel('Частота'); \n",
    "plt.show();"
   ]
  },
  {
   "cell_type": "code",
   "execution_count": 47,
   "metadata": {},
   "outputs": [
    {
     "data": {
      "image/png": "[encoded data removed]",
      "text/plain": [
       "<Figure size 432x288 with 1 Axes>"
      ]
     },
     "metadata": {
      "needs_background": "light"
     },
     "output_type": "display_data"
    }
   ],
   "source": [
    "df_center.plot(kind = 'hist', y = 'last_price', grid = True, bins = 50, range = (0, 1.5e7), title = 'Цена');\n",
    "plt.xlabel('Цена, 10^7'); \n",
    "plt.ylabel('Частота'); \n",
    "plt.show();"
   ]
  },
  {
   "cell_type": "code",
   "execution_count": 48,
   "metadata": {},
   "outputs": [
    {
     "data": {
      "image/png": "[encoded data removed]",
      "text/plain": [
       "<Figure size 432x288 with 1 Axes>"
      ]
     },
     "metadata": {
      "needs_background": "light"
     },
     "output_type": "display_data"
    }
   ],
   "source": [
    "df_center.plot(kind = 'hist', y = 'rooms', grid = True, bins = 6, range = (0, 6), title = 'Комнаты');\n",
    "plt.xlabel('Количество комнат'); \n",
    "plt.ylabel('Частота'); \n",
    "plt.show();"
   ]
  },
  {
   "cell_type": "code",
   "execution_count": 49,
   "metadata": {
    "scrolled": true
   },
   "outputs": [
    {
     "data": {
      "image/png": "[encoded data removed]",
      "text/plain": [
       "<Figure size 432x288 with 1 Axes>"
      ]
     },
     "metadata": {
      "needs_background": "light"
     },
     "output_type": "display_data"
    }
   ],
   "source": [
    "df_center.plot(kind = 'hist', y = 'ceiling_height', grid = True, bins = 20, range = (2.5, 4), title = 'Высота потолков');\n",
    "plt.xlabel('Высота, м'); \n",
    "plt.ylabel('Частота'); \n",
    "plt.show();"
   ]
  },
  {
   "cell_type": "markdown",
   "metadata": {},
   "source": [
    "Графики площади, цены, числа комнат и высоты потолков практически идентичны, и во всей таблице, но нет правой части, которая содержала выбросы, поэтому распределение цен больше похоже на нормальное. Единственное существенное отличие - в центре намного меньше однокомнатных квартир."
   ]
  },
  {
   "cell_type": "markdown",
   "metadata": {},
   "source": [
    " "
   ]
  },
  {
   "cell_type": "code",
   "execution_count": 50,
   "metadata": {
    "scrolled": false
   },
   "outputs": [
    {
     "data": {
      "text/html": [
       "<div>\n",
       "<style scoped>\n",
       "    .dataframe tbody tr th:only-of-type {\n",
       "        vertical-align: middle;\n",
       "    }\n",
       "\n",
       "    .dataframe tbody tr th {\n",
       "        vertical-align: top;\n",
       "    }\n",
       "\n",
       "    .dataframe thead th {\n",
       "        text-align: right;\n",
       "    }\n",
       "</style>\n",
       "<table border=\"1\" class=\"dataframe\">\n",
       "  <thead>\n",
       "    <tr style=\"text-align: right;\">\n",
       "      <th></th>\n",
       "      <th>last_price</th>\n",
       "      <th>total_area</th>\n",
       "      <th>rooms</th>\n",
       "      <th>city_centers_nearest</th>\n",
       "    </tr>\n",
       "  </thead>\n",
       "  <tbody>\n",
       "    <tr>\n",
       "      <th>last_price</th>\n",
       "      <td>1.000000</td>\n",
       "      <td>0.738239</td>\n",
       "      <td>0.471459</td>\n",
       "      <td>-0.288658</td>\n",
       "    </tr>\n",
       "    <tr>\n",
       "      <th>total_area</th>\n",
       "      <td>0.738239</td>\n",
       "      <td>1.000000</td>\n",
       "      <td>0.792662</td>\n",
       "      <td>-0.251594</td>\n",
       "    </tr>\n",
       "    <tr>\n",
       "      <th>rooms</th>\n",
       "      <td>0.471459</td>\n",
       "      <td>0.792662</td>\n",
       "      <td>1.000000</td>\n",
       "      <td>-0.199542</td>\n",
       "    </tr>\n",
       "    <tr>\n",
       "      <th>city_centers_nearest</th>\n",
       "      <td>-0.288658</td>\n",
       "      <td>-0.251594</td>\n",
       "      <td>-0.199542</td>\n",
       "      <td>1.000000</td>\n",
       "    </tr>\n",
       "  </tbody>\n",
       "</table>\n",
       "</div>"
      ],
      "text/plain": [
       "                      last_price  total_area     rooms  city_centers_nearest\n",
       "last_price              1.000000    0.738239  0.471459             -0.288658\n",
       "total_area              0.738239    1.000000  0.792662             -0.251594\n",
       "rooms                   0.471459    0.792662  1.000000             -0.199542\n",
       "city_centers_nearest   -0.288658   -0.251594 -0.199542              1.000000"
      ]
     },
     "execution_count": 50,
     "metadata": {},
     "output_type": "execute_result"
    }
   ],
   "source": [
    "df_center[['last_price', 'total_area', 'rooms', 'city_centers_nearest']].corr()"
   ]
  },
  {
   "cell_type": "markdown",
   "metadata": {},
   "source": [
    "Корреляционная таблица сегмента очень похожа на таблицу для всех данных."
   ]
  },
  {
   "cell_type": "code",
   "execution_count": 51,
   "metadata": {
    "scrolled": false
   },
   "outputs": [
    {
     "data": {
      "image/png": "[encoded data removed]",
      "text/plain": [
       "<Figure size 432x288 with 1 Axes>"
      ]
     },
     "metadata": {
      "needs_background": "light"
     },
     "output_type": "display_data"
    },
    {
     "data": {
      "image/png": "[encoded data removed]",
      "text/plain": [
       "<Figure size 432x288 with 1 Axes>"
      ]
     },
     "metadata": {
      "needs_background": "light"
     },
     "output_type": "display_data"
    },
    {
     "data": {
      "image/png": "[encoded data removed]",
      "text/plain": [
       "<Figure size 432x288 with 1 Axes>"
      ]
     },
     "metadata": {
      "needs_background": "light"
     },
     "output_type": "display_data"
    }
   ],
   "source": [
    "df_center.pivot_table(index = 'total_area', values = 'last_price', aggfunc = 'mean').plot(style = 'o',  grid=True, alpha = 0.3);\n",
    "plt.xlabel('Общая площадь'); \n",
    "plt.ylabel('Цена, 10^7'); \n",
    "df_center.pivot_table(index = 'rooms', values = 'last_price', aggfunc = 'mean').plot(style = 'o',  grid=True);\n",
    "plt.xlabel('Количество комнат'); \n",
    "plt.ylabel('Цена, 10^6'); \n",
    "df_center.pivot_table(index = 'city_centers_nearest', values = 'last_price', aggfunc = 'mean').plot(style = 'o',  grid=True, alpha = 0.3);\n",
    "plt.xlabel('Удаленность от центра, м'); \n",
    "plt.ylabel('Цена, 10^7'); "
   ]
  },
  {
   "cell_type": "markdown",
   "metadata": {},
   "source": [
    "Все графики очень похожи, кроме последнего: теперь удаленность от центра не так сильно влияет на цену, так как вся недвижимость находится в пределах центральной зоны."
   ]
  },
  {
   "cell_type": "code",
   "execution_count": 52,
   "metadata": {
    "scrolled": true
   },
   "outputs": [
    {
     "data": {
      "image/png": "[encoded data removed]",
      "text/plain": [
       "<Figure size 432x288 with 1 Axes>"
      ]
     },
     "metadata": {
      "needs_background": "light"
     },
     "output_type": "display_data"
    }
   ],
   "source": [
    "df_in_iqr.pivot_table(index = 'floor_names', values = 'last_price', aggfunc = ['mean', 'median']).plot(style = 'o',  grid=True);\n",
    "plt.legend(['mean', 'median'])\n",
    "plt.xlabel('Тип этажа'); \n",
    "plt.ylabel('Цена, 10^8'); "
   ]
  },
  {
   "cell_type": "markdown",
   "metadata": {},
   "source": [
    "Как и в общей таблице, первые этажи стоят меньше всего."
   ]
  },
  {
   "cell_type": "code",
   "execution_count": 53,
   "metadata": {
    "scrolled": false
   },
   "outputs": [
    {
     "data": {
      "image/png": "[encoded data removed]",
      "text/plain": [
       "<Figure size 864x432 with 1 Axes>"
      ]
     },
     "metadata": {
      "needs_background": "light"
     },
     "output_type": "display_data"
    }
   ],
   "source": [
    "bar_day_center = df_center.pivot_table(index = 'exposition_day_name', values = 'last_price', aggfunc = ['mean', 'median']).plot.bar(y=['mean', 'median'], figsize=(12, 6), label = ['mean', 'median'])\n",
    "plt.xlabel('Дни недели'); \n",
    "plt.ylabel('Цена, 10^7'); "
   ]
  },
  {
   "cell_type": "markdown",
   "metadata": {},
   "source": [
    "Среднее значение цены из объявления, выставленного в выходные больше, чем в остальные дни."
   ]
  },
  {
   "cell_type": "code",
   "execution_count": 54,
   "metadata": {},
   "outputs": [
    {
     "data": {
      "image/png": "[encoded data removed]",
      "text/plain": [
       "<Figure size 864x432 with 1 Axes>"
      ]
     },
     "metadata": {
      "needs_background": "light"
     },
     "output_type": "display_data"
    }
   ],
   "source": [
    "bar_month_center = df_center.pivot_table(index = 'exposition_month_name', values = 'last_price', aggfunc = ['median', 'mean']).plot.bar(y=['mean', 'median'], figsize=(12, 6), label = ['mean', 'median'])\n",
    "plt.xlabel('Месяцы'); \n",
    "plt.ylabel('Цена, 10^6'); "
   ]
  },
  {
   "cell_type": "markdown",
   "metadata": {},
   "source": [
    "Среднее значение цены в августе и сентябре выше, чем в другие месяцы."
   ]
  },
  {
   "cell_type": "code",
   "execution_count": 55,
   "metadata": {
    "scrolled": false
   },
   "outputs": [
    {
     "data": {
      "image/png": "[encoded data removed]",
      "text/plain": [
       "<Figure size 864x432 with 1 Axes>"
      ]
     },
     "metadata": {
      "needs_background": "light"
     },
     "output_type": "display_data"
    }
   ],
   "source": [
    "bar_year_center = df_center.pivot_table(index = 'exposition_year', values = 'last_price', aggfunc = ['median', 'mean']).plot.bar(y=['mean', 'median'], figsize=(12, 6), label = ['mean', 'median'])\n",
    "plt.xlabel('Годы'); \n",
    "plt.ylabel('Цена, 10^7'); "
   ]
  },
  {
   "cell_type": "markdown",
   "metadata": {},
   "source": [
    "С 2015 по 2019 среднее и медианное значения цены постепенно росло."
   ]
  },
  {
   "cell_type": "markdown",
   "metadata": {},
   "source": [
    "### Вывод <a class=\"anchor\" id=\"Вывод-4\"></a>"
   ]
  },
  {
   "cell_type": "markdown",
   "metadata": {},
   "source": [
    "В исследовательской части анализа можно сделать следующие выводы: \n",
    "* основные гистограммы (площадь, цена, и т.д. ) имеют вид распределения Пуассона, то есть высокие значения в начале, а после определенного значения идут на спад.\n",
    "* квартиры чаще всего продаются за 1-3 месяца, а большинство из них - менее, чем за 434 дня.\n",
    "* Больше всего на стоимость влияет площадь и количество комнат, немного влияет удаленность от центра. Недвижимость на первых этажах всегда дешевле, чем на остальных. Также по выходным, в апреле и сентябре, в 2019 году средняя цена выше, чем в остальных случаях.\n",
    "* Самая дорогая недвижимость в Санкт-Петербурге, самая дешевая - в Выборге.\n",
    "* Центральная зона считается в пределах 9 км от центра. Факторы, влияющие на цену всех квартир в этой зоне практически не отличаются от общих выводов по всему городу, за исключением фактора удаленности от центра, так как все квартиры и так находятся в центре.\n"
   ]
  },
  {
   "cell_type": "markdown",
   "metadata": {},
   "source": [
    "## Общий вывод <a class=\"anchor\" id=\"Общий-вывод\"></a>"
   ]
  },
  {
   "cell_type": "markdown",
   "metadata": {},
   "source": [
    "* Предварительный анализ таблицы, показал наличие большого количества пропусков. Используя различные методы замены пропусков, получилось устранить большинство из них. Также в некоторых столбцах необходимо было поменять тип данных для удобства.\n",
    "* Для дальнейшего исследовательского анализа, потребовалось добавить в таблицу новые столбцы с дополняющими значениями.\n",
    "* В процессе исследовательского анализа данных удалось выяснить, какие факторы влияют на цену недвижимости, а какие - нет, когда лучше идут продажи и где находятся самая дорогая и дешевая недвижимости."
   ]
  }
 ],
 "metadata": {
  "ExecuteTimeLog": [
   {
    "duration": 1506,
    "start_time": "2021-07-01T10:56:23.645Z"
   },
   {
    "duration": 214,
    "start_time": "2021-07-01T10:56:35.770Z"
   },
   {
    "duration": 192,
    "start_time": "2021-07-01T10:56:54.944Z"
   },
   {
    "duration": 207,
    "start_time": "2021-07-01T10:57:02.524Z"
   },
   {
    "duration": 11,
    "start_time": "2021-07-01T10:57:15.787Z"
   },
   {
    "duration": 252,
    "start_time": "2021-07-01T11:05:36.146Z"
   },
   {
    "duration": 196,
    "start_time": "2021-07-01T11:18:25.078Z"
   },
   {
    "duration": 36,
    "start_time": "2021-07-01T11:19:12.297Z"
   },
   {
    "duration": 184,
    "start_time": "2021-07-01T11:19:24.878Z"
   },
   {
    "duration": 180,
    "start_time": "2021-07-01T11:19:35.881Z"
   },
   {
    "duration": 195,
    "start_time": "2021-07-01T11:19:47.999Z"
   },
   {
    "duration": 178,
    "start_time": "2021-07-01T11:19:54.628Z"
   },
   {
    "duration": 171,
    "start_time": "2021-07-01T11:20:03.484Z"
   },
   {
    "duration": 181,
    "start_time": "2021-07-01T11:21:47.046Z"
   },
   {
    "duration": 210,
    "start_time": "2021-07-01T11:21:54.486Z"
   },
   {
    "duration": 10,
    "start_time": "2021-07-01T11:21:54.698Z"
   },
   {
    "duration": 221,
    "start_time": "2021-07-01T11:21:54.710Z"
   },
   {
    "duration": 341,
    "start_time": "2021-07-01T11:22:07.215Z"
   },
   {
    "duration": 195,
    "start_time": "2021-07-01T11:24:21.886Z"
   },
   {
    "duration": 192,
    "start_time": "2021-07-01T11:26:03.167Z"
   },
   {
    "duration": 178,
    "start_time": "2021-07-01T11:27:19.319Z"
   },
   {
    "duration": 197,
    "start_time": "2021-07-01T11:27:24.632Z"
   },
   {
    "duration": 265,
    "start_time": "2021-07-01T11:27:33.386Z"
   },
   {
    "duration": 10,
    "start_time": "2021-07-01T11:27:37.192Z"
   },
   {
    "duration": 205,
    "start_time": "2021-07-01T11:27:45.138Z"
   },
   {
    "duration": 3,
    "start_time": "2021-07-01T11:27:47.805Z"
   },
   {
    "duration": 4,
    "start_time": "2021-07-01T11:28:03.112Z"
   },
   {
    "duration": 200,
    "start_time": "2021-07-01T11:28:09.813Z"
   },
   {
    "duration": 185,
    "start_time": "2021-07-01T11:28:56.676Z"
   },
   {
    "duration": 451,
    "start_time": "2021-07-01T11:29:14.304Z"
   },
   {
    "duration": 182,
    "start_time": "2021-07-01T11:29:18.825Z"
   },
   {
    "duration": 18,
    "start_time": "2021-07-01T11:29:48.362Z"
   },
   {
    "duration": 35,
    "start_time": "2021-07-01T11:29:57.073Z"
   },
   {
    "duration": 197,
    "start_time": "2021-07-01T11:30:15.785Z"
   },
   {
    "duration": 9,
    "start_time": "2021-07-01T11:30:15.984Z"
   },
   {
    "duration": 33,
    "start_time": "2021-07-01T11:30:15.995Z"
   },
   {
    "duration": 35,
    "start_time": "2021-07-01T11:30:55.905Z"
   },
   {
    "duration": 10,
    "start_time": "2021-07-01T11:31:10.864Z"
   },
   {
    "duration": 30,
    "start_time": "2021-07-01T11:31:13.799Z"
   },
   {
    "duration": 6,
    "start_time": "2021-07-01T11:31:19.557Z"
   },
   {
    "duration": 6,
    "start_time": "2021-07-01T11:35:04.710Z"
   },
   {
    "duration": 5,
    "start_time": "2021-07-01T11:35:40.500Z"
   },
   {
    "duration": 4,
    "start_time": "2021-07-01T11:35:43.876Z"
   },
   {
    "duration": 5,
    "start_time": "2021-07-01T11:35:47.069Z"
   },
   {
    "duration": 5,
    "start_time": "2021-07-01T11:35:50.329Z"
   },
   {
    "duration": 7,
    "start_time": "2021-07-01T11:36:03.772Z"
   },
   {
    "duration": 11,
    "start_time": "2021-07-01T11:36:44.305Z"
   },
   {
    "duration": 7,
    "start_time": "2021-07-01T11:37:53.870Z"
   },
   {
    "duration": 290,
    "start_time": "2021-07-01T11:38:10.578Z"
   },
   {
    "duration": 178,
    "start_time": "2021-07-01T11:38:13.984Z"
   },
   {
    "duration": 178,
    "start_time": "2021-07-01T11:38:53.769Z"
   },
   {
    "duration": 9,
    "start_time": "2021-07-01T11:39:06.715Z"
   },
   {
    "duration": 8,
    "start_time": "2021-07-01T11:39:15.787Z"
   },
   {
    "duration": 8,
    "start_time": "2021-07-01T11:39:23.073Z"
   },
   {
    "duration": 11,
    "start_time": "2021-07-01T11:39:33.974Z"
   },
   {
    "duration": 6,
    "start_time": "2021-07-01T11:40:33.700Z"
   },
   {
    "duration": 15,
    "start_time": "2021-07-01T11:40:58.293Z"
   },
   {
    "duration": 16,
    "start_time": "2021-07-01T11:41:29.611Z"
   },
   {
    "duration": 8,
    "start_time": "2021-07-01T11:41:59.020Z"
   },
   {
    "duration": 4,
    "start_time": "2021-07-01T11:42:12.503Z"
   },
   {
    "duration": 5,
    "start_time": "2021-07-01T11:42:15.756Z"
   },
   {
    "duration": 180,
    "start_time": "2021-07-01T11:42:18.538Z"
   },
   {
    "duration": 5,
    "start_time": "2021-07-01T11:42:23.391Z"
   },
   {
    "duration": 8,
    "start_time": "2021-07-01T11:42:52.394Z"
   },
   {
    "duration": 35,
    "start_time": "2021-07-01T11:43:56.678Z"
   },
   {
    "duration": 10,
    "start_time": "2021-07-01T11:44:06.022Z"
   },
   {
    "duration": 33,
    "start_time": "2021-07-01T11:44:21.434Z"
   },
   {
    "duration": 31,
    "start_time": "2021-07-01T11:45:42.989Z"
   },
   {
    "duration": 9,
    "start_time": "2021-07-01T11:45:52.336Z"
   },
   {
    "duration": 8,
    "start_time": "2021-07-01T11:45:57.517Z"
   },
   {
    "duration": 8,
    "start_time": "2021-07-01T11:46:26.766Z"
   },
   {
    "duration": 8,
    "start_time": "2021-07-01T11:46:30.238Z"
   },
   {
    "duration": 7,
    "start_time": "2021-07-01T11:46:40.762Z"
   },
   {
    "duration": 6,
    "start_time": "2021-07-01T11:49:24.569Z"
   },
   {
    "duration": 7,
    "start_time": "2021-07-01T11:49:38.028Z"
   },
   {
    "duration": 6,
    "start_time": "2021-07-01T11:49:42.888Z"
   },
   {
    "duration": 6,
    "start_time": "2021-07-01T11:49:59.637Z"
   },
   {
    "duration": 6,
    "start_time": "2021-07-01T11:50:04.007Z"
   },
   {
    "duration": 6,
    "start_time": "2021-07-01T11:50:06.945Z"
   },
   {
    "duration": 6,
    "start_time": "2021-07-01T11:50:14.947Z"
   },
   {
    "duration": 6,
    "start_time": "2021-07-01T11:50:36.828Z"
   },
   {
    "duration": 6,
    "start_time": "2021-07-01T11:50:42.400Z"
   },
   {
    "duration": 6,
    "start_time": "2021-07-01T11:50:53.818Z"
   },
   {
    "duration": 6,
    "start_time": "2021-07-01T11:50:56.260Z"
   },
   {
    "duration": 6,
    "start_time": "2021-07-01T11:51:00.524Z"
   },
   {
    "duration": 5,
    "start_time": "2021-07-01T11:51:03.202Z"
   },
   {
    "duration": 6,
    "start_time": "2021-07-01T11:51:06.837Z"
   },
   {
    "duration": 6,
    "start_time": "2021-07-01T11:51:41.414Z"
   },
   {
    "duration": 11,
    "start_time": "2021-07-01T11:52:46.620Z"
   },
   {
    "duration": 18,
    "start_time": "2021-07-01T11:53:51.821Z"
   },
   {
    "duration": 15,
    "start_time": "2021-07-01T11:54:10.842Z"
   },
   {
    "duration": 14,
    "start_time": "2021-07-01T11:54:17.188Z"
   },
   {
    "duration": 57,
    "start_time": "2021-07-01T11:54:26.058Z"
   },
   {
    "duration": 19,
    "start_time": "2021-07-01T11:54:29.137Z"
   },
   {
    "duration": 20,
    "start_time": "2021-07-01T11:54:56.034Z"
   },
   {
    "duration": 66,
    "start_time": "2021-07-01T11:55:20.242Z"
   },
   {
    "duration": 14,
    "start_time": "2021-07-01T11:55:25.930Z"
   },
   {
    "duration": 67,
    "start_time": "2021-07-01T11:56:11.576Z"
   },
   {
    "duration": 15,
    "start_time": "2021-07-01T11:56:14.409Z"
   },
   {
    "duration": 13,
    "start_time": "2021-07-01T11:57:17.440Z"
   },
   {
    "duration": 55,
    "start_time": "2021-07-01T11:57:34.092Z"
   },
   {
    "duration": 14,
    "start_time": "2021-07-01T11:57:39.978Z"
   },
   {
    "duration": 12,
    "start_time": "2021-07-01T11:57:53.766Z"
   },
   {
    "duration": 13,
    "start_time": "2021-07-01T11:57:58.315Z"
   },
   {
    "duration": 12,
    "start_time": "2021-07-01T11:58:22.892Z"
   },
   {
    "duration": 12,
    "start_time": "2021-07-01T11:58:56.316Z"
   },
   {
    "duration": 10,
    "start_time": "2021-07-01T11:59:45.783Z"
   },
   {
    "duration": 11,
    "start_time": "2021-07-01T11:59:52.965Z"
   },
   {
    "duration": 10,
    "start_time": "2021-07-01T11:59:58.050Z"
   },
   {
    "duration": 12,
    "start_time": "2021-07-01T12:00:16.694Z"
   },
   {
    "duration": 10,
    "start_time": "2021-07-01T12:00:39.196Z"
   },
   {
    "duration": 10,
    "start_time": "2021-07-01T12:01:14.470Z"
   },
   {
    "duration": 11,
    "start_time": "2021-07-01T12:01:26.613Z"
   },
   {
    "duration": 9,
    "start_time": "2021-07-01T12:01:37.004Z"
   },
   {
    "duration": 10,
    "start_time": "2021-07-01T12:01:41.882Z"
   },
   {
    "duration": 9,
    "start_time": "2021-07-01T12:02:20.300Z"
   },
   {
    "duration": 9,
    "start_time": "2021-07-01T12:03:34.055Z"
   },
   {
    "duration": 9,
    "start_time": "2021-07-01T12:04:04.117Z"
   },
   {
    "duration": 6,
    "start_time": "2021-07-01T12:04:08.596Z"
   },
   {
    "duration": 10,
    "start_time": "2021-07-01T12:04:10.344Z"
   },
   {
    "duration": 8,
    "start_time": "2021-07-01T12:04:14.943Z"
   },
   {
    "duration": 29,
    "start_time": "2021-07-01T12:05:24.594Z"
   },
   {
    "duration": 186,
    "start_time": "2021-07-01T12:06:32.824Z"
   },
   {
    "duration": 6,
    "start_time": "2021-07-01T12:06:37.929Z"
   },
   {
    "duration": 29,
    "start_time": "2021-07-01T12:06:42.398Z"
   },
   {
    "duration": 51,
    "start_time": "2021-07-01T12:06:54.670Z"
   },
   {
    "duration": 28,
    "start_time": "2021-07-01T12:07:11.344Z"
   },
   {
    "duration": 33,
    "start_time": "2021-07-01T12:07:20.485Z"
   },
   {
    "duration": 198,
    "start_time": "2021-07-01T12:07:24.615Z"
   },
   {
    "duration": 10,
    "start_time": "2021-07-01T12:07:24.815Z"
   },
   {
    "duration": 8,
    "start_time": "2021-07-01T12:07:24.827Z"
   },
   {
    "duration": 9,
    "start_time": "2021-07-01T12:07:24.837Z"
   },
   {
    "duration": 62,
    "start_time": "2021-07-01T12:07:24.847Z"
   },
   {
    "duration": 33,
    "start_time": "2021-07-01T12:08:14.205Z"
   },
   {
    "duration": 31,
    "start_time": "2021-07-01T12:08:57.978Z"
   },
   {
    "duration": 9,
    "start_time": "2021-07-01T12:09:03.219Z"
   },
   {
    "duration": 34,
    "start_time": "2021-07-01T12:09:07.367Z"
   },
   {
    "duration": 10,
    "start_time": "2021-07-01T12:09:22.497Z"
   },
   {
    "duration": 2312,
    "start_time": "2021-07-01T12:09:28.879Z"
   },
   {
    "duration": 2664,
    "start_time": "2021-07-01T12:09:36.435Z"
   },
   {
    "duration": 2261,
    "start_time": "2021-07-01T12:09:53.745Z"
   },
   {
    "duration": 64,
    "start_time": "2021-07-01T12:12:25.790Z"
   },
   {
    "duration": 60,
    "start_time": "2021-07-01T12:12:44.957Z"
   },
   {
    "duration": 64,
    "start_time": "2021-07-01T12:12:57.608Z"
   },
   {
    "duration": 2232,
    "start_time": "2021-07-01T12:16:24.041Z"
   },
   {
    "duration": 2910,
    "start_time": "2021-07-01T12:16:38.350Z"
   },
   {
    "duration": 2304,
    "start_time": "2021-07-01T12:16:56.815Z"
   },
   {
    "duration": 2330,
    "start_time": "2021-07-01T12:17:28.467Z"
   },
   {
    "duration": 2321,
    "start_time": "2021-07-01T12:17:34.174Z"
   },
   {
    "duration": 57,
    "start_time": "2021-07-01T12:17:42.870Z"
   },
   {
    "duration": 2344,
    "start_time": "2021-07-01T12:17:46.051Z"
   },
   {
    "duration": 200,
    "start_time": "2021-07-01T12:17:54.906Z"
   },
   {
    "duration": 10,
    "start_time": "2021-07-01T12:17:55.109Z"
   },
   {
    "duration": 20,
    "start_time": "2021-07-01T12:17:55.121Z"
   },
   {
    "duration": 10,
    "start_time": "2021-07-01T12:17:55.143Z"
   },
   {
    "duration": 6,
    "start_time": "2021-07-01T12:17:55.155Z"
   },
   {
    "duration": 30,
    "start_time": "2021-07-01T12:18:03.738Z"
   },
   {
    "duration": 11,
    "start_time": "2021-07-01T12:18:41.631Z"
   },
   {
    "duration": 12,
    "start_time": "2021-07-01T12:18:45.889Z"
   },
   {
    "duration": 77,
    "start_time": "2021-07-01T12:19:12.244Z"
   },
   {
    "duration": 17,
    "start_time": "2021-07-01T12:19:24.552Z"
   },
   {
    "duration": 190,
    "start_time": "2021-07-01T12:20:23.723Z"
   },
   {
    "duration": 187,
    "start_time": "2021-07-01T12:20:34.082Z"
   },
   {
    "duration": 235,
    "start_time": "2021-07-01T12:21:11.655Z"
   },
   {
    "duration": 17,
    "start_time": "2021-07-01T12:21:15.316Z"
   },
   {
    "duration": 238,
    "start_time": "2021-07-01T12:21:30.790Z"
   },
   {
    "duration": 11,
    "start_time": "2021-07-01T12:21:31.030Z"
   },
   {
    "duration": 9,
    "start_time": "2021-07-01T12:21:31.044Z"
   },
   {
    "duration": 33,
    "start_time": "2021-07-01T12:21:31.055Z"
   },
   {
    "duration": 32,
    "start_time": "2021-07-01T12:21:31.090Z"
   },
   {
    "duration": 16,
    "start_time": "2021-07-01T12:21:58.438Z"
   },
   {
    "duration": 15,
    "start_time": "2021-07-01T12:22:04.244Z"
   },
   {
    "duration": 190,
    "start_time": "2021-07-01T12:22:08.777Z"
   },
   {
    "duration": 11,
    "start_time": "2021-07-01T12:22:08.968Z"
   },
   {
    "duration": 10,
    "start_time": "2021-07-01T12:22:08.981Z"
   },
   {
    "duration": 18,
    "start_time": "2021-07-01T12:22:08.993Z"
   },
   {
    "duration": 28,
    "start_time": "2021-07-01T12:22:09.012Z"
   },
   {
    "duration": 37,
    "start_time": "2021-07-01T12:22:40.834Z"
   },
   {
    "duration": 37,
    "start_time": "2021-07-01T12:22:59.939Z"
   },
   {
    "duration": 18,
    "start_time": "2021-07-01T12:23:03.169Z"
   },
   {
    "duration": 220,
    "start_time": "2021-07-01T12:23:06.337Z"
   },
   {
    "duration": 9,
    "start_time": "2021-07-01T12:23:06.559Z"
   },
   {
    "duration": 17,
    "start_time": "2021-07-01T12:23:06.570Z"
   },
   {
    "duration": 19,
    "start_time": "2021-07-01T12:23:06.589Z"
   },
   {
    "duration": 23,
    "start_time": "2021-07-01T12:23:06.611Z"
   },
   {
    "duration": 18,
    "start_time": "2021-07-01T12:23:13.893Z"
   },
   {
    "duration": 20,
    "start_time": "2021-07-01T12:25:24.510Z"
   },
   {
    "duration": 17,
    "start_time": "2021-07-01T12:25:38.667Z"
   },
   {
    "duration": 15,
    "start_time": "2021-07-01T12:25:51.261Z"
   },
   {
    "duration": 16,
    "start_time": "2021-07-01T12:25:56.142Z"
   },
   {
    "duration": 16,
    "start_time": "2021-07-01T12:25:59.676Z"
   },
   {
    "duration": 16,
    "start_time": "2021-07-01T12:26:06.220Z"
   },
   {
    "duration": 12,
    "start_time": "2021-07-01T12:26:44.156Z"
   },
   {
    "duration": 10,
    "start_time": "2021-07-01T12:26:51.220Z"
   },
   {
    "duration": 9,
    "start_time": "2021-07-01T12:26:53.557Z"
   },
   {
    "duration": 16,
    "start_time": "2021-07-01T13:32:20.888Z"
   },
   {
    "duration": 16,
    "start_time": "2021-07-01T13:32:29.795Z"
   },
   {
    "duration": 9,
    "start_time": "2021-07-01T13:32:34.369Z"
   },
   {
    "duration": 10,
    "start_time": "2021-07-01T13:33:51.643Z"
   },
   {
    "duration": 6,
    "start_time": "2021-07-01T13:36:16.008Z"
   },
   {
    "duration": 29,
    "start_time": "2021-07-01T13:36:17.792Z"
   },
   {
    "duration": 30,
    "start_time": "2021-07-01T13:37:04.530Z"
   },
   {
    "duration": 187,
    "start_time": "2021-07-01T13:37:08.971Z"
   },
   {
    "duration": 172,
    "start_time": "2021-07-01T13:37:16.611Z"
   },
   {
    "duration": 6,
    "start_time": "2021-07-01T13:38:01.646Z"
   },
   {
    "duration": 29,
    "start_time": "2021-07-01T13:38:03.507Z"
   },
   {
    "duration": 200,
    "start_time": "2021-07-01T13:38:07.873Z"
   },
   {
    "duration": 9,
    "start_time": "2021-07-01T13:38:08.075Z"
   },
   {
    "duration": 7,
    "start_time": "2021-07-01T13:38:08.086Z"
   },
   {
    "duration": 8,
    "start_time": "2021-07-01T13:38:08.095Z"
   },
   {
    "duration": 28,
    "start_time": "2021-07-01T13:38:08.104Z"
   },
   {
    "duration": 7,
    "start_time": "2021-07-01T13:38:32.557Z"
   },
   {
    "duration": 5,
    "start_time": "2021-07-01T13:38:48.062Z"
   },
   {
    "duration": 196,
    "start_time": "2021-07-01T13:38:51.174Z"
   },
   {
    "duration": 9,
    "start_time": "2021-07-01T13:38:51.372Z"
   },
   {
    "duration": 8,
    "start_time": "2021-07-01T13:38:51.383Z"
   },
   {
    "duration": 4,
    "start_time": "2021-07-01T13:38:51.392Z"
   },
   {
    "duration": 10,
    "start_time": "2021-07-01T13:38:51.398Z"
   },
   {
    "duration": 6,
    "start_time": "2021-07-01T13:38:51.409Z"
   },
   {
    "duration": 6,
    "start_time": "2021-07-01T13:40:05.273Z"
   },
   {
    "duration": 19,
    "start_time": "2021-07-01T13:40:12.166Z"
   },
   {
    "duration": 6,
    "start_time": "2021-07-01T13:41:29.255Z"
   },
   {
    "duration": 29,
    "start_time": "2021-07-01T13:41:33.583Z"
   },
   {
    "duration": 31,
    "start_time": "2021-07-01T13:51:31.838Z"
   },
   {
    "duration": -181,
    "start_time": "2021-07-01T13:54:08.851Z"
   },
   {
    "duration": 4991,
    "start_time": "2021-07-01T13:54:19.193Z"
   },
   {
    "duration": 1737,
    "start_time": "2021-07-01T13:55:14.432Z"
   },
   {
    "duration": 11,
    "start_time": "2021-07-01T13:56:12.207Z"
   },
   {
    "duration": 10,
    "start_time": "2021-07-01T13:57:15.823Z"
   },
   {
    "duration": 11,
    "start_time": "2021-07-01T13:57:27.850Z"
   },
   {
    "duration": 11,
    "start_time": "2021-07-01T14:43:07.409Z"
   },
   {
    "duration": 9,
    "start_time": "2021-07-01T14:44:11.327Z"
   },
   {
    "duration": 12,
    "start_time": "2021-07-01T14:44:28.564Z"
   },
   {
    "duration": 7,
    "start_time": "2021-07-01T15:50:21.799Z"
   },
   {
    "duration": 5,
    "start_time": "2021-07-01T15:50:36.437Z"
   },
   {
    "duration": 8,
    "start_time": "2021-07-01T15:50:50.238Z"
   },
   {
    "duration": 10,
    "start_time": "2021-07-01T15:51:03.308Z"
   },
   {
    "duration": 8,
    "start_time": "2021-07-01T15:51:26.417Z"
   },
   {
    "duration": 8,
    "start_time": "2021-07-01T15:51:32.973Z"
   },
   {
    "duration": 7,
    "start_time": "2021-07-01T15:52:01.357Z"
   },
   {
    "duration": 8,
    "start_time": "2021-07-01T15:56:15.930Z"
   },
   {
    "duration": 8,
    "start_time": "2021-07-01T15:56:18.903Z"
   },
   {
    "duration": 9,
    "start_time": "2021-07-01T15:56:41.454Z"
   },
   {
    "duration": 10,
    "start_time": "2021-07-01T15:57:40.512Z"
   },
   {
    "duration": 10,
    "start_time": "2021-07-01T15:57:52.474Z"
   },
   {
    "duration": 62,
    "start_time": "2021-07-01T15:58:21.362Z"
   },
   {
    "duration": 10,
    "start_time": "2021-07-01T15:58:26.450Z"
   },
   {
    "duration": 33,
    "start_time": "2021-07-01T15:58:33.829Z"
   },
   {
    "duration": 33,
    "start_time": "2021-07-01T16:05:48.514Z"
   },
   {
    "duration": 194,
    "start_time": "2021-07-01T16:06:09.235Z"
   },
   {
    "duration": 30,
    "start_time": "2021-07-01T16:06:11.328Z"
   },
   {
    "duration": 180,
    "start_time": "2021-07-01T16:06:17.347Z"
   },
   {
    "duration": 5,
    "start_time": "2021-07-01T16:06:30.212Z"
   },
   {
    "duration": 36,
    "start_time": "2021-07-01T16:06:56.457Z"
   },
   {
    "duration": 34,
    "start_time": "2021-07-01T16:07:02.557Z"
   },
   {
    "duration": 186,
    "start_time": "2021-07-01T16:07:15.088Z"
   },
   {
    "duration": 33,
    "start_time": "2021-07-01T16:07:22.832Z"
   },
   {
    "duration": 40,
    "start_time": "2021-07-01T16:07:41.812Z"
   },
   {
    "duration": 179,
    "start_time": "2021-07-01T16:07:48.973Z"
   },
   {
    "duration": 6,
    "start_time": "2021-07-01T16:07:54.209Z"
   },
   {
    "duration": 33,
    "start_time": "2021-07-01T16:08:04.504Z"
   },
   {
    "duration": 39,
    "start_time": "2021-07-01T16:08:12.281Z"
   },
   {
    "duration": 32,
    "start_time": "2021-07-01T16:08:25.251Z"
   },
   {
    "duration": 12,
    "start_time": "2021-07-01T16:08:30.067Z"
   },
   {
    "duration": 40,
    "start_time": "2021-07-01T16:08:36.890Z"
   },
   {
    "duration": 41,
    "start_time": "2021-07-01T16:09:00.377Z"
   },
   {
    "duration": 31,
    "start_time": "2021-07-01T16:09:03.177Z"
   },
   {
    "duration": 224,
    "start_time": "2021-07-01T16:09:19.461Z"
   },
   {
    "duration": 33,
    "start_time": "2021-07-01T16:09:24.252Z"
   },
   {
    "duration": 31,
    "start_time": "2021-07-01T16:09:33.209Z"
   },
   {
    "duration": 31,
    "start_time": "2021-07-01T16:09:37.030Z"
   },
   {
    "duration": 42,
    "start_time": "2021-07-01T16:09:42.976Z"
   },
   {
    "duration": 33,
    "start_time": "2021-07-01T16:09:47.892Z"
   },
   {
    "duration": 43,
    "start_time": "2021-07-01T16:10:10.543Z"
   },
   {
    "duration": 453,
    "start_time": "2021-07-02T09:24:21.183Z"
   },
   {
    "duration": 1242,
    "start_time": "2021-07-02T09:24:26.718Z"
   },
   {
    "duration": 23,
    "start_time": "2021-07-02T09:24:27.963Z"
   },
   {
    "duration": 14,
    "start_time": "2021-07-02T09:24:27.990Z"
   },
   {
    "duration": 7,
    "start_time": "2021-07-02T09:24:28.007Z"
   },
   {
    "duration": 60,
    "start_time": "2021-07-02T09:24:28.017Z"
   },
   {
    "duration": 11,
    "start_time": "2021-07-02T09:24:28.081Z"
   },
   {
    "duration": 47,
    "start_time": "2021-07-02T09:24:28.094Z"
   },
   {
    "duration": 76,
    "start_time": "2021-07-02T09:24:28.143Z"
   },
   {
    "duration": 92,
    "start_time": "2021-07-02T09:24:28.223Z"
   },
   {
    "duration": 7,
    "start_time": "2021-07-02T09:26:46.761Z"
   },
   {
    "duration": 8,
    "start_time": "2021-07-02T09:27:04.888Z"
   },
   {
    "duration": 8,
    "start_time": "2021-07-02T09:28:01.697Z"
   },
   {
    "duration": 7,
    "start_time": "2021-07-02T09:30:34.352Z"
   },
   {
    "duration": 16,
    "start_time": "2021-07-02T09:31:00.266Z"
   },
   {
    "duration": 54,
    "start_time": "2021-07-02T09:31:08.563Z"
   },
   {
    "duration": 65,
    "start_time": "2021-07-02T09:31:42.096Z"
   },
   {
    "duration": 313,
    "start_time": "2021-07-02T09:31:45.534Z"
   },
   {
    "duration": 35,
    "start_time": "2021-07-02T09:31:45.849Z"
   },
   {
    "duration": 10,
    "start_time": "2021-07-02T09:31:45.887Z"
   },
   {
    "duration": 6,
    "start_time": "2021-07-02T09:31:45.900Z"
   },
   {
    "duration": 12,
    "start_time": "2021-07-02T09:31:45.908Z"
   },
   {
    "duration": 46,
    "start_time": "2021-07-02T09:31:45.922Z"
   },
   {
    "duration": 52,
    "start_time": "2021-07-02T09:31:45.971Z"
   },
   {
    "duration": 89,
    "start_time": "2021-07-02T09:31:46.026Z"
   },
   {
    "duration": 56,
    "start_time": "2021-07-02T09:31:46.118Z"
   },
   {
    "duration": 49,
    "start_time": "2021-07-02T09:31:46.177Z"
   },
   {
    "duration": 8,
    "start_time": "2021-07-02T09:32:11.626Z"
   },
   {
    "duration": 413,
    "start_time": "2021-07-02T09:32:18.425Z"
   },
   {
    "duration": 31,
    "start_time": "2021-07-02T09:32:21.516Z"
   },
   {
    "duration": 11,
    "start_time": "2021-07-02T09:33:55.327Z"
   },
   {
    "duration": 6,
    "start_time": "2021-07-02T09:47:13.426Z"
   },
   {
    "duration": 18,
    "start_time": "2021-07-02T09:47:23.975Z"
   },
   {
    "duration": 16,
    "start_time": "2021-07-02T09:48:20.220Z"
   },
   {
    "duration": 324,
    "start_time": "2021-07-02T09:48:39.000Z"
   },
   {
    "duration": 19,
    "start_time": "2021-07-02T09:48:50.400Z"
   },
   {
    "duration": 326,
    "start_time": "2021-07-02T09:49:07.072Z"
   },
   {
    "duration": 22,
    "start_time": "2021-07-02T09:49:13.376Z"
   },
   {
    "duration": 57,
    "start_time": "2021-07-02T09:49:37.248Z"
   },
   {
    "duration": 51,
    "start_time": "2021-07-02T09:50:21.774Z"
   },
   {
    "duration": 72,
    "start_time": "2021-07-02T09:50:34.953Z"
   },
   {
    "duration": 64,
    "start_time": "2021-07-02T09:52:54.758Z"
   },
   {
    "duration": 85,
    "start_time": "2021-07-02T09:54:00.761Z"
   },
   {
    "duration": 7,
    "start_time": "2021-07-02T09:55:43.090Z"
   },
   {
    "duration": 17,
    "start_time": "2021-07-02T09:57:37.138Z"
   },
   {
    "duration": 27,
    "start_time": "2021-07-02T09:58:06.969Z"
   },
   {
    "duration": 16,
    "start_time": "2021-07-02T10:06:55.752Z"
   },
   {
    "duration": 13,
    "start_time": "2021-07-02T10:08:55.721Z"
   },
   {
    "duration": 17,
    "start_time": "2021-07-02T10:09:03.583Z"
   },
   {
    "duration": 32,
    "start_time": "2021-07-02T10:09:35.052Z"
   },
   {
    "duration": 21,
    "start_time": "2021-07-02T10:09:42.767Z"
   },
   {
    "duration": 25,
    "start_time": "2021-07-02T10:13:15.776Z"
   },
   {
    "duration": 412,
    "start_time": "2021-07-02T10:25:01.084Z"
   },
   {
    "duration": 39,
    "start_time": "2021-07-02T10:25:04.694Z"
   },
   {
    "duration": 31,
    "start_time": "2021-07-02T10:25:32.434Z"
   },
   {
    "duration": 42,
    "start_time": "2021-07-02T11:47:57.011Z"
   },
   {
    "duration": 34,
    "start_time": "2021-07-02T11:48:08.582Z"
   },
   {
    "duration": 37,
    "start_time": "2021-07-02T11:51:14.558Z"
   },
   {
    "duration": 48,
    "start_time": "2021-07-02T11:51:31.265Z"
   },
   {
    "duration": 41,
    "start_time": "2021-07-02T11:53:45.948Z"
   },
   {
    "duration": 38,
    "start_time": "2021-07-02T11:54:03.444Z"
   },
   {
    "duration": 30,
    "start_time": "2021-07-02T11:54:17.439Z"
   },
   {
    "duration": 31,
    "start_time": "2021-07-02T11:54:20.320Z"
   },
   {
    "duration": 27,
    "start_time": "2021-07-02T11:57:05.272Z"
   },
   {
    "duration": 24,
    "start_time": "2021-07-02T11:58:26.401Z"
   },
   {
    "duration": 22,
    "start_time": "2021-07-02T11:58:31.545Z"
   },
   {
    "duration": 22,
    "start_time": "2021-07-02T11:58:48.334Z"
   },
   {
    "duration": 21,
    "start_time": "2021-07-02T11:58:56.730Z"
   },
   {
    "duration": 25,
    "start_time": "2021-07-02T11:58:59.583Z"
   },
   {
    "duration": 21,
    "start_time": "2021-07-02T11:59:18.002Z"
   },
   {
    "duration": 21,
    "start_time": "2021-07-02T11:59:24.487Z"
   },
   {
    "duration": 13,
    "start_time": "2021-07-02T11:59:50.253Z"
   },
   {
    "duration": 14,
    "start_time": "2021-07-02T12:00:18.668Z"
   },
   {
    "duration": 9,
    "start_time": "2021-07-02T12:32:35.637Z"
   },
   {
    "duration": 46,
    "start_time": "2021-07-02T12:32:39.521Z"
   },
   {
    "duration": 309,
    "start_time": "2021-07-02T12:33:01.771Z"
   },
   {
    "duration": 14,
    "start_time": "2021-07-02T12:33:02.083Z"
   },
   {
    "duration": 10,
    "start_time": "2021-07-02T12:33:02.100Z"
   },
   {
    "duration": 6,
    "start_time": "2021-07-02T12:33:02.112Z"
   },
   {
    "duration": 53,
    "start_time": "2021-07-02T12:33:02.120Z"
   },
   {
    "duration": 13,
    "start_time": "2021-07-02T12:33:02.176Z"
   },
   {
    "duration": 76,
    "start_time": "2021-07-02T12:33:02.192Z"
   },
   {
    "duration": 54,
    "start_time": "2021-07-02T12:33:02.271Z"
   },
   {
    "duration": 8,
    "start_time": "2021-07-02T12:33:02.329Z"
   },
   {
    "duration": 39,
    "start_time": "2021-07-02T12:33:02.369Z"
   },
   {
    "duration": 6,
    "start_time": "2021-07-02T12:33:02.411Z"
   },
   {
    "duration": 57,
    "start_time": "2021-07-02T12:33:02.420Z"
   },
   {
    "duration": 58,
    "start_time": "2021-07-02T12:33:02.479Z"
   },
   {
    "duration": 9,
    "start_time": "2021-07-02T12:33:49.040Z"
   },
   {
    "duration": 46,
    "start_time": "2021-07-02T12:34:14.607Z"
   },
   {
    "duration": 49,
    "start_time": "2021-07-02T12:34:36.317Z"
   },
   {
    "duration": 304,
    "start_time": "2021-07-02T12:34:48.622Z"
   },
   {
    "duration": 50,
    "start_time": "2021-07-02T12:35:01.597Z"
   },
   {
    "duration": 34,
    "start_time": "2021-07-02T12:35:30.436Z"
   },
   {
    "duration": 36,
    "start_time": "2021-07-02T12:35:43.706Z"
   },
   {
    "duration": 16,
    "start_time": "2021-07-02T12:37:37.027Z"
   },
   {
    "duration": 32,
    "start_time": "2021-07-02T12:37:54.103Z"
   },
   {
    "duration": 143,
    "start_time": "2021-07-02T12:38:25.982Z"
   },
   {
    "duration": 40,
    "start_time": "2021-07-02T12:38:30.145Z"
   },
   {
    "duration": 36,
    "start_time": "2021-07-02T12:38:41.497Z"
   },
   {
    "duration": 18,
    "start_time": "2021-07-02T12:38:45.950Z"
   },
   {
    "duration": 9,
    "start_time": "2021-07-02T12:39:08.252Z"
   },
   {
    "duration": 17,
    "start_time": "2021-07-02T12:39:36.259Z"
   },
   {
    "duration": 13,
    "start_time": "2021-07-02T12:40:37.217Z"
   },
   {
    "duration": 35,
    "start_time": "2021-07-02T12:41:22.434Z"
   },
   {
    "duration": 32,
    "start_time": "2021-07-02T12:41:30.830Z"
   },
   {
    "duration": 363,
    "start_time": "2021-07-02T12:42:15.027Z"
   },
   {
    "duration": 46,
    "start_time": "2021-07-02T12:42:25.526Z"
   },
   {
    "duration": 46,
    "start_time": "2021-07-02T12:44:10.965Z"
   },
   {
    "duration": 29,
    "start_time": "2021-07-02T12:44:54.964Z"
   },
   {
    "duration": 40,
    "start_time": "2021-07-02T12:45:12.213Z"
   },
   {
    "duration": 8,
    "start_time": "2021-07-02T12:45:34.165Z"
   },
   {
    "duration": 9,
    "start_time": "2021-07-02T12:46:16.216Z"
   },
   {
    "duration": 52,
    "start_time": "2021-07-02T12:46:21.241Z"
   },
   {
    "duration": 46,
    "start_time": "2021-07-02T12:46:55.802Z"
   },
   {
    "duration": 52,
    "start_time": "2021-07-02T12:47:08.562Z"
   },
   {
    "duration": 54,
    "start_time": "2021-07-02T12:47:14.073Z"
   },
   {
    "duration": 10,
    "start_time": "2021-07-02T12:59:29.583Z"
   },
   {
    "duration": 56,
    "start_time": "2021-07-02T12:59:33.133Z"
   },
   {
    "duration": 9,
    "start_time": "2021-07-02T13:00:07.156Z"
   },
   {
    "duration": 122,
    "start_time": "2021-07-02T13:00:28.771Z"
   },
   {
    "duration": 7,
    "start_time": "2021-07-02T13:00:30.720Z"
   },
   {
    "duration": 21,
    "start_time": "2021-07-02T13:00:35.961Z"
   },
   {
    "duration": 51,
    "start_time": "2021-07-02T13:00:45.577Z"
   },
   {
    "duration": 47,
    "start_time": "2021-07-02T13:01:30.210Z"
   },
   {
    "duration": 342,
    "start_time": "2021-07-02T13:02:43.662Z"
   },
   {
    "duration": 16,
    "start_time": "2021-07-02T13:02:56.096Z"
   },
   {
    "duration": 1375,
    "start_time": "2021-07-02T13:03:17.326Z"
   },
   {
    "duration": 15,
    "start_time": "2021-07-02T13:03:22.793Z"
   },
   {
    "duration": 17,
    "start_time": "2021-07-02T13:03:32.506Z"
   },
   {
    "duration": 344,
    "start_time": "2021-07-02T13:07:04.983Z"
   },
   {
    "duration": 882,
    "start_time": "2021-07-02T13:07:18.904Z"
   },
   {
    "duration": 37,
    "start_time": "2021-07-02T13:07:23.393Z"
   },
   {
    "duration": 16,
    "start_time": "2021-07-02T13:08:40.738Z"
   },
   {
    "duration": 15,
    "start_time": "2021-07-02T13:09:06.251Z"
   },
   {
    "duration": 21,
    "start_time": "2021-07-02T13:09:12.773Z"
   },
   {
    "duration": 20,
    "start_time": "2021-07-02T13:09:28.479Z"
   },
   {
    "duration": 339,
    "start_time": "2021-07-02T13:09:39.701Z"
   },
   {
    "duration": 16,
    "start_time": "2021-07-02T13:09:43.319Z"
   },
   {
    "duration": 16,
    "start_time": "2021-07-02T13:09:56.942Z"
   },
   {
    "duration": 679,
    "start_time": "2021-07-02T13:13:39.540Z"
   },
   {
    "duration": 25,
    "start_time": "2021-07-02T13:13:47.221Z"
   },
   {
    "duration": 26,
    "start_time": "2021-07-02T13:13:55.185Z"
   },
   {
    "duration": 16,
    "start_time": "2021-07-02T13:14:13.737Z"
   },
   {
    "duration": 18,
    "start_time": "2021-07-02T13:14:20.463Z"
   },
   {
    "duration": 17,
    "start_time": "2021-07-02T13:14:28.428Z"
   },
   {
    "duration": 16,
    "start_time": "2021-07-02T13:22:42.467Z"
   },
   {
    "duration": 11,
    "start_time": "2021-07-02T13:23:15.997Z"
   },
   {
    "duration": 342,
    "start_time": "2021-07-02T13:23:19.195Z"
   },
   {
    "duration": 17,
    "start_time": "2021-07-02T13:23:22.599Z"
   },
   {
    "duration": 20,
    "start_time": "2021-07-02T13:23:40.400Z"
   },
   {
    "duration": 399,
    "start_time": "2021-07-02T13:25:19.047Z"
   },
   {
    "duration": 345,
    "start_time": "2021-07-02T13:25:51.895Z"
   },
   {
    "duration": 333,
    "start_time": "2021-07-02T13:25:54.991Z"
   },
   {
    "duration": 16,
    "start_time": "2021-07-02T13:25:55.327Z"
   },
   {
    "duration": 30,
    "start_time": "2021-07-02T13:25:55.347Z"
   },
   {
    "duration": 11,
    "start_time": "2021-07-02T13:25:55.381Z"
   },
   {
    "duration": 18,
    "start_time": "2021-07-02T13:25:55.395Z"
   },
   {
    "duration": 9,
    "start_time": "2021-07-02T13:25:55.415Z"
   },
   {
    "duration": 96,
    "start_time": "2021-07-02T13:25:55.426Z"
   },
   {
    "duration": 75,
    "start_time": "2021-07-02T13:25:55.525Z"
   },
   {
    "duration": 8,
    "start_time": "2021-07-02T13:25:55.604Z"
   },
   {
    "duration": 62,
    "start_time": "2021-07-02T13:25:55.615Z"
   },
   {
    "duration": 9,
    "start_time": "2021-07-02T13:25:55.680Z"
   },
   {
    "duration": 14,
    "start_time": "2021-07-02T13:25:55.692Z"
   },
   {
    "duration": 8,
    "start_time": "2021-07-02T13:25:55.708Z"
   },
   {
    "duration": 69,
    "start_time": "2021-07-02T13:25:55.718Z"
   },
   {
    "duration": 42,
    "start_time": "2021-07-02T13:25:55.789Z"
   },
   {
    "duration": 73,
    "start_time": "2021-07-02T13:25:55.833Z"
   },
   {
    "duration": 13,
    "start_time": "2021-07-02T13:25:55.909Z"
   },
   {
    "duration": 83,
    "start_time": "2021-07-02T13:25:55.924Z"
   },
   {
    "duration": 29,
    "start_time": "2021-07-02T13:25:56.009Z"
   },
   {
    "duration": 45,
    "start_time": "2021-07-02T13:26:15.747Z"
   },
   {
    "duration": 73,
    "start_time": "2021-07-02T13:32:35.095Z"
   },
   {
    "duration": 81,
    "start_time": "2021-07-02T13:32:55.542Z"
   },
   {
    "duration": 87,
    "start_time": "2021-07-02T13:33:19.406Z"
   },
   {
    "duration": 126,
    "start_time": "2021-07-02T13:33:22.638Z"
   },
   {
    "duration": 368,
    "start_time": "2021-07-02T13:34:25.688Z"
   },
   {
    "duration": 22,
    "start_time": "2021-07-02T13:34:26.059Z"
   },
   {
    "duration": 12,
    "start_time": "2021-07-02T13:34:26.086Z"
   },
   {
    "duration": 7,
    "start_time": "2021-07-02T13:34:26.100Z"
   },
   {
    "duration": 14,
    "start_time": "2021-07-02T13:34:26.109Z"
   },
   {
    "duration": 51,
    "start_time": "2021-07-02T13:34:26.126Z"
   },
   {
    "duration": 49,
    "start_time": "2021-07-02T13:34:26.181Z"
   },
   {
    "duration": 84,
    "start_time": "2021-07-02T13:34:26.232Z"
   },
   {
    "duration": 8,
    "start_time": "2021-07-02T13:34:26.320Z"
   },
   {
    "duration": 66,
    "start_time": "2021-07-02T13:34:26.331Z"
   },
   {
    "duration": 7,
    "start_time": "2021-07-02T13:34:26.400Z"
   },
   {
    "duration": 18,
    "start_time": "2021-07-02T13:34:26.409Z"
   },
   {
    "duration": 7,
    "start_time": "2021-07-02T13:34:26.429Z"
   },
   {
    "duration": 34,
    "start_time": "2021-07-02T13:34:26.467Z"
   },
   {
    "duration": 68,
    "start_time": "2021-07-02T13:34:26.503Z"
   },
   {
    "duration": 53,
    "start_time": "2021-07-02T13:34:26.575Z"
   },
   {
    "duration": 38,
    "start_time": "2021-07-02T13:34:26.630Z"
   },
   {
    "duration": 71,
    "start_time": "2021-07-02T13:34:26.671Z"
   },
   {
    "duration": 153,
    "start_time": "2021-07-02T13:34:26.745Z"
   },
   {
    "duration": 130,
    "start_time": "2021-07-02T13:34:55.000Z"
   },
   {
    "duration": 95,
    "start_time": "2021-07-02T13:35:38.572Z"
   },
   {
    "duration": 31,
    "start_time": "2021-07-02T13:35:41.576Z"
   },
   {
    "duration": 397,
    "start_time": "2021-07-02T13:36:34.983Z"
   },
   {
    "duration": 97,
    "start_time": "2021-07-02T13:37:04.091Z"
   },
   {
    "duration": 93,
    "start_time": "2021-07-02T13:37:09.788Z"
   },
   {
    "duration": 38,
    "start_time": "2021-07-02T13:38:07.610Z"
   },
   {
    "duration": 36,
    "start_time": "2021-07-02T13:40:57.028Z"
   },
   {
    "duration": 53,
    "start_time": "2021-07-02T13:41:11.350Z"
   },
   {
    "duration": 2555,
    "start_time": "2021-07-02T13:41:32.794Z"
   },
   {
    "duration": 3525,
    "start_time": "2021-07-02T13:42:02.745Z"
   },
   {
    "duration": 2167,
    "start_time": "2021-07-02T13:42:25.506Z"
   },
   {
    "duration": 15,
    "start_time": "2021-07-02T13:42:28.197Z"
   },
   {
    "duration": 305,
    "start_time": "2021-07-02T13:42:51.438Z"
   },
   {
    "duration": 999,
    "start_time": "2021-07-02T13:42:58.414Z"
   },
   {
    "duration": 15,
    "start_time": "2021-07-02T13:43:02.317Z"
   },
   {
    "duration": 14,
    "start_time": "2021-07-02T13:43:11.944Z"
   },
   {
    "duration": 22,
    "start_time": "2021-07-02T13:43:28.729Z"
   },
   {
    "duration": 82,
    "start_time": "2021-07-02T13:44:59.023Z"
   },
   {
    "duration": 82,
    "start_time": "2021-07-02T13:45:16.840Z"
   },
   {
    "duration": 64,
    "start_time": "2021-07-02T13:45:36.680Z"
   },
   {
    "duration": 55,
    "start_time": "2021-07-02T13:45:43.149Z"
   },
   {
    "duration": 572,
    "start_time": "2021-07-02T13:46:58.061Z"
   },
   {
    "duration": 325,
    "start_time": "2021-07-02T13:52:12.203Z"
   },
   {
    "duration": 373,
    "start_time": "2021-07-02T13:52:29.621Z"
   },
   {
    "duration": 111,
    "start_time": "2021-07-02T13:52:42.485Z"
   },
   {
    "duration": 108,
    "start_time": "2021-07-02T13:52:51.925Z"
   },
   {
    "duration": 321,
    "start_time": "2021-07-02T13:52:58.250Z"
   },
   {
    "duration": 296,
    "start_time": "2021-07-02T13:53:04.441Z"
   },
   {
    "duration": 1420,
    "start_time": "2021-07-02T13:53:17.155Z"
   },
   {
    "duration": 413,
    "start_time": "2021-07-02T13:53:33.096Z"
   },
   {
    "duration": 20,
    "start_time": "2021-07-02T13:55:38.862Z"
   },
   {
    "duration": 16,
    "start_time": "2021-07-02T13:56:05.817Z"
   },
   {
    "duration": 17,
    "start_time": "2021-07-02T13:56:14.527Z"
   },
   {
    "duration": 15,
    "start_time": "2021-07-02T13:56:58.038Z"
   },
   {
    "duration": 16,
    "start_time": "2021-07-02T13:57:05.233Z"
   },
   {
    "duration": 326,
    "start_time": "2021-07-02T13:57:29.185Z"
   },
   {
    "duration": 4,
    "start_time": "2021-07-02T13:57:38.900Z"
   },
   {
    "duration": 16,
    "start_time": "2021-07-02T13:57:43.308Z"
   },
   {
    "duration": 17,
    "start_time": "2021-07-02T13:57:53.602Z"
   },
   {
    "duration": 16,
    "start_time": "2021-07-02T13:58:03.388Z"
   },
   {
    "duration": 22,
    "start_time": "2021-07-02T14:02:23.198Z"
   },
   {
    "duration": 26,
    "start_time": "2021-07-02T14:02:57.359Z"
   },
   {
    "duration": 20,
    "start_time": "2021-07-02T14:03:14.889Z"
   },
   {
    "duration": 23,
    "start_time": "2021-07-02T14:03:38.025Z"
   },
   {
    "duration": 24,
    "start_time": "2021-07-02T14:03:56.371Z"
   },
   {
    "duration": 295,
    "start_time": "2021-07-02T14:04:17.155Z"
   },
   {
    "duration": 28,
    "start_time": "2021-07-02T14:04:20.979Z"
   },
   {
    "duration": 68,
    "start_time": "2021-07-02T14:04:24.923Z"
   },
   {
    "duration": 23,
    "start_time": "2021-07-02T14:04:28.287Z"
   },
   {
    "duration": 20,
    "start_time": "2021-07-02T14:04:51.200Z"
   },
   {
    "duration": 26,
    "start_time": "2021-07-02T14:05:11.527Z"
   },
   {
    "duration": 100,
    "start_time": "2021-07-02T14:07:06.604Z"
   },
   {
    "duration": 27,
    "start_time": "2021-07-02T14:07:14.581Z"
   },
   {
    "duration": 27,
    "start_time": "2021-07-02T14:07:23.236Z"
   },
   {
    "duration": 29,
    "start_time": "2021-07-02T14:07:26.672Z"
   },
   {
    "duration": 28,
    "start_time": "2021-07-02T14:07:41.386Z"
   },
   {
    "duration": 29,
    "start_time": "2021-07-02T14:07:43.825Z"
   },
   {
    "duration": 1488,
    "start_time": "2021-07-02T14:12:47.468Z"
   },
   {
    "duration": 28,
    "start_time": "2021-07-02T14:17:58.037Z"
   },
   {
    "duration": 21,
    "start_time": "2021-07-02T14:18:22.648Z"
   },
   {
    "duration": 26,
    "start_time": "2021-07-02T14:18:29.123Z"
   },
   {
    "duration": 25,
    "start_time": "2021-07-02T14:18:38.325Z"
   },
   {
    "duration": 23,
    "start_time": "2021-07-02T14:18:43.025Z"
   },
   {
    "duration": 26,
    "start_time": "2021-07-02T14:25:05.560Z"
   },
   {
    "duration": 29,
    "start_time": "2021-07-02T14:25:10.222Z"
   },
   {
    "duration": 4,
    "start_time": "2021-07-02T14:56:15.756Z"
   },
   {
    "duration": 20,
    "start_time": "2021-07-02T14:56:28.666Z"
   }
  ],
  "hide_input": false,
  "kernelspec": {
   "display_name": "Python 3",
   "language": "python",
   "name": "python3"
  },
  "language_info": {
   "codemirror_mode": {
    "name": "ipython",
    "version": 3
   },
   "file_extension": ".py",
   "mimetype": "text/x-python",
   "name": "python",
   "nbconvert_exporter": "python",
   "pygments_lexer": "ipython3",
   "version": "3.8.8"
  },
  "nbTranslate": {
   "displayLangs": [
    "*"
   ],
   "hotkey": "alt-t",
   "langInMainMenu": true,
   "sourceLang": "en",
   "targetLang": "fr",
   "useGoogleTranslate": true
  },
  "toc": {
   "base_numbering": 1,
   "nav_menu": {
    "height": "301px",
    "width": "458px"
   },
   "number_sections": false,
   "sideBar": true,
   "skip_h1_title": false,
   "title_cell": "Содержание",
   "title_sidebar": "Contents",
   "toc_cell": true,
   "toc_position": {
    "height": "calc(100% - 180px)",
    "left": "10px",
    "top": "150px",
    "width": "236.390625px"
   },
   "toc_section_display": true,
   "toc_window_display": true
  }
 },
 "nbformat": 4,
 "nbformat_minor": 2
}
