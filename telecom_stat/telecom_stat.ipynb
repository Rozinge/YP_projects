{
 "cells": [
  {
   "cell_type": "markdown",
   "metadata": {},
   "source": [
    "# Статистический анализ тарифов оператора сотовой связи\n",
    "Сделать предварительный анализ тарифов на небольшой выборке клиентов. Есть данные 500 пользователей «Мегалайна»: кто они, откуда, каким тарифом пользуются, сколько звонков и сообщений каждый отправил за 2018 год. Нужно проанализировать поведение клиентов и сделать вывод — какой тариф лучше."
   ]
  },
  {
   "cell_type": "markdown",
   "metadata": {},
   "source": [
    "# Предобработка"
   ]
  },
  {
   "cell_type": "code",
   "execution_count": 622,
   "metadata": {},
   "outputs": [],
   "source": [
    "# Import libraries\n",
    "import pandas as pd\n",
    "import numpy as np\n",
    "import matplotlib.pyplot as plt\n",
    "import matplotlib.ticker as ticker\n",
    "import seaborn as sns\n",
    "import math as mt\n",
    "from scipy import stats as st\n",
    "\n",
    "# Options for pandas\n",
    "from IPython.core.interactiveshell import InteractiveShell\n",
    "InteractiveShell.ast_node_interactivity = 'all'\n",
    "pd.options.display.max_columns = None\n",
    "pd.options.display.max_colwidth = 300\n",
    "\n",
    "calls = pd.read_csv('calls.csv') \n",
    "messages = pd.read_csv('messages.csv')\n",
    "internet = pd.read_csv('internet.csv')\n",
    "users = pd.read_csv('users.csv')\n",
    "tariffs = pd.read_csv('tariffs.csv') \n",
    "\n"
   ]
  },
  {
   "cell_type": "code",
   "execution_count": 623,
   "metadata": {
    "scrolled": false
   },
   "outputs": [
    {
     "name": "stdout",
     "output_type": "stream",
     "text": [
      "<class 'pandas.core.frame.DataFrame'>\n",
      "RangeIndex: 202607 entries, 0 to 202606\n",
      "Data columns (total 4 columns):\n",
      " #   Column     Non-Null Count   Dtype  \n",
      "---  ------     --------------   -----  \n",
      " 0   id         202607 non-null  object \n",
      " 1   call_date  202607 non-null  object \n",
      " 2   duration   202607 non-null  float64\n",
      " 3   user_id    202607 non-null  int64  \n",
      "dtypes: float64(1), int64(1), object(2)\n",
      "memory usage: 6.2+ MB\n"
     ]
    },
    {
     "data": {
      "text/plain": [
       "None"
      ]
     },
     "metadata": {},
     "output_type": "display_data"
    },
    {
     "data": {
      "text/html": [
       "<div>\n",
       "<style scoped>\n",
       "    .dataframe tbody tr th:only-of-type {\n",
       "        vertical-align: middle;\n",
       "    }\n",
       "\n",
       "    .dataframe tbody tr th {\n",
       "        vertical-align: top;\n",
       "    }\n",
       "\n",
       "    .dataframe thead th {\n",
       "        text-align: right;\n",
       "    }\n",
       "</style>\n",
       "<table border=\"1\" class=\"dataframe\">\n",
       "  <thead>\n",
       "    <tr style=\"text-align: right;\">\n",
       "      <th></th>\n",
       "      <th>id</th>\n",
       "      <th>call_date</th>\n",
       "      <th>duration</th>\n",
       "      <th>user_id</th>\n",
       "    </tr>\n",
       "  </thead>\n",
       "  <tbody>\n",
       "    <tr>\n",
       "      <th>0</th>\n",
       "      <td>1000_0</td>\n",
       "      <td>2018-07-25</td>\n",
       "      <td>0.00</td>\n",
       "      <td>1000</td>\n",
       "    </tr>\n",
       "    <tr>\n",
       "      <th>1</th>\n",
       "      <td>1000_1</td>\n",
       "      <td>2018-08-17</td>\n",
       "      <td>0.00</td>\n",
       "      <td>1000</td>\n",
       "    </tr>\n",
       "    <tr>\n",
       "      <th>2</th>\n",
       "      <td>1000_2</td>\n",
       "      <td>2018-06-11</td>\n",
       "      <td>2.85</td>\n",
       "      <td>1000</td>\n",
       "    </tr>\n",
       "    <tr>\n",
       "      <th>3</th>\n",
       "      <td>1000_3</td>\n",
       "      <td>2018-09-21</td>\n",
       "      <td>13.80</td>\n",
       "      <td>1000</td>\n",
       "    </tr>\n",
       "    <tr>\n",
       "      <th>4</th>\n",
       "      <td>1000_4</td>\n",
       "      <td>2018-12-15</td>\n",
       "      <td>5.18</td>\n",
       "      <td>1000</td>\n",
       "    </tr>\n",
       "  </tbody>\n",
       "</table>\n",
       "</div>"
      ],
      "text/plain": [
       "       id   call_date  duration  user_id\n",
       "0  1000_0  2018-07-25      0.00     1000\n",
       "1  1000_1  2018-08-17      0.00     1000\n",
       "2  1000_2  2018-06-11      2.85     1000\n",
       "3  1000_3  2018-09-21     13.80     1000\n",
       "4  1000_4  2018-12-15      5.18     1000"
      ]
     },
     "metadata": {},
     "output_type": "display_data"
    },
    {
     "name": "stdout",
     "output_type": "stream",
     "text": [
      "<class 'pandas.core.frame.DataFrame'>\n",
      "RangeIndex: 123036 entries, 0 to 123035\n",
      "Data columns (total 3 columns):\n",
      " #   Column        Non-Null Count   Dtype \n",
      "---  ------        --------------   ----- \n",
      " 0   id            123036 non-null  object\n",
      " 1   message_date  123036 non-null  object\n",
      " 2   user_id       123036 non-null  int64 \n",
      "dtypes: int64(1), object(2)\n",
      "memory usage: 2.8+ MB\n"
     ]
    },
    {
     "data": {
      "text/plain": [
       "None"
      ]
     },
     "metadata": {},
     "output_type": "display_data"
    },
    {
     "data": {
      "text/html": [
       "<div>\n",
       "<style scoped>\n",
       "    .dataframe tbody tr th:only-of-type {\n",
       "        vertical-align: middle;\n",
       "    }\n",
       "\n",
       "    .dataframe tbody tr th {\n",
       "        vertical-align: top;\n",
       "    }\n",
       "\n",
       "    .dataframe thead th {\n",
       "        text-align: right;\n",
       "    }\n",
       "</style>\n",
       "<table border=\"1\" class=\"dataframe\">\n",
       "  <thead>\n",
       "    <tr style=\"text-align: right;\">\n",
       "      <th></th>\n",
       "      <th>id</th>\n",
       "      <th>message_date</th>\n",
       "      <th>user_id</th>\n",
       "    </tr>\n",
       "  </thead>\n",
       "  <tbody>\n",
       "    <tr>\n",
       "      <th>0</th>\n",
       "      <td>1000_0</td>\n",
       "      <td>2018-06-27</td>\n",
       "      <td>1000</td>\n",
       "    </tr>\n",
       "    <tr>\n",
       "      <th>1</th>\n",
       "      <td>1000_1</td>\n",
       "      <td>2018-10-08</td>\n",
       "      <td>1000</td>\n",
       "    </tr>\n",
       "    <tr>\n",
       "      <th>2</th>\n",
       "      <td>1000_2</td>\n",
       "      <td>2018-08-04</td>\n",
       "      <td>1000</td>\n",
       "    </tr>\n",
       "    <tr>\n",
       "      <th>3</th>\n",
       "      <td>1000_3</td>\n",
       "      <td>2018-06-16</td>\n",
       "      <td>1000</td>\n",
       "    </tr>\n",
       "    <tr>\n",
       "      <th>4</th>\n",
       "      <td>1000_4</td>\n",
       "      <td>2018-12-05</td>\n",
       "      <td>1000</td>\n",
       "    </tr>\n",
       "  </tbody>\n",
       "</table>\n",
       "</div>"
      ],
      "text/plain": [
       "       id message_date  user_id\n",
       "0  1000_0   2018-06-27     1000\n",
       "1  1000_1   2018-10-08     1000\n",
       "2  1000_2   2018-08-04     1000\n",
       "3  1000_3   2018-06-16     1000\n",
       "4  1000_4   2018-12-05     1000"
      ]
     },
     "metadata": {},
     "output_type": "display_data"
    },
    {
     "name": "stdout",
     "output_type": "stream",
     "text": [
      "<class 'pandas.core.frame.DataFrame'>\n",
      "RangeIndex: 149396 entries, 0 to 149395\n",
      "Data columns (total 5 columns):\n",
      " #   Column        Non-Null Count   Dtype  \n",
      "---  ------        --------------   -----  \n",
      " 0   Unnamed: 0    149396 non-null  int64  \n",
      " 1   id            149396 non-null  object \n",
      " 2   mb_used       149396 non-null  float64\n",
      " 3   session_date  149396 non-null  object \n",
      " 4   user_id       149396 non-null  int64  \n",
      "dtypes: float64(1), int64(2), object(2)\n",
      "memory usage: 5.7+ MB\n"
     ]
    },
    {
     "data": {
      "text/plain": [
       "None"
      ]
     },
     "metadata": {},
     "output_type": "display_data"
    },
    {
     "data": {
      "text/html": [
       "<div>\n",
       "<style scoped>\n",
       "    .dataframe tbody tr th:only-of-type {\n",
       "        vertical-align: middle;\n",
       "    }\n",
       "\n",
       "    .dataframe tbody tr th {\n",
       "        vertical-align: top;\n",
       "    }\n",
       "\n",
       "    .dataframe thead th {\n",
       "        text-align: right;\n",
       "    }\n",
       "</style>\n",
       "<table border=\"1\" class=\"dataframe\">\n",
       "  <thead>\n",
       "    <tr style=\"text-align: right;\">\n",
       "      <th></th>\n",
       "      <th>Unnamed: 0</th>\n",
       "      <th>id</th>\n",
       "      <th>mb_used</th>\n",
       "      <th>session_date</th>\n",
       "      <th>user_id</th>\n",
       "    </tr>\n",
       "  </thead>\n",
       "  <tbody>\n",
       "    <tr>\n",
       "      <th>0</th>\n",
       "      <td>0</td>\n",
       "      <td>1000_0</td>\n",
       "      <td>112.95</td>\n",
       "      <td>2018-11-25</td>\n",
       "      <td>1000</td>\n",
       "    </tr>\n",
       "    <tr>\n",
       "      <th>1</th>\n",
       "      <td>1</td>\n",
       "      <td>1000_1</td>\n",
       "      <td>1052.81</td>\n",
       "      <td>2018-09-07</td>\n",
       "      <td>1000</td>\n",
       "    </tr>\n",
       "    <tr>\n",
       "      <th>2</th>\n",
       "      <td>2</td>\n",
       "      <td>1000_2</td>\n",
       "      <td>1197.26</td>\n",
       "      <td>2018-06-25</td>\n",
       "      <td>1000</td>\n",
       "    </tr>\n",
       "    <tr>\n",
       "      <th>3</th>\n",
       "      <td>3</td>\n",
       "      <td>1000_3</td>\n",
       "      <td>550.27</td>\n",
       "      <td>2018-08-22</td>\n",
       "      <td>1000</td>\n",
       "    </tr>\n",
       "    <tr>\n",
       "      <th>4</th>\n",
       "      <td>4</td>\n",
       "      <td>1000_4</td>\n",
       "      <td>302.56</td>\n",
       "      <td>2018-09-24</td>\n",
       "      <td>1000</td>\n",
       "    </tr>\n",
       "  </tbody>\n",
       "</table>\n",
       "</div>"
      ],
      "text/plain": [
       "   Unnamed: 0      id  mb_used session_date  user_id\n",
       "0           0  1000_0   112.95   2018-11-25     1000\n",
       "1           1  1000_1  1052.81   2018-09-07     1000\n",
       "2           2  1000_2  1197.26   2018-06-25     1000\n",
       "3           3  1000_3   550.27   2018-08-22     1000\n",
       "4           4  1000_4   302.56   2018-09-24     1000"
      ]
     },
     "metadata": {},
     "output_type": "display_data"
    },
    {
     "name": "stdout",
     "output_type": "stream",
     "text": [
      "<class 'pandas.core.frame.DataFrame'>\n",
      "RangeIndex: 500 entries, 0 to 499\n",
      "Data columns (total 8 columns):\n",
      " #   Column      Non-Null Count  Dtype \n",
      "---  ------      --------------  ----- \n",
      " 0   user_id     500 non-null    int64 \n",
      " 1   age         500 non-null    int64 \n",
      " 2   churn_date  38 non-null     object\n",
      " 3   city        500 non-null    object\n",
      " 4   first_name  500 non-null    object\n",
      " 5   last_name   500 non-null    object\n",
      " 6   reg_date    500 non-null    object\n",
      " 7   tariff      500 non-null    object\n",
      "dtypes: int64(2), object(6)\n",
      "memory usage: 31.4+ KB\n"
     ]
    },
    {
     "data": {
      "text/plain": [
       "None"
      ]
     },
     "metadata": {},
     "output_type": "display_data"
    },
    {
     "data": {
      "text/html": [
       "<div>\n",
       "<style scoped>\n",
       "    .dataframe tbody tr th:only-of-type {\n",
       "        vertical-align: middle;\n",
       "    }\n",
       "\n",
       "    .dataframe tbody tr th {\n",
       "        vertical-align: top;\n",
       "    }\n",
       "\n",
       "    .dataframe thead th {\n",
       "        text-align: right;\n",
       "    }\n",
       "</style>\n",
       "<table border=\"1\" class=\"dataframe\">\n",
       "  <thead>\n",
       "    <tr style=\"text-align: right;\">\n",
       "      <th></th>\n",
       "      <th>user_id</th>\n",
       "      <th>age</th>\n",
       "      <th>churn_date</th>\n",
       "      <th>city</th>\n",
       "      <th>first_name</th>\n",
       "      <th>last_name</th>\n",
       "      <th>reg_date</th>\n",
       "      <th>tariff</th>\n",
       "    </tr>\n",
       "  </thead>\n",
       "  <tbody>\n",
       "    <tr>\n",
       "      <th>0</th>\n",
       "      <td>1000</td>\n",
       "      <td>52</td>\n",
       "      <td>NaN</td>\n",
       "      <td>Краснодар</td>\n",
       "      <td>Рафаил</td>\n",
       "      <td>Верещагин</td>\n",
       "      <td>2018-05-25</td>\n",
       "      <td>ultra</td>\n",
       "    </tr>\n",
       "    <tr>\n",
       "      <th>1</th>\n",
       "      <td>1001</td>\n",
       "      <td>41</td>\n",
       "      <td>NaN</td>\n",
       "      <td>Москва</td>\n",
       "      <td>Иван</td>\n",
       "      <td>Ежов</td>\n",
       "      <td>2018-11-01</td>\n",
       "      <td>smart</td>\n",
       "    </tr>\n",
       "    <tr>\n",
       "      <th>2</th>\n",
       "      <td>1002</td>\n",
       "      <td>59</td>\n",
       "      <td>NaN</td>\n",
       "      <td>Стерлитамак</td>\n",
       "      <td>Евгений</td>\n",
       "      <td>Абрамович</td>\n",
       "      <td>2018-06-17</td>\n",
       "      <td>smart</td>\n",
       "    </tr>\n",
       "    <tr>\n",
       "      <th>3</th>\n",
       "      <td>1003</td>\n",
       "      <td>23</td>\n",
       "      <td>NaN</td>\n",
       "      <td>Москва</td>\n",
       "      <td>Белла</td>\n",
       "      <td>Белякова</td>\n",
       "      <td>2018-08-17</td>\n",
       "      <td>ultra</td>\n",
       "    </tr>\n",
       "    <tr>\n",
       "      <th>4</th>\n",
       "      <td>1004</td>\n",
       "      <td>68</td>\n",
       "      <td>NaN</td>\n",
       "      <td>Новокузнецк</td>\n",
       "      <td>Татьяна</td>\n",
       "      <td>Авдеенко</td>\n",
       "      <td>2018-05-14</td>\n",
       "      <td>ultra</td>\n",
       "    </tr>\n",
       "  </tbody>\n",
       "</table>\n",
       "</div>"
      ],
      "text/plain": [
       "   user_id  age churn_date         city first_name  last_name    reg_date  \\\n",
       "0     1000   52        NaN    Краснодар     Рафаил  Верещагин  2018-05-25   \n",
       "1     1001   41        NaN       Москва       Иван       Ежов  2018-11-01   \n",
       "2     1002   59        NaN  Стерлитамак    Евгений  Абрамович  2018-06-17   \n",
       "3     1003   23        NaN       Москва      Белла   Белякова  2018-08-17   \n",
       "4     1004   68        NaN  Новокузнецк    Татьяна   Авдеенко  2018-05-14   \n",
       "\n",
       "  tariff  \n",
       "0  ultra  \n",
       "1  smart  \n",
       "2  smart  \n",
       "3  ultra  \n",
       "4  ultra  "
      ]
     },
     "metadata": {},
     "output_type": "display_data"
    },
    {
     "name": "stdout",
     "output_type": "stream",
     "text": [
      "<class 'pandas.core.frame.DataFrame'>\n",
      "RangeIndex: 2 entries, 0 to 1\n",
      "Data columns (total 8 columns):\n",
      " #   Column                 Non-Null Count  Dtype \n",
      "---  ------                 --------------  ----- \n",
      " 0   messages_included      2 non-null      int64 \n",
      " 1   mb_per_month_included  2 non-null      int64 \n",
      " 2   minutes_included       2 non-null      int64 \n",
      " 3   rub_monthly_fee        2 non-null      int64 \n",
      " 4   rub_per_gb             2 non-null      int64 \n",
      " 5   rub_per_message        2 non-null      int64 \n",
      " 6   rub_per_minute         2 non-null      int64 \n",
      " 7   tariff_name            2 non-null      object\n",
      "dtypes: int64(7), object(1)\n",
      "memory usage: 256.0+ bytes\n"
     ]
    },
    {
     "data": {
      "text/plain": [
       "None"
      ]
     },
     "metadata": {},
     "output_type": "display_data"
    },
    {
     "data": {
      "text/html": [
       "<div>\n",
       "<style scoped>\n",
       "    .dataframe tbody tr th:only-of-type {\n",
       "        vertical-align: middle;\n",
       "    }\n",
       "\n",
       "    .dataframe tbody tr th {\n",
       "        vertical-align: top;\n",
       "    }\n",
       "\n",
       "    .dataframe thead th {\n",
       "        text-align: right;\n",
       "    }\n",
       "</style>\n",
       "<table border=\"1\" class=\"dataframe\">\n",
       "  <thead>\n",
       "    <tr style=\"text-align: right;\">\n",
       "      <th></th>\n",
       "      <th>messages_included</th>\n",
       "      <th>mb_per_month_included</th>\n",
       "      <th>minutes_included</th>\n",
       "      <th>rub_monthly_fee</th>\n",
       "      <th>rub_per_gb</th>\n",
       "      <th>rub_per_message</th>\n",
       "      <th>rub_per_minute</th>\n",
       "      <th>tariff_name</th>\n",
       "    </tr>\n",
       "  </thead>\n",
       "  <tbody>\n",
       "    <tr>\n",
       "      <th>0</th>\n",
       "      <td>50</td>\n",
       "      <td>15360</td>\n",
       "      <td>500</td>\n",
       "      <td>550</td>\n",
       "      <td>200</td>\n",
       "      <td>3</td>\n",
       "      <td>3</td>\n",
       "      <td>smart</td>\n",
       "    </tr>\n",
       "    <tr>\n",
       "      <th>1</th>\n",
       "      <td>1000</td>\n",
       "      <td>30720</td>\n",
       "      <td>3000</td>\n",
       "      <td>1950</td>\n",
       "      <td>150</td>\n",
       "      <td>1</td>\n",
       "      <td>1</td>\n",
       "      <td>ultra</td>\n",
       "    </tr>\n",
       "  </tbody>\n",
       "</table>\n",
       "</div>"
      ],
      "text/plain": [
       "   messages_included  mb_per_month_included  minutes_included  \\\n",
       "0                 50                  15360               500   \n",
       "1               1000                  30720              3000   \n",
       "\n",
       "   rub_monthly_fee  rub_per_gb  rub_per_message  rub_per_minute tariff_name  \n",
       "0              550         200                3               3       smart  \n",
       "1             1950         150                1               1       ultra  "
      ]
     },
     "metadata": {},
     "output_type": "display_data"
    }
   ],
   "source": [
    "[display(i.info(), i.head()) for i in [calls, messages, internet, users, tariffs]];"
   ]
  },
  {
   "cell_type": "markdown",
   "metadata": {},
   "source": [
    "В таблицах `calls`, `messages`, `internet`, `users` нужно привести столбцы с датой к соответствующему типу"
   ]
  },
  {
   "cell_type": "code",
   "execution_count": 624,
   "metadata": {},
   "outputs": [],
   "source": [
    "calls['call_date'] = pd.to_datetime(calls['call_date'])\n",
    "messages['message_date'] = pd.to_datetime(messages['message_date'])\n",
    "internet['session_date'] = pd.to_datetime(internet['session_date'])\n",
    "users['churn_date'] = pd.to_datetime(users['churn_date'])\n",
    "users['reg_date'] = pd.to_datetime(users['reg_date'])\n"
   ]
  },
  {
   "cell_type": "code",
   "execution_count": 625,
   "metadata": {
    "scrolled": true
   },
   "outputs": [],
   "source": [
    "internet = internet.drop('Unnamed: 0', axis = 1)"
   ]
  },
  {
   "cell_type": "markdown",
   "metadata": {},
   "source": [
    "Для удобства и последующего соединения таблиц можно переименовать столбцы `id` в соответствии с категорией, к которой они относятся"
   ]
  },
  {
   "cell_type": "code",
   "execution_count": 626,
   "metadata": {},
   "outputs": [],
   "source": [
    "calls = calls.rename(columns = {'id': 'call_id'})\n",
    "messages = messages.rename(columns = {'id': 'message_id'})\n",
    "internet = internet.rename(columns = {'id': 'internet_id'})"
   ]
  },
  {
   "cell_type": "markdown",
   "metadata": {},
   "source": [
    "Каких-либо явных пропусков в данных нет (кроме `churn_date` и нулей в `calls`, которыми обозначены пропущенные звонки). Стоит проверить, что дата прекращения пользования тарифом стоит после даты регистрации"
   ]
  },
  {
   "cell_type": "code",
   "execution_count": 627,
   "metadata": {},
   "outputs": [
    {
     "data": {
      "text/html": [
       "<div>\n",
       "<style scoped>\n",
       "    .dataframe tbody tr th:only-of-type {\n",
       "        vertical-align: middle;\n",
       "    }\n",
       "\n",
       "    .dataframe tbody tr th {\n",
       "        vertical-align: top;\n",
       "    }\n",
       "\n",
       "    .dataframe thead th {\n",
       "        text-align: right;\n",
       "    }\n",
       "</style>\n",
       "<table border=\"1\" class=\"dataframe\">\n",
       "  <thead>\n",
       "    <tr style=\"text-align: right;\">\n",
       "      <th></th>\n",
       "      <th>user_id</th>\n",
       "      <th>age</th>\n",
       "      <th>churn_date</th>\n",
       "      <th>city</th>\n",
       "      <th>first_name</th>\n",
       "      <th>last_name</th>\n",
       "      <th>reg_date</th>\n",
       "      <th>tariff</th>\n",
       "    </tr>\n",
       "  </thead>\n",
       "  <tbody>\n",
       "  </tbody>\n",
       "</table>\n",
       "</div>"
      ],
      "text/plain": [
       "Empty DataFrame\n",
       "Columns: [user_id, age, churn_date, city, first_name, last_name, reg_date, tariff]\n",
       "Index: []"
      ]
     },
     "execution_count": 627,
     "metadata": {},
     "output_type": "execute_result"
    }
   ],
   "source": [
    "users[users['churn_date'] <= users['reg_date']]"
   ]
  },
  {
   "cell_type": "markdown",
   "metadata": {},
   "source": [
    "Все в порядке, осталось проверить на дубликаты"
   ]
  },
  {
   "cell_type": "code",
   "execution_count": 628,
   "metadata": {},
   "outputs": [
    {
     "data": {
      "text/plain": [
       "0"
      ]
     },
     "execution_count": 628,
     "metadata": {},
     "output_type": "execute_result"
    },
    {
     "data": {
      "text/plain": [
       "0"
      ]
     },
     "execution_count": 628,
     "metadata": {},
     "output_type": "execute_result"
    },
    {
     "data": {
      "text/plain": [
       "0"
      ]
     },
     "execution_count": 628,
     "metadata": {},
     "output_type": "execute_result"
    },
    {
     "data": {
      "text/plain": [
       "0"
      ]
     },
     "execution_count": 628,
     "metadata": {},
     "output_type": "execute_result"
    }
   ],
   "source": [
    "for i in [calls, messages, internet, users]:\n",
    "    i.duplicated().sum()"
   ]
  },
  {
   "cell_type": "markdown",
   "metadata": {},
   "source": [
    "Явных дубликатов нет"
   ]
  },
  {
   "cell_type": "markdown",
   "metadata": {},
   "source": [
    "# Расчет метрик для каждого пользователя"
   ]
  },
  {
   "cell_type": "markdown",
   "metadata": {},
   "source": [
    "Стоит добавить столбец с месяцем для последующей группировки"
   ]
  },
  {
   "cell_type": "code",
   "execution_count": 629,
   "metadata": {},
   "outputs": [],
   "source": [
    "calls['call_month'] = calls['call_date'].dt.to_period('M').dt.to_timestamp()\n",
    "messages['message_month'] = messages['message_date'].dt.to_period('M').dt.to_timestamp()\n",
    "internet['session_month'] = internet['session_date'].dt.to_period('M').dt.to_timestamp()"
   ]
  },
  {
   "cell_type": "markdown",
   "metadata": {},
   "source": [
    "## Количество сделанных звонков и израсходованных минут разговора по месяцам"
   ]
  },
  {
   "cell_type": "code",
   "execution_count": 630,
   "metadata": {
    "scrolled": false
   },
   "outputs": [
    {
     "data": {
      "text/html": [
       "<div>\n",
       "<style scoped>\n",
       "    .dataframe tbody tr th:only-of-type {\n",
       "        vertical-align: middle;\n",
       "    }\n",
       "\n",
       "    .dataframe tbody tr th {\n",
       "        vertical-align: top;\n",
       "    }\n",
       "\n",
       "    .dataframe thead th {\n",
       "        text-align: right;\n",
       "    }\n",
       "</style>\n",
       "<table border=\"1\" class=\"dataframe\">\n",
       "  <thead>\n",
       "    <tr style=\"text-align: right;\">\n",
       "      <th></th>\n",
       "      <th></th>\n",
       "      <th>calls_count</th>\n",
       "      <th>month_duration</th>\n",
       "    </tr>\n",
       "    <tr>\n",
       "      <th>user_id</th>\n",
       "      <th>call_month</th>\n",
       "      <th></th>\n",
       "      <th></th>\n",
       "    </tr>\n",
       "  </thead>\n",
       "  <tbody>\n",
       "    <tr>\n",
       "      <th rowspan=\"8\" valign=\"top\">1000</th>\n",
       "      <th>2018-05-01</th>\n",
       "      <td>22</td>\n",
       "      <td>150.06</td>\n",
       "    </tr>\n",
       "    <tr>\n",
       "      <th>2018-06-01</th>\n",
       "      <td>43</td>\n",
       "      <td>158.90</td>\n",
       "    </tr>\n",
       "    <tr>\n",
       "      <th>2018-07-01</th>\n",
       "      <td>47</td>\n",
       "      <td>318.80</td>\n",
       "    </tr>\n",
       "    <tr>\n",
       "      <th>2018-08-01</th>\n",
       "      <td>52</td>\n",
       "      <td>389.87</td>\n",
       "    </tr>\n",
       "    <tr>\n",
       "      <th>2018-09-01</th>\n",
       "      <td>58</td>\n",
       "      <td>440.14</td>\n",
       "    </tr>\n",
       "    <tr>\n",
       "      <th>2018-10-01</th>\n",
       "      <td>57</td>\n",
       "      <td>328.45</td>\n",
       "    </tr>\n",
       "    <tr>\n",
       "      <th>2018-11-01</th>\n",
       "      <td>43</td>\n",
       "      <td>319.04</td>\n",
       "    </tr>\n",
       "    <tr>\n",
       "      <th>2018-12-01</th>\n",
       "      <td>46</td>\n",
       "      <td>312.98</td>\n",
       "    </tr>\n",
       "    <tr>\n",
       "      <th rowspan=\"2\" valign=\"top\">1001</th>\n",
       "      <th>2018-11-01</th>\n",
       "      <td>59</td>\n",
       "      <td>408.12</td>\n",
       "    </tr>\n",
       "    <tr>\n",
       "      <th>2018-12-01</th>\n",
       "      <td>63</td>\n",
       "      <td>391.34</td>\n",
       "    </tr>\n",
       "  </tbody>\n",
       "</table>\n",
       "</div>"
      ],
      "text/plain": [
       "                    calls_count  month_duration\n",
       "user_id call_month                             \n",
       "1000    2018-05-01           22          150.06\n",
       "        2018-06-01           43          158.90\n",
       "        2018-07-01           47          318.80\n",
       "        2018-08-01           52          389.87\n",
       "        2018-09-01           58          440.14\n",
       "        2018-10-01           57          328.45\n",
       "        2018-11-01           43          319.04\n",
       "        2018-12-01           46          312.98\n",
       "1001    2018-11-01           59          408.12\n",
       "        2018-12-01           63          391.34"
      ]
     },
     "execution_count": 630,
     "metadata": {},
     "output_type": "execute_result"
    }
   ],
   "source": [
    "calls_per_month = calls.sort_values(by = ['user_id', 'call_month'])\\\n",
    "    .groupby(['user_id', 'call_month'])\\\n",
    "    .agg({'call_id': 'count', 'duration': 'sum'})\\\n",
    "    .rename(columns={'call_id': 'calls_count', 'duration': 'month_duration'})\n",
    "\n",
    "calls_per_month.head(10)"
   ]
  },
  {
   "cell_type": "markdown",
   "metadata": {},
   "source": [
    "## Количество отправленных сообщений по месяцам"
   ]
  },
  {
   "cell_type": "code",
   "execution_count": 631,
   "metadata": {},
   "outputs": [
    {
     "data": {
      "text/html": [
       "<div>\n",
       "<style scoped>\n",
       "    .dataframe tbody tr th:only-of-type {\n",
       "        vertical-align: middle;\n",
       "    }\n",
       "\n",
       "    .dataframe tbody tr th {\n",
       "        vertical-align: top;\n",
       "    }\n",
       "\n",
       "    .dataframe thead th {\n",
       "        text-align: right;\n",
       "    }\n",
       "</style>\n",
       "<table border=\"1\" class=\"dataframe\">\n",
       "  <thead>\n",
       "    <tr style=\"text-align: right;\">\n",
       "      <th></th>\n",
       "      <th></th>\n",
       "      <th>messages_count</th>\n",
       "    </tr>\n",
       "    <tr>\n",
       "      <th>user_id</th>\n",
       "      <th>message_month</th>\n",
       "      <th></th>\n",
       "    </tr>\n",
       "  </thead>\n",
       "  <tbody>\n",
       "    <tr>\n",
       "      <th rowspan=\"8\" valign=\"top\">1000</th>\n",
       "      <th>2018-05-01</th>\n",
       "      <td>22</td>\n",
       "    </tr>\n",
       "    <tr>\n",
       "      <th>2018-06-01</th>\n",
       "      <td>60</td>\n",
       "    </tr>\n",
       "    <tr>\n",
       "      <th>2018-07-01</th>\n",
       "      <td>75</td>\n",
       "    </tr>\n",
       "    <tr>\n",
       "      <th>2018-08-01</th>\n",
       "      <td>81</td>\n",
       "    </tr>\n",
       "    <tr>\n",
       "      <th>2018-09-01</th>\n",
       "      <td>57</td>\n",
       "    </tr>\n",
       "    <tr>\n",
       "      <th>2018-10-01</th>\n",
       "      <td>73</td>\n",
       "    </tr>\n",
       "    <tr>\n",
       "      <th>2018-11-01</th>\n",
       "      <td>58</td>\n",
       "    </tr>\n",
       "    <tr>\n",
       "      <th>2018-12-01</th>\n",
       "      <td>70</td>\n",
       "    </tr>\n",
       "    <tr>\n",
       "      <th rowspan=\"2\" valign=\"top\">1002</th>\n",
       "      <th>2018-06-01</th>\n",
       "      <td>4</td>\n",
       "    </tr>\n",
       "    <tr>\n",
       "      <th>2018-07-01</th>\n",
       "      <td>11</td>\n",
       "    </tr>\n",
       "  </tbody>\n",
       "</table>\n",
       "</div>"
      ],
      "text/plain": [
       "                       messages_count\n",
       "user_id message_month                \n",
       "1000    2018-05-01                 22\n",
       "        2018-06-01                 60\n",
       "        2018-07-01                 75\n",
       "        2018-08-01                 81\n",
       "        2018-09-01                 57\n",
       "        2018-10-01                 73\n",
       "        2018-11-01                 58\n",
       "        2018-12-01                 70\n",
       "1002    2018-06-01                  4\n",
       "        2018-07-01                 11"
      ]
     },
     "execution_count": 631,
     "metadata": {},
     "output_type": "execute_result"
    }
   ],
   "source": [
    "messages_per_month = messages.sort_values(by = ['user_id', 'message_month'])\\\n",
    "    .groupby(['user_id', 'message_month'])\\\n",
    "    .agg({'message_id': 'count'})\\\n",
    "    .rename(columns={'message_id': 'messages_count'})\n",
    "\n",
    "messages_per_month.head(10)"
   ]
  },
  {
   "cell_type": "markdown",
   "metadata": {},
   "source": [
    "## Объем израсходованного интернет-трафика по месяцам"
   ]
  },
  {
   "cell_type": "code",
   "execution_count": 632,
   "metadata": {
    "scrolled": false
   },
   "outputs": [
    {
     "data": {
      "text/html": [
       "<div>\n",
       "<style scoped>\n",
       "    .dataframe tbody tr th:only-of-type {\n",
       "        vertical-align: middle;\n",
       "    }\n",
       "\n",
       "    .dataframe tbody tr th {\n",
       "        vertical-align: top;\n",
       "    }\n",
       "\n",
       "    .dataframe thead th {\n",
       "        text-align: right;\n",
       "    }\n",
       "</style>\n",
       "<table border=\"1\" class=\"dataframe\">\n",
       "  <thead>\n",
       "    <tr style=\"text-align: right;\">\n",
       "      <th></th>\n",
       "      <th></th>\n",
       "      <th>mb_used_total</th>\n",
       "    </tr>\n",
       "    <tr>\n",
       "      <th>user_id</th>\n",
       "      <th>session_month</th>\n",
       "      <th></th>\n",
       "    </tr>\n",
       "  </thead>\n",
       "  <tbody>\n",
       "    <tr>\n",
       "      <th rowspan=\"8\" valign=\"top\">1000</th>\n",
       "      <th>2018-05-01</th>\n",
       "      <td>2253.49</td>\n",
       "    </tr>\n",
       "    <tr>\n",
       "      <th>2018-06-01</th>\n",
       "      <td>23233.77</td>\n",
       "    </tr>\n",
       "    <tr>\n",
       "      <th>2018-07-01</th>\n",
       "      <td>14003.64</td>\n",
       "    </tr>\n",
       "    <tr>\n",
       "      <th>2018-08-01</th>\n",
       "      <td>14055.93</td>\n",
       "    </tr>\n",
       "    <tr>\n",
       "      <th>2018-09-01</th>\n",
       "      <td>14568.91</td>\n",
       "    </tr>\n",
       "    <tr>\n",
       "      <th>2018-10-01</th>\n",
       "      <td>14702.49</td>\n",
       "    </tr>\n",
       "    <tr>\n",
       "      <th>2018-11-01</th>\n",
       "      <td>14756.47</td>\n",
       "    </tr>\n",
       "    <tr>\n",
       "      <th>2018-12-01</th>\n",
       "      <td>9817.61</td>\n",
       "    </tr>\n",
       "    <tr>\n",
       "      <th rowspan=\"2\" valign=\"top\">1001</th>\n",
       "      <th>2018-11-01</th>\n",
       "      <td>18429.34</td>\n",
       "    </tr>\n",
       "    <tr>\n",
       "      <th>2018-12-01</th>\n",
       "      <td>14036.66</td>\n",
       "    </tr>\n",
       "  </tbody>\n",
       "</table>\n",
       "</div>"
      ],
      "text/plain": [
       "                       mb_used_total\n",
       "user_id session_month               \n",
       "1000    2018-05-01           2253.49\n",
       "        2018-06-01          23233.77\n",
       "        2018-07-01          14003.64\n",
       "        2018-08-01          14055.93\n",
       "        2018-09-01          14568.91\n",
       "        2018-10-01          14702.49\n",
       "        2018-11-01          14756.47\n",
       "        2018-12-01           9817.61\n",
       "1001    2018-11-01          18429.34\n",
       "        2018-12-01          14036.66"
      ]
     },
     "execution_count": 632,
     "metadata": {},
     "output_type": "execute_result"
    }
   ],
   "source": [
    "internet_per_month = internet.sort_values(by = ['user_id', 'session_month'])\\\n",
    "    .groupby(['user_id', 'session_month'])\\\n",
    "    .agg({'mb_used': 'sum'})\\\n",
    "    .rename(columns={'mb_used': 'mb_used_total'})\n",
    "\n",
    "internet_per_month.head(10)"
   ]
  },
  {
   "cell_type": "markdown",
   "metadata": {},
   "source": [
    "## Помесячная выручка с каждого пользователя"
   ]
  },
  {
   "cell_type": "code",
   "execution_count": 633,
   "metadata": {
    "scrolled": false
   },
   "outputs": [
    {
     "data": {
      "text/html": [
       "<div>\n",
       "<style scoped>\n",
       "    .dataframe tbody tr th:only-of-type {\n",
       "        vertical-align: middle;\n",
       "    }\n",
       "\n",
       "    .dataframe tbody tr th {\n",
       "        vertical-align: top;\n",
       "    }\n",
       "\n",
       "    .dataframe thead th {\n",
       "        text-align: right;\n",
       "    }\n",
       "</style>\n",
       "<table border=\"1\" class=\"dataframe\">\n",
       "  <thead>\n",
       "    <tr style=\"text-align: right;\">\n",
       "      <th></th>\n",
       "      <th>user_id</th>\n",
       "      <th>session_month</th>\n",
       "      <th>calls_count</th>\n",
       "      <th>month_duration</th>\n",
       "      <th>messages_count</th>\n",
       "      <th>mb_used_total</th>\n",
       "    </tr>\n",
       "  </thead>\n",
       "  <tbody>\n",
       "    <tr>\n",
       "      <th>0</th>\n",
       "      <td>1000</td>\n",
       "      <td>2018-05-01</td>\n",
       "      <td>22.0</td>\n",
       "      <td>150.06</td>\n",
       "      <td>22.0</td>\n",
       "      <td>2253.49</td>\n",
       "    </tr>\n",
       "    <tr>\n",
       "      <th>1</th>\n",
       "      <td>1000</td>\n",
       "      <td>2018-06-01</td>\n",
       "      <td>43.0</td>\n",
       "      <td>158.90</td>\n",
       "      <td>60.0</td>\n",
       "      <td>23233.77</td>\n",
       "    </tr>\n",
       "    <tr>\n",
       "      <th>2</th>\n",
       "      <td>1000</td>\n",
       "      <td>2018-07-01</td>\n",
       "      <td>47.0</td>\n",
       "      <td>318.80</td>\n",
       "      <td>75.0</td>\n",
       "      <td>14003.64</td>\n",
       "    </tr>\n",
       "    <tr>\n",
       "      <th>3</th>\n",
       "      <td>1000</td>\n",
       "      <td>2018-08-01</td>\n",
       "      <td>52.0</td>\n",
       "      <td>389.87</td>\n",
       "      <td>81.0</td>\n",
       "      <td>14055.93</td>\n",
       "    </tr>\n",
       "    <tr>\n",
       "      <th>4</th>\n",
       "      <td>1000</td>\n",
       "      <td>2018-09-01</td>\n",
       "      <td>58.0</td>\n",
       "      <td>440.14</td>\n",
       "      <td>57.0</td>\n",
       "      <td>14568.91</td>\n",
       "    </tr>\n",
       "    <tr>\n",
       "      <th>5</th>\n",
       "      <td>1000</td>\n",
       "      <td>2018-10-01</td>\n",
       "      <td>57.0</td>\n",
       "      <td>328.45</td>\n",
       "      <td>73.0</td>\n",
       "      <td>14702.49</td>\n",
       "    </tr>\n",
       "    <tr>\n",
       "      <th>6</th>\n",
       "      <td>1000</td>\n",
       "      <td>2018-11-01</td>\n",
       "      <td>43.0</td>\n",
       "      <td>319.04</td>\n",
       "      <td>58.0</td>\n",
       "      <td>14756.47</td>\n",
       "    </tr>\n",
       "    <tr>\n",
       "      <th>7</th>\n",
       "      <td>1000</td>\n",
       "      <td>2018-12-01</td>\n",
       "      <td>46.0</td>\n",
       "      <td>312.98</td>\n",
       "      <td>70.0</td>\n",
       "      <td>9817.61</td>\n",
       "    </tr>\n",
       "    <tr>\n",
       "      <th>8</th>\n",
       "      <td>1001</td>\n",
       "      <td>2018-11-01</td>\n",
       "      <td>59.0</td>\n",
       "      <td>408.12</td>\n",
       "      <td>NaN</td>\n",
       "      <td>18429.34</td>\n",
       "    </tr>\n",
       "    <tr>\n",
       "      <th>9</th>\n",
       "      <td>1001</td>\n",
       "      <td>2018-12-01</td>\n",
       "      <td>63.0</td>\n",
       "      <td>391.34</td>\n",
       "      <td>NaN</td>\n",
       "      <td>14036.66</td>\n",
       "    </tr>\n",
       "  </tbody>\n",
       "</table>\n",
       "</div>"
      ],
      "text/plain": [
       "   user_id session_month  calls_count  month_duration  messages_count  \\\n",
       "0     1000    2018-05-01         22.0          150.06            22.0   \n",
       "1     1000    2018-06-01         43.0          158.90            60.0   \n",
       "2     1000    2018-07-01         47.0          318.80            75.0   \n",
       "3     1000    2018-08-01         52.0          389.87            81.0   \n",
       "4     1000    2018-09-01         58.0          440.14            57.0   \n",
       "5     1000    2018-10-01         57.0          328.45            73.0   \n",
       "6     1000    2018-11-01         43.0          319.04            58.0   \n",
       "7     1000    2018-12-01         46.0          312.98            70.0   \n",
       "8     1001    2018-11-01         59.0          408.12             NaN   \n",
       "9     1001    2018-12-01         63.0          391.34             NaN   \n",
       "\n",
       "   mb_used_total  \n",
       "0        2253.49  \n",
       "1       23233.77  \n",
       "2       14003.64  \n",
       "3       14055.93  \n",
       "4       14568.91  \n",
       "5       14702.49  \n",
       "6       14756.47  \n",
       "7        9817.61  \n",
       "8       18429.34  \n",
       "9       14036.66  "
      ]
     },
     "execution_count": 633,
     "metadata": {},
     "output_type": "execute_result"
    }
   ],
   "source": [
    "total_metrics = calls_per_month.merge(messages_per_month,\n",
    "                      left_index=True, \n",
    "                      right_on=['user_id', 'message_month'],\n",
    "                      how = 'outer'\n",
    "                     ).sort_index()\\\n",
    "                     .merge(internet_per_month,\n",
    "                      left_index=True, \n",
    "                      right_on=['user_id', 'session_month'],\n",
    "                      how = 'outer'\n",
    "                     ).sort_index().reset_index()\n",
    "\n",
    "total_metrics.head(10)"
   ]
  },
  {
   "cell_type": "markdown",
   "metadata": {},
   "source": [
    "Все данные сгруппированы по пользователю и месяцу. Теперь нужно объединить с данными тарифного плана для расчета помесячной выручки"
   ]
  },
  {
   "cell_type": "code",
   "execution_count": 634,
   "metadata": {
    "run_control": {
     "marked": false
    }
   },
   "outputs": [],
   "source": [
    "total_revenue = total_metrics.merge(users[['user_id', 'tariff']], on = 'user_id', how='left')\\\n",
    "             .merge(tariffs, left_on='tariff', right_on='tariff_name', how='left')\\\n",
    "             .drop('tariff_name', axis = 1)\\\n",
    "             .rename(columns={'session_month': 'month', 'month_duration': 'calls_duration'})"
   ]
  },
  {
   "cell_type": "code",
   "execution_count": 635,
   "metadata": {
    "scrolled": false
   },
   "outputs": [
    {
     "data": {
      "text/html": [
       "<div>\n",
       "<style scoped>\n",
       "    .dataframe tbody tr th:only-of-type {\n",
       "        vertical-align: middle;\n",
       "    }\n",
       "\n",
       "    .dataframe tbody tr th {\n",
       "        vertical-align: top;\n",
       "    }\n",
       "\n",
       "    .dataframe thead th {\n",
       "        text-align: right;\n",
       "    }\n",
       "</style>\n",
       "<table border=\"1\" class=\"dataframe\">\n",
       "  <thead>\n",
       "    <tr style=\"text-align: right;\">\n",
       "      <th></th>\n",
       "      <th>user_id</th>\n",
       "      <th>month</th>\n",
       "      <th>calls_count</th>\n",
       "      <th>calls_duration</th>\n",
       "      <th>messages_count</th>\n",
       "      <th>mb_used_total</th>\n",
       "      <th>tariff</th>\n",
       "      <th>messages_included</th>\n",
       "      <th>mb_per_month_included</th>\n",
       "      <th>minutes_included</th>\n",
       "      <th>rub_monthly_fee</th>\n",
       "      <th>rub_per_gb</th>\n",
       "      <th>rub_per_message</th>\n",
       "      <th>rub_per_minute</th>\n",
       "      <th>revenue</th>\n",
       "    </tr>\n",
       "  </thead>\n",
       "  <tbody>\n",
       "    <tr>\n",
       "      <th>0</th>\n",
       "      <td>1000</td>\n",
       "      <td>2018-05-01</td>\n",
       "      <td>22.0</td>\n",
       "      <td>150.06</td>\n",
       "      <td>22.0</td>\n",
       "      <td>2253.49</td>\n",
       "      <td>ultra</td>\n",
       "      <td>1000</td>\n",
       "      <td>30720</td>\n",
       "      <td>3000</td>\n",
       "      <td>1950</td>\n",
       "      <td>150</td>\n",
       "      <td>1</td>\n",
       "      <td>1</td>\n",
       "      <td>1950.0</td>\n",
       "    </tr>\n",
       "    <tr>\n",
       "      <th>1</th>\n",
       "      <td>1000</td>\n",
       "      <td>2018-06-01</td>\n",
       "      <td>43.0</td>\n",
       "      <td>158.90</td>\n",
       "      <td>60.0</td>\n",
       "      <td>23233.77</td>\n",
       "      <td>ultra</td>\n",
       "      <td>1000</td>\n",
       "      <td>30720</td>\n",
       "      <td>3000</td>\n",
       "      <td>1950</td>\n",
       "      <td>150</td>\n",
       "      <td>1</td>\n",
       "      <td>1</td>\n",
       "      <td>1950.0</td>\n",
       "    </tr>\n",
       "    <tr>\n",
       "      <th>2</th>\n",
       "      <td>1000</td>\n",
       "      <td>2018-07-01</td>\n",
       "      <td>47.0</td>\n",
       "      <td>318.80</td>\n",
       "      <td>75.0</td>\n",
       "      <td>14003.64</td>\n",
       "      <td>ultra</td>\n",
       "      <td>1000</td>\n",
       "      <td>30720</td>\n",
       "      <td>3000</td>\n",
       "      <td>1950</td>\n",
       "      <td>150</td>\n",
       "      <td>1</td>\n",
       "      <td>1</td>\n",
       "      <td>1950.0</td>\n",
       "    </tr>\n",
       "    <tr>\n",
       "      <th>3</th>\n",
       "      <td>1000</td>\n",
       "      <td>2018-08-01</td>\n",
       "      <td>52.0</td>\n",
       "      <td>389.87</td>\n",
       "      <td>81.0</td>\n",
       "      <td>14055.93</td>\n",
       "      <td>ultra</td>\n",
       "      <td>1000</td>\n",
       "      <td>30720</td>\n",
       "      <td>3000</td>\n",
       "      <td>1950</td>\n",
       "      <td>150</td>\n",
       "      <td>1</td>\n",
       "      <td>1</td>\n",
       "      <td>1950.0</td>\n",
       "    </tr>\n",
       "    <tr>\n",
       "      <th>4</th>\n",
       "      <td>1000</td>\n",
       "      <td>2018-09-01</td>\n",
       "      <td>58.0</td>\n",
       "      <td>440.14</td>\n",
       "      <td>57.0</td>\n",
       "      <td>14568.91</td>\n",
       "      <td>ultra</td>\n",
       "      <td>1000</td>\n",
       "      <td>30720</td>\n",
       "      <td>3000</td>\n",
       "      <td>1950</td>\n",
       "      <td>150</td>\n",
       "      <td>1</td>\n",
       "      <td>1</td>\n",
       "      <td>1950.0</td>\n",
       "    </tr>\n",
       "    <tr>\n",
       "      <th>5</th>\n",
       "      <td>1000</td>\n",
       "      <td>2018-10-01</td>\n",
       "      <td>57.0</td>\n",
       "      <td>328.45</td>\n",
       "      <td>73.0</td>\n",
       "      <td>14702.49</td>\n",
       "      <td>ultra</td>\n",
       "      <td>1000</td>\n",
       "      <td>30720</td>\n",
       "      <td>3000</td>\n",
       "      <td>1950</td>\n",
       "      <td>150</td>\n",
       "      <td>1</td>\n",
       "      <td>1</td>\n",
       "      <td>1950.0</td>\n",
       "    </tr>\n",
       "    <tr>\n",
       "      <th>6</th>\n",
       "      <td>1000</td>\n",
       "      <td>2018-11-01</td>\n",
       "      <td>43.0</td>\n",
       "      <td>319.04</td>\n",
       "      <td>58.0</td>\n",
       "      <td>14756.47</td>\n",
       "      <td>ultra</td>\n",
       "      <td>1000</td>\n",
       "      <td>30720</td>\n",
       "      <td>3000</td>\n",
       "      <td>1950</td>\n",
       "      <td>150</td>\n",
       "      <td>1</td>\n",
       "      <td>1</td>\n",
       "      <td>1950.0</td>\n",
       "    </tr>\n",
       "    <tr>\n",
       "      <th>7</th>\n",
       "      <td>1000</td>\n",
       "      <td>2018-12-01</td>\n",
       "      <td>46.0</td>\n",
       "      <td>312.98</td>\n",
       "      <td>70.0</td>\n",
       "      <td>9817.61</td>\n",
       "      <td>ultra</td>\n",
       "      <td>1000</td>\n",
       "      <td>30720</td>\n",
       "      <td>3000</td>\n",
       "      <td>1950</td>\n",
       "      <td>150</td>\n",
       "      <td>1</td>\n",
       "      <td>1</td>\n",
       "      <td>1950.0</td>\n",
       "    </tr>\n",
       "    <tr>\n",
       "      <th>8</th>\n",
       "      <td>1001</td>\n",
       "      <td>2018-11-01</td>\n",
       "      <td>59.0</td>\n",
       "      <td>408.12</td>\n",
       "      <td>NaN</td>\n",
       "      <td>18429.34</td>\n",
       "      <td>smart</td>\n",
       "      <td>50</td>\n",
       "      <td>15360</td>\n",
       "      <td>500</td>\n",
       "      <td>550</td>\n",
       "      <td>200</td>\n",
       "      <td>3</td>\n",
       "      <td>3</td>\n",
       "      <td>1150.0</td>\n",
       "    </tr>\n",
       "    <tr>\n",
       "      <th>9</th>\n",
       "      <td>1001</td>\n",
       "      <td>2018-12-01</td>\n",
       "      <td>63.0</td>\n",
       "      <td>391.34</td>\n",
       "      <td>NaN</td>\n",
       "      <td>14036.66</td>\n",
       "      <td>smart</td>\n",
       "      <td>50</td>\n",
       "      <td>15360</td>\n",
       "      <td>500</td>\n",
       "      <td>550</td>\n",
       "      <td>200</td>\n",
       "      <td>3</td>\n",
       "      <td>3</td>\n",
       "      <td>550.0</td>\n",
       "    </tr>\n",
       "  </tbody>\n",
       "</table>\n",
       "</div>"
      ],
      "text/plain": [
       "   user_id      month  calls_count  calls_duration  messages_count  \\\n",
       "0     1000 2018-05-01         22.0          150.06            22.0   \n",
       "1     1000 2018-06-01         43.0          158.90            60.0   \n",
       "2     1000 2018-07-01         47.0          318.80            75.0   \n",
       "3     1000 2018-08-01         52.0          389.87            81.0   \n",
       "4     1000 2018-09-01         58.0          440.14            57.0   \n",
       "5     1000 2018-10-01         57.0          328.45            73.0   \n",
       "6     1000 2018-11-01         43.0          319.04            58.0   \n",
       "7     1000 2018-12-01         46.0          312.98            70.0   \n",
       "8     1001 2018-11-01         59.0          408.12             NaN   \n",
       "9     1001 2018-12-01         63.0          391.34             NaN   \n",
       "\n",
       "   mb_used_total tariff  messages_included  mb_per_month_included  \\\n",
       "0        2253.49  ultra               1000                  30720   \n",
       "1       23233.77  ultra               1000                  30720   \n",
       "2       14003.64  ultra               1000                  30720   \n",
       "3       14055.93  ultra               1000                  30720   \n",
       "4       14568.91  ultra               1000                  30720   \n",
       "5       14702.49  ultra               1000                  30720   \n",
       "6       14756.47  ultra               1000                  30720   \n",
       "7        9817.61  ultra               1000                  30720   \n",
       "8       18429.34  smart                 50                  15360   \n",
       "9       14036.66  smart                 50                  15360   \n",
       "\n",
       "   minutes_included  rub_monthly_fee  rub_per_gb  rub_per_message  \\\n",
       "0              3000             1950         150                1   \n",
       "1              3000             1950         150                1   \n",
       "2              3000             1950         150                1   \n",
       "3              3000             1950         150                1   \n",
       "4              3000             1950         150                1   \n",
       "5              3000             1950         150                1   \n",
       "6              3000             1950         150                1   \n",
       "7              3000             1950         150                1   \n",
       "8               500              550         200                3   \n",
       "9               500              550         200                3   \n",
       "\n",
       "   rub_per_minute  revenue  \n",
       "0               1   1950.0  \n",
       "1               1   1950.0  \n",
       "2               1   1950.0  \n",
       "3               1   1950.0  \n",
       "4               1   1950.0  \n",
       "5               1   1950.0  \n",
       "6               1   1950.0  \n",
       "7               1   1950.0  \n",
       "8               3   1150.0  \n",
       "9               3    550.0  "
      ]
     },
     "execution_count": 635,
     "metadata": {},
     "output_type": "execute_result"
    }
   ],
   "source": [
    "# функция для подсчета помесячной выручки с каждого пользователя\n",
    "def revenue(df):\n",
    "# все значения в впределах тарифа\n",
    "    revenue = df['rub_monthly_fee']\n",
    "    if df['calls_duration'] <= df['minutes_included'] \\\n",
    "        and df['messages_count'] <= df['messages_included'] \\\n",
    "        and df['mb_used_total'] <= df['mb_per_month_included']:\n",
    "            return revenue \n",
    "# количество минут в звонках за месяц больше, чем в тарифе\n",
    "    if df['calls_duration'] > df['minutes_included']:\n",
    "            revenue += np.ceil(df['calls_duration'] - df['minutes_included'])*df['rub_per_minute']\n",
    "# количество сообщений за месяц больше, чем в тарифе\n",
    "    if df['messages_count'] > df['messages_included']:\n",
    "            revenue += np.ceil(df['messages_count'] - df['messages_included'])*df['rub_per_message']\n",
    "# количество Гб в интернет-трафике за месяц больше, чем в тарифе            \n",
    "    if df['mb_used_total'] > df['mb_per_month_included']:\n",
    "            revenue += (np.ceil(df['mb_used_total'] / 1024) - (df['mb_per_month_included'] / 1024))\\\n",
    "                * df['rub_per_gb']\n",
    "        \n",
    "    return revenue \n",
    "        \n",
    "    \n",
    "    \n",
    "total_revenue['revenue'] = total_revenue.apply(revenue, axis=1)\n",
    "total_revenue.head(10)"
   ]
  },
  {
   "cell_type": "markdown",
   "metadata": {},
   "source": [
    "# Анализ данных"
   ]
  },
  {
   "cell_type": "markdown",
   "metadata": {},
   "source": [
    "Расчет среднего количества, дисперсии и стандартного отклонения выборки для минут разговора, количества сообщений, объёма интернет-трафика и выручки"
   ]
  },
  {
   "cell_type": "code",
   "execution_count": 636,
   "metadata": {},
   "outputs": [
    {
     "data": {
      "text/html": [
       "<div>\n",
       "<style scoped>\n",
       "    .dataframe tbody tr th:only-of-type {\n",
       "        vertical-align: middle;\n",
       "    }\n",
       "\n",
       "    .dataframe tbody tr th {\n",
       "        vertical-align: top;\n",
       "    }\n",
       "\n",
       "    .dataframe thead tr th {\n",
       "        text-align: left;\n",
       "    }\n",
       "\n",
       "    .dataframe thead tr:last-of-type th {\n",
       "        text-align: right;\n",
       "    }\n",
       "</style>\n",
       "<table border=\"1\" class=\"dataframe\">\n",
       "  <thead>\n",
       "    <tr>\n",
       "      <th></th>\n",
       "      <th colspan=\"3\" halign=\"left\">calls_duration</th>\n",
       "      <th colspan=\"3\" halign=\"left\">messages_count</th>\n",
       "      <th colspan=\"3\" halign=\"left\">mb_used_total</th>\n",
       "      <th colspan=\"3\" halign=\"left\">revenue</th>\n",
       "    </tr>\n",
       "    <tr>\n",
       "      <th></th>\n",
       "      <th>mean</th>\n",
       "      <th>var</th>\n",
       "      <th>std</th>\n",
       "      <th>mean</th>\n",
       "      <th>var</th>\n",
       "      <th>std</th>\n",
       "      <th>mean</th>\n",
       "      <th>var</th>\n",
       "      <th>std</th>\n",
       "      <th>mean</th>\n",
       "      <th>var</th>\n",
       "      <th>std</th>\n",
       "    </tr>\n",
       "    <tr>\n",
       "      <th>tariff</th>\n",
       "      <th></th>\n",
       "      <th></th>\n",
       "      <th></th>\n",
       "      <th></th>\n",
       "      <th></th>\n",
       "      <th></th>\n",
       "      <th></th>\n",
       "      <th></th>\n",
       "      <th></th>\n",
       "      <th></th>\n",
       "      <th></th>\n",
       "      <th></th>\n",
       "    </tr>\n",
       "  </thead>\n",
       "  <tbody>\n",
       "    <tr>\n",
       "      <th>smart</th>\n",
       "      <td>395.491606</td>\n",
       "      <td>32052.625911</td>\n",
       "      <td>179.032472</td>\n",
       "      <td>38.716441</td>\n",
       "      <td>717.594201</td>\n",
       "      <td>26.787949</td>\n",
       "      <td>16215.661849</td>\n",
       "      <td>3.435995e+07</td>\n",
       "      <td>5861.736234</td>\n",
       "      <td>1257.588605</td>\n",
       "      <td>641465.797016</td>\n",
       "      <td>800.915599</td>\n",
       "    </tr>\n",
       "    <tr>\n",
       "      <th>ultra</th>\n",
       "      <td>514.839327</td>\n",
       "      <td>84002.601260</td>\n",
       "      <td>289.832022</td>\n",
       "      <td>61.161006</td>\n",
       "      <td>2109.659183</td>\n",
       "      <td>45.931026</td>\n",
       "      <td>19668.485262</td>\n",
       "      <td>9.886425e+07</td>\n",
       "      <td>9943.050284</td>\n",
       "      <td>2070.152284</td>\n",
       "      <td>141516.745079</td>\n",
       "      <td>376.187114</td>\n",
       "    </tr>\n",
       "  </tbody>\n",
       "</table>\n",
       "</div>"
      ],
      "text/plain": [
       "       calls_duration                           messages_count               \\\n",
       "                 mean           var         std           mean          var   \n",
       "tariff                                                                        \n",
       "smart      395.491606  32052.625911  179.032472      38.716441   717.594201   \n",
       "ultra      514.839327  84002.601260  289.832022      61.161006  2109.659183   \n",
       "\n",
       "                  mb_used_total                                 revenue  \\\n",
       "              std          mean           var          std         mean   \n",
       "tariff                                                                    \n",
       "smart   26.787949  16215.661849  3.435995e+07  5861.736234  1257.588605   \n",
       "ultra   45.931026  19668.485262  9.886425e+07  9943.050284  2070.152284   \n",
       "\n",
       "                                   \n",
       "                  var         std  \n",
       "tariff                             \n",
       "smart   641465.797016  800.915599  \n",
       "ultra   141516.745079  376.187114  "
      ]
     },
     "execution_count": 636,
     "metadata": {},
     "output_type": "execute_result"
    }
   ],
   "source": [
    "tariff_distr = total_revenue.groupby(['tariff'])\\\n",
    "        .agg({'calls_duration': ['mean', 'var', 'std'], \n",
    "              'messages_count': ['mean', 'var', 'std'],\n",
    "              'mb_used_total' : ['mean', 'var', 'std'],\n",
    "              'revenue'       : ['mean', 'var', 'std']})\n",
    "tariff_distr"
   ]
  },
  {
   "cell_type": "markdown",
   "metadata": {},
   "source": [
    "В среднем пользователям тарифа `Smart` в месяц нужно:\n",
    "- на 120 минут меньше, чем пользователям тарифа `Ultra`\n",
    "- на 12 сообщений меньше, чем пользователям тарифа `Ultra`\n",
    "- на 3500 Мб интернета меньше, чем пользователям тарифа `Ultra`\n"
   ]
  },
  {
   "cell_type": "code",
   "execution_count": 637,
   "metadata": {
    "code_folding": [],
    "scrolled": false
   },
   "outputs": [
    {
     "data": {
      "image/png": "[encoded data removed]",
      "text/plain": [
       "<Figure size 1152x1152 with 8 Axes>"
      ]
     },
     "metadata": {
      "needs_background": "light"
     },
     "output_type": "display_data"
    }
   ],
   "source": [
    "fig, ax = plt.subplots(4, 2, figsize = (16, 16))\n",
    "fig.suptitle('Распределения средних значений минут, сообщений и интернет-трафика за месяц для 2 тарифов', fontsize = 16, y = 1.02)\n",
    "\n",
    "for k, i in enumerate(['calls_duration', 'messages_count', 'mb_used_total', 'revenue']): \n",
    "    for j in ['smart', 'ultra']:\n",
    "        if j == 'smart':\n",
    "            ax[k][0].set_title(f'mean {i} histogram for {j.capitalize()} tariff')\n",
    "            ax[k][0].axvline(tariff_distr[i]['mean'][0] - 3*tariff_distr[i]['std'][0])\n",
    "            ax[k][0].text(x = tariff_distr[i]['mean'][0] - 3*tariff_distr[i]['std'][0], y = 10, s = ' μ - 3σ')\n",
    "            \n",
    "            ax[k][0].axvline(tariff_distr[i]['mean'][0] + 3*tariff_distr[i]['std'][0])\n",
    "            ax[k][0].text(x = tariff_distr[i]['mean'][0] + 3*tariff_distr[i]['std'][0],\n",
    "                          y = 10, s = 'μ + 3σ ', ha = 'right')\n",
    "       \n",
    "            ax[k][0].hist(total_revenue.query('tariff == @j').groupby('user_id').mean()[i], bins = 30)\n",
    "        \n",
    "        \n",
    "            if k == 0:\n",
    "                ax[k][0].set_xlabel('Средняя длительность разговора (мин)')\n",
    "                ax[k][0].set_ylabel('Частота')\n",
    "            if k == 1:\n",
    "                ax[k][0].set_xlabel('Среднее количество сообщений')\n",
    "                ax[k][0].set_ylabel('Частота')\n",
    "            if k == 2:\n",
    "                ax[k][0].set_xlabel('Среднее количество использованного интернет-трафика (Мб)')\n",
    "                ax[k][0].set_ylabel('Частота')\n",
    "            if k == 3:\n",
    "                ax[k][0].set_xlabel('Средняя выручка (руб)')\n",
    "                ax[k][0].set_ylabel('Частота')\n",
    "        \n",
    "        \n",
    "        if j == 'ultra':\n",
    "            ax[k][1].set_title(f'mean {i} histogram for {j.capitalize()} tariff')\n",
    "            ax[k][1].axvline(tariff_distr[i]['mean'][1] - 3*tariff_distr[i]['std'][1])\n",
    "            ax[k][1].text(x = tariff_distr[i]['mean'][1] - 3*tariff_distr[i]['std'][1], y = 10, s = ' μ - 3σ')\n",
    "\n",
    "            ax[k][1].axvline(tariff_distr[i]['mean'][1] + 3*tariff_distr[i]['std'][1])\n",
    "            ax[k][1].text(x = tariff_distr[i]['mean'][1] + 3*tariff_distr[i]['std'][1],\n",
    "                          y = 10, s = 'μ + 3σ ', ha = 'right')\n",
    "\n",
    "            ax[k][1].hist(total_revenue.query('tariff == @j').groupby('user_id').mean()[i], bins = 30)\n",
    "            \n",
    "            if k == 0:\n",
    "                ax[k][1].set_xlabel('Средняя длительность разговора (мин)')\n",
    "                ax[k][1].set_ylabel('Частота')\n",
    "            if k == 1:\n",
    "                ax[k][1].set_xlabel('Среднее количество сообщений')\n",
    "                ax[k][1].set_ylabel('Частота')\n",
    "            if k == 2:\n",
    "                ax[k][1].set_xlabel('Среднее количество использованного интернет-трафика (Мб)')\n",
    "                ax[k][1].set_ylabel('Частота')\n",
    "            if k == 3:\n",
    "                ax[k][1].set_xlabel('Средняя выручка (руб)')\n",
    "                ax[k][1].set_ylabel('Частота')\n",
    "            \n",
    "            \n",
    "            \n",
    "    \n",
    "plt.tight_layout()\n",
    "plt.show();\n"
   ]
  },
  {
   "cell_type": "markdown",
   "metadata": {},
   "source": [
    "- Средняя длительность звонка распределена нормально у обоих тарифов\n",
    "- Среднее количество сообщений имеют положительно скошенное распределение у обоих тарифов\n",
    "- Среднее количество использованного интернет-трафика также имеет нормальное распределение у `Smart` тарифа, а у `Ultra` много 'провалов' на графике \n",
    "- Для всех графиков соблюдается правило 3-х сигм"
   ]
  },
  {
   "cell_type": "code",
   "execution_count": 638,
   "metadata": {
    "scrolled": false
   },
   "outputs": [
    {
     "data": {
      "image/png": "[encoded data removed]",
      "text/plain": [
       "<Figure size 1152x1152 with 4 Axes>"
      ]
     },
     "metadata": {
      "needs_background": "light"
     },
     "output_type": "display_data"
    }
   ],
   "source": [
    "fig, ax = plt.subplots(4, 1, figsize = (16, 16))\n",
    "fig.suptitle('Распределения средних значений минут, сообщений и интернет-трафика за месяц для 2 тарифов', fontsize = 16, y = 1.02)\n",
    "\n",
    "for k, i in enumerate(['calls_duration', 'messages_count', 'mb_used_total', 'revenue']):\n",
    "    if k == 0:\n",
    "        ax[k].set_title('Распределение средней длительности разговора')\n",
    "        ax[k].hist(total_revenue.query('tariff == \"smart\"').groupby('user_id').mean()[i], color= 'g', bins = 30, alpha = 0.5, label = 'Smart')\n",
    "        ax[k].hist(total_revenue.query('tariff == \"ultra\"').groupby('user_id').mean()[i], color= 'b', bins = 30, alpha = 0.5, label = 'Ultra')\n",
    "        ax[k].set_xlabel('Средняя длительность разговора (мин)')\n",
    "        ax[k].set_ylabel('Частота')\n",
    "        ax[k].legend()\n",
    "    \n",
    "    if k == 1:\n",
    "        ax[k].set_title('Распределение среднего количества сообщений')\n",
    "        ax[k].hist(total_revenue.query('tariff == \"smart\"').groupby('user_id').mean()[i], color= 'g', bins = 30, alpha = 0.5, label = 'Smart')\n",
    "        ax[k].hist(total_revenue.query('tariff == \"ultra\"').groupby('user_id').mean()[i], color= 'b', bins = 30, alpha = 0.5, label = 'Ultra')\n",
    "        ax[k].set_xlabel('Среднее количество сообщений')\n",
    "        ax[k].set_ylabel('Частота')\n",
    "        ax[k].legend()\n",
    "        \n",
    "    if k == 2:\n",
    "        ax[k].set_title('Распределение среднего количества использованного интернет-трафика')\n",
    "        ax[k].hist(total_revenue.query('tariff == \"smart\"').groupby('user_id').mean()[i], color= 'g', bins = 30, alpha = 0.5, label = 'Smart')\n",
    "        ax[k].hist(total_revenue.query('tariff == \"ultra\"').groupby('user_id').mean()[i], color= 'b', bins = 30, alpha = 0.5, label = 'Ultra')\n",
    "        ax[k].set_xlabel('Среднее количество использованного интернет-трафика (Мб)')\n",
    "        ax[k].set_ylabel('Частота')\n",
    "        ax[k].legend()\n",
    "        \n",
    "    if k == 3:\n",
    "        ax[k].set_title('Распределение средней выручки')\n",
    "        ax[k].hist(total_revenue.query('tariff == \"smart\"').groupby('user_id').mean()[i], color= 'g', bins = 30, alpha = 0.5, label = 'Smart')\n",
    "        ax[k].hist(total_revenue.query('tariff == \"ultra\"').groupby('user_id').mean()[i], color= 'b', bins = 30, alpha = 0.5, label = 'Ultra')\n",
    "        ax[k].set_xlabel('Средняя выручка (руб)')\n",
    "        ax[k].set_ylabel('Частота')\n",
    "        ax[k].legend()\n",
    "\n",
    "plt.tight_layout()\n",
    "plt.show();"
   ]
  },
  {
   "cell_type": "code",
   "execution_count": 639,
   "metadata": {},
   "outputs": [
    {
     "data": {
      "image/png": "[encoded data removed]",
      "text/plain": [
       "<Figure size 1152x1152 with 4 Axes>"
      ]
     },
     "metadata": {
      "needs_background": "light"
     },
     "output_type": "display_data"
    }
   ],
   "source": [
    "fig, ax = plt.subplots(4, 1, figsize = (16, 16))\n",
    "fig.suptitle('Распределения минут, сообщений и интернет-трафика за месяц для 2 тарифов', fontsize = 16, y = 1.02)\n",
    "\n",
    "for k, i in enumerate(['calls_duration', 'messages_count', 'mb_used_total', 'revenue']):\n",
    "    if k == 0:\n",
    "        ax[k].set_title('Распределение длительности разговора')\n",
    "        ax[k].hist(total_revenue.query('tariff == \"smart\"')[i], color= 'g', bins = 30, alpha = 0.5, label = 'Smart')\n",
    "        ax[k].hist(total_revenue.query('tariff == \"ultra\"')[i], color= 'b', bins = 30, alpha = 0.5, label = 'Ultra')\n",
    "        ax[k].set_xlabel('Длительность разговора (мин)')\n",
    "        ax[k].set_ylabel('Частота')\n",
    "        ax[k].legend()\n",
    "    \n",
    "    if k == 1:\n",
    "        ax[k].set_title('Распределение количества сообщений')\n",
    "        ax[k].hist(total_revenue.query('tariff == \"smart\"')[i], color= 'g', bins = 30, alpha = 0.5, label = 'Smart')\n",
    "        ax[k].hist(total_revenue.query('tariff == \"ultra\"')[i], color= 'b', bins = 30, alpha = 0.5, label = 'Ultra')\n",
    "        ax[k].set_xlabel('Количество сообщений')\n",
    "        ax[k].set_ylabel('Частота')\n",
    "        ax[k].legend()\n",
    "        \n",
    "    if k == 2:\n",
    "        ax[k].set_title('Распределение количества использованного интернет-трафика')\n",
    "        ax[k].hist(total_revenue.query('tariff == \"smart\"')[i], color= 'g', bins = 30, alpha = 0.5, label = 'Smart')\n",
    "        ax[k].hist(total_revenue.query('tariff == \"ultra\"')[i], color= 'b', bins = 30, alpha = 0.5, label = 'Ultra')\n",
    "        ax[k].set_xlabel('Количество использованного интернет-трафика (Мб)')\n",
    "        ax[k].set_ylabel('Частота')\n",
    "        ax[k].legend()\n",
    "        \n",
    "    if k == 3:\n",
    "        ax[k].set_title('Распределение выручки')\n",
    "        ax[k].hist(total_revenue.query('tariff == \"smart\"')[i], color= 'g', bins = 30, alpha = 0.5, label = 'Smart')\n",
    "        ax[k].hist(total_revenue.query('tariff == \"ultra\"')[i], color= 'b', bins = 30, alpha = 0.5, label = 'Ultra')\n",
    "        ax[k].set_xlabel('Выручка (руб)')\n",
    "        ax[k].set_ylabel('Частота')\n",
    "        ax[k].legend()\n",
    "\n",
    "plt.tight_layout()\n",
    "plt.show();"
   ]
  },
  {
   "cell_type": "markdown",
   "metadata": {},
   "source": [
    "- При нанесении распределений двух тарифов на один график можно увидеть, что они имеют схожий вид как для средних значений, так и для всех вообще \n",
    "- Также для тарифа `Smart` больше характерно нормальное распределение, а для `Ultra` - больше равномерное распределение\n",
    "- На обоих графиках с выручкой абсолютное большинство значений для тарифа `Ultra` находятся в районе 2000 руб. (на уровне цены тарифа), а для тарифа `Smart` много значений экспоненциально распределены дальше от цены тарифа (550 руб.)"
   ]
  },
  {
   "cell_type": "markdown",
   "metadata": {},
   "source": [
    "# Проверка гипотез\n"
   ]
  },
  {
   "cell_type": "markdown",
   "metadata": {},
   "source": [
    "## Гипотеза  1"
   ]
  },
  {
   "cell_type": "markdown",
   "metadata": {},
   "source": [
    "Так как 0-я гипотеза - это гипотеза об отсутствии различий, а альтернативная - это гипотеза о значимости различий, то их можно сформулировать так:\n",
    "- H0: средняя выручка пользователей тарифа «Ультра» и тарифа «Смарт» не отличаются\n",
    "- H1: средняя выручка пользователей тарифа «Ультра» и тарифа «Смарт» отличаются\n"
   ]
  },
  {
   "cell_type": "markdown",
   "metadata": {},
   "source": [
    "При условии, что 0-я гипотеза верна, необходимо задать вероятность отклонить 0-ю гипотезу, пусть это будет 0.05 для обеих гипотез"
   ]
  },
  {
   "cell_type": "code",
   "execution_count": 640,
   "metadata": {},
   "outputs": [],
   "source": [
    "alpha = 0.05 # критический уровень статистической значимости"
   ]
  },
  {
   "cell_type": "markdown",
   "metadata": {},
   "source": [
    "Стоит сгруппировать общую выручку по каждому пользователю за все время и добавить к таблице `total_revenue`"
   ]
  },
  {
   "cell_type": "code",
   "execution_count": 641,
   "metadata": {
    "run_control": {
     "marked": false
    },
    "scrolled": false
   },
   "outputs": [
    {
     "data": {
      "text/html": [
       "<div>\n",
       "<style scoped>\n",
       "    .dataframe tbody tr th:only-of-type {\n",
       "        vertical-align: middle;\n",
       "    }\n",
       "\n",
       "    .dataframe tbody tr th {\n",
       "        vertical-align: top;\n",
       "    }\n",
       "\n",
       "    .dataframe thead th {\n",
       "        text-align: right;\n",
       "    }\n",
       "</style>\n",
       "<table border=\"1\" class=\"dataframe\">\n",
       "  <thead>\n",
       "    <tr style=\"text-align: right;\">\n",
       "      <th></th>\n",
       "      <th>user_id</th>\n",
       "      <th>month</th>\n",
       "      <th>calls_count</th>\n",
       "      <th>calls_duration</th>\n",
       "      <th>messages_count</th>\n",
       "      <th>mb_used_total</th>\n",
       "      <th>tariff</th>\n",
       "      <th>messages_included</th>\n",
       "      <th>mb_per_month_included</th>\n",
       "      <th>minutes_included</th>\n",
       "      <th>rub_monthly_fee</th>\n",
       "      <th>rub_per_gb</th>\n",
       "      <th>rub_per_message</th>\n",
       "      <th>rub_per_minute</th>\n",
       "      <th>revenue</th>\n",
       "      <th>total_revenue</th>\n",
       "    </tr>\n",
       "  </thead>\n",
       "  <tbody>\n",
       "    <tr>\n",
       "      <th>0</th>\n",
       "      <td>1000</td>\n",
       "      <td>2018-05-01</td>\n",
       "      <td>22.0</td>\n",
       "      <td>150.06</td>\n",
       "      <td>22.0</td>\n",
       "      <td>2253.49</td>\n",
       "      <td>ultra</td>\n",
       "      <td>1000</td>\n",
       "      <td>30720</td>\n",
       "      <td>3000</td>\n",
       "      <td>1950</td>\n",
       "      <td>150</td>\n",
       "      <td>1</td>\n",
       "      <td>1</td>\n",
       "      <td>1950.0</td>\n",
       "      <td>15600.0</td>\n",
       "    </tr>\n",
       "    <tr>\n",
       "      <th>1</th>\n",
       "      <td>1000</td>\n",
       "      <td>2018-06-01</td>\n",
       "      <td>43.0</td>\n",
       "      <td>158.90</td>\n",
       "      <td>60.0</td>\n",
       "      <td>23233.77</td>\n",
       "      <td>ultra</td>\n",
       "      <td>1000</td>\n",
       "      <td>30720</td>\n",
       "      <td>3000</td>\n",
       "      <td>1950</td>\n",
       "      <td>150</td>\n",
       "      <td>1</td>\n",
       "      <td>1</td>\n",
       "      <td>1950.0</td>\n",
       "      <td>15600.0</td>\n",
       "    </tr>\n",
       "    <tr>\n",
       "      <th>2</th>\n",
       "      <td>1000</td>\n",
       "      <td>2018-07-01</td>\n",
       "      <td>47.0</td>\n",
       "      <td>318.80</td>\n",
       "      <td>75.0</td>\n",
       "      <td>14003.64</td>\n",
       "      <td>ultra</td>\n",
       "      <td>1000</td>\n",
       "      <td>30720</td>\n",
       "      <td>3000</td>\n",
       "      <td>1950</td>\n",
       "      <td>150</td>\n",
       "      <td>1</td>\n",
       "      <td>1</td>\n",
       "      <td>1950.0</td>\n",
       "      <td>15600.0</td>\n",
       "    </tr>\n",
       "    <tr>\n",
       "      <th>3</th>\n",
       "      <td>1000</td>\n",
       "      <td>2018-08-01</td>\n",
       "      <td>52.0</td>\n",
       "      <td>389.87</td>\n",
       "      <td>81.0</td>\n",
       "      <td>14055.93</td>\n",
       "      <td>ultra</td>\n",
       "      <td>1000</td>\n",
       "      <td>30720</td>\n",
       "      <td>3000</td>\n",
       "      <td>1950</td>\n",
       "      <td>150</td>\n",
       "      <td>1</td>\n",
       "      <td>1</td>\n",
       "      <td>1950.0</td>\n",
       "      <td>15600.0</td>\n",
       "    </tr>\n",
       "    <tr>\n",
       "      <th>4</th>\n",
       "      <td>1000</td>\n",
       "      <td>2018-09-01</td>\n",
       "      <td>58.0</td>\n",
       "      <td>440.14</td>\n",
       "      <td>57.0</td>\n",
       "      <td>14568.91</td>\n",
       "      <td>ultra</td>\n",
       "      <td>1000</td>\n",
       "      <td>30720</td>\n",
       "      <td>3000</td>\n",
       "      <td>1950</td>\n",
       "      <td>150</td>\n",
       "      <td>1</td>\n",
       "      <td>1</td>\n",
       "      <td>1950.0</td>\n",
       "      <td>15600.0</td>\n",
       "    </tr>\n",
       "  </tbody>\n",
       "</table>\n",
       "</div>"
      ],
      "text/plain": [
       "   user_id      month  calls_count  calls_duration  messages_count  \\\n",
       "0     1000 2018-05-01         22.0          150.06            22.0   \n",
       "1     1000 2018-06-01         43.0          158.90            60.0   \n",
       "2     1000 2018-07-01         47.0          318.80            75.0   \n",
       "3     1000 2018-08-01         52.0          389.87            81.0   \n",
       "4     1000 2018-09-01         58.0          440.14            57.0   \n",
       "\n",
       "   mb_used_total tariff  messages_included  mb_per_month_included  \\\n",
       "0        2253.49  ultra               1000                  30720   \n",
       "1       23233.77  ultra               1000                  30720   \n",
       "2       14003.64  ultra               1000                  30720   \n",
       "3       14055.93  ultra               1000                  30720   \n",
       "4       14568.91  ultra               1000                  30720   \n",
       "\n",
       "   minutes_included  rub_monthly_fee  rub_per_gb  rub_per_message  \\\n",
       "0              3000             1950         150                1   \n",
       "1              3000             1950         150                1   \n",
       "2              3000             1950         150                1   \n",
       "3              3000             1950         150                1   \n",
       "4              3000             1950         150                1   \n",
       "\n",
       "   rub_per_minute  revenue  total_revenue  \n",
       "0               1   1950.0        15600.0  \n",
       "1               1   1950.0        15600.0  \n",
       "2               1   1950.0        15600.0  \n",
       "3               1   1950.0        15600.0  \n",
       "4               1   1950.0        15600.0  "
      ]
     },
     "execution_count": 641,
     "metadata": {},
     "output_type": "execute_result"
    }
   ],
   "source": [
    "total_revenue = total_revenue.merge(total_revenue.groupby('user_id')['revenue']\\\n",
    "                    .sum().reset_index().rename(columns = {'revenue': 'total_revenue'}),\n",
    "                    on = 'user_id', how ='left')\n",
    "\n",
    "total_revenue.head()"
   ]
  },
  {
   "cell_type": "code",
   "execution_count": 642,
   "metadata": {},
   "outputs": [
    {
     "data": {
      "text/plain": [
       "10064.942126514132"
      ]
     },
     "execution_count": 642,
     "metadata": {},
     "output_type": "execute_result"
    },
    {
     "data": {
      "text/plain": [
       "16992.48730964467"
      ]
     },
     "execution_count": 642,
     "metadata": {},
     "output_type": "execute_result"
    },
    {
     "data": {
      "text/plain": [
       "user_id\n",
       "1001     1700.0\n",
       "1002     7250.0\n",
       "1005     9045.0\n",
       "1006    10250.0\n",
       "1007     7867.0\n",
       "         ...   \n",
       "1494     4950.0\n",
       "1496    27700.0\n",
       "1497     2698.0\n",
       "1498     6636.0\n",
       "1499     3706.0\n",
       "Name: total_revenue, Length: 350, dtype: float64"
      ]
     },
     "execution_count": 642,
     "metadata": {},
     "output_type": "execute_result"
    },
    {
     "data": {
      "text/plain": [
       "user_id\n",
       "1000    15600.0\n",
       "1003     9750.0\n",
       "1004    15600.0\n",
       "1013     3900.0\n",
       "1016     3900.0\n",
       "         ...   \n",
       "1476    17550.0\n",
       "1485     1950.0\n",
       "1491    17550.0\n",
       "1493     5700.0\n",
       "1495    11550.0\n",
       "Name: total_revenue, Length: 148, dtype: float64"
      ]
     },
     "execution_count": 642,
     "metadata": {},
     "output_type": "execute_result"
    }
   ],
   "source": [
    "smart_mean = total_revenue.groupby('tariff')['total_revenue'].mean()[0] # Средняя выручка для 'smart'\n",
    "ultra_mean = total_revenue.groupby('tariff')['total_revenue'].mean()[1] # Средняя выручка для 'ultra'\n",
    "\n",
    "smart_mean\n",
    "ultra_mean\n",
    "\n",
    "smart_arr = total_revenue.query('tariff == \"smart\"')\\\n",
    "    .groupby('user_id')['total_revenue'].mean() # Выборка c выручкой пользователей для 'smart'\n",
    "ultra_arr = total_revenue.query('tariff == \"ultra\"')\\\n",
    "    .groupby('user_id')['total_revenue'].mean() # Выборка с выручкой пользователей для 'ultra'\n",
    "\n",
    "\n",
    "smart_arr\n",
    "ultra_arr"
   ]
  },
  {
   "cell_type": "code",
   "execution_count": 643,
   "metadata": {},
   "outputs": [
    {
     "data": {
      "text/plain": [
       "27818016.84102043"
      ]
     },
     "execution_count": 643,
     "metadata": {},
     "output_type": "execute_result"
    },
    {
     "data": {
      "text/plain": [
       "46841158.235938646"
      ]
     },
     "execution_count": 643,
     "metadata": {},
     "output_type": "execute_result"
    }
   ],
   "source": [
    "np.var(smart_arr)\n",
    "np.var(ultra_arr)"
   ]
  },
  {
   "cell_type": "markdown",
   "metadata": {},
   "source": [
    "Так как дисперсии отличаются, то стоит поставить False в equal_var"
   ]
  },
  {
   "cell_type": "code",
   "execution_count": 644,
   "metadata": {},
   "outputs": [
    {
     "name": "stdout",
     "output_type": "stream",
     "text": [
      "p-значение:  3.883219773765792e-17\n",
      "Отвергаем нулевую гипотезу\n"
     ]
    }
   ],
   "source": [
    "results = st.ttest_ind(smart_arr, ultra_arr, equal_var = False)\n",
    "\n",
    "print('p-значение: ', results.pvalue)\n",
    "\n",
    "if results.pvalue < alpha:\n",
    "    print(\"Отвергаем нулевую гипотезу\")\n",
    "else:\n",
    "    print(\"Не получилось отвергнуть нулевую гипотезу\")"
   ]
  },
  {
   "cell_type": "markdown",
   "metadata": {},
   "source": [
    "В результате проверки гипотезы о равенстве средней выручки пользователей тарифов «Ультра» и «Смарт» ее пришлось отвергнуть"
   ]
  },
  {
   "cell_type": "markdown",
   "metadata": {},
   "source": [
    "## Гипотеза  2"
   ]
  },
  {
   "cell_type": "markdown",
   "metadata": {},
   "source": [
    "Так как 0-я гипотеза - это гипотеза об отсутствии различий, а альтернативная - это гипотеза о значимости различий, то их можно сформулировать так:\n",
    "- H0: средняя выручка пользователей из Москвы не отличается от выручки пользователей из других регионов\n",
    "- H1: средняя выручка пользователей из Москвы отличается от выручки пользователей из других регионов\n"
   ]
  },
  {
   "cell_type": "code",
   "execution_count": 645,
   "metadata": {},
   "outputs": [
    {
     "data": {
      "text/html": [
       "<div>\n",
       "<style scoped>\n",
       "    .dataframe tbody tr th:only-of-type {\n",
       "        vertical-align: middle;\n",
       "    }\n",
       "\n",
       "    .dataframe tbody tr th {\n",
       "        vertical-align: top;\n",
       "    }\n",
       "\n",
       "    .dataframe thead th {\n",
       "        text-align: right;\n",
       "    }\n",
       "</style>\n",
       "<table border=\"1\" class=\"dataframe\">\n",
       "  <thead>\n",
       "    <tr style=\"text-align: right;\">\n",
       "      <th></th>\n",
       "      <th>user_id</th>\n",
       "      <th>total_revenue</th>\n",
       "      <th>city</th>\n",
       "    </tr>\n",
       "  </thead>\n",
       "  <tbody>\n",
       "    <tr>\n",
       "      <th>0</th>\n",
       "      <td>1000</td>\n",
       "      <td>15600.0</td>\n",
       "      <td>Краснодар</td>\n",
       "    </tr>\n",
       "    <tr>\n",
       "      <th>1</th>\n",
       "      <td>1001</td>\n",
       "      <td>1700.0</td>\n",
       "      <td>Москва</td>\n",
       "    </tr>\n",
       "    <tr>\n",
       "      <th>2</th>\n",
       "      <td>1002</td>\n",
       "      <td>7250.0</td>\n",
       "      <td>Стерлитамак</td>\n",
       "    </tr>\n",
       "    <tr>\n",
       "      <th>3</th>\n",
       "      <td>1003</td>\n",
       "      <td>9750.0</td>\n",
       "      <td>Москва</td>\n",
       "    </tr>\n",
       "    <tr>\n",
       "      <th>4</th>\n",
       "      <td>1004</td>\n",
       "      <td>15600.0</td>\n",
       "      <td>Новокузнецк</td>\n",
       "    </tr>\n",
       "  </tbody>\n",
       "</table>\n",
       "</div>"
      ],
      "text/plain": [
       "   user_id  total_revenue         city\n",
       "0     1000        15600.0    Краснодар\n",
       "1     1001         1700.0       Москва\n",
       "2     1002         7250.0  Стерлитамак\n",
       "3     1003         9750.0       Москва\n",
       "4     1004        15600.0  Новокузнецк"
      ]
     },
     "execution_count": 645,
     "metadata": {},
     "output_type": "execute_result"
    }
   ],
   "source": [
    "city_revenue = total_revenue.groupby('user_id')['total_revenue'].mean()\\\n",
    "    .reset_index().merge(users[['user_id', 'city']], on = 'user_id', how = 'left')\n",
    "\n",
    "city_revenue.head()"
   ]
  },
  {
   "cell_type": "code",
   "execution_count": 646,
   "metadata": {},
   "outputs": [
    {
     "data": {
      "text/plain": [
       "1       1700.0\n",
       "3       9750.0\n",
       "7       7867.0\n",
       "31      1607.0\n",
       "33     11484.0\n",
       "        ...   \n",
       "451    23400.0\n",
       "459     3900.0\n",
       "474    17550.0\n",
       "479    12650.0\n",
       "488     9786.0\n",
       "Name: total_revenue, Length: 99, dtype: float64"
      ]
     },
     "execution_count": 646,
     "metadata": {},
     "output_type": "execute_result"
    },
    {
     "data": {
      "text/plain": [
       "0      15600.0\n",
       "2       7250.0\n",
       "4      15600.0\n",
       "5       9045.0\n",
       "6      10250.0\n",
       "        ...   \n",
       "493    11550.0\n",
       "494    27700.0\n",
       "495     2698.0\n",
       "496     6636.0\n",
       "497     3706.0\n",
       "Name: total_revenue, Length: 399, dtype: float64"
      ]
     },
     "execution_count": 646,
     "metadata": {},
     "output_type": "execute_result"
    },
    {
     "data": {
      "text/plain": [
       "9423.212121212122"
      ]
     },
     "execution_count": 646,
     "metadata": {},
     "output_type": "execute_result"
    },
    {
     "data": {
      "text/plain": [
       "9797.912280701754"
      ]
     },
     "execution_count": 646,
     "metadata": {},
     "output_type": "execute_result"
    }
   ],
   "source": [
    "msc_arr = city_revenue.query('city == \"Москва\"')['total_revenue']\n",
    "not_msc_arr = city_revenue.query('city != \"Москва\"')['total_revenue']\n",
    "\n",
    "msc_arr\n",
    "not_msc_arr\n",
    "\n",
    "msc_mean = msc_arr.mean()\n",
    "not_msc_mean = not_msc_arr.mean()\n",
    "\n",
    "msc_mean\n",
    "not_msc_mean"
   ]
  },
  {
   "cell_type": "code",
   "execution_count": 647,
   "metadata": {},
   "outputs": [
    {
     "data": {
      "text/plain": [
       "43580603.64187327"
      ]
     },
     "execution_count": 647,
     "metadata": {},
     "output_type": "execute_result"
    },
    {
     "data": {
      "text/plain": [
       "39610448.80684166"
      ]
     },
     "execution_count": 647,
     "metadata": {},
     "output_type": "execute_result"
    }
   ],
   "source": [
    "np.var(msc_arr)\n",
    "np.var(not_msc_arr)"
   ]
  },
  {
   "cell_type": "markdown",
   "metadata": {},
   "source": [
    "Дисперсии отличаются"
   ]
  },
  {
   "cell_type": "code",
   "execution_count": 648,
   "metadata": {},
   "outputs": [
    {
     "name": "stdout",
     "output_type": "stream",
     "text": [
      "p-значение:  0.6122814625387962\n",
      "Не получилось отвергнуть нулевую гипотезу\n"
     ]
    }
   ],
   "source": [
    "results = st.ttest_ind(msc_arr, not_msc_arr, equal_var = False)\n",
    "\n",
    "print('p-значение: ', results.pvalue)\n",
    "\n",
    "if results.pvalue < alpha:\n",
    "    print(\"Отвергаем нулевую гипотезу\")\n",
    "else:\n",
    "    print(\"Не получилось отвергнуть нулевую гипотезу\")"
   ]
  },
  {
   "cell_type": "markdown",
   "metadata": {},
   "source": [
    "Так как p-value получилось больше критического уровеня статистической значимости, то гипотезу о том, что средняя выручка пользователей из Москвы не отличается от выручки пользователей из других регионов не стоит отвергать"
   ]
  },
  {
   "cell_type": "markdown",
   "metadata": {},
   "source": [
    "## Вывод"
   ]
  },
  {
   "cell_type": "markdown",
   "metadata": {},
   "source": [
    "- В среднем пользователям тарифа Smart в месяц нужно меньше минут для звонков, сообщений и интернет-трафика, чем пользователям тарифа Ultra\n",
    "- Пользователи тарифа Smart в среднем укладываются по минутам и сообщениям в основной тариф, а по интернету пользуются дополнительной абонентской платой\n",
    "- Пользователи тарифа Ultra в среднем полностью укладываются по минутам, сообщениям и интернет-трафику в основной тариф, причем у них остается большой объем неиспользованных данных\n",
    "- Гипотезу о том, что средняя выручка пользователей тарифа «Ультра» и тарифа «Смарт» не отличаются пришлось отвергнуть \n",
    "- Гипотезу о том, что средняя выручка пользователей из Москвы не отличается от выручки пользователей из других регионов не удалось отвергнуть \n",
    "\n",
    "Сравнивая общую среднюю выручку по тарифам, по пользователям за все время и тарифам, выручка будет больше у тарифа «Ультра», также в этом тарифе почти все пользователи платят только за сам тариф, и зачастую им не удается потратить все минуты, сообщения и интернет-трафик, поэтому «Ультра» можно считать более выгодным, чем «Смарт»"
   ]
  }
 ],
 "metadata": {
  "ExecuteTimeLog": [
   {
    "duration": 1888,
    "start_time": "2022-02-02T11:12:14.100Z"
   },
   {
    "duration": 151,
    "start_time": "2022-02-02T11:12:15.991Z"
   },
   {
    "duration": 119,
    "start_time": "2022-02-02T11:12:16.146Z"
   },
   {
    "duration": 13,
    "start_time": "2022-02-02T11:12:16.268Z"
   },
   {
    "duration": 59,
    "start_time": "2022-02-02T11:12:16.284Z"
   },
   {
    "duration": 15,
    "start_time": "2022-02-02T11:12:16.346Z"
   },
   {
    "duration": 229,
    "start_time": "2022-02-02T11:12:16.364Z"
   },
   {
    "duration": 157,
    "start_time": "2022-02-02T11:12:16.596Z"
   },
   {
    "duration": 101,
    "start_time": "2022-02-02T11:12:16.756Z"
   },
   {
    "duration": 54,
    "start_time": "2022-02-02T11:12:16.860Z"
   },
   {
    "duration": 72,
    "start_time": "2022-02-02T11:12:16.933Z"
   },
   {
    "duration": 54,
    "start_time": "2022-02-02T11:12:17.008Z"
   },
   {
    "duration": 19,
    "start_time": "2022-02-02T11:12:17.064Z"
   },
   {
    "duration": 538,
    "start_time": "2022-02-02T11:12:17.085Z"
   },
   {
    "duration": 44,
    "start_time": "2022-02-02T11:12:17.625Z"
   },
   {
    "duration": 3783,
    "start_time": "2022-02-02T11:12:17.672Z"
   },
   {
    "duration": 3,
    "start_time": "2022-02-02T11:12:21.458Z"
   },
   {
    "duration": 48,
    "start_time": "2022-02-02T11:12:21.464Z"
   },
   {
    "duration": 56,
    "start_time": "2022-02-02T11:12:21.514Z"
   },
   {
    "duration": 8,
    "start_time": "2022-02-02T11:12:21.572Z"
   },
   {
    "duration": 7,
    "start_time": "2022-02-02T11:12:21.582Z"
   },
   {
    "duration": 63,
    "start_time": "2022-02-02T11:12:21.592Z"
   },
   {
    "duration": 24,
    "start_time": "2022-02-02T11:12:21.660Z"
   },
   {
    "duration": 46,
    "start_time": "2022-02-02T11:12:21.687Z"
   },
   {
    "duration": 8,
    "start_time": "2022-02-02T11:12:21.738Z"
   },
   {
    "duration": 73,
    "start_time": "2022-02-11T23:33:59.820Z"
   },
   {
    "duration": 1644,
    "start_time": "2022-02-11T23:34:10.528Z"
   },
   {
    "duration": 125,
    "start_time": "2022-02-11T23:34:12.174Z"
   },
   {
    "duration": 82,
    "start_time": "2022-02-11T23:34:12.301Z"
   },
   {
    "duration": 22,
    "start_time": "2022-02-11T23:34:12.385Z"
   },
   {
    "duration": 41,
    "start_time": "2022-02-11T23:34:12.409Z"
   },
   {
    "duration": 9,
    "start_time": "2022-02-11T23:34:12.453Z"
   },
   {
    "duration": 193,
    "start_time": "2022-02-11T23:34:12.464Z"
   },
   {
    "duration": 124,
    "start_time": "2022-02-11T23:34:12.659Z"
   },
   {
    "duration": 79,
    "start_time": "2022-02-11T23:34:12.786Z"
   },
   {
    "duration": 54,
    "start_time": "2022-02-11T23:34:12.867Z"
   },
   {
    "duration": 50,
    "start_time": "2022-02-11T23:34:12.923Z"
   },
   {
    "duration": 48,
    "start_time": "2022-02-11T23:34:12.975Z"
   },
   {
    "duration": 14,
    "start_time": "2022-02-11T23:34:13.025Z"
   },
   {
    "duration": 320,
    "start_time": "2022-02-11T23:34:13.040Z"
   },
   {
    "duration": 38,
    "start_time": "2022-02-11T23:34:13.362Z"
   },
   {
    "duration": 2711,
    "start_time": "2022-02-11T23:34:13.401Z"
   },
   {
    "duration": 3,
    "start_time": "2022-02-11T23:34:16.115Z"
   },
   {
    "duration": 33,
    "start_time": "2022-02-11T23:34:16.120Z"
   },
   {
    "duration": 45,
    "start_time": "2022-02-11T23:34:16.155Z"
   },
   {
    "duration": 6,
    "start_time": "2022-02-11T23:34:16.201Z"
   },
   {
    "duration": 5,
    "start_time": "2022-02-11T23:34:16.209Z"
   },
   {
    "duration": 18,
    "start_time": "2022-02-11T23:34:16.216Z"
   },
   {
    "duration": 16,
    "start_time": "2022-02-11T23:34:16.236Z"
   },
   {
    "duration": 6,
    "start_time": "2022-02-11T23:34:16.253Z"
   },
   {
    "duration": 41,
    "start_time": "2022-02-11T23:34:16.261Z"
   },
   {
    "duration": 58,
    "start_time": "2022-02-11T23:36:36.805Z"
   },
   {
    "duration": 75,
    "start_time": "2022-02-11T23:37:51.480Z"
   },
   {
    "duration": 63,
    "start_time": "2022-02-11T23:43:02.457Z"
   },
   {
    "duration": 61,
    "start_time": "2022-02-11T23:44:57.959Z"
   },
   {
    "duration": 306,
    "start_time": "2022-02-11T23:46:15.984Z"
   },
   {
    "duration": 4255,
    "start_time": "2022-02-11T23:46:40.832Z"
   },
   {
    "duration": -1769,
    "start_time": "2022-02-11T23:46:46.858Z"
   },
   {
    "duration": 430,
    "start_time": "2022-02-11T23:47:12.202Z"
   },
   {
    "duration": 61,
    "start_time": "2022-02-11T23:47:18.345Z"
   },
   {
    "duration": 68,
    "start_time": "2022-02-11T23:47:46.406Z"
   },
   {
    "duration": 57,
    "start_time": "2022-02-11T23:51:29.738Z"
   },
   {
    "duration": 61,
    "start_time": "2022-02-11T23:52:23.288Z"
   },
   {
    "duration": 1594,
    "start_time": "2022-02-11T23:57:14.334Z"
   },
   {
    "duration": 92,
    "start_time": "2022-02-11T23:57:15.929Z"
   },
   {
    "duration": 94,
    "start_time": "2022-02-11T23:57:16.023Z"
   },
   {
    "duration": 11,
    "start_time": "2022-02-11T23:57:16.119Z"
   },
   {
    "duration": 43,
    "start_time": "2022-02-11T23:57:16.132Z"
   },
   {
    "duration": 9,
    "start_time": "2022-02-11T23:57:16.177Z"
   },
   {
    "duration": 171,
    "start_time": "2022-02-11T23:57:16.199Z"
   },
   {
    "duration": 124,
    "start_time": "2022-02-11T23:57:16.372Z"
   },
   {
    "duration": 76,
    "start_time": "2022-02-11T23:57:16.499Z"
   },
   {
    "duration": 56,
    "start_time": "2022-02-11T23:57:16.577Z"
   },
   {
    "duration": 47,
    "start_time": "2022-02-11T23:57:16.635Z"
   },
   {
    "duration": 43,
    "start_time": "2022-02-11T23:57:16.684Z"
   },
   {
    "duration": 13,
    "start_time": "2022-02-11T23:57:16.729Z"
   },
   {
    "duration": 334,
    "start_time": "2022-02-11T23:57:16.743Z"
   },
   {
    "duration": 31,
    "start_time": "2022-02-11T23:57:17.079Z"
   },
   {
    "duration": 2662,
    "start_time": "2022-02-11T23:57:17.111Z"
   },
   {
    "duration": 355,
    "start_time": "2022-02-11T23:57:19.775Z"
   },
   {
    "duration": 3,
    "start_time": "2022-02-11T23:57:20.132Z"
   },
   {
    "duration": 32,
    "start_time": "2022-02-11T23:57:20.136Z"
   },
   {
    "duration": 108,
    "start_time": "2022-02-11T23:57:20.170Z"
   },
   {
    "duration": 6,
    "start_time": "2022-02-11T23:57:20.279Z"
   },
   {
    "duration": 15,
    "start_time": "2022-02-11T23:57:20.286Z"
   },
   {
    "duration": 18,
    "start_time": "2022-02-11T23:57:20.304Z"
   },
   {
    "duration": 17,
    "start_time": "2022-02-11T23:57:20.324Z"
   },
   {
    "duration": 5,
    "start_time": "2022-02-11T23:57:20.343Z"
   },
   {
    "duration": 5,
    "start_time": "2022-02-11T23:57:20.350Z"
   },
   {
    "duration": 524,
    "start_time": "2022-02-12T09:50:38.152Z"
   },
   {
    "duration": 478,
    "start_time": "2022-02-12T09:50:45.800Z"
   },
   {
    "duration": 138,
    "start_time": "2022-02-12T09:50:46.597Z"
   },
   {
    "duration": 463,
    "start_time": "2022-02-12T09:51:07.701Z"
   },
   {
    "duration": 158,
    "start_time": "2022-02-12T09:51:08.167Z"
   },
   {
    "duration": 114,
    "start_time": "2022-02-12T09:51:08.330Z"
   },
   {
    "duration": 13,
    "start_time": "2022-02-12T09:51:08.447Z"
   },
   {
    "duration": 34,
    "start_time": "2022-02-12T09:51:08.462Z"
   },
   {
    "duration": 34,
    "start_time": "2022-02-12T09:51:08.498Z"
   },
   {
    "duration": 237,
    "start_time": "2022-02-12T09:51:08.535Z"
   },
   {
    "duration": 151,
    "start_time": "2022-02-12T09:51:08.775Z"
   },
   {
    "duration": 86,
    "start_time": "2022-02-12T09:51:17.739Z"
   },
   {
    "duration": 51,
    "start_time": "2022-02-12T09:52:47.362Z"
   },
   {
    "duration": 54,
    "start_time": "2022-02-12T09:52:59.239Z"
   },
   {
    "duration": 42,
    "start_time": "2022-02-12T09:53:17.181Z"
   },
   {
    "duration": 20,
    "start_time": "2022-02-12T09:53:43.233Z"
   },
   {
    "duration": 7,
    "start_time": "2022-02-12T09:58:52.729Z"
   },
   {
    "duration": 6,
    "start_time": "2022-02-12T09:59:43.997Z"
   },
   {
    "duration": 6,
    "start_time": "2022-02-12T09:59:59.528Z"
   },
   {
    "duration": 5,
    "start_time": "2022-02-12T10:00:10.674Z"
   },
   {
    "duration": 10,
    "start_time": "2022-02-12T10:00:38.826Z"
   },
   {
    "duration": 11,
    "start_time": "2022-02-12T10:00:57.867Z"
   },
   {
    "duration": 9,
    "start_time": "2022-02-12T10:01:10.984Z"
   },
   {
    "duration": 6,
    "start_time": "2022-02-12T10:05:35.427Z"
   },
   {
    "duration": 6,
    "start_time": "2022-02-12T10:05:44.431Z"
   },
   {
    "duration": 6,
    "start_time": "2022-02-12T10:08:06.125Z"
   },
   {
    "duration": 23,
    "start_time": "2022-02-12T10:08:11.987Z"
   },
   {
    "duration": 6,
    "start_time": "2022-02-12T10:09:33.518Z"
   },
   {
    "duration": 9,
    "start_time": "2022-02-12T10:09:44.068Z"
   },
   {
    "duration": 12,
    "start_time": "2022-02-12T10:09:52.429Z"
   },
   {
    "duration": 8,
    "start_time": "2022-02-12T10:09:57.843Z"
   },
   {
    "duration": 9,
    "start_time": "2022-02-12T10:10:02.379Z"
   },
   {
    "duration": 10,
    "start_time": "2022-02-12T10:10:06.868Z"
   },
   {
    "duration": 8,
    "start_time": "2022-02-12T10:10:09.112Z"
   },
   {
    "duration": 448,
    "start_time": "2022-02-12T10:10:42.221Z"
   },
   {
    "duration": 485,
    "start_time": "2022-02-12T10:10:56.571Z"
   },
   {
    "duration": 467,
    "start_time": "2022-02-12T10:12:48.401Z"
   },
   {
    "duration": 464,
    "start_time": "2022-02-12T10:20:42.410Z"
   },
   {
    "duration": 463,
    "start_time": "2022-02-12T10:21:00.404Z"
   },
   {
    "duration": 66,
    "start_time": "2022-02-12T10:21:44.929Z"
   },
   {
    "duration": 3899,
    "start_time": "2022-02-12T10:21:52.654Z"
   },
   {
    "duration": 40,
    "start_time": "2022-02-12T10:23:19.887Z"
   },
   {
    "duration": 5041,
    "start_time": "2022-02-12T10:32:34.455Z"
   },
   {
    "duration": 5055,
    "start_time": "2022-02-12T10:33:36.679Z"
   },
   {
    "duration": 4870,
    "start_time": "2022-02-12T10:33:51.910Z"
   },
   {
    "duration": 3917,
    "start_time": "2022-02-12T10:38:33.943Z"
   },
   {
    "duration": 4039,
    "start_time": "2022-02-12T10:40:23.792Z"
   },
   {
    "duration": 3919,
    "start_time": "2022-02-12T10:40:57.684Z"
   },
   {
    "duration": 8462,
    "start_time": "2022-02-12T10:41:16.081Z"
   },
   {
    "duration": 4290,
    "start_time": "2022-02-12T10:41:45.801Z"
   },
   {
    "duration": 4547,
    "start_time": "2022-02-12T10:41:55.808Z"
   },
   {
    "duration": 3806,
    "start_time": "2022-02-12T10:42:05.030Z"
   },
   {
    "duration": 666,
    "start_time": "2022-02-12T10:44:35.665Z"
   },
   {
    "duration": 480,
    "start_time": "2022-02-12T10:45:03.496Z"
   },
   {
    "duration": 480,
    "start_time": "2022-02-12T10:45:12.878Z"
   },
   {
    "duration": 499,
    "start_time": "2022-02-12T10:45:20.177Z"
   },
   {
    "duration": 861,
    "start_time": "2022-02-12T10:51:38.681Z"
   },
   {
    "duration": 555,
    "start_time": "2022-02-12T10:51:59.955Z"
   },
   {
    "duration": 648,
    "start_time": "2022-02-12T10:52:07.880Z"
   },
   {
    "duration": 547,
    "start_time": "2022-02-12T10:52:17.612Z"
   },
   {
    "duration": 759,
    "start_time": "2022-02-12T10:52:22.490Z"
   },
   {
    "duration": 522,
    "start_time": "2022-02-12T10:52:26.577Z"
   },
   {
    "duration": 518,
    "start_time": "2022-02-12T10:52:49.428Z"
   },
   {
    "duration": 874,
    "start_time": "2022-02-12T10:52:52.993Z"
   },
   {
    "duration": 553,
    "start_time": "2022-02-12T10:52:58.741Z"
   },
   {
    "duration": 1000,
    "start_time": "2022-02-12T10:54:07.669Z"
   },
   {
    "duration": 1732,
    "start_time": "2022-02-12T11:00:07.914Z"
   },
   {
    "duration": 13,
    "start_time": "2022-02-12T11:01:24.619Z"
   },
   {
    "duration": 2869,
    "start_time": "2022-02-12T11:04:51.204Z"
   },
   {
    "duration": 2116,
    "start_time": "2022-02-12T11:26:36.551Z"
   },
   {
    "duration": 2307,
    "start_time": "2022-02-12T11:26:40.794Z"
   },
   {
    "duration": 2449,
    "start_time": "2022-02-12T11:29:19.293Z"
   },
   {
    "duration": 2270,
    "start_time": "2022-02-12T11:30:31.259Z"
   },
   {
    "duration": 4404,
    "start_time": "2022-02-12T11:31:28.045Z"
   },
   {
    "duration": 3154,
    "start_time": "2022-02-12T11:31:41.207Z"
   },
   {
    "duration": 5329,
    "start_time": "2022-02-12T11:34:23.698Z"
   },
   {
    "duration": 5869,
    "start_time": "2022-02-12T11:35:08.539Z"
   },
   {
    "duration": 7324,
    "start_time": "2022-02-12T11:37:03.087Z"
   },
   {
    "duration": 2653,
    "start_time": "2022-02-12T11:39:28.887Z"
   },
   {
    "duration": 5244,
    "start_time": "2022-02-12T11:39:35.164Z"
   },
   {
    "duration": 3533,
    "start_time": "2022-02-12T11:45:31.217Z"
   },
   {
    "duration": 3455,
    "start_time": "2022-02-12T11:46:04.515Z"
   },
   {
    "duration": 3360,
    "start_time": "2022-02-12T11:48:59.127Z"
   },
   {
    "duration": 119,
    "start_time": "2022-02-12T11:52:20.805Z"
   },
   {
    "duration": 2891,
    "start_time": "2022-02-12T11:52:30.792Z"
   },
   {
    "duration": 2797,
    "start_time": "2022-02-12T11:54:55.893Z"
   },
   {
    "duration": 3425,
    "start_time": "2022-02-12T11:55:38.939Z"
   },
   {
    "duration": 3319,
    "start_time": "2022-02-12T11:55:53.277Z"
   },
   {
    "duration": 464,
    "start_time": "2022-02-12T12:40:37.437Z"
   },
   {
    "duration": 155,
    "start_time": "2022-02-12T12:40:37.904Z"
   },
   {
    "duration": 119,
    "start_time": "2022-02-12T12:40:38.062Z"
   },
   {
    "duration": 10,
    "start_time": "2022-02-12T12:40:38.184Z"
   },
   {
    "duration": 48,
    "start_time": "2022-02-12T12:40:38.197Z"
   },
   {
    "duration": 15,
    "start_time": "2022-02-12T12:40:38.247Z"
   },
   {
    "duration": 261,
    "start_time": "2022-02-12T12:40:38.265Z"
   },
   {
    "duration": 150,
    "start_time": "2022-02-12T12:40:38.529Z"
   },
   {
    "duration": 88,
    "start_time": "2022-02-12T12:40:38.683Z"
   },
   {
    "duration": 61,
    "start_time": "2022-02-12T12:40:38.774Z"
   },
   {
    "duration": 55,
    "start_time": "2022-02-12T12:40:38.838Z"
   },
   {
    "duration": 57,
    "start_time": "2022-02-12T12:40:38.895Z"
   },
   {
    "duration": 18,
    "start_time": "2022-02-12T12:40:38.955Z"
   },
   {
    "duration": 461,
    "start_time": "2022-02-12T12:40:38.976Z"
   },
   {
    "duration": 42,
    "start_time": "2022-02-12T12:40:39.440Z"
   },
   {
    "duration": 5804,
    "start_time": "2022-02-12T12:40:39.485Z"
   },
   {
    "duration": 3038,
    "start_time": "2022-02-12T12:40:45.292Z"
   },
   {
    "duration": 3034,
    "start_time": "2022-02-12T12:40:48.332Z"
   },
   {
    "duration": 4,
    "start_time": "2022-02-12T12:40:51.369Z"
   },
   {
    "duration": 66,
    "start_time": "2022-02-12T12:40:51.376Z"
   },
   {
    "duration": 35,
    "start_time": "2022-02-12T12:40:51.445Z"
   },
   {
    "duration": 40,
    "start_time": "2022-02-12T12:40:51.483Z"
   },
   {
    "duration": 8,
    "start_time": "2022-02-12T12:40:51.526Z"
   },
   {
    "duration": 29,
    "start_time": "2022-02-12T12:40:51.537Z"
   },
   {
    "duration": 57,
    "start_time": "2022-02-12T12:40:51.569Z"
   },
   {
    "duration": 11,
    "start_time": "2022-02-12T12:40:51.630Z"
   },
   {
    "duration": 10,
    "start_time": "2022-02-12T12:40:51.650Z"
   },
   {
    "duration": 35,
    "start_time": "2022-02-12T12:41:38.717Z"
   },
   {
    "duration": 399,
    "start_time": "2022-02-12T12:41:41.645Z"
   },
   {
    "duration": 718,
    "start_time": "2022-02-12T12:42:37.022Z"
   },
   {
    "duration": 252,
    "start_time": "2022-02-12T12:42:37.744Z"
   },
   {
    "duration": 162,
    "start_time": "2022-02-12T12:42:38.026Z"
   },
   {
    "duration": 11,
    "start_time": "2022-02-12T12:42:38.191Z"
   },
   {
    "duration": 44,
    "start_time": "2022-02-12T12:42:38.204Z"
   },
   {
    "duration": 12,
    "start_time": "2022-02-12T12:42:38.251Z"
   },
   {
    "duration": 253,
    "start_time": "2022-02-12T12:42:38.265Z"
   },
   {
    "duration": 148,
    "start_time": "2022-02-12T12:42:38.527Z"
   },
   {
    "duration": 96,
    "start_time": "2022-02-12T12:42:38.678Z"
   },
   {
    "duration": 64,
    "start_time": "2022-02-12T12:42:38.777Z"
   },
   {
    "duration": 51,
    "start_time": "2022-02-12T12:42:38.844Z"
   },
   {
    "duration": 62,
    "start_time": "2022-02-12T12:42:38.898Z"
   },
   {
    "duration": 21,
    "start_time": "2022-02-12T12:42:38.962Z"
   },
   {
    "duration": 475,
    "start_time": "2022-02-12T12:42:38.986Z"
   },
   {
    "duration": 44,
    "start_time": "2022-02-12T12:42:39.464Z"
   },
   {
    "duration": 5359,
    "start_time": "2022-02-12T12:42:39.523Z"
   },
   {
    "duration": 3467,
    "start_time": "2022-02-12T12:42:44.885Z"
   },
   {
    "duration": 3154,
    "start_time": "2022-02-12T12:42:48.354Z"
   },
   {
    "duration": 13,
    "start_time": "2022-02-12T12:42:51.511Z"
   },
   {
    "duration": 40,
    "start_time": "2022-02-12T12:42:51.527Z"
   },
   {
    "duration": 69,
    "start_time": "2022-02-12T12:42:51.569Z"
   },
   {
    "duration": 10,
    "start_time": "2022-02-12T12:42:51.640Z"
   },
   {
    "duration": 10,
    "start_time": "2022-02-12T12:42:51.656Z"
   },
   {
    "duration": 58,
    "start_time": "2022-02-12T12:42:51.670Z"
   },
   {
    "duration": 36,
    "start_time": "2022-02-12T12:42:51.731Z"
   },
   {
    "duration": 9,
    "start_time": "2022-02-12T12:42:51.770Z"
   },
   {
    "duration": 46,
    "start_time": "2022-02-12T12:42:51.782Z"
   },
   {
    "duration": 2073,
    "start_time": "2022-02-12T20:36:45.505Z"
   },
   {
    "duration": 154,
    "start_time": "2022-02-12T20:36:47.580Z"
   },
   {
    "duration": 138,
    "start_time": "2022-02-12T20:36:47.738Z"
   },
   {
    "duration": 14,
    "start_time": "2022-02-12T20:36:47.879Z"
   },
   {
    "duration": 61,
    "start_time": "2022-02-12T20:36:47.895Z"
   },
   {
    "duration": 14,
    "start_time": "2022-02-12T20:36:47.958Z"
   },
   {
    "duration": 240,
    "start_time": "2022-02-12T20:36:47.974Z"
   },
   {
    "duration": 158,
    "start_time": "2022-02-12T20:36:48.220Z"
   },
   {
    "duration": 104,
    "start_time": "2022-02-12T20:36:48.381Z"
   },
   {
    "duration": 55,
    "start_time": "2022-02-12T20:36:48.488Z"
   },
   {
    "duration": 79,
    "start_time": "2022-02-12T20:36:48.545Z"
   },
   {
    "duration": 57,
    "start_time": "2022-02-12T20:36:48.627Z"
   },
   {
    "duration": 19,
    "start_time": "2022-02-12T20:36:48.686Z"
   },
   {
    "duration": 486,
    "start_time": "2022-02-12T20:36:48.707Z"
   },
   {
    "duration": 40,
    "start_time": "2022-02-12T20:36:49.196Z"
   },
   {
    "duration": 5595,
    "start_time": "2022-02-12T20:36:49.239Z"
   },
   {
    "duration": 3172,
    "start_time": "2022-02-12T20:36:54.837Z"
   },
   {
    "duration": 2896,
    "start_time": "2022-02-12T20:36:58.011Z"
   },
   {
    "duration": 4,
    "start_time": "2022-02-12T20:37:00.909Z"
   },
   {
    "duration": 68,
    "start_time": "2022-02-12T20:37:00.915Z"
   },
   {
    "duration": 39,
    "start_time": "2022-02-12T20:37:00.987Z"
   },
   {
    "duration": 43,
    "start_time": "2022-02-12T20:37:01.028Z"
   },
   {
    "duration": 8,
    "start_time": "2022-02-12T20:37:01.075Z"
   },
   {
    "duration": 34,
    "start_time": "2022-02-12T20:37:01.085Z"
   },
   {
    "duration": 54,
    "start_time": "2022-02-12T20:37:01.121Z"
   },
   {
    "duration": 11,
    "start_time": "2022-02-12T20:37:01.178Z"
   },
   {
    "duration": 9,
    "start_time": "2022-02-12T20:37:01.192Z"
   },
   {
    "duration": 112,
    "start_time": "2022-02-12T20:38:09.331Z"
   },
   {
    "duration": 113,
    "start_time": "2022-02-12T20:39:11.049Z"
   }
  ],
  "hide_input": false,
  "kernelspec": {
   "display_name": "Python 3",
   "language": "python",
   "name": "python3"
  },
  "language_info": {
   "codemirror_mode": {
    "name": "ipython",
    "version": 3
   },
   "file_extension": ".py",
   "mimetype": "text/x-python",
   "name": "python",
   "nbconvert_exporter": "python",
   "pygments_lexer": "ipython3",
   "version": "3.8.8"
  },
  "toc": {
   "base_numbering": 1,
   "nav_menu": {},
   "number_sections": false,
   "sideBar": true,
   "skip_h1_title": true,
   "title_cell": "Table of Contents",
   "title_sidebar": "Contents",
   "toc_cell": false,
   "toc_position": {
    "height": "calc(100% - 180px)",
    "left": "10px",
    "top": "150px",
    "width": "226.9021759033203px"
   },
   "toc_section_display": true,
   "toc_window_display": true
  }
 },
 "nbformat": 4,
 "nbformat_minor": 2
}
