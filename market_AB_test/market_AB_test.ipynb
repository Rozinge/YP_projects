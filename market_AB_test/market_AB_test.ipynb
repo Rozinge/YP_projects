{
 "cells": [
  {
   "cell_type": "markdown",
   "metadata": {},
   "source": [
    "# Проведение А/Б-теста в интернет-магазине\n",
    "Необходимо приоритизировать гипотезы, запустить A/B-тест и проанализировать результаты для увеличения выручки интернет-магазина\n"
   ]
  },
  {
   "cell_type": "code",
   "execution_count": 681,
   "metadata": {},
   "outputs": [],
   "source": [
    "# Import libraries\n",
    "import pandas as pd\n",
    "import numpy as np\n",
    "from scipy import stats as st\n",
    "import matplotlib.pyplot as plt\n",
    "import matplotlib.ticker as ticker\n",
    "import seaborn as sns\n",
    "import math as mt\n",
    "import re\n",
    "\n",
    "# Options for pandas\n",
    "from IPython.core.interactiveshell import InteractiveShell\n",
    "InteractiveShell.ast_node_interactivity = 'all'\n",
    "pd.options.display.max_columns = None\n",
    "pd.options.display.max_colwidth = 300\n"
   ]
  },
  {
   "cell_type": "code",
   "execution_count": 682,
   "metadata": {},
   "outputs": [],
   "source": [
    "hypothesis = pd.read_csv('hypothesis.csv')\n",
    "orders = pd.read_csv('orders.csv')\n",
    "visitors = pd.read_csv('visitors.csv')"
   ]
  },
  {
   "cell_type": "markdown",
   "metadata": {},
   "source": [
    "# Приоритизация гипотез"
   ]
  },
  {
   "cell_type": "code",
   "execution_count": 683,
   "metadata": {
    "scrolled": true
   },
   "outputs": [
    {
     "data": {
      "text/html": [
       "<div>\n",
       "<style scoped>\n",
       "    .dataframe tbody tr th:only-of-type {\n",
       "        vertical-align: middle;\n",
       "    }\n",
       "\n",
       "    .dataframe tbody tr th {\n",
       "        vertical-align: top;\n",
       "    }\n",
       "\n",
       "    .dataframe thead th {\n",
       "        text-align: right;\n",
       "    }\n",
       "</style>\n",
       "<table border=\"1\" class=\"dataframe\">\n",
       "  <thead>\n",
       "    <tr style=\"text-align: right;\">\n",
       "      <th></th>\n",
       "      <th>Hypothesis</th>\n",
       "      <th>Reach</th>\n",
       "      <th>Impact</th>\n",
       "      <th>Confidence</th>\n",
       "      <th>Efforts</th>\n",
       "    </tr>\n",
       "  </thead>\n",
       "  <tbody>\n",
       "    <tr>\n",
       "      <th>0</th>\n",
       "      <td>Добавить два новых канала привлечения трафика, что позволит привлекать на 30% больше пользователей</td>\n",
       "      <td>3</td>\n",
       "      <td>10</td>\n",
       "      <td>8</td>\n",
       "      <td>6</td>\n",
       "    </tr>\n",
       "    <tr>\n",
       "      <th>1</th>\n",
       "      <td>Запустить собственную службу доставки, что сократит срок доставки заказов</td>\n",
       "      <td>2</td>\n",
       "      <td>5</td>\n",
       "      <td>4</td>\n",
       "      <td>10</td>\n",
       "    </tr>\n",
       "    <tr>\n",
       "      <th>2</th>\n",
       "      <td>Добавить блоки рекомендаций товаров на сайт интернет магазина, чтобы повысить конверсию и средний чек заказа</td>\n",
       "      <td>8</td>\n",
       "      <td>3</td>\n",
       "      <td>7</td>\n",
       "      <td>3</td>\n",
       "    </tr>\n",
       "    <tr>\n",
       "      <th>3</th>\n",
       "      <td>Изменить структура категорий, что увеличит конверсию, т.к. пользователи быстрее найдут нужный товар</td>\n",
       "      <td>8</td>\n",
       "      <td>3</td>\n",
       "      <td>3</td>\n",
       "      <td>8</td>\n",
       "    </tr>\n",
       "    <tr>\n",
       "      <th>4</th>\n",
       "      <td>Изменить цвет фона главной страницы, чтобы увеличить вовлеченность пользователей</td>\n",
       "      <td>3</td>\n",
       "      <td>1</td>\n",
       "      <td>1</td>\n",
       "      <td>1</td>\n",
       "    </tr>\n",
       "    <tr>\n",
       "      <th>5</th>\n",
       "      <td>Добавить страницу отзывов клиентов о магазине, что позволит увеличить количество заказов</td>\n",
       "      <td>3</td>\n",
       "      <td>2</td>\n",
       "      <td>2</td>\n",
       "      <td>3</td>\n",
       "    </tr>\n",
       "    <tr>\n",
       "      <th>6</th>\n",
       "      <td>Показать на главной странице баннеры с актуальными акциями и распродажами, чтобы увеличить конверсию</td>\n",
       "      <td>5</td>\n",
       "      <td>3</td>\n",
       "      <td>8</td>\n",
       "      <td>3</td>\n",
       "    </tr>\n",
       "    <tr>\n",
       "      <th>7</th>\n",
       "      <td>Добавить форму подписки на все основные страницы, чтобы собрать базу клиентов для email-рассылок</td>\n",
       "      <td>10</td>\n",
       "      <td>7</td>\n",
       "      <td>8</td>\n",
       "      <td>5</td>\n",
       "    </tr>\n",
       "    <tr>\n",
       "      <th>8</th>\n",
       "      <td>Запустить акцию, дающую скидку на товар в день рождения</td>\n",
       "      <td>1</td>\n",
       "      <td>9</td>\n",
       "      <td>9</td>\n",
       "      <td>5</td>\n",
       "    </tr>\n",
       "  </tbody>\n",
       "</table>\n",
       "</div>"
      ],
      "text/plain": [
       "                                                                                                     Hypothesis  \\\n",
       "0            Добавить два новых канала привлечения трафика, что позволит привлекать на 30% больше пользователей   \n",
       "1                                     Запустить собственную службу доставки, что сократит срок доставки заказов   \n",
       "2  Добавить блоки рекомендаций товаров на сайт интернет магазина, чтобы повысить конверсию и средний чек заказа   \n",
       "3           Изменить структура категорий, что увеличит конверсию, т.к. пользователи быстрее найдут нужный товар   \n",
       "4                              Изменить цвет фона главной страницы, чтобы увеличить вовлеченность пользователей   \n",
       "5                      Добавить страницу отзывов клиентов о магазине, что позволит увеличить количество заказов   \n",
       "6          Показать на главной странице баннеры с актуальными акциями и распродажами, чтобы увеличить конверсию   \n",
       "7              Добавить форму подписки на все основные страницы, чтобы собрать базу клиентов для email-рассылок   \n",
       "8                                                       Запустить акцию, дающую скидку на товар в день рождения   \n",
       "\n",
       "   Reach  Impact  Confidence  Efforts  \n",
       "0      3      10           8        6  \n",
       "1      2       5           4       10  \n",
       "2      8       3           7        3  \n",
       "3      8       3           3        8  \n",
       "4      3       1           1        1  \n",
       "5      3       2           2        3  \n",
       "6      5       3           8        3  \n",
       "7     10       7           8        5  \n",
       "8      1       9           9        5  "
      ]
     },
     "execution_count": 683,
     "metadata": {},
     "output_type": "execute_result"
    }
   ],
   "source": [
    "hypothesis"
   ]
  },
  {
   "cell_type": "code",
   "execution_count": 684,
   "metadata": {},
   "outputs": [],
   "source": [
    "hypothesis['ICE'] = hypothesis['Impact'] * hypothesis['Confidence'] / hypothesis['Efforts']\n",
    "\n",
    "hypothesis['RICE'] = hypothesis['Reach'] * hypothesis['Impact'] * hypothesis['Confidence'] / hypothesis['Efforts']\n"
   ]
  },
  {
   "cell_type": "code",
   "execution_count": 685,
   "metadata": {
    "scrolled": false
   },
   "outputs": [
    {
     "data": {
      "text/html": [
       "<div>\n",
       "<style scoped>\n",
       "    .dataframe tbody tr th:only-of-type {\n",
       "        vertical-align: middle;\n",
       "    }\n",
       "\n",
       "    .dataframe tbody tr th {\n",
       "        vertical-align: top;\n",
       "    }\n",
       "\n",
       "    .dataframe thead th {\n",
       "        text-align: right;\n",
       "    }\n",
       "</style>\n",
       "<table border=\"1\" class=\"dataframe\">\n",
       "  <thead>\n",
       "    <tr style=\"text-align: right;\">\n",
       "      <th></th>\n",
       "      <th>Hypothesis</th>\n",
       "      <th>Reach</th>\n",
       "      <th>Impact</th>\n",
       "      <th>Confidence</th>\n",
       "      <th>Efforts</th>\n",
       "      <th>ICE</th>\n",
       "      <th>RICE</th>\n",
       "    </tr>\n",
       "  </thead>\n",
       "  <tbody>\n",
       "    <tr>\n",
       "      <th>8</th>\n",
       "      <td>Запустить акцию, дающую скидку на товар в день рождения</td>\n",
       "      <td>1</td>\n",
       "      <td>9</td>\n",
       "      <td>9</td>\n",
       "      <td>5</td>\n",
       "      <td>16.200000</td>\n",
       "      <td>16.2</td>\n",
       "    </tr>\n",
       "    <tr>\n",
       "      <th>0</th>\n",
       "      <td>Добавить два новых канала привлечения трафика, что позволит привлекать на 30% больше пользователей</td>\n",
       "      <td>3</td>\n",
       "      <td>10</td>\n",
       "      <td>8</td>\n",
       "      <td>6</td>\n",
       "      <td>13.333333</td>\n",
       "      <td>40.0</td>\n",
       "    </tr>\n",
       "    <tr>\n",
       "      <th>7</th>\n",
       "      <td>Добавить форму подписки на все основные страницы, чтобы собрать базу клиентов для email-рассылок</td>\n",
       "      <td>10</td>\n",
       "      <td>7</td>\n",
       "      <td>8</td>\n",
       "      <td>5</td>\n",
       "      <td>11.200000</td>\n",
       "      <td>112.0</td>\n",
       "    </tr>\n",
       "    <tr>\n",
       "      <th>6</th>\n",
       "      <td>Показать на главной странице баннеры с актуальными акциями и распродажами, чтобы увеличить конверсию</td>\n",
       "      <td>5</td>\n",
       "      <td>3</td>\n",
       "      <td>8</td>\n",
       "      <td>3</td>\n",
       "      <td>8.000000</td>\n",
       "      <td>40.0</td>\n",
       "    </tr>\n",
       "    <tr>\n",
       "      <th>2</th>\n",
       "      <td>Добавить блоки рекомендаций товаров на сайт интернет магазина, чтобы повысить конверсию и средний чек заказа</td>\n",
       "      <td>8</td>\n",
       "      <td>3</td>\n",
       "      <td>7</td>\n",
       "      <td>3</td>\n",
       "      <td>7.000000</td>\n",
       "      <td>56.0</td>\n",
       "    </tr>\n",
       "    <tr>\n",
       "      <th>1</th>\n",
       "      <td>Запустить собственную службу доставки, что сократит срок доставки заказов</td>\n",
       "      <td>2</td>\n",
       "      <td>5</td>\n",
       "      <td>4</td>\n",
       "      <td>10</td>\n",
       "      <td>2.000000</td>\n",
       "      <td>4.0</td>\n",
       "    </tr>\n",
       "    <tr>\n",
       "      <th>5</th>\n",
       "      <td>Добавить страницу отзывов клиентов о магазине, что позволит увеличить количество заказов</td>\n",
       "      <td>3</td>\n",
       "      <td>2</td>\n",
       "      <td>2</td>\n",
       "      <td>3</td>\n",
       "      <td>1.333333</td>\n",
       "      <td>4.0</td>\n",
       "    </tr>\n",
       "    <tr>\n",
       "      <th>3</th>\n",
       "      <td>Изменить структура категорий, что увеличит конверсию, т.к. пользователи быстрее найдут нужный товар</td>\n",
       "      <td>8</td>\n",
       "      <td>3</td>\n",
       "      <td>3</td>\n",
       "      <td>8</td>\n",
       "      <td>1.125000</td>\n",
       "      <td>9.0</td>\n",
       "    </tr>\n",
       "    <tr>\n",
       "      <th>4</th>\n",
       "      <td>Изменить цвет фона главной страницы, чтобы увеличить вовлеченность пользователей</td>\n",
       "      <td>3</td>\n",
       "      <td>1</td>\n",
       "      <td>1</td>\n",
       "      <td>1</td>\n",
       "      <td>1.000000</td>\n",
       "      <td>3.0</td>\n",
       "    </tr>\n",
       "  </tbody>\n",
       "</table>\n",
       "</div>"
      ],
      "text/plain": [
       "                                                                                                     Hypothesis  \\\n",
       "8                                                       Запустить акцию, дающую скидку на товар в день рождения   \n",
       "0            Добавить два новых канала привлечения трафика, что позволит привлекать на 30% больше пользователей   \n",
       "7              Добавить форму подписки на все основные страницы, чтобы собрать базу клиентов для email-рассылок   \n",
       "6          Показать на главной странице баннеры с актуальными акциями и распродажами, чтобы увеличить конверсию   \n",
       "2  Добавить блоки рекомендаций товаров на сайт интернет магазина, чтобы повысить конверсию и средний чек заказа   \n",
       "1                                     Запустить собственную службу доставки, что сократит срок доставки заказов   \n",
       "5                      Добавить страницу отзывов клиентов о магазине, что позволит увеличить количество заказов   \n",
       "3           Изменить структура категорий, что увеличит конверсию, т.к. пользователи быстрее найдут нужный товар   \n",
       "4                              Изменить цвет фона главной страницы, чтобы увеличить вовлеченность пользователей   \n",
       "\n",
       "   Reach  Impact  Confidence  Efforts        ICE   RICE  \n",
       "8      1       9           9        5  16.200000   16.2  \n",
       "0      3      10           8        6  13.333333   40.0  \n",
       "7     10       7           8        5  11.200000  112.0  \n",
       "6      5       3           8        3   8.000000   40.0  \n",
       "2      8       3           7        3   7.000000   56.0  \n",
       "1      2       5           4       10   2.000000    4.0  \n",
       "5      3       2           2        3   1.333333    4.0  \n",
       "3      8       3           3        8   1.125000    9.0  \n",
       "4      3       1           1        1   1.000000    3.0  "
      ]
     },
     "execution_count": 685,
     "metadata": {},
     "output_type": "execute_result"
    },
    {
     "data": {
      "text/html": [
       "<div>\n",
       "<style scoped>\n",
       "    .dataframe tbody tr th:only-of-type {\n",
       "        vertical-align: middle;\n",
       "    }\n",
       "\n",
       "    .dataframe tbody tr th {\n",
       "        vertical-align: top;\n",
       "    }\n",
       "\n",
       "    .dataframe thead th {\n",
       "        text-align: right;\n",
       "    }\n",
       "</style>\n",
       "<table border=\"1\" class=\"dataframe\">\n",
       "  <thead>\n",
       "    <tr style=\"text-align: right;\">\n",
       "      <th></th>\n",
       "      <th>Hypothesis</th>\n",
       "      <th>Reach</th>\n",
       "      <th>Impact</th>\n",
       "      <th>Confidence</th>\n",
       "      <th>Efforts</th>\n",
       "      <th>ICE</th>\n",
       "      <th>RICE</th>\n",
       "    </tr>\n",
       "  </thead>\n",
       "  <tbody>\n",
       "    <tr>\n",
       "      <th>7</th>\n",
       "      <td>Добавить форму подписки на все основные страницы, чтобы собрать базу клиентов для email-рассылок</td>\n",
       "      <td>10</td>\n",
       "      <td>7</td>\n",
       "      <td>8</td>\n",
       "      <td>5</td>\n",
       "      <td>11.200000</td>\n",
       "      <td>112.0</td>\n",
       "    </tr>\n",
       "    <tr>\n",
       "      <th>2</th>\n",
       "      <td>Добавить блоки рекомендаций товаров на сайт интернет магазина, чтобы повысить конверсию и средний чек заказа</td>\n",
       "      <td>8</td>\n",
       "      <td>3</td>\n",
       "      <td>7</td>\n",
       "      <td>3</td>\n",
       "      <td>7.000000</td>\n",
       "      <td>56.0</td>\n",
       "    </tr>\n",
       "    <tr>\n",
       "      <th>0</th>\n",
       "      <td>Добавить два новых канала привлечения трафика, что позволит привлекать на 30% больше пользователей</td>\n",
       "      <td>3</td>\n",
       "      <td>10</td>\n",
       "      <td>8</td>\n",
       "      <td>6</td>\n",
       "      <td>13.333333</td>\n",
       "      <td>40.0</td>\n",
       "    </tr>\n",
       "    <tr>\n",
       "      <th>6</th>\n",
       "      <td>Показать на главной странице баннеры с актуальными акциями и распродажами, чтобы увеличить конверсию</td>\n",
       "      <td>5</td>\n",
       "      <td>3</td>\n",
       "      <td>8</td>\n",
       "      <td>3</td>\n",
       "      <td>8.000000</td>\n",
       "      <td>40.0</td>\n",
       "    </tr>\n",
       "    <tr>\n",
       "      <th>8</th>\n",
       "      <td>Запустить акцию, дающую скидку на товар в день рождения</td>\n",
       "      <td>1</td>\n",
       "      <td>9</td>\n",
       "      <td>9</td>\n",
       "      <td>5</td>\n",
       "      <td>16.200000</td>\n",
       "      <td>16.2</td>\n",
       "    </tr>\n",
       "    <tr>\n",
       "      <th>3</th>\n",
       "      <td>Изменить структура категорий, что увеличит конверсию, т.к. пользователи быстрее найдут нужный товар</td>\n",
       "      <td>8</td>\n",
       "      <td>3</td>\n",
       "      <td>3</td>\n",
       "      <td>8</td>\n",
       "      <td>1.125000</td>\n",
       "      <td>9.0</td>\n",
       "    </tr>\n",
       "    <tr>\n",
       "      <th>1</th>\n",
       "      <td>Запустить собственную службу доставки, что сократит срок доставки заказов</td>\n",
       "      <td>2</td>\n",
       "      <td>5</td>\n",
       "      <td>4</td>\n",
       "      <td>10</td>\n",
       "      <td>2.000000</td>\n",
       "      <td>4.0</td>\n",
       "    </tr>\n",
       "    <tr>\n",
       "      <th>5</th>\n",
       "      <td>Добавить страницу отзывов клиентов о магазине, что позволит увеличить количество заказов</td>\n",
       "      <td>3</td>\n",
       "      <td>2</td>\n",
       "      <td>2</td>\n",
       "      <td>3</td>\n",
       "      <td>1.333333</td>\n",
       "      <td>4.0</td>\n",
       "    </tr>\n",
       "    <tr>\n",
       "      <th>4</th>\n",
       "      <td>Изменить цвет фона главной страницы, чтобы увеличить вовлеченность пользователей</td>\n",
       "      <td>3</td>\n",
       "      <td>1</td>\n",
       "      <td>1</td>\n",
       "      <td>1</td>\n",
       "      <td>1.000000</td>\n",
       "      <td>3.0</td>\n",
       "    </tr>\n",
       "  </tbody>\n",
       "</table>\n",
       "</div>"
      ],
      "text/plain": [
       "                                                                                                     Hypothesis  \\\n",
       "7              Добавить форму подписки на все основные страницы, чтобы собрать базу клиентов для email-рассылок   \n",
       "2  Добавить блоки рекомендаций товаров на сайт интернет магазина, чтобы повысить конверсию и средний чек заказа   \n",
       "0            Добавить два новых канала привлечения трафика, что позволит привлекать на 30% больше пользователей   \n",
       "6          Показать на главной странице баннеры с актуальными акциями и распродажами, чтобы увеличить конверсию   \n",
       "8                                                       Запустить акцию, дающую скидку на товар в день рождения   \n",
       "3           Изменить структура категорий, что увеличит конверсию, т.к. пользователи быстрее найдут нужный товар   \n",
       "1                                     Запустить собственную службу доставки, что сократит срок доставки заказов   \n",
       "5                      Добавить страницу отзывов клиентов о магазине, что позволит увеличить количество заказов   \n",
       "4                              Изменить цвет фона главной страницы, чтобы увеличить вовлеченность пользователей   \n",
       "\n",
       "   Reach  Impact  Confidence  Efforts        ICE   RICE  \n",
       "7     10       7           8        5  11.200000  112.0  \n",
       "2      8       3           7        3   7.000000   56.0  \n",
       "0      3      10           8        6  13.333333   40.0  \n",
       "6      5       3           8        3   8.000000   40.0  \n",
       "8      1       9           9        5  16.200000   16.2  \n",
       "3      8       3           3        8   1.125000    9.0  \n",
       "1      2       5           4       10   2.000000    4.0  \n",
       "5      3       2           2        3   1.333333    4.0  \n",
       "4      3       1           1        1   1.000000    3.0  "
      ]
     },
     "execution_count": 685,
     "metadata": {},
     "output_type": "execute_result"
    }
   ],
   "source": [
    "hypothesis.sort_values('ICE', ascending=False)\n",
    "hypothesis.sort_values('RICE', ascending=False)"
   ]
  },
  {
   "cell_type": "markdown",
   "metadata": {},
   "source": [
    "Гипотезы с индексами 1, 3, 4, 5 имеют низкие показатели как ICE, так и RICE. 0 и 7 остаются в топ-3, 6 - на том же месте, а гипотеза 8 стоит на 1 месте для ICE, так как не учитывается компонента Reach, а в RICE она стоит уже на 5 месте, потому что Reach равен 1. 2 гипотеза, наоборот, благодаря Reach перешла с 5 на 2 место"
   ]
  },
  {
   "cell_type": "markdown",
   "metadata": {},
   "source": [
    "# Анализ A/B-теста"
   ]
  },
  {
   "cell_type": "code",
   "execution_count": 686,
   "metadata": {},
   "outputs": [
    {
     "name": "stdout",
     "output_type": "stream",
     "text": [
      "<class 'pandas.core.frame.DataFrame'>\n",
      "RangeIndex: 1197 entries, 0 to 1196\n",
      "Data columns (total 5 columns):\n",
      " #   Column         Non-Null Count  Dtype \n",
      "---  ------         --------------  ----- \n",
      " 0   transactionId  1197 non-null   int64 \n",
      " 1   visitorId      1197 non-null   int64 \n",
      " 2   date           1197 non-null   object\n",
      " 3   revenue        1197 non-null   int64 \n",
      " 4   group          1197 non-null   object\n",
      "dtypes: int64(3), object(2)\n",
      "memory usage: 46.9+ KB\n"
     ]
    },
    {
     "data": {
      "text/plain": [
       "None"
      ]
     },
     "metadata": {},
     "output_type": "display_data"
    },
    {
     "data": {
      "text/html": [
       "<div>\n",
       "<style scoped>\n",
       "    .dataframe tbody tr th:only-of-type {\n",
       "        vertical-align: middle;\n",
       "    }\n",
       "\n",
       "    .dataframe tbody tr th {\n",
       "        vertical-align: top;\n",
       "    }\n",
       "\n",
       "    .dataframe thead th {\n",
       "        text-align: right;\n",
       "    }\n",
       "</style>\n",
       "<table border=\"1\" class=\"dataframe\">\n",
       "  <thead>\n",
       "    <tr style=\"text-align: right;\">\n",
       "      <th></th>\n",
       "      <th>transactionId</th>\n",
       "      <th>visitorId</th>\n",
       "      <th>date</th>\n",
       "      <th>revenue</th>\n",
       "      <th>group</th>\n",
       "    </tr>\n",
       "  </thead>\n",
       "  <tbody>\n",
       "    <tr>\n",
       "      <th>0</th>\n",
       "      <td>3667963787</td>\n",
       "      <td>3312258926</td>\n",
       "      <td>2019-08-15</td>\n",
       "      <td>1650</td>\n",
       "      <td>B</td>\n",
       "    </tr>\n",
       "    <tr>\n",
       "      <th>1</th>\n",
       "      <td>2804400009</td>\n",
       "      <td>3642806036</td>\n",
       "      <td>2019-08-15</td>\n",
       "      <td>730</td>\n",
       "      <td>B</td>\n",
       "    </tr>\n",
       "    <tr>\n",
       "      <th>2</th>\n",
       "      <td>2961555356</td>\n",
       "      <td>4069496402</td>\n",
       "      <td>2019-08-15</td>\n",
       "      <td>400</td>\n",
       "      <td>A</td>\n",
       "    </tr>\n",
       "    <tr>\n",
       "      <th>3</th>\n",
       "      <td>3797467345</td>\n",
       "      <td>1196621759</td>\n",
       "      <td>2019-08-15</td>\n",
       "      <td>9759</td>\n",
       "      <td>B</td>\n",
       "    </tr>\n",
       "    <tr>\n",
       "      <th>4</th>\n",
       "      <td>2282983706</td>\n",
       "      <td>2322279887</td>\n",
       "      <td>2019-08-15</td>\n",
       "      <td>2308</td>\n",
       "      <td>B</td>\n",
       "    </tr>\n",
       "  </tbody>\n",
       "</table>\n",
       "</div>"
      ],
      "text/plain": [
       "   transactionId   visitorId        date  revenue group\n",
       "0     3667963787  3312258926  2019-08-15     1650     B\n",
       "1     2804400009  3642806036  2019-08-15      730     B\n",
       "2     2961555356  4069496402  2019-08-15      400     A\n",
       "3     3797467345  1196621759  2019-08-15     9759     B\n",
       "4     2282983706  2322279887  2019-08-15     2308     B"
      ]
     },
     "metadata": {},
     "output_type": "display_data"
    },
    {
     "name": "stdout",
     "output_type": "stream",
     "text": [
      "<class 'pandas.core.frame.DataFrame'>\n",
      "RangeIndex: 62 entries, 0 to 61\n",
      "Data columns (total 3 columns):\n",
      " #   Column    Non-Null Count  Dtype \n",
      "---  ------    --------------  ----- \n",
      " 0   date      62 non-null     object\n",
      " 1   group     62 non-null     object\n",
      " 2   visitors  62 non-null     int64 \n",
      "dtypes: int64(1), object(2)\n",
      "memory usage: 1.6+ KB\n"
     ]
    },
    {
     "data": {
      "text/plain": [
       "None"
      ]
     },
     "metadata": {},
     "output_type": "display_data"
    },
    {
     "data": {
      "text/html": [
       "<div>\n",
       "<style scoped>\n",
       "    .dataframe tbody tr th:only-of-type {\n",
       "        vertical-align: middle;\n",
       "    }\n",
       "\n",
       "    .dataframe tbody tr th {\n",
       "        vertical-align: top;\n",
       "    }\n",
       "\n",
       "    .dataframe thead th {\n",
       "        text-align: right;\n",
       "    }\n",
       "</style>\n",
       "<table border=\"1\" class=\"dataframe\">\n",
       "  <thead>\n",
       "    <tr style=\"text-align: right;\">\n",
       "      <th></th>\n",
       "      <th>date</th>\n",
       "      <th>group</th>\n",
       "      <th>visitors</th>\n",
       "    </tr>\n",
       "  </thead>\n",
       "  <tbody>\n",
       "    <tr>\n",
       "      <th>0</th>\n",
       "      <td>2019-08-01</td>\n",
       "      <td>A</td>\n",
       "      <td>719</td>\n",
       "    </tr>\n",
       "    <tr>\n",
       "      <th>1</th>\n",
       "      <td>2019-08-02</td>\n",
       "      <td>A</td>\n",
       "      <td>619</td>\n",
       "    </tr>\n",
       "    <tr>\n",
       "      <th>2</th>\n",
       "      <td>2019-08-03</td>\n",
       "      <td>A</td>\n",
       "      <td>507</td>\n",
       "    </tr>\n",
       "    <tr>\n",
       "      <th>3</th>\n",
       "      <td>2019-08-04</td>\n",
       "      <td>A</td>\n",
       "      <td>717</td>\n",
       "    </tr>\n",
       "    <tr>\n",
       "      <th>4</th>\n",
       "      <td>2019-08-05</td>\n",
       "      <td>A</td>\n",
       "      <td>756</td>\n",
       "    </tr>\n",
       "  </tbody>\n",
       "</table>\n",
       "</div>"
      ],
      "text/plain": [
       "         date group  visitors\n",
       "0  2019-08-01     A       719\n",
       "1  2019-08-02     A       619\n",
       "2  2019-08-03     A       507\n",
       "3  2019-08-04     A       717\n",
       "4  2019-08-05     A       756"
      ]
     },
     "metadata": {},
     "output_type": "display_data"
    },
    {
     "data": {
      "text/plain": [
       "[None, None]"
      ]
     },
     "execution_count": 686,
     "metadata": {},
     "output_type": "execute_result"
    }
   ],
   "source": [
    "[display(i.info(), i.head()) for i in [orders, visitors]]"
   ]
  },
  {
   "cell_type": "code",
   "execution_count": 687,
   "metadata": {},
   "outputs": [
    {
     "data": {
      "text/plain": [
       "0"
      ]
     },
     "execution_count": 687,
     "metadata": {},
     "output_type": "execute_result"
    },
    {
     "data": {
      "text/plain": [
       "0"
      ]
     },
     "execution_count": 687,
     "metadata": {},
     "output_type": "execute_result"
    }
   ],
   "source": [
    "orders.duplicated().sum()\n",
    "visitors.duplicated().sum()"
   ]
  },
  {
   "cell_type": "markdown",
   "metadata": {},
   "source": [
    "Явных дубликатов нет. Необходимо привести дату к соответствующему типу и проверить, есть ли пользователи, попавшие в обе группы теста в одну дату одновременно"
   ]
  },
  {
   "cell_type": "code",
   "execution_count": 688,
   "metadata": {},
   "outputs": [],
   "source": [
    "orders['date'] = pd.to_datetime(orders['date'])\n",
    "visitors['date'] = pd.to_datetime(visitors['date'])"
   ]
  },
  {
   "cell_type": "code",
   "execution_count": 689,
   "metadata": {},
   "outputs": [
    {
     "data": {
      "text/html": [
       "<div>\n",
       "<style scoped>\n",
       "    .dataframe tbody tr th:only-of-type {\n",
       "        vertical-align: middle;\n",
       "    }\n",
       "\n",
       "    .dataframe tbody tr th {\n",
       "        vertical-align: top;\n",
       "    }\n",
       "\n",
       "    .dataframe thead th {\n",
       "        text-align: right;\n",
       "    }\n",
       "</style>\n",
       "<table border=\"1\" class=\"dataframe\">\n",
       "  <thead>\n",
       "    <tr style=\"text-align: right;\">\n",
       "      <th></th>\n",
       "      <th>transactionId</th>\n",
       "      <th>visitorId</th>\n",
       "      <th>date</th>\n",
       "      <th>revenue</th>\n",
       "      <th>group</th>\n",
       "    </tr>\n",
       "  </thead>\n",
       "  <tbody>\n",
       "    <tr>\n",
       "      <th>71</th>\n",
       "      <td>3679129301</td>\n",
       "      <td>8300375</td>\n",
       "      <td>2019-08-01</td>\n",
       "      <td>10510</td>\n",
       "      <td>B</td>\n",
       "    </tr>\n",
       "    <tr>\n",
       "      <th>703</th>\n",
       "      <td>4293855558</td>\n",
       "      <td>8300375</td>\n",
       "      <td>2019-08-07</td>\n",
       "      <td>1790</td>\n",
       "      <td>A</td>\n",
       "    </tr>\n",
       "    <tr>\n",
       "      <th>1102</th>\n",
       "      <td>1941707234</td>\n",
       "      <td>199603092</td>\n",
       "      <td>2019-08-12</td>\n",
       "      <td>6438</td>\n",
       "      <td>A</td>\n",
       "    </tr>\n",
       "    <tr>\n",
       "      <th>823</th>\n",
       "      <td>2971973105</td>\n",
       "      <td>199603092</td>\n",
       "      <td>2019-08-27</td>\n",
       "      <td>2790</td>\n",
       "      <td>A</td>\n",
       "    </tr>\n",
       "    <tr>\n",
       "      <th>134</th>\n",
       "      <td>62794304</td>\n",
       "      <td>199603092</td>\n",
       "      <td>2019-08-22</td>\n",
       "      <td>6976</td>\n",
       "      <td>A</td>\n",
       "    </tr>\n",
       "  </tbody>\n",
       "</table>\n",
       "</div>"
      ],
      "text/plain": [
       "      transactionId  visitorId       date  revenue group\n",
       "71       3679129301    8300375 2019-08-01    10510     B\n",
       "703      4293855558    8300375 2019-08-07     1790     A\n",
       "1102     1941707234  199603092 2019-08-12     6438     A\n",
       "823      2971973105  199603092 2019-08-27     2790     A\n",
       "134        62794304  199603092 2019-08-22     6976     A"
      ]
     },
     "execution_count": 689,
     "metadata": {},
     "output_type": "execute_result"
    },
    {
     "data": {
      "text/html": [
       "<div>\n",
       "<style scoped>\n",
       "    .dataframe tbody tr th:only-of-type {\n",
       "        vertical-align: middle;\n",
       "    }\n",
       "\n",
       "    .dataframe tbody tr th {\n",
       "        vertical-align: top;\n",
       "    }\n",
       "\n",
       "    .dataframe thead th {\n",
       "        text-align: right;\n",
       "    }\n",
       "</style>\n",
       "<table border=\"1\" class=\"dataframe\">\n",
       "  <thead>\n",
       "    <tr style=\"text-align: right;\">\n",
       "      <th></th>\n",
       "      <th>transactionId</th>\n",
       "      <th>visitorId</th>\n",
       "      <th>date</th>\n",
       "      <th>revenue</th>\n",
       "      <th>group</th>\n",
       "    </tr>\n",
       "  </thead>\n",
       "  <tbody>\n",
       "    <tr>\n",
       "      <th>94</th>\n",
       "      <td>252633006</td>\n",
       "      <td>457167155</td>\n",
       "      <td>2019-08-22</td>\n",
       "      <td>5970</td>\n",
       "      <td>B</td>\n",
       "    </tr>\n",
       "    <tr>\n",
       "      <th>95</th>\n",
       "      <td>372616894</td>\n",
       "      <td>457167155</td>\n",
       "      <td>2019-08-22</td>\n",
       "      <td>987</td>\n",
       "      <td>B</td>\n",
       "    </tr>\n",
       "    <tr>\n",
       "      <th>144</th>\n",
       "      <td>365058890</td>\n",
       "      <td>611059232</td>\n",
       "      <td>2019-08-01</td>\n",
       "      <td>2750</td>\n",
       "      <td>A</td>\n",
       "    </tr>\n",
       "    <tr>\n",
       "      <th>145</th>\n",
       "      <td>735232225</td>\n",
       "      <td>611059232</td>\n",
       "      <td>2019-08-01</td>\n",
       "      <td>8800</td>\n",
       "      <td>A</td>\n",
       "    </tr>\n",
       "    <tr>\n",
       "      <th>104</th>\n",
       "      <td>627804981</td>\n",
       "      <td>611059232</td>\n",
       "      <td>2019-08-01</td>\n",
       "      <td>17600</td>\n",
       "      <td>A</td>\n",
       "    </tr>\n",
       "    <tr>\n",
       "      <th>675</th>\n",
       "      <td>2658936877</td>\n",
       "      <td>1230306981</td>\n",
       "      <td>2019-08-09</td>\n",
       "      <td>6440</td>\n",
       "      <td>B</td>\n",
       "    </tr>\n",
       "    <tr>\n",
       "      <th>674</th>\n",
       "      <td>1748608673</td>\n",
       "      <td>1230306981</td>\n",
       "      <td>2019-08-09</td>\n",
       "      <td>6400</td>\n",
       "      <td>B</td>\n",
       "    </tr>\n",
       "    <tr>\n",
       "      <th>739</th>\n",
       "      <td>2541955961</td>\n",
       "      <td>1230306981</td>\n",
       "      <td>2019-08-09</td>\n",
       "      <td>10137</td>\n",
       "      <td>A</td>\n",
       "    </tr>\n",
       "    <tr>\n",
       "      <th>676</th>\n",
       "      <td>278311817</td>\n",
       "      <td>1230306981</td>\n",
       "      <td>2019-08-09</td>\n",
       "      <td>1690</td>\n",
       "      <td>A</td>\n",
       "    </tr>\n",
       "    <tr>\n",
       "      <th>672</th>\n",
       "      <td>3667885894</td>\n",
       "      <td>1230306981</td>\n",
       "      <td>2019-08-09</td>\n",
       "      <td>6613</td>\n",
       "      <td>A</td>\n",
       "    </tr>\n",
       "    <tr>\n",
       "      <th>608</th>\n",
       "      <td>2672742956</td>\n",
       "      <td>2025197455</td>\n",
       "      <td>2019-08-04</td>\n",
       "      <td>12550</td>\n",
       "      <td>B</td>\n",
       "    </tr>\n",
       "    <tr>\n",
       "      <th>574</th>\n",
       "      <td>3394575003</td>\n",
       "      <td>2025197455</td>\n",
       "      <td>2019-08-04</td>\n",
       "      <td>300</td>\n",
       "      <td>B</td>\n",
       "    </tr>\n",
       "    <tr>\n",
       "      <th>578</th>\n",
       "      <td>1570911533</td>\n",
       "      <td>2038680547</td>\n",
       "      <td>2019-08-04</td>\n",
       "      <td>1530</td>\n",
       "      <td>A</td>\n",
       "    </tr>\n",
       "    <tr>\n",
       "      <th>605</th>\n",
       "      <td>1215730747</td>\n",
       "      <td>2038680547</td>\n",
       "      <td>2019-08-04</td>\n",
       "      <td>2540</td>\n",
       "      <td>A</td>\n",
       "    </tr>\n",
       "    <tr>\n",
       "      <th>516</th>\n",
       "      <td>3754751399</td>\n",
       "      <td>2044997962</td>\n",
       "      <td>2019-08-26</td>\n",
       "      <td>6090</td>\n",
       "      <td>B</td>\n",
       "    </tr>\n",
       "    <tr>\n",
       "      <th>517</th>\n",
       "      <td>582361359</td>\n",
       "      <td>2044997962</td>\n",
       "      <td>2019-08-26</td>\n",
       "      <td>990</td>\n",
       "      <td>B</td>\n",
       "    </tr>\n",
       "    <tr>\n",
       "      <th>214</th>\n",
       "      <td>3485678199</td>\n",
       "      <td>2232111114</td>\n",
       "      <td>2019-08-02</td>\n",
       "      <td>17422</td>\n",
       "      <td>A</td>\n",
       "    </tr>\n",
       "    <tr>\n",
       "      <th>247</th>\n",
       "      <td>3231452720</td>\n",
       "      <td>2232111114</td>\n",
       "      <td>2019-08-02</td>\n",
       "      <td>15417</td>\n",
       "      <td>A</td>\n",
       "    </tr>\n",
       "    <tr>\n",
       "      <th>473</th>\n",
       "      <td>3224706027</td>\n",
       "      <td>2378935119</td>\n",
       "      <td>2019-08-28</td>\n",
       "      <td>4410</td>\n",
       "      <td>B</td>\n",
       "    </tr>\n",
       "    <tr>\n",
       "      <th>435</th>\n",
       "      <td>2430683444</td>\n",
       "      <td>2378935119</td>\n",
       "      <td>2019-08-28</td>\n",
       "      <td>20450</td>\n",
       "      <td>B</td>\n",
       "    </tr>\n",
       "    <tr>\n",
       "      <th>427</th>\n",
       "      <td>3019510679</td>\n",
       "      <td>2397843657</td>\n",
       "      <td>2019-08-19</td>\n",
       "      <td>1460</td>\n",
       "      <td>B</td>\n",
       "    </tr>\n",
       "    <tr>\n",
       "      <th>426</th>\n",
       "      <td>19467429</td>\n",
       "      <td>2397843657</td>\n",
       "      <td>2019-08-19</td>\n",
       "      <td>2630</td>\n",
       "      <td>B</td>\n",
       "    </tr>\n",
       "    <tr>\n",
       "      <th>454</th>\n",
       "      <td>3755354294</td>\n",
       "      <td>2458001652</td>\n",
       "      <td>2019-08-06</td>\n",
       "      <td>7349</td>\n",
       "      <td>B</td>\n",
       "    </tr>\n",
       "    <tr>\n",
       "      <th>483</th>\n",
       "      <td>2280027650</td>\n",
       "      <td>2458001652</td>\n",
       "      <td>2019-08-06</td>\n",
       "      <td>6681</td>\n",
       "      <td>B</td>\n",
       "    </tr>\n",
       "    <tr>\n",
       "      <th>98</th>\n",
       "      <td>1962247337</td>\n",
       "      <td>2706377257</td>\n",
       "      <td>2019-08-01</td>\n",
       "      <td>7129</td>\n",
       "      <td>A</td>\n",
       "    </tr>\n",
       "    <tr>\n",
       "      <th>96</th>\n",
       "      <td>1170105516</td>\n",
       "      <td>2706377257</td>\n",
       "      <td>2019-08-01</td>\n",
       "      <td>9024</td>\n",
       "      <td>A</td>\n",
       "    </tr>\n",
       "    <tr>\n",
       "      <th>947</th>\n",
       "      <td>2128508695</td>\n",
       "      <td>2733145037</td>\n",
       "      <td>2019-08-21</td>\n",
       "      <td>6660</td>\n",
       "      <td>A</td>\n",
       "    </tr>\n",
       "    <tr>\n",
       "      <th>946</th>\n",
       "      <td>210558688</td>\n",
       "      <td>2733145037</td>\n",
       "      <td>2019-08-21</td>\n",
       "      <td>3330</td>\n",
       "      <td>A</td>\n",
       "    </tr>\n",
       "    <tr>\n",
       "      <th>162</th>\n",
       "      <td>2634363174</td>\n",
       "      <td>2892265953</td>\n",
       "      <td>2019-08-17</td>\n",
       "      <td>1990</td>\n",
       "      <td>A</td>\n",
       "    </tr>\n",
       "    <tr>\n",
       "      <th>163</th>\n",
       "      <td>1071437802</td>\n",
       "      <td>2892265953</td>\n",
       "      <td>2019-08-17</td>\n",
       "      <td>650</td>\n",
       "      <td>A</td>\n",
       "    </tr>\n",
       "    <tr>\n",
       "      <th>793</th>\n",
       "      <td>4080243878</td>\n",
       "      <td>2988190573</td>\n",
       "      <td>2019-08-30</td>\n",
       "      <td>20290</td>\n",
       "      <td>A</td>\n",
       "    </tr>\n",
       "    <tr>\n",
       "      <th>757</th>\n",
       "      <td>461722689</td>\n",
       "      <td>2988190573</td>\n",
       "      <td>2019-08-30</td>\n",
       "      <td>24860</td>\n",
       "      <td>A</td>\n",
       "    </tr>\n",
       "    <tr>\n",
       "      <th>111</th>\n",
       "      <td>2736731761</td>\n",
       "      <td>3062433592</td>\n",
       "      <td>2019-08-01</td>\n",
       "      <td>14489</td>\n",
       "      <td>B</td>\n",
       "    </tr>\n",
       "    <tr>\n",
       "      <th>1096</th>\n",
       "      <td>3075787818</td>\n",
       "      <td>3062433592</td>\n",
       "      <td>2019-08-12</td>\n",
       "      <td>32610</td>\n",
       "      <td>B</td>\n",
       "    </tr>\n",
       "    <tr>\n",
       "      <th>1100</th>\n",
       "      <td>1671551244</td>\n",
       "      <td>3062433592</td>\n",
       "      <td>2019-08-12</td>\n",
       "      <td>2970</td>\n",
       "      <td>B</td>\n",
       "    </tr>\n",
       "    <tr>\n",
       "      <th>112</th>\n",
       "      <td>1638982251</td>\n",
       "      <td>3062433592</td>\n",
       "      <td>2019-08-01</td>\n",
       "      <td>8470</td>\n",
       "      <td>B</td>\n",
       "    </tr>\n",
       "    <tr>\n",
       "      <th>213</th>\n",
       "      <td>394880746</td>\n",
       "      <td>3332057097</td>\n",
       "      <td>2019-08-02</td>\n",
       "      <td>2750</td>\n",
       "      <td>B</td>\n",
       "    </tr>\n",
       "    <tr>\n",
       "      <th>212</th>\n",
       "      <td>1764119908</td>\n",
       "      <td>3332057097</td>\n",
       "      <td>2019-08-02</td>\n",
       "      <td>2820</td>\n",
       "      <td>B</td>\n",
       "    </tr>\n",
       "    <tr>\n",
       "      <th>1172</th>\n",
       "      <td>3898641900</td>\n",
       "      <td>3803269165</td>\n",
       "      <td>2019-08-14</td>\n",
       "      <td>790</td>\n",
       "      <td>B</td>\n",
       "    </tr>\n",
       "    <tr>\n",
       "      <th>1171</th>\n",
       "      <td>2860596918</td>\n",
       "      <td>3803269165</td>\n",
       "      <td>2019-08-14</td>\n",
       "      <td>6613</td>\n",
       "      <td>B</td>\n",
       "    </tr>\n",
       "    <tr>\n",
       "      <th>554</th>\n",
       "      <td>3986425716</td>\n",
       "      <td>3908431265</td>\n",
       "      <td>2019-08-06</td>\n",
       "      <td>890</td>\n",
       "      <td>A</td>\n",
       "    </tr>\n",
       "    <tr>\n",
       "      <th>552</th>\n",
       "      <td>151437276</td>\n",
       "      <td>3908431265</td>\n",
       "      <td>2019-08-06</td>\n",
       "      <td>1510</td>\n",
       "      <td>A</td>\n",
       "    </tr>\n",
       "    <tr>\n",
       "      <th>553</th>\n",
       "      <td>1926996770</td>\n",
       "      <td>3908431265</td>\n",
       "      <td>2019-08-06</td>\n",
       "      <td>1850</td>\n",
       "      <td>A</td>\n",
       "    </tr>\n",
       "    <tr>\n",
       "      <th>556</th>\n",
       "      <td>571224785</td>\n",
       "      <td>3941503500</td>\n",
       "      <td>2019-08-06</td>\n",
       "      <td>4990</td>\n",
       "      <td>B</td>\n",
       "    </tr>\n",
       "    <tr>\n",
       "      <th>558</th>\n",
       "      <td>3621273697</td>\n",
       "      <td>3941503500</td>\n",
       "      <td>2019-08-06</td>\n",
       "      <td>4990</td>\n",
       "      <td>B</td>\n",
       "    </tr>\n",
       "    <tr>\n",
       "      <th>141</th>\n",
       "      <td>602399015</td>\n",
       "      <td>3967698036</td>\n",
       "      <td>2019-08-01</td>\n",
       "      <td>299</td>\n",
       "      <td>A</td>\n",
       "    </tr>\n",
       "    <tr>\n",
       "      <th>147</th>\n",
       "      <td>52260954</td>\n",
       "      <td>3967698036</td>\n",
       "      <td>2019-08-01</td>\n",
       "      <td>990</td>\n",
       "      <td>A</td>\n",
       "    </tr>\n",
       "    <tr>\n",
       "      <th>418</th>\n",
       "      <td>3322807521</td>\n",
       "      <td>4109358064</td>\n",
       "      <td>2019-08-06</td>\n",
       "      <td>750</td>\n",
       "      <td>A</td>\n",
       "    </tr>\n",
       "    <tr>\n",
       "      <th>512</th>\n",
       "      <td>2744208512</td>\n",
       "      <td>4109358064</td>\n",
       "      <td>2019-08-06</td>\n",
       "      <td>4840</td>\n",
       "      <td>A</td>\n",
       "    </tr>\n",
       "  </tbody>\n",
       "</table>\n",
       "</div>"
      ],
      "text/plain": [
       "      transactionId   visitorId       date  revenue group\n",
       "94        252633006   457167155 2019-08-22     5970     B\n",
       "95        372616894   457167155 2019-08-22      987     B\n",
       "144       365058890   611059232 2019-08-01     2750     A\n",
       "145       735232225   611059232 2019-08-01     8800     A\n",
       "104       627804981   611059232 2019-08-01    17600     A\n",
       "675      2658936877  1230306981 2019-08-09     6440     B\n",
       "674      1748608673  1230306981 2019-08-09     6400     B\n",
       "739      2541955961  1230306981 2019-08-09    10137     A\n",
       "676       278311817  1230306981 2019-08-09     1690     A\n",
       "672      3667885894  1230306981 2019-08-09     6613     A\n",
       "608      2672742956  2025197455 2019-08-04    12550     B\n",
       "574      3394575003  2025197455 2019-08-04      300     B\n",
       "578      1570911533  2038680547 2019-08-04     1530     A\n",
       "605      1215730747  2038680547 2019-08-04     2540     A\n",
       "516      3754751399  2044997962 2019-08-26     6090     B\n",
       "517       582361359  2044997962 2019-08-26      990     B\n",
       "214      3485678199  2232111114 2019-08-02    17422     A\n",
       "247      3231452720  2232111114 2019-08-02    15417     A\n",
       "473      3224706027  2378935119 2019-08-28     4410     B\n",
       "435      2430683444  2378935119 2019-08-28    20450     B\n",
       "427      3019510679  2397843657 2019-08-19     1460     B\n",
       "426        19467429  2397843657 2019-08-19     2630     B\n",
       "454      3755354294  2458001652 2019-08-06     7349     B\n",
       "483      2280027650  2458001652 2019-08-06     6681     B\n",
       "98       1962247337  2706377257 2019-08-01     7129     A\n",
       "96       1170105516  2706377257 2019-08-01     9024     A\n",
       "947      2128508695  2733145037 2019-08-21     6660     A\n",
       "946       210558688  2733145037 2019-08-21     3330     A\n",
       "162      2634363174  2892265953 2019-08-17     1990     A\n",
       "163      1071437802  2892265953 2019-08-17      650     A\n",
       "793      4080243878  2988190573 2019-08-30    20290     A\n",
       "757       461722689  2988190573 2019-08-30    24860     A\n",
       "111      2736731761  3062433592 2019-08-01    14489     B\n",
       "1096     3075787818  3062433592 2019-08-12    32610     B\n",
       "1100     1671551244  3062433592 2019-08-12     2970     B\n",
       "112      1638982251  3062433592 2019-08-01     8470     B\n",
       "213       394880746  3332057097 2019-08-02     2750     B\n",
       "212      1764119908  3332057097 2019-08-02     2820     B\n",
       "1172     3898641900  3803269165 2019-08-14      790     B\n",
       "1171     2860596918  3803269165 2019-08-14     6613     B\n",
       "554      3986425716  3908431265 2019-08-06      890     A\n",
       "552       151437276  3908431265 2019-08-06     1510     A\n",
       "553      1926996770  3908431265 2019-08-06     1850     A\n",
       "556       571224785  3941503500 2019-08-06     4990     B\n",
       "558      3621273697  3941503500 2019-08-06     4990     B\n",
       "141       602399015  3967698036 2019-08-01      299     A\n",
       "147        52260954  3967698036 2019-08-01      990     A\n",
       "418      3322807521  4109358064 2019-08-06      750     A\n",
       "512      2744208512  4109358064 2019-08-06     4840     A"
      ]
     },
     "execution_count": 689,
     "metadata": {},
     "output_type": "execute_result"
    }
   ],
   "source": [
    "dup = orders[orders['visitorId'].duplicated(keep=False)].sort_values('visitorId')\n",
    "\n",
    "dup.head()\n",
    "\n",
    "dup[dup[['visitorId', 'date', 'group']].duplicated(keep = False)]"
   ]
  },
  {
   "cell_type": "markdown",
   "metadata": {},
   "source": [
    "Есть 260 случаев, когда пользователи совершали заказы не менее 2-х раз. Среди них все, кто совершал несколько заказов в один день, принадлежат одной и той же группе"
   ]
  },
  {
   "cell_type": "markdown",
   "metadata": {},
   "source": [
    "## График кумулятивной выручки по группам"
   ]
  },
  {
   "cell_type": "code",
   "execution_count": 690,
   "metadata": {},
   "outputs": [
    {
     "data": {
      "image/png": "[encoded data removed]",
      "text/plain": [
       "<Figure size 1152x576 with 1 Axes>"
      ]
     },
     "metadata": {
      "needs_background": "light"
     },
     "output_type": "display_data"
    }
   ],
   "source": [
    "np.cumsum(orders.query('group == \"A\"').groupby('date')['revenue'].sum()).plot(figsize = (16, 8), label = 'A')\n",
    "np.cumsum(orders.query('group == \"B\"').groupby('date')['revenue'].sum()).plot(figsize = (16, 8), label = 'B')\n",
    "plt.title('График кумулятивной выручки по группам', fontsize = '18')\n",
    "plt.xlabel('Дата', fontsize = '14')\n",
    "plt.ylabel('Кумулятивная выручка', fontsize = '14')\n",
    "plt.legend()\n",
    "plt.show();"
   ]
  },
  {
   "cell_type": "markdown",
   "metadata": {},
   "source": [
    "Кумулятивная выручка от пользователей из группы B больше на всем периоде проведения теста, чем от пользователей из группы A, возможно изменения действительно повлияли на увеличение выручки"
   ]
  },
  {
   "cell_type": "markdown",
   "metadata": {},
   "source": [
    "## График кумулятивного среднего чека по группам"
   ]
  },
  {
   "cell_type": "code",
   "execution_count": 691,
   "metadata": {},
   "outputs": [
    {
     "data": {
      "image/png": "[encoded data removed]",
      "text/plain": [
       "<Figure size 1152x576 with 1 Axes>"
      ]
     },
     "metadata": {
      "needs_background": "light"
     },
     "output_type": "display_data"
    }
   ],
   "source": [
    "a = orders.query('group == \"A\"').groupby('date', as_index=False)\\\n",
    "    .agg({\"transactionId\": 'count', 'revenue': 'sum'})\\\n",
    "    .sort_values(by='date')\\\n",
    "    .assign(aov_daily=lambda row: row['revenue'] / row['transactionId'],\n",
    "            aov_cum_daily=lambda row: row['revenue'].cumsum() / row['transactionId'].cumsum()\n",
    "           )[['date', 'aov_cum_daily']]\n",
    "\n",
    "b = orders.query('group == \"B\"').groupby('date', as_index=False)\\\n",
    "    .agg({\"transactionId\": 'count', 'revenue': 'sum'})\\\n",
    "    .sort_values(by='date')\\\n",
    "    .assign(aov_daily=lambda row: row['revenue'] / row['transactionId'],\n",
    "            aov_cum_daily=lambda row: row['revenue'].cumsum() / row['transactionId'].cumsum()\n",
    "           )[['date', 'aov_cum_daily']]\n",
    "\n",
    "fig, ax = plt.subplots(figsize = (16, 8))\n",
    "\n",
    "ax.plot(a['date'], a['aov_cum_daily'], label = 'A')\n",
    "ax.plot(b['date'], b['aov_cum_daily'], label = 'B')\n",
    "\n",
    "\n",
    "plt.title('График кумулятивного среднего чека по группам', fontsize = '18')\n",
    "plt.xlabel('Дата', fontsize = '14')\n",
    "plt.ylabel('Кумулятивный средний чек', fontsize = '14')\n",
    "plt.legend()\n",
    "plt.show();"
   ]
  },
  {
   "cell_type": "markdown",
   "metadata": {},
   "source": [
    "Кумулятивный средний чек также больше у группы B почти на всем временном промежутке, вероятно изменения повлияли и на увеличение среднего чека"
   ]
  },
  {
   "cell_type": "markdown",
   "metadata": {},
   "source": [
    "## График относительного изменения кумулятивного среднего чека"
   ]
  },
  {
   "cell_type": "code",
   "execution_count": 692,
   "metadata": {},
   "outputs": [
    {
     "data": {
      "image/png": "[encoded data removed]",
      "text/plain": [
       "<Figure size 1152x576 with 1 Axes>"
      ]
     },
     "metadata": {
      "needs_background": "light"
     },
     "output_type": "display_data"
    }
   ],
   "source": [
    "a = orders.query('group == \"A\"').groupby('date', as_index=False)\\\n",
    "    .agg({\"transactionId\": 'count', 'revenue': 'sum'})\\\n",
    "    .sort_values(by='date')\\\n",
    "    .assign(aov_daily=lambda row: row['revenue'] / row['transactionId'],\n",
    "            aov_cum_daily=lambda row: row['revenue'].cumsum() / row['transactionId'].cumsum()\n",
    "           )[['date', 'aov_cum_daily']]\n",
    "\n",
    "b = orders.query('group == \"B\"').groupby('date', as_index=False)\\\n",
    "    .agg({\"transactionId\": 'count', 'revenue': 'sum'})\\\n",
    "    .sort_values(by='date')\\\n",
    "    .assign(aov_daily=lambda row: row['revenue'] / row['transactionId'],\n",
    "            aov_cum_daily=lambda row: row['revenue'].cumsum() / row['transactionId'].cumsum()\n",
    "           )[['date', 'aov_cum_daily']]\n",
    "\n",
    "fig, ax = plt.subplots(figsize = (16, 8))\n",
    "\n",
    "ax.plot(b['date'], b['aov_cum_daily'] / a['aov_cum_daily'] - 1, label = 'B/A')\n",
    "\n",
    "plt.title('График относительного изменения кумулятивного среднего чека группы B к группе A', fontsize = '18')\n",
    "plt.xlabel('Дата', fontsize = '14')\n",
    "plt.ylabel('Отношение кумулятивного среднего чека', fontsize = '14')\n",
    "plt.axhline(0, c = 'grey', ls = '--')\n",
    "plt.legend()\n",
    "plt.show();"
   ]
  },
  {
   "cell_type": "markdown",
   "metadata": {},
   "source": [
    "В период с 12 по 15 августа отношение становится ниже 0, то есть кумулятивный средний чек пользователей группы B стал меньше, чем у пользователей группы A, у которых, вероятно, вырос средний чек"
   ]
  },
  {
   "cell_type": "markdown",
   "metadata": {},
   "source": [
    "## График кумулятивной конверсии по группам"
   ]
  },
  {
   "cell_type": "code",
   "execution_count": 693,
   "metadata": {},
   "outputs": [
    {
     "data": {
      "text/html": [
       "<div>\n",
       "<style scoped>\n",
       "    .dataframe tbody tr th:only-of-type {\n",
       "        vertical-align: middle;\n",
       "    }\n",
       "\n",
       "    .dataframe tbody tr th {\n",
       "        vertical-align: top;\n",
       "    }\n",
       "\n",
       "    .dataframe thead th {\n",
       "        text-align: right;\n",
       "    }\n",
       "</style>\n",
       "<table border=\"1\" class=\"dataframe\">\n",
       "  <thead>\n",
       "    <tr style=\"text-align: right;\">\n",
       "      <th></th>\n",
       "      <th>date</th>\n",
       "      <th>group</th>\n",
       "      <th>visitors</th>\n",
       "      <th>total_orders</th>\n",
       "    </tr>\n",
       "  </thead>\n",
       "  <tbody>\n",
       "    <tr>\n",
       "      <th>0</th>\n",
       "      <td>2019-08-01</td>\n",
       "      <td>A</td>\n",
       "      <td>719</td>\n",
       "      <td>24</td>\n",
       "    </tr>\n",
       "    <tr>\n",
       "      <th>1</th>\n",
       "      <td>2019-08-02</td>\n",
       "      <td>A</td>\n",
       "      <td>619</td>\n",
       "      <td>20</td>\n",
       "    </tr>\n",
       "    <tr>\n",
       "      <th>2</th>\n",
       "      <td>2019-08-03</td>\n",
       "      <td>A</td>\n",
       "      <td>507</td>\n",
       "      <td>24</td>\n",
       "    </tr>\n",
       "    <tr>\n",
       "      <th>3</th>\n",
       "      <td>2019-08-04</td>\n",
       "      <td>A</td>\n",
       "      <td>717</td>\n",
       "      <td>16</td>\n",
       "    </tr>\n",
       "    <tr>\n",
       "      <th>4</th>\n",
       "      <td>2019-08-05</td>\n",
       "      <td>A</td>\n",
       "      <td>756</td>\n",
       "      <td>25</td>\n",
       "    </tr>\n",
       "  </tbody>\n",
       "</table>\n",
       "</div>"
      ],
      "text/plain": [
       "        date group  visitors  total_orders\n",
       "0 2019-08-01     A       719            24\n",
       "1 2019-08-02     A       619            20\n",
       "2 2019-08-03     A       507            24\n",
       "3 2019-08-04     A       717            16\n",
       "4 2019-08-05     A       756            25"
      ]
     },
     "execution_count": 693,
     "metadata": {},
     "output_type": "execute_result"
    }
   ],
   "source": [
    "order_conver = orders.groupby(['date', 'group'], as_index=True)[['visitorId']].count().reset_index()\\\n",
    "    .sort_values(['group', 'date']).rename(columns = {'visitorId': 'total_orders'}) \\\n",
    "\n",
    "visitors = visitors.merge(order_conver, on = ['date', 'group'])\n",
    "visitors.head()"
   ]
  },
  {
   "cell_type": "code",
   "execution_count": 694,
   "metadata": {},
   "outputs": [
    {
     "data": {
      "text/html": [
       "<div>\n",
       "<style scoped>\n",
       "    .dataframe tbody tr th:only-of-type {\n",
       "        vertical-align: middle;\n",
       "    }\n",
       "\n",
       "    .dataframe tbody tr th {\n",
       "        vertical-align: top;\n",
       "    }\n",
       "\n",
       "    .dataframe thead th {\n",
       "        text-align: right;\n",
       "    }\n",
       "</style>\n",
       "<table border=\"1\" class=\"dataframe\">\n",
       "  <thead>\n",
       "    <tr style=\"text-align: right;\">\n",
       "      <th></th>\n",
       "      <th>date</th>\n",
       "      <th>group</th>\n",
       "      <th>visitors</th>\n",
       "      <th>total_orders</th>\n",
       "      <th>conversion</th>\n",
       "      <th>conversion_cum</th>\n",
       "    </tr>\n",
       "  </thead>\n",
       "  <tbody>\n",
       "    <tr>\n",
       "      <th>0</th>\n",
       "      <td>2019-08-01</td>\n",
       "      <td>A</td>\n",
       "      <td>719</td>\n",
       "      <td>24</td>\n",
       "      <td>3.337969</td>\n",
       "      <td>3.337969</td>\n",
       "    </tr>\n",
       "    <tr>\n",
       "      <th>1</th>\n",
       "      <td>2019-08-02</td>\n",
       "      <td>A</td>\n",
       "      <td>619</td>\n",
       "      <td>20</td>\n",
       "      <td>3.231018</td>\n",
       "      <td>3.288490</td>\n",
       "    </tr>\n",
       "    <tr>\n",
       "      <th>2</th>\n",
       "      <td>2019-08-03</td>\n",
       "      <td>A</td>\n",
       "      <td>507</td>\n",
       "      <td>24</td>\n",
       "      <td>4.733728</td>\n",
       "      <td>3.685637</td>\n",
       "    </tr>\n",
       "    <tr>\n",
       "      <th>3</th>\n",
       "      <td>2019-08-04</td>\n",
       "      <td>A</td>\n",
       "      <td>717</td>\n",
       "      <td>16</td>\n",
       "      <td>2.231520</td>\n",
       "      <td>3.278689</td>\n",
       "    </tr>\n",
       "    <tr>\n",
       "      <th>4</th>\n",
       "      <td>2019-08-05</td>\n",
       "      <td>A</td>\n",
       "      <td>756</td>\n",
       "      <td>25</td>\n",
       "      <td>3.306878</td>\n",
       "      <td>3.285112</td>\n",
       "    </tr>\n",
       "  </tbody>\n",
       "</table>\n",
       "</div>"
      ],
      "text/plain": [
       "        date group  visitors  total_orders  conversion  conversion_cum\n",
       "0 2019-08-01     A       719            24    3.337969        3.337969\n",
       "1 2019-08-02     A       619            20    3.231018        3.288490\n",
       "2 2019-08-03     A       507            24    4.733728        3.685637\n",
       "3 2019-08-04     A       717            16    2.231520        3.278689\n",
       "4 2019-08-05     A       756            25    3.306878        3.285112"
      ]
     },
     "execution_count": 694,
     "metadata": {},
     "output_type": "execute_result"
    }
   ],
   "source": [
    "a = visitors.query('group == \"A\"').assign(conversion=lambda row: row['total_orders'] / row['visitors'] * 100,\n",
    "                conversion_cum=lambda row: row['total_orders'].cumsum() / row['visitors'].cumsum() * 100\n",
    "               )\n",
    "\n",
    "b = visitors.query('group == \"B\"').assign(conversion=lambda row: row['total_orders'] / row['visitors'] * 100,\n",
    "                conversion_cum=lambda row: row['total_orders'].cumsum() / row['visitors'].cumsum() * 100\n",
    "               )\n",
    "\n",
    "visitors = visitors.merge(pd.concat([a, b]), on = ['date', 'group', 'visitors', 'total_orders'])\n",
    "\n",
    "visitors.head()"
   ]
  },
  {
   "cell_type": "code",
   "execution_count": 695,
   "metadata": {},
   "outputs": [
    {
     "data": {
      "image/png": "[encoded data removed]",
      "text/plain": [
       "<Figure size 1152x576 with 1 Axes>"
      ]
     },
     "metadata": {
      "needs_background": "light"
     },
     "output_type": "display_data"
    }
   ],
   "source": [
    "fig, ax = plt.subplots(figsize = (16, 8))\n",
    "\n",
    "ax.plot(a['date'], a['conversion_cum'], label = 'A')\n",
    "ax.plot(b['date'], b['conversion_cum'], label = 'B')\n",
    "\n",
    "plt.title('График кумулятивной конверсии по группам', fontsize = '18')\n",
    "plt.xlabel('Дата', fontsize = '14')\n",
    "plt.ylabel('Кумулятивная конверсия', fontsize = '14')\n",
    "plt.legend()\n",
    "plt.show();"
   ]
  },
  {
   "cell_type": "markdown",
   "metadata": {},
   "source": [
    "Сначала у пользователей группы A показатели кумулятивной конверсии были выше, но затем заметно начали снижаться, а с 9 августа стабильно растут показатели группы B"
   ]
  },
  {
   "cell_type": "markdown",
   "metadata": {},
   "source": [
    "## График относительного изменения кумулятивной конверсии "
   ]
  },
  {
   "cell_type": "code",
   "execution_count": 696,
   "metadata": {},
   "outputs": [
    {
     "data": {
      "image/png": "[encoded data removed]",
      "text/plain": [
       "<Figure size 1152x576 with 1 Axes>"
      ]
     },
     "metadata": {
      "needs_background": "light"
     },
     "output_type": "display_data"
    }
   ],
   "source": [
    "fig, ax = plt.subplots(figsize = (16, 8))\n",
    "\n",
    "ax.plot(b['date'], b['conversion_cum'].reset_index().drop(['index'], axis=1)\\\n",
    "        / a['conversion_cum'].reset_index().drop(['index'], axis=1) - 1, label = 'B/A')\n",
    "\n",
    "plt.title('График относительного изменения кумулятивной конверсии группы B к группе A', fontsize = '18')\n",
    "plt.xlabel('Дата', fontsize = '14')\n",
    "plt.ylabel('Отношение кумулятивной конверсии', fontsize = '14')\n",
    "plt.axhline(0, c = 'grey', ls = '--')\n",
    "plt.legend()\n",
    "plt.show();"
   ]
  },
  {
   "cell_type": "markdown",
   "metadata": {},
   "source": [
    "До 9 августа в основном отношение кумулятивной конверсии было ниже 0, т.е. показатели группы A были лучше, затем видно стабильное значение относительной конверсии"
   ]
  },
  {
   "cell_type": "markdown",
   "metadata": {},
   "source": [
    "## Точечный график количества заказов по пользователям"
   ]
  },
  {
   "cell_type": "code",
   "execution_count": 697,
   "metadata": {},
   "outputs": [
    {
     "data": {
      "image/png": "[encoded data removed]",
      "text/plain": [
       "<Figure size 1152x576 with 1 Axes>"
      ]
     },
     "metadata": {
      "needs_background": "light"
     },
     "output_type": "display_data"
    }
   ],
   "source": [
    "(orders.groupby('visitorId', as_index=False)['transactionId'].count())\\\n",
    "    .plot(kind = 'scatter', x = 'visitorId', y = 'transactionId', figsize = (16, 8), label = 'orders')\n",
    "plt.title('Точечный график количества заказов по пользователям', fontsize = '18')\n",
    "plt.xlabel('Id пользователя', fontsize = '14')\n",
    "plt.ylabel('Количество заказов', fontsize = '14')\n",
    "plt.legend()\n",
    "plt.show();\n"
   ]
  },
  {
   "cell_type": "markdown",
   "metadata": {},
   "source": [
    "У большинства пользователей по 1 заказу, у небольшого количества - от 2 до 4, еще у 10 пользователей более 4 заказов"
   ]
  },
  {
   "cell_type": "code",
   "execution_count": 698,
   "metadata": {},
   "outputs": [
    {
     "data": {
      "text/html": [
       "<div>\n",
       "<style scoped>\n",
       "    .dataframe tbody tr th:only-of-type {\n",
       "        vertical-align: middle;\n",
       "    }\n",
       "\n",
       "    .dataframe tbody tr th {\n",
       "        vertical-align: top;\n",
       "    }\n",
       "\n",
       "    .dataframe thead th {\n",
       "        text-align: right;\n",
       "    }\n",
       "</style>\n",
       "<table border=\"1\" class=\"dataframe\">\n",
       "  <thead>\n",
       "    <tr style=\"text-align: right;\">\n",
       "      <th></th>\n",
       "      <th>transactionId</th>\n",
       "    </tr>\n",
       "  </thead>\n",
       "  <tbody>\n",
       "    <tr>\n",
       "      <th>count</th>\n",
       "      <td>1031.000000</td>\n",
       "    </tr>\n",
       "    <tr>\n",
       "      <th>mean</th>\n",
       "      <td>1.161009</td>\n",
       "    </tr>\n",
       "    <tr>\n",
       "      <th>std</th>\n",
       "      <td>0.724919</td>\n",
       "    </tr>\n",
       "    <tr>\n",
       "      <th>min</th>\n",
       "      <td>1.000000</td>\n",
       "    </tr>\n",
       "    <tr>\n",
       "      <th>50%</th>\n",
       "      <td>1.000000</td>\n",
       "    </tr>\n",
       "    <tr>\n",
       "      <th>95%</th>\n",
       "      <td>2.000000</td>\n",
       "    </tr>\n",
       "    <tr>\n",
       "      <th>97.5%</th>\n",
       "      <td>3.000000</td>\n",
       "    </tr>\n",
       "    <tr>\n",
       "      <th>99%</th>\n",
       "      <td>4.000000</td>\n",
       "    </tr>\n",
       "    <tr>\n",
       "      <th>max</th>\n",
       "      <td>11.000000</td>\n",
       "    </tr>\n",
       "  </tbody>\n",
       "</table>\n",
       "</div>"
      ],
      "text/plain": [
       "       transactionId\n",
       "count    1031.000000\n",
       "mean        1.161009\n",
       "std         0.724919\n",
       "min         1.000000\n",
       "50%         1.000000\n",
       "95%         2.000000\n",
       "97.5%       3.000000\n",
       "99%         4.000000\n",
       "max        11.000000"
      ]
     },
     "execution_count": 698,
     "metadata": {},
     "output_type": "execute_result"
    }
   ],
   "source": [
    "orders.groupby('visitorId', as_index=False)['transactionId']\\\n",
    "    .count()['transactionId'].describe(percentiles = [0.95, 0.975, 0.99]).to_frame()"
   ]
  },
  {
   "cell_type": "markdown",
   "metadata": {},
   "source": [
    "У 5% процентов пользователей больше 2-х заказов, у 1% процента - больше 4-х заказов. Пользователей, у которых больше 3-х заказов, можно считать аномальными, поэтому граница будет 97.5%"
   ]
  },
  {
   "cell_type": "markdown",
   "metadata": {},
   "source": [
    "## Точечный график стоимостей заказов"
   ]
  },
  {
   "cell_type": "code",
   "execution_count": 699,
   "metadata": {
    "scrolled": false
   },
   "outputs": [
    {
     "data": {
      "image/png": "[encoded data removed]",
      "text/plain": [
       "<Figure size 1152x576 with 1 Axes>"
      ]
     },
     "metadata": {
      "needs_background": "light"
     },
     "output_type": "display_data"
    }
   ],
   "source": [
    "(orders.groupby('transactionId', as_index=False)['revenue'].sum())\\\n",
    "    .plot(kind = 'scatter', x = 'transactionId', y = 'revenue', figsize = (16, 8), label = 'orders')\n",
    "plt.title('Точечный график стоимостей заказов', fontsize = '18')\n",
    "plt.xlabel('Id заказа', fontsize = '14')\n",
    "plt.ylabel('Сумма заказа', fontsize = '14')\n",
    "plt.legend()\n",
    "plt.show();\n",
    "\n"
   ]
  },
  {
   "cell_type": "code",
   "execution_count": 700,
   "metadata": {},
   "outputs": [
    {
     "data": {
      "image/png": "[encoded data removed]",
      "text/plain": [
       "<Figure size 1152x576 with 1 Axes>"
      ]
     },
     "metadata": {
      "needs_background": "light"
     },
     "output_type": "display_data"
    }
   ],
   "source": [
    "(orders.groupby('transactionId', as_index=False)['revenue'].sum())\\\n",
    "    .plot(kind = 'scatter', x = 'transactionId', y = 'revenue', figsize = (16, 8), label = 'orders')\n",
    "plt.title('Точечный график стоимостей заказов', fontsize = '18')\n",
    "plt.xlabel('Id заказа', fontsize = '14')\n",
    "plt.ylabel('Сумма заказа', fontsize = '14')\n",
    "plt.ylim(0, 100000)\n",
    "plt.legend()\n",
    "plt.show();\n",
    "\n"
   ]
  },
  {
   "cell_type": "markdown",
   "metadata": {},
   "source": [
    "Есть несколько значимых выбросов больше 100 000, стоимость большинства закзов меньше 20000"
   ]
  },
  {
   "cell_type": "code",
   "execution_count": 701,
   "metadata": {},
   "outputs": [
    {
     "data": {
      "text/html": [
       "<div>\n",
       "<style scoped>\n",
       "    .dataframe tbody tr th:only-of-type {\n",
       "        vertical-align: middle;\n",
       "    }\n",
       "\n",
       "    .dataframe tbody tr th {\n",
       "        vertical-align: top;\n",
       "    }\n",
       "\n",
       "    .dataframe thead th {\n",
       "        text-align: right;\n",
       "    }\n",
       "</style>\n",
       "<table border=\"1\" class=\"dataframe\">\n",
       "  <thead>\n",
       "    <tr style=\"text-align: right;\">\n",
       "      <th></th>\n",
       "      <th>revenue</th>\n",
       "    </tr>\n",
       "  </thead>\n",
       "  <tbody>\n",
       "    <tr>\n",
       "      <th>count</th>\n",
       "      <td>1197.00</td>\n",
       "    </tr>\n",
       "    <tr>\n",
       "      <th>mean</th>\n",
       "      <td>8348.01</td>\n",
       "    </tr>\n",
       "    <tr>\n",
       "      <th>std</th>\n",
       "      <td>39191.13</td>\n",
       "    </tr>\n",
       "    <tr>\n",
       "      <th>min</th>\n",
       "      <td>50.00</td>\n",
       "    </tr>\n",
       "    <tr>\n",
       "      <th>50%</th>\n",
       "      <td>2978.00</td>\n",
       "    </tr>\n",
       "    <tr>\n",
       "      <th>95%</th>\n",
       "      <td>28000.00</td>\n",
       "    </tr>\n",
       "    <tr>\n",
       "      <th>97.5%</th>\n",
       "      <td>39530.00</td>\n",
       "    </tr>\n",
       "    <tr>\n",
       "      <th>99%</th>\n",
       "      <td>58233.20</td>\n",
       "    </tr>\n",
       "    <tr>\n",
       "      <th>max</th>\n",
       "      <td>1294500.00</td>\n",
       "    </tr>\n",
       "  </tbody>\n",
       "</table>\n",
       "</div>"
      ],
      "text/plain": [
       "          revenue\n",
       "count     1197.00\n",
       "mean      8348.01\n",
       "std      39191.13\n",
       "min         50.00\n",
       "50%       2978.00\n",
       "95%      28000.00\n",
       "97.5%    39530.00\n",
       "99%      58233.20\n",
       "max    1294500.00"
      ]
     },
     "execution_count": 701,
     "metadata": {},
     "output_type": "execute_result"
    }
   ],
   "source": [
    "orders.groupby('transactionId', as_index=False)['revenue']\\\n",
    "    .sum()['revenue'].describe(percentiles = [0.95, 0.975, 0.99]).apply(\"{0:.2f}\".format).to_frame()"
   ]
  },
  {
   "cell_type": "markdown",
   "metadata": {},
   "source": [
    "Здесь можно выбрать границу для определения аномальных заказов в 95%, все, что больше 28000 - аномалии"
   ]
  },
  {
   "cell_type": "markdown",
   "metadata": {},
   "source": [
    "## Статистическая значимость различий в конверсии между группами по «сырым» данным"
   ]
  },
  {
   "cell_type": "code",
   "execution_count": 702,
   "metadata": {},
   "outputs": [
    {
     "data": {
      "text/html": [
       "<div>\n",
       "<style scoped>\n",
       "    .dataframe tbody tr th:only-of-type {\n",
       "        vertical-align: middle;\n",
       "    }\n",
       "\n",
       "    .dataframe tbody tr th {\n",
       "        vertical-align: top;\n",
       "    }\n",
       "\n",
       "    .dataframe thead th {\n",
       "        text-align: right;\n",
       "    }\n",
       "</style>\n",
       "<table border=\"1\" class=\"dataframe\">\n",
       "  <thead>\n",
       "    <tr style=\"text-align: right;\">\n",
       "      <th></th>\n",
       "      <th>group</th>\n",
       "      <th>total_orders</th>\n",
       "      <th>visitors</th>\n",
       "      <th>conversion</th>\n",
       "    </tr>\n",
       "  </thead>\n",
       "  <tbody>\n",
       "    <tr>\n",
       "      <th>0</th>\n",
       "      <td>A</td>\n",
       "      <td>557</td>\n",
       "      <td>18736</td>\n",
       "      <td>2.972886</td>\n",
       "    </tr>\n",
       "    <tr>\n",
       "      <th>1</th>\n",
       "      <td>B</td>\n",
       "      <td>640</td>\n",
       "      <td>18916</td>\n",
       "      <td>3.383379</td>\n",
       "    </tr>\n",
       "  </tbody>\n",
       "</table>\n",
       "</div>"
      ],
      "text/plain": [
       "  group  total_orders  visitors  conversion\n",
       "0     A           557     18736    2.972886\n",
       "1     B           640     18916    3.383379"
      ]
     },
     "execution_count": 702,
     "metadata": {},
     "output_type": "execute_result"
    }
   ],
   "source": [
    "group_conver = visitors.groupby('group', as_index=False)[['total_orders', 'visitors']].sum()\n",
    "group_conver['conversion'] = group_conver['total_orders'] / group_conver['visitors'] * 100\n",
    "\n",
    "group_conver"
   ]
  },
  {
   "cell_type": "markdown",
   "metadata": {},
   "source": [
    "Пользователи распределились почти равномерно по группам, с разницей менее 1%"
   ]
  },
  {
   "cell_type": "markdown",
   "metadata": {},
   "source": [
    "Необходимо проверить распределение конверсий на нормальность критерием Шапиро-Уилка"
   ]
  },
  {
   "cell_type": "code",
   "execution_count": 703,
   "metadata": {},
   "outputs": [
    {
     "name": "stdout",
     "output_type": "stream",
     "text": [
      "p-значение:  0.3749161660671234\n",
      "Не получилось отвергнуть нулевую гипотезу, распределение нормально\n"
     ]
    }
   ],
   "source": [
    "alpha = .05 # критический уровень статистической значимости\n",
    "results = st.shapiro(visitors['conversion'])\n",
    "p_value = results[1] # второе значение в массиве результатов (с индексом 1) - p-value\n",
    "print('p-значение: ', p_value)\n",
    "if (p_value < alpha):\n",
    "    print(\"Отвергаем нулевую гипотезу, распределение не нормально\")\n",
    "else:\n",
    "    print(\"Не получилось отвергнуть нулевую гипотезу, распределение нормально\")"
   ]
  },
  {
   "cell_type": "markdown",
   "metadata": {},
   "source": [
    "Теперь проверка статистической значимости различий в конверсии между группами"
   ]
  },
  {
   "cell_type": "markdown",
   "metadata": {},
   "source": [
    "- H0: между конверсиями 2-х групп нет значимой разницы \n",
    "- H1: между конверсиями 2-х групп есть значимая разница\n",
    "- Пусть уровень статистической значимости будет a = 0.05"
   ]
  },
  {
   "cell_type": "code",
   "execution_count": 704,
   "metadata": {},
   "outputs": [],
   "source": [
    "alpha = 0.05\n",
    " \n",
    "p1 = group_conver['total_orders'][0] / group_conver['visitors'][0]  \n",
    "p2 = group_conver['total_orders'][1] / group_conver['visitors'][1]  \n",
    "p_combined = (group_conver['total_orders'][0] + group_conver['total_orders'][1])\\\n",
    "    / (group_conver['visitors'][0] + group_conver['visitors'][1])\n",
    "\n",
    "difference = p1 - p2"
   ]
  },
  {
   "cell_type": "code",
   "execution_count": 705,
   "metadata": {},
   "outputs": [
    {
     "name": "stdout",
     "output_type": "stream",
     "text": [
      "p-значение:  0.02320723394441848\n",
      "Отвергаем нулевую гипотезу: между конверсиями есть значимая разница\n"
     ]
    }
   ],
   "source": [
    "z_value = difference \\\n",
    "    / mt.sqrt(p_combined * (1 - p_combined) * (1/group_conver['visitors'][0] + 1/group_conver['visitors'][1]))\n",
    "\n",
    "distr = st.norm(0, 1)\n",
    "p_value = (1 - distr.cdf(abs(z_value))) * 2\n",
    "\n",
    "\n",
    "print('p-значение: ', p_value)\n",
    "if (p_value < alpha):\n",
    "    print(\"Отвергаем нулевую гипотезу: между конверсиями есть значимая разница\")\n",
    "else:\n",
    "    print(\"Не получилось отвергнуть нулевую гипотезу, нет оснований считать конверсии разными\")"
   ]
  },
  {
   "cell_type": "markdown",
   "metadata": {},
   "source": [
    "Для «сырых» данных разница в конверсиях получилась статистически значимой, вероятно это из-за оставленных аномалий"
   ]
  },
  {
   "cell_type": "markdown",
   "metadata": {},
   "source": [
    "## Cтатистическая значимость различий в среднем чеке заказа между группами по «сырым» данным"
   ]
  },
  {
   "cell_type": "markdown",
   "metadata": {},
   "source": [
    "Средний чек заказа по группам"
   ]
  },
  {
   "cell_type": "code",
   "execution_count": 706,
   "metadata": {},
   "outputs": [
    {
     "data": {
      "text/html": [
       "<div>\n",
       "<style scoped>\n",
       "    .dataframe tbody tr th:only-of-type {\n",
       "        vertical-align: middle;\n",
       "    }\n",
       "\n",
       "    .dataframe tbody tr th {\n",
       "        vertical-align: top;\n",
       "    }\n",
       "\n",
       "    .dataframe thead th {\n",
       "        text-align: right;\n",
       "    }\n",
       "</style>\n",
       "<table border=\"1\" class=\"dataframe\">\n",
       "  <thead>\n",
       "    <tr style=\"text-align: right;\">\n",
       "      <th></th>\n",
       "      <th>group</th>\n",
       "      <th>revenue</th>\n",
       "    </tr>\n",
       "  </thead>\n",
       "  <tbody>\n",
       "    <tr>\n",
       "      <th>0</th>\n",
       "      <td>A</td>\n",
       "      <td>7333.578097</td>\n",
       "    </tr>\n",
       "    <tr>\n",
       "      <th>1</th>\n",
       "      <td>B</td>\n",
       "      <td>9230.875000</td>\n",
       "    </tr>\n",
       "  </tbody>\n",
       "</table>\n",
       "</div>"
      ],
      "text/plain": [
       "  group      revenue\n",
       "0     A  7333.578097\n",
       "1     B  9230.875000"
      ]
     },
     "execution_count": 706,
     "metadata": {},
     "output_type": "execute_result"
    }
   ],
   "source": [
    "orders.groupby('group', as_index=False)['revenue'].mean()"
   ]
  },
  {
   "cell_type": "markdown",
   "metadata": {},
   "source": [
    "Также необходимо проверить распределение выручки на нормальность"
   ]
  },
  {
   "cell_type": "code",
   "execution_count": 707,
   "metadata": {},
   "outputs": [
    {
     "name": "stdout",
     "output_type": "stream",
     "text": [
      "p-значение:  0.0\n",
      "Отвергаем нулевую гипотезу, распределение не нормально\n"
     ]
    }
   ],
   "source": [
    "alpha = .05\n",
    "results = st.shapiro(orders['revenue'])\n",
    "p_value = results[1]\n",
    "print('p-значение: ', p_value)\n",
    "if (p_value < alpha):\n",
    "    print(\"Отвергаем нулевую гипотезу, распределение не нормально\")\n",
    "else:\n",
    "    print(\"Не получилось отвергнуть нулевую гипотезу, распределение нормально\")"
   ]
  },
  {
   "cell_type": "markdown",
   "metadata": {},
   "source": [
    "Так как распределение не нормально, то оценить статистическую значимость различий в среднем чеке по парметрическим критериям нельзя, но можно применить U-критерий Манна-Уитни"
   ]
  },
  {
   "cell_type": "code",
   "execution_count": 708,
   "metadata": {},
   "outputs": [
    {
     "name": "stdout",
     "output_type": "stream",
     "text": [
      "p-значение:  0.7292909855432458\n",
      "Не получилось отвергнуть нулевую гипотезу, вывод о различии сделать нельзя\n"
     ]
    }
   ],
   "source": [
    "alpha = .05 # критический уровень статистической значимости \n",
    "results = st.mannwhitneyu(orders.query('group == \"A\"')['revenue'], orders.query('group == \"B\"')['revenue'], alternative=\"two-sided\")\n",
    "print('p-значение: ', results.pvalue)\n",
    "if (results.pvalue < alpha):\n",
    "    print(\"Отвергаем нулевую гипотезу: разница статистически значима\")\n",
    "else:\n",
    "    print(\"Не получилось отвергнуть нулевую гипотезу, вывод о различии сделать нельзя\")"
   ]
  },
  {
   "cell_type": "markdown",
   "metadata": {},
   "source": [
    "Выборки по группам не имеют статистически значимого различия"
   ]
  },
  {
   "cell_type": "markdown",
   "metadata": {},
   "source": [
    "## Статистическая значимость различий в конверсии между группами по «очищенным» данным"
   ]
  },
  {
   "cell_type": "code",
   "execution_count": 709,
   "metadata": {},
   "outputs": [
    {
     "data": {
      "text/html": [
       "<div>\n",
       "<style scoped>\n",
       "    .dataframe tbody tr th:only-of-type {\n",
       "        vertical-align: middle;\n",
       "    }\n",
       "\n",
       "    .dataframe tbody tr th {\n",
       "        vertical-align: top;\n",
       "    }\n",
       "\n",
       "    .dataframe thead th {\n",
       "        text-align: right;\n",
       "    }\n",
       "</style>\n",
       "<table border=\"1\" class=\"dataframe\">\n",
       "  <thead>\n",
       "    <tr style=\"text-align: right;\">\n",
       "      <th></th>\n",
       "      <th>transactionId</th>\n",
       "      <th>visitorId</th>\n",
       "      <th>date</th>\n",
       "      <th>revenue</th>\n",
       "      <th>group</th>\n",
       "    </tr>\n",
       "  </thead>\n",
       "  <tbody>\n",
       "    <tr>\n",
       "      <th>0</th>\n",
       "      <td>3667963787</td>\n",
       "      <td>3312258926</td>\n",
       "      <td>2019-08-15</td>\n",
       "      <td>1650</td>\n",
       "      <td>B</td>\n",
       "    </tr>\n",
       "    <tr>\n",
       "      <th>1</th>\n",
       "      <td>2804400009</td>\n",
       "      <td>3642806036</td>\n",
       "      <td>2019-08-15</td>\n",
       "      <td>730</td>\n",
       "      <td>B</td>\n",
       "    </tr>\n",
       "    <tr>\n",
       "      <th>2</th>\n",
       "      <td>2961555356</td>\n",
       "      <td>4069496402</td>\n",
       "      <td>2019-08-15</td>\n",
       "      <td>400</td>\n",
       "      <td>A</td>\n",
       "    </tr>\n",
       "    <tr>\n",
       "      <th>3</th>\n",
       "      <td>3797467345</td>\n",
       "      <td>1196621759</td>\n",
       "      <td>2019-08-15</td>\n",
       "      <td>9759</td>\n",
       "      <td>B</td>\n",
       "    </tr>\n",
       "    <tr>\n",
       "      <th>4</th>\n",
       "      <td>2282983706</td>\n",
       "      <td>2322279887</td>\n",
       "      <td>2019-08-15</td>\n",
       "      <td>2308</td>\n",
       "      <td>B</td>\n",
       "    </tr>\n",
       "  </tbody>\n",
       "</table>\n",
       "</div>"
      ],
      "text/plain": [
       "   transactionId   visitorId       date  revenue group\n",
       "0     3667963787  3312258926 2019-08-15     1650     B\n",
       "1     2804400009  3642806036 2019-08-15      730     B\n",
       "2     2961555356  4069496402 2019-08-15      400     A\n",
       "3     3797467345  1196621759 2019-08-15     9759     B\n",
       "4     2282983706  2322279887 2019-08-15     2308     B"
      ]
     },
     "execution_count": 709,
     "metadata": {},
     "output_type": "execute_result"
    }
   ],
   "source": [
    "a = orders.groupby('visitorId', as_index=False)['transactionId']\\\n",
    "        .count().rename(columns = {'transactionId': 'total_orders'})\n",
    "\n",
    "orders_cleaned = orders[(orders.merge(a, on = 'visitorId', how = 'left')['total_orders'] \\\n",
    "       <= np.percentile(np.array(a['total_orders']), 97.5)) \\\n",
    "       & (orders['revenue'] <= np.percentile(np.array(orders['revenue']), 95))]\n",
    "\n",
    "\n",
    "orders_cleaned.head() # очищенные данные с пользователями, совершившими не более 3 заказов, \n",
    "                      # а сумма заказа не превышает 28000"
   ]
  },
  {
   "cell_type": "code",
   "execution_count": 710,
   "metadata": {},
   "outputs": [
    {
     "data": {
      "text/html": [
       "<div>\n",
       "<style scoped>\n",
       "    .dataframe tbody tr th:only-of-type {\n",
       "        vertical-align: middle;\n",
       "    }\n",
       "\n",
       "    .dataframe tbody tr th {\n",
       "        vertical-align: top;\n",
       "    }\n",
       "\n",
       "    .dataframe thead th {\n",
       "        text-align: right;\n",
       "    }\n",
       "</style>\n",
       "<table border=\"1\" class=\"dataframe\">\n",
       "  <thead>\n",
       "    <tr style=\"text-align: right;\">\n",
       "      <th></th>\n",
       "      <th>date</th>\n",
       "      <th>group</th>\n",
       "      <th>cleaned_total_orders</th>\n",
       "    </tr>\n",
       "  </thead>\n",
       "  <tbody>\n",
       "    <tr>\n",
       "      <th>0</th>\n",
       "      <td>2019-08-01</td>\n",
       "      <td>A</td>\n",
       "      <td>21</td>\n",
       "    </tr>\n",
       "    <tr>\n",
       "      <th>2</th>\n",
       "      <td>2019-08-02</td>\n",
       "      <td>A</td>\n",
       "      <td>20</td>\n",
       "    </tr>\n",
       "    <tr>\n",
       "      <th>4</th>\n",
       "      <td>2019-08-03</td>\n",
       "      <td>A</td>\n",
       "      <td>24</td>\n",
       "    </tr>\n",
       "    <tr>\n",
       "      <th>6</th>\n",
       "      <td>2019-08-04</td>\n",
       "      <td>A</td>\n",
       "      <td>13</td>\n",
       "    </tr>\n",
       "    <tr>\n",
       "      <th>8</th>\n",
       "      <td>2019-08-05</td>\n",
       "      <td>A</td>\n",
       "      <td>25</td>\n",
       "    </tr>\n",
       "  </tbody>\n",
       "</table>\n",
       "</div>"
      ],
      "text/plain": [
       "        date group  cleaned_total_orders\n",
       "0 2019-08-01     A                    21\n",
       "2 2019-08-02     A                    20\n",
       "4 2019-08-03     A                    24\n",
       "6 2019-08-04     A                    13\n",
       "8 2019-08-05     A                    25"
      ]
     },
     "execution_count": 710,
     "metadata": {},
     "output_type": "execute_result"
    }
   ],
   "source": [
    "order_cleaned_conver = orders_cleaned.groupby(['date', 'group'], as_index=True)[['visitorId']].count().reset_index()\\\n",
    "    .sort_values(['group', 'date']).rename(columns = {'visitorId': 'cleaned_total_orders'})\n",
    "\n",
    "order_cleaned_conver.head()\n"
   ]
  },
  {
   "cell_type": "code",
   "execution_count": 711,
   "metadata": {},
   "outputs": [
    {
     "data": {
      "text/html": [
       "<div>\n",
       "<style scoped>\n",
       "    .dataframe tbody tr th:only-of-type {\n",
       "        vertical-align: middle;\n",
       "    }\n",
       "\n",
       "    .dataframe tbody tr th {\n",
       "        vertical-align: top;\n",
       "    }\n",
       "\n",
       "    .dataframe thead th {\n",
       "        text-align: right;\n",
       "    }\n",
       "</style>\n",
       "<table border=\"1\" class=\"dataframe\">\n",
       "  <thead>\n",
       "    <tr style=\"text-align: right;\">\n",
       "      <th></th>\n",
       "      <th>date</th>\n",
       "      <th>group</th>\n",
       "      <th>visitors</th>\n",
       "      <th>total_orders</th>\n",
       "      <th>conversion</th>\n",
       "      <th>conversion_cum</th>\n",
       "      <th>cleaned_total_orders</th>\n",
       "      <th>cleaned_conversion</th>\n",
       "    </tr>\n",
       "  </thead>\n",
       "  <tbody>\n",
       "    <tr>\n",
       "      <th>0</th>\n",
       "      <td>2019-08-01</td>\n",
       "      <td>A</td>\n",
       "      <td>719</td>\n",
       "      <td>24</td>\n",
       "      <td>3.337969</td>\n",
       "      <td>3.337969</td>\n",
       "      <td>21</td>\n",
       "      <td>2.920723</td>\n",
       "    </tr>\n",
       "    <tr>\n",
       "      <th>1</th>\n",
       "      <td>2019-08-02</td>\n",
       "      <td>A</td>\n",
       "      <td>619</td>\n",
       "      <td>20</td>\n",
       "      <td>3.231018</td>\n",
       "      <td>3.288490</td>\n",
       "      <td>20</td>\n",
       "      <td>3.231018</td>\n",
       "    </tr>\n",
       "    <tr>\n",
       "      <th>2</th>\n",
       "      <td>2019-08-03</td>\n",
       "      <td>A</td>\n",
       "      <td>507</td>\n",
       "      <td>24</td>\n",
       "      <td>4.733728</td>\n",
       "      <td>3.685637</td>\n",
       "      <td>24</td>\n",
       "      <td>4.733728</td>\n",
       "    </tr>\n",
       "    <tr>\n",
       "      <th>3</th>\n",
       "      <td>2019-08-04</td>\n",
       "      <td>A</td>\n",
       "      <td>717</td>\n",
       "      <td>16</td>\n",
       "      <td>2.231520</td>\n",
       "      <td>3.278689</td>\n",
       "      <td>13</td>\n",
       "      <td>1.813110</td>\n",
       "    </tr>\n",
       "    <tr>\n",
       "      <th>4</th>\n",
       "      <td>2019-08-05</td>\n",
       "      <td>A</td>\n",
       "      <td>756</td>\n",
       "      <td>25</td>\n",
       "      <td>3.306878</td>\n",
       "      <td>3.285112</td>\n",
       "      <td>25</td>\n",
       "      <td>3.306878</td>\n",
       "    </tr>\n",
       "  </tbody>\n",
       "</table>\n",
       "</div>"
      ],
      "text/plain": [
       "        date group  visitors  total_orders  conversion  conversion_cum  \\\n",
       "0 2019-08-01     A       719            24    3.337969        3.337969   \n",
       "1 2019-08-02     A       619            20    3.231018        3.288490   \n",
       "2 2019-08-03     A       507            24    4.733728        3.685637   \n",
       "3 2019-08-04     A       717            16    2.231520        3.278689   \n",
       "4 2019-08-05     A       756            25    3.306878        3.285112   \n",
       "\n",
       "   cleaned_total_orders  cleaned_conversion  \n",
       "0                    21            2.920723  \n",
       "1                    20            3.231018  \n",
       "2                    24            4.733728  \n",
       "3                    13            1.813110  \n",
       "4                    25            3.306878  "
      ]
     },
     "execution_count": 711,
     "metadata": {},
     "output_type": "execute_result"
    }
   ],
   "source": [
    "visitors = visitors.merge(order_cleaned_conver, on = ['date', 'group'])\n",
    "visitors['cleaned_conversion'] = visitors['cleaned_total_orders'] / visitors['visitors'] * 100\n",
    "visitors.head()"
   ]
  },
  {
   "cell_type": "code",
   "execution_count": 712,
   "metadata": {},
   "outputs": [
    {
     "data": {
      "text/html": [
       "<div>\n",
       "<style scoped>\n",
       "    .dataframe tbody tr th:only-of-type {\n",
       "        vertical-align: middle;\n",
       "    }\n",
       "\n",
       "    .dataframe tbody tr th {\n",
       "        vertical-align: top;\n",
       "    }\n",
       "\n",
       "    .dataframe thead th {\n",
       "        text-align: right;\n",
       "    }\n",
       "</style>\n",
       "<table border=\"1\" class=\"dataframe\">\n",
       "  <thead>\n",
       "    <tr style=\"text-align: right;\">\n",
       "      <th></th>\n",
       "      <th>group</th>\n",
       "      <th>cleaned_total_orders</th>\n",
       "      <th>visitors</th>\n",
       "      <th>cleaned_conversion</th>\n",
       "    </tr>\n",
       "  </thead>\n",
       "  <tbody>\n",
       "    <tr>\n",
       "      <th>0</th>\n",
       "      <td>A</td>\n",
       "      <td>492</td>\n",
       "      <td>18736</td>\n",
       "      <td>2.625961</td>\n",
       "    </tr>\n",
       "    <tr>\n",
       "      <th>1</th>\n",
       "      <td>B</td>\n",
       "      <td>569</td>\n",
       "      <td>18916</td>\n",
       "      <td>3.008036</td>\n",
       "    </tr>\n",
       "  </tbody>\n",
       "</table>\n",
       "</div>"
      ],
      "text/plain": [
       "  group  cleaned_total_orders  visitors  cleaned_conversion\n",
       "0     A                   492     18736            2.625961\n",
       "1     B                   569     18916            3.008036"
      ]
     },
     "execution_count": 712,
     "metadata": {},
     "output_type": "execute_result"
    }
   ],
   "source": [
    "group_conver = visitors.groupby('group', as_index=False)[['cleaned_total_orders', 'visitors']].sum()\n",
    "group_conver['cleaned_conversion'] = group_conver['cleaned_total_orders'] / group_conver['visitors'] * 100\n",
    "\n",
    "group_conver"
   ]
  },
  {
   "cell_type": "markdown",
   "metadata": {},
   "source": [
    "Необходимо проверить распределение конверсий на нормальность критерием Шапиро-Уилка"
   ]
  },
  {
   "cell_type": "code",
   "execution_count": 713,
   "metadata": {},
   "outputs": [
    {
     "name": "stdout",
     "output_type": "stream",
     "text": [
      "p-значение:  0.11763975769281387\n",
      "Не получилось отвергнуть нулевую гипотезу, распределение нормально\n"
     ]
    }
   ],
   "source": [
    "alpha = .05 # критический уровень статистической значимости\n",
    "results = st.shapiro(visitors['cleaned_conversion'])\n",
    "p_value = results[1] # второе значение в массиве результатов (с индексом 1) - p-value\n",
    "print('p-значение: ', p_value)\n",
    "if (p_value < alpha):\n",
    "    print(\"Отвергаем нулевую гипотезу, распределение не нормально\")\n",
    "else:\n",
    "    print(\"Не получилось отвергнуть нулевую гипотезу, распределение нормально\")"
   ]
  },
  {
   "cell_type": "markdown",
   "metadata": {},
   "source": [
    "Теперь проверка статистической значимости различий в конверсии между группами"
   ]
  },
  {
   "cell_type": "markdown",
   "metadata": {},
   "source": [
    "- H0: между конверсиями 2-х групп нет значимой разницы \n",
    "- H1: между конверсиями 2-х групп есть значимая разница\n",
    "- Пусть уровень статистической значимости будет a = 0.05"
   ]
  },
  {
   "cell_type": "code",
   "execution_count": 714,
   "metadata": {},
   "outputs": [],
   "source": [
    "alpha = 0.05\n",
    " \n",
    "p1 = group_conver['cleaned_total_orders'][0] / (group_conver['visitors'][0])  \n",
    "p2 = group_conver['cleaned_total_orders'][1] / (group_conver['visitors'][1])  \n",
    "p_combined = (group_conver['cleaned_total_orders'][0] + group_conver['cleaned_total_orders'][1])\\\n",
    "    / (group_conver['visitors'][0] + group_conver['visitors'][1])\n",
    "\n",
    "difference = p1 - p2"
   ]
  },
  {
   "cell_type": "code",
   "execution_count": 715,
   "metadata": {},
   "outputs": [
    {
     "name": "stdout",
     "output_type": "stream",
     "text": [
      "p-значение:  0.025090028609001447\n",
      "Отвергаем нулевую гипотезу: между конверсиями есть значимая разница\n"
     ]
    }
   ],
   "source": [
    "z_value = difference \\\n",
    "    / mt.sqrt(p_combined * (1 - p_combined) * (1/group_conver['visitors'][0] + 1/group_conver['visitors'][1]))\n",
    "\n",
    "distr = st.norm(0, 1)\n",
    "p_value = (1 - distr.cdf(abs(z_value))) * 2\n",
    "\n",
    "\n",
    "print('p-значение: ', p_value)\n",
    "if (p_value < alpha):\n",
    "    print(\"Отвергаем нулевую гипотезу: между конверсиями есть значимая разница\")\n",
    "else:\n",
    "    print(\"Не получилось отвергнуть нулевую гипотезу, нет оснований считать конверсии разными\")"
   ]
  },
  {
   "cell_type": "markdown",
   "metadata": {},
   "source": [
    "Для «очищенных» данных разница в конверсиях также получилась статистически значимой, скорее всего аномальные заказы не повлияли на разницу в конверсиях, значит увеличение конверсии в группе B не случайно  "
   ]
  },
  {
   "cell_type": "markdown",
   "metadata": {},
   "source": [
    "## Статистическая значимость различий в среднем чеке заказа между группами по «очищенным» данным"
   ]
  },
  {
   "cell_type": "markdown",
   "metadata": {},
   "source": [
    "Средний чек заказа по группам"
   ]
  },
  {
   "cell_type": "code",
   "execution_count": 716,
   "metadata": {},
   "outputs": [
    {
     "data": {
      "text/html": [
       "<div>\n",
       "<style scoped>\n",
       "    .dataframe tbody tr th:only-of-type {\n",
       "        vertical-align: middle;\n",
       "    }\n",
       "\n",
       "    .dataframe tbody tr th {\n",
       "        vertical-align: top;\n",
       "    }\n",
       "\n",
       "    .dataframe thead th {\n",
       "        text-align: right;\n",
       "    }\n",
       "</style>\n",
       "<table border=\"1\" class=\"dataframe\">\n",
       "  <thead>\n",
       "    <tr style=\"text-align: right;\">\n",
       "      <th></th>\n",
       "      <th>group</th>\n",
       "      <th>revenue</th>\n",
       "    </tr>\n",
       "  </thead>\n",
       "  <tbody>\n",
       "    <tr>\n",
       "      <th>0</th>\n",
       "      <td>A</td>\n",
       "      <td>5292.164634</td>\n",
       "    </tr>\n",
       "    <tr>\n",
       "      <th>1</th>\n",
       "      <td>B</td>\n",
       "      <td>5104.455185</td>\n",
       "    </tr>\n",
       "  </tbody>\n",
       "</table>\n",
       "</div>"
      ],
      "text/plain": [
       "  group      revenue\n",
       "0     A  5292.164634\n",
       "1     B  5104.455185"
      ]
     },
     "execution_count": 716,
     "metadata": {},
     "output_type": "execute_result"
    }
   ],
   "source": [
    "orders_cleaned.groupby('group', as_index=False)['revenue'].mean()"
   ]
  },
  {
   "cell_type": "markdown",
   "metadata": {},
   "source": [
    "Также необходимо проверить распределение выручки на нормальность"
   ]
  },
  {
   "cell_type": "code",
   "execution_count": 717,
   "metadata": {},
   "outputs": [
    {
     "name": "stdout",
     "output_type": "stream",
     "text": [
      "p-значение:  1.1874415749005912e-35\n",
      "Отвергаем нулевую гипотезу, распределение не нормально\n"
     ]
    }
   ],
   "source": [
    "alpha = .05\n",
    "results = st.shapiro(orders_cleaned['revenue'])\n",
    "p_value = results[1]\n",
    "print('p-значение: ', p_value)\n",
    "if (p_value < alpha):\n",
    "    print(\"Отвергаем нулевую гипотезу, распределение не нормально\")\n",
    "else:\n",
    "    print(\"Не получилось отвергнуть нулевую гипотезу, распределение нормально\")"
   ]
  },
  {
   "cell_type": "markdown",
   "metadata": {},
   "source": [
    "Так как распределение не нормально, то оценить статистическую значимость различий в среднем чеке по парметрическим критериям нельзя, но можно применить U-критерий Манна-Уитни"
   ]
  },
  {
   "cell_type": "code",
   "execution_count": 718,
   "metadata": {},
   "outputs": [
    {
     "name": "stdout",
     "output_type": "stream",
     "text": [
      "p-значение:  0.7233411784863508\n",
      "Не получилось отвергнуть нулевую гипотезу, вывод о различии сделать нельзя\n"
     ]
    }
   ],
   "source": [
    "alpha = .05 # критический уровень статистической значимости \n",
    "results = st.mannwhitneyu(orders_cleaned.query('group == \"A\"')['revenue'], orders_cleaned.query('group == \"B\"')['revenue'], alternative=\"two-sided\")\n",
    "print('p-значение: ', results.pvalue)\n",
    "if (results.pvalue < alpha):\n",
    "    print(\"Отвергаем нулевую гипотезу: разница статистически значима\")\n",
    "else:\n",
    "    print(\"Не получилось отвергнуть нулевую гипотезу, вывод о различии сделать нельзя\")"
   ]
  },
  {
   "cell_type": "markdown",
   "metadata": {},
   "source": [
    "Выборки по «очищенным» данным в группах также не имеют статистически значимого различия"
   ]
  },
  {
   "cell_type": "markdown",
   "metadata": {},
   "source": [
    "# Выводы по результатам теста"
   ]
  },
  {
   "cell_type": "markdown",
   "metadata": {},
   "source": [
    "- Независимо от наличия аномальных значений, при заданном уровне статистической значимости (a = 0.05), тесты и с «сырыми», и с «очищенными» данными показывают статистически значимую разницу между конверсиями\n",
    "- К сожалению, для среднего чека не удалось проверить значимое различие из-за ненормальности распределения, но непараметрический тест в обоих случаях показал, что между 2 группами выручки нет значимого различия\n",
    "- Учитывая, что выручка - это Средний чек (нет разницы между группами) * Конверсия (у группы B больше) * Посетители (неизменно), то выручка от пользователей группы B оказалась больше, тест оказался успешным, его можно остановить"
   ]
  }
 ],
 "metadata": {
  "ExecuteTimeLog": [
   {
    "duration": 313,
    "start_time": "2022-02-16T11:17:56.338Z"
   },
   {
    "duration": -84,
    "start_time": "2022-02-16T11:17:56.740Z"
   },
   {
    "duration": -88,
    "start_time": "2022-02-16T11:17:56.745Z"
   },
   {
    "duration": -96,
    "start_time": "2022-02-16T11:17:56.755Z"
   },
   {
    "duration": -105,
    "start_time": "2022-02-16T11:17:56.765Z"
   },
   {
    "duration": -107,
    "start_time": "2022-02-16T11:17:56.769Z"
   },
   {
    "duration": -110,
    "start_time": "2022-02-16T11:17:56.773Z"
   },
   {
    "duration": -111,
    "start_time": "2022-02-16T11:17:56.776Z"
   },
   {
    "duration": -114,
    "start_time": "2022-02-16T11:17:56.780Z"
   },
   {
    "duration": -115,
    "start_time": "2022-02-16T11:17:56.783Z"
   },
   {
    "duration": -116,
    "start_time": "2022-02-16T11:17:56.786Z"
   },
   {
    "duration": -118,
    "start_time": "2022-02-16T11:17:56.789Z"
   },
   {
    "duration": -119,
    "start_time": "2022-02-16T11:17:56.792Z"
   },
   {
    "duration": -121,
    "start_time": "2022-02-16T11:17:56.795Z"
   },
   {
    "duration": -123,
    "start_time": "2022-02-16T11:17:56.798Z"
   },
   {
    "duration": -124,
    "start_time": "2022-02-16T11:17:56.801Z"
   },
   {
    "duration": -126,
    "start_time": "2022-02-16T11:17:56.804Z"
   },
   {
    "duration": -133,
    "start_time": "2022-02-16T11:17:56.813Z"
   },
   {
    "duration": -135,
    "start_time": "2022-02-16T11:17:56.816Z"
   },
   {
    "duration": -136,
    "start_time": "2022-02-16T11:17:56.819Z"
   },
   {
    "duration": -137,
    "start_time": "2022-02-16T11:17:56.821Z"
   },
   {
    "duration": -139,
    "start_time": "2022-02-16T11:17:56.824Z"
   },
   {
    "duration": -140,
    "start_time": "2022-02-16T11:17:56.827Z"
   },
   {
    "duration": -141,
    "start_time": "2022-02-16T11:17:56.830Z"
   },
   {
    "duration": -143,
    "start_time": "2022-02-16T11:17:56.833Z"
   },
   {
    "duration": -143,
    "start_time": "2022-02-16T11:17:56.835Z"
   },
   {
    "duration": -145,
    "start_time": "2022-02-16T11:17:56.838Z"
   },
   {
    "duration": -146,
    "start_time": "2022-02-16T11:17:56.841Z"
   },
   {
    "duration": -148,
    "start_time": "2022-02-16T11:17:56.844Z"
   },
   {
    "duration": -149,
    "start_time": "2022-02-16T11:17:56.847Z"
   },
   {
    "duration": -191,
    "start_time": "2022-02-16T11:17:56.891Z"
   },
   {
    "duration": -192,
    "start_time": "2022-02-16T11:17:56.894Z"
   },
   {
    "duration": -193,
    "start_time": "2022-02-16T11:17:56.897Z"
   },
   {
    "duration": -194,
    "start_time": "2022-02-16T11:17:56.900Z"
   },
   {
    "duration": -140,
    "start_time": "2022-02-16T11:17:56.908Z"
   },
   {
    "duration": -141,
    "start_time": "2022-02-16T11:17:56.911Z"
   },
   {
    "duration": -143,
    "start_time": "2022-02-16T11:17:56.914Z"
   },
   {
    "duration": 1532,
    "start_time": "2022-02-16T11:18:24.069Z"
   },
   {
    "duration": 47,
    "start_time": "2022-02-16T11:18:25.604Z"
   },
   {
    "duration": 18,
    "start_time": "2022-02-16T11:18:25.655Z"
   },
   {
    "duration": 9,
    "start_time": "2022-02-16T11:18:25.677Z"
   },
   {
    "duration": 29,
    "start_time": "2022-02-16T11:18:25.688Z"
   },
   {
    "duration": 70,
    "start_time": "2022-02-16T11:18:25.719Z"
   },
   {
    "duration": 13,
    "start_time": "2022-02-16T11:18:25.791Z"
   },
   {
    "duration": 9,
    "start_time": "2022-02-16T11:18:25.806Z"
   },
   {
    "duration": 88,
    "start_time": "2022-02-16T11:18:25.819Z"
   },
   {
    "duration": 734,
    "start_time": "2022-02-16T11:18:25.910Z"
   },
   {
    "duration": 703,
    "start_time": "2022-02-16T11:18:26.646Z"
   },
   {
    "duration": 788,
    "start_time": "2022-02-16T11:18:27.351Z"
   },
   {
    "duration": 359,
    "start_time": "2022-02-16T11:18:28.141Z"
   },
   {
    "duration": -204,
    "start_time": "2022-02-16T11:18:28.707Z"
   },
   {
    "duration": -205,
    "start_time": "2022-02-16T11:18:28.710Z"
   },
   {
    "duration": -212,
    "start_time": "2022-02-16T11:18:28.718Z"
   },
   {
    "duration": -213,
    "start_time": "2022-02-16T11:18:28.721Z"
   },
   {
    "duration": -213,
    "start_time": "2022-02-16T11:18:28.723Z"
   },
   {
    "duration": -215,
    "start_time": "2022-02-16T11:18:28.726Z"
   },
   {
    "duration": -217,
    "start_time": "2022-02-16T11:18:28.730Z"
   },
   {
    "duration": -219,
    "start_time": "2022-02-16T11:18:28.733Z"
   },
   {
    "duration": -221,
    "start_time": "2022-02-16T11:18:28.736Z"
   },
   {
    "duration": -222,
    "start_time": "2022-02-16T11:18:28.739Z"
   },
   {
    "duration": -222,
    "start_time": "2022-02-16T11:18:28.741Z"
   },
   {
    "duration": -228,
    "start_time": "2022-02-16T11:18:28.749Z"
   },
   {
    "duration": -229,
    "start_time": "2022-02-16T11:18:28.751Z"
   },
   {
    "duration": -231,
    "start_time": "2022-02-16T11:18:28.755Z"
   },
   {
    "duration": -231,
    "start_time": "2022-02-16T11:18:28.757Z"
   },
   {
    "duration": -238,
    "start_time": "2022-02-16T11:18:28.765Z"
   },
   {
    "duration": -240,
    "start_time": "2022-02-16T11:18:28.768Z"
   },
   {
    "duration": -241,
    "start_time": "2022-02-16T11:18:28.771Z"
   },
   {
    "duration": -243,
    "start_time": "2022-02-16T11:18:28.774Z"
   },
   {
    "duration": -246,
    "start_time": "2022-02-16T11:18:28.779Z"
   },
   {
    "duration": -248,
    "start_time": "2022-02-16T11:18:28.783Z"
   },
   {
    "duration": -249,
    "start_time": "2022-02-16T11:18:28.786Z"
   },
   {
    "duration": -220,
    "start_time": "2022-02-16T11:18:28.789Z"
   },
   {
    "duration": -222,
    "start_time": "2022-02-16T11:18:28.792Z"
   },
   {
    "duration": -222,
    "start_time": "2022-02-16T11:18:28.794Z"
   },
   {
    "duration": 23,
    "start_time": "2022-02-16T11:20:05.929Z"
   },
   {
    "duration": 289,
    "start_time": "2022-02-16T11:20:35.812Z"
   },
   {
    "duration": 312,
    "start_time": "2022-02-16T11:20:44.684Z"
   },
   {
    "duration": 20,
    "start_time": "2022-02-16T11:20:54.549Z"
   },
   {
    "duration": 280,
    "start_time": "2022-02-16T11:23:14.668Z"
   },
   {
    "duration": 284,
    "start_time": "2022-02-16T11:23:38.373Z"
   },
   {
    "duration": 265,
    "start_time": "2022-02-16T11:23:44.413Z"
   },
   {
    "duration": 279,
    "start_time": "2022-02-16T11:24:23.413Z"
   },
   {
    "duration": 20,
    "start_time": "2022-02-16T11:29:19.533Z"
   },
   {
    "duration": 14,
    "start_time": "2022-02-16T11:29:36.514Z"
   },
   {
    "duration": 21,
    "start_time": "2022-02-16T11:29:40.409Z"
   },
   {
    "duration": 26,
    "start_time": "2022-02-16T11:29:49.169Z"
   },
   {
    "duration": 26,
    "start_time": "2022-02-16T11:30:09.940Z"
   },
   {
    "duration": 33,
    "start_time": "2022-02-16T11:30:26.038Z"
   },
   {
    "duration": 17,
    "start_time": "2022-02-16T11:31:05.843Z"
   },
   {
    "duration": 661,
    "start_time": "2022-02-16T11:31:07.014Z"
   },
   {
    "duration": 867,
    "start_time": "2022-02-16T11:31:10.838Z"
   },
   {
    "duration": 620,
    "start_time": "2022-02-16T11:31:14.440Z"
   },
   {
    "duration": 19,
    "start_time": "2022-02-16T11:31:18.450Z"
   },
   {
    "duration": 718,
    "start_time": "2022-02-16T11:31:20.780Z"
   },
   {
    "duration": 673,
    "start_time": "2022-02-16T11:31:24.263Z"
   },
   {
    "duration": 21,
    "start_time": "2022-02-16T11:31:27.527Z"
   },
   {
    "duration": 20,
    "start_time": "2022-02-16T11:31:29.848Z"
   },
   {
    "duration": 7,
    "start_time": "2022-02-16T11:31:32.291Z"
   },
   {
    "duration": 6,
    "start_time": "2022-02-16T11:31:34.721Z"
   },
   {
    "duration": 8,
    "start_time": "2022-02-16T11:31:36.933Z"
   },
   {
    "duration": 16,
    "start_time": "2022-02-16T11:31:41.117Z"
   },
   {
    "duration": 7,
    "start_time": "2022-02-16T11:31:42.735Z"
   },
   {
    "duration": 17,
    "start_time": "2022-02-16T11:31:44.778Z"
   },
   {
    "duration": 28,
    "start_time": "2022-02-16T11:31:46.448Z"
   },
   {
    "duration": 284,
    "start_time": "2022-02-16T11:31:48.899Z"
   },
   {
    "duration": 25,
    "start_time": "2022-02-16T11:32:16.142Z"
   },
   {
    "duration": 25,
    "start_time": "2022-02-16T11:32:32.440Z"
   },
   {
    "duration": 23,
    "start_time": "2022-02-16T11:32:35.893Z"
   },
   {
    "duration": 20,
    "start_time": "2022-02-16T11:32:36.885Z"
   },
   {
    "duration": 6,
    "start_time": "2022-02-16T11:32:40.171Z"
   },
   {
    "duration": 6,
    "start_time": "2022-02-16T11:32:42.508Z"
   },
   {
    "duration": 10,
    "start_time": "2022-02-16T11:32:43.000Z"
   },
   {
    "duration": 19,
    "start_time": "2022-02-16T11:32:55.960Z"
   },
   {
    "duration": 8,
    "start_time": "2022-02-16T11:32:58.116Z"
   },
   {
    "duration": 16,
    "start_time": "2022-02-16T11:32:59.872Z"
   },
   {
    "duration": 11,
    "start_time": "2022-02-16T11:33:22.767Z"
   },
   {
    "duration": 64,
    "start_time": "2022-02-16T11:33:22.781Z"
   },
   {
    "duration": 13,
    "start_time": "2022-02-16T11:33:22.848Z"
   },
   {
    "duration": 34,
    "start_time": "2022-02-16T11:33:22.864Z"
   },
   {
    "duration": 36,
    "start_time": "2022-02-16T11:33:22.900Z"
   },
   {
    "duration": 44,
    "start_time": "2022-02-16T11:33:22.939Z"
   },
   {
    "duration": 11,
    "start_time": "2022-02-16T11:33:22.986Z"
   },
   {
    "duration": 13,
    "start_time": "2022-02-16T11:33:22.999Z"
   },
   {
    "duration": 74,
    "start_time": "2022-02-16T11:33:23.016Z"
   },
   {
    "duration": 791,
    "start_time": "2022-02-16T11:33:23.094Z"
   },
   {
    "duration": 743,
    "start_time": "2022-02-16T11:33:23.887Z"
   },
   {
    "duration": 818,
    "start_time": "2022-02-16T11:33:24.632Z"
   },
   {
    "duration": 51,
    "start_time": "2022-02-16T11:33:25.452Z"
   },
   {
    "duration": 14,
    "start_time": "2022-02-16T11:33:25.505Z"
   },
   {
    "duration": 821,
    "start_time": "2022-02-16T11:33:25.521Z"
   },
   {
    "duration": 809,
    "start_time": "2022-02-16T11:33:26.345Z"
   },
   {
    "duration": 696,
    "start_time": "2022-02-16T11:33:27.157Z"
   },
   {
    "duration": 27,
    "start_time": "2022-02-16T11:33:27.856Z"
   },
   {
    "duration": 795,
    "start_time": "2022-02-16T11:33:27.886Z"
   },
   {
    "duration": 718,
    "start_time": "2022-02-16T11:33:28.684Z"
   },
   {
    "duration": 21,
    "start_time": "2022-02-16T11:33:29.405Z"
   },
   {
    "duration": 49,
    "start_time": "2022-02-16T11:33:29.430Z"
   },
   {
    "duration": 17,
    "start_time": "2022-02-16T11:33:29.482Z"
   },
   {
    "duration": 13,
    "start_time": "2022-02-16T11:33:29.502Z"
   },
   {
    "duration": 12,
    "start_time": "2022-02-16T11:33:29.518Z"
   },
   {
    "duration": 48,
    "start_time": "2022-02-16T11:33:29.532Z"
   },
   {
    "duration": 7,
    "start_time": "2022-02-16T11:33:29.586Z"
   },
   {
    "duration": 25,
    "start_time": "2022-02-16T11:33:29.595Z"
   },
   {
    "duration": 61,
    "start_time": "2022-02-16T11:33:29.623Z"
   },
   {
    "duration": 27,
    "start_time": "2022-02-16T11:33:29.687Z"
   },
   {
    "duration": 60,
    "start_time": "2022-02-16T11:33:29.717Z"
   },
   {
    "duration": 28,
    "start_time": "2022-02-16T11:33:29.780Z"
   },
   {
    "duration": 145,
    "start_time": "2022-02-16T11:33:29.811Z"
   },
   {
    "duration": 16,
    "start_time": "2022-02-16T11:33:29.958Z"
   },
   {
    "duration": 13,
    "start_time": "2022-02-16T11:33:29.977Z"
   },
   {
    "duration": 25,
    "start_time": "2022-02-16T11:33:29.993Z"
   },
   {
    "duration": 34,
    "start_time": "2022-02-16T11:33:30.021Z"
   },
   {
    "duration": 25,
    "start_time": "2022-02-16T11:33:30.058Z"
   },
   {
    "duration": 33,
    "start_time": "2022-02-16T11:33:30.087Z"
   },
   {
    "duration": 6,
    "start_time": "2022-02-16T11:34:25.124Z"
   },
   {
    "duration": 44,
    "start_time": "2022-02-16T11:34:25.133Z"
   },
   {
    "duration": 11,
    "start_time": "2022-02-16T11:34:25.181Z"
   },
   {
    "duration": 9,
    "start_time": "2022-02-16T11:34:25.195Z"
   },
   {
    "duration": 31,
    "start_time": "2022-02-16T11:34:25.206Z"
   },
   {
    "duration": 34,
    "start_time": "2022-02-16T11:34:25.270Z"
   },
   {
    "duration": 11,
    "start_time": "2022-02-16T11:34:25.306Z"
   },
   {
    "duration": 51,
    "start_time": "2022-02-16T11:34:25.320Z"
   },
   {
    "duration": 39,
    "start_time": "2022-02-16T11:34:25.375Z"
   },
   {
    "duration": 690,
    "start_time": "2022-02-16T11:34:25.417Z"
   },
   {
    "duration": 682,
    "start_time": "2022-02-16T11:34:26.110Z"
   },
   {
    "duration": 767,
    "start_time": "2022-02-16T11:34:26.794Z"
   },
   {
    "duration": 33,
    "start_time": "2022-02-16T11:34:27.563Z"
   },
   {
    "duration": 16,
    "start_time": "2022-02-16T11:34:27.598Z"
   },
   {
    "duration": 691,
    "start_time": "2022-02-16T11:34:27.616Z"
   },
   {
    "duration": 820,
    "start_time": "2022-02-16T11:34:28.309Z"
   },
   {
    "duration": 638,
    "start_time": "2022-02-16T11:34:29.131Z"
   },
   {
    "duration": 20,
    "start_time": "2022-02-16T11:34:29.771Z"
   },
   {
    "duration": 622,
    "start_time": "2022-02-16T11:34:29.794Z"
   },
   {
    "duration": 640,
    "start_time": "2022-02-16T11:34:30.419Z"
   },
   {
    "duration": 21,
    "start_time": "2022-02-16T11:34:31.070Z"
   },
   {
    "duration": 22,
    "start_time": "2022-02-16T11:34:31.094Z"
   },
   {
    "duration": 10,
    "start_time": "2022-02-16T11:34:31.119Z"
   },
   {
    "duration": 37,
    "start_time": "2022-02-16T11:34:31.132Z"
   },
   {
    "duration": 22,
    "start_time": "2022-02-16T11:34:31.172Z"
   },
   {
    "duration": 18,
    "start_time": "2022-02-16T11:34:31.197Z"
   },
   {
    "duration": 6,
    "start_time": "2022-02-16T11:34:31.223Z"
   },
   {
    "duration": 45,
    "start_time": "2022-02-16T11:34:31.234Z"
   },
   {
    "duration": 33,
    "start_time": "2022-02-16T11:34:31.282Z"
   },
   {
    "duration": 55,
    "start_time": "2022-02-16T11:34:31.317Z"
   },
   {
    "duration": 27,
    "start_time": "2022-02-16T11:34:31.375Z"
   },
   {
    "duration": 24,
    "start_time": "2022-02-16T11:34:31.404Z"
   },
   {
    "duration": 52,
    "start_time": "2022-02-16T11:34:31.430Z"
   },
   {
    "duration": 7,
    "start_time": "2022-02-16T11:34:31.485Z"
   },
   {
    "duration": 11,
    "start_time": "2022-02-16T11:34:31.494Z"
   },
   {
    "duration": 16,
    "start_time": "2022-02-16T11:34:31.508Z"
   },
   {
    "duration": 52,
    "start_time": "2022-02-16T11:34:31.526Z"
   },
   {
    "duration": 8,
    "start_time": "2022-02-16T11:34:31.581Z"
   },
   {
    "duration": 23,
    "start_time": "2022-02-16T11:34:31.592Z"
   },
   {
    "duration": 1200,
    "start_time": "2022-02-17T04:21:57.219Z"
   },
   {
    "duration": 86,
    "start_time": "2022-02-17T04:21:58.421Z"
   },
   {
    "duration": 11,
    "start_time": "2022-02-17T04:21:58.509Z"
   },
   {
    "duration": 7,
    "start_time": "2022-02-17T04:21:58.522Z"
   },
   {
    "duration": 23,
    "start_time": "2022-02-17T04:21:58.530Z"
   },
   {
    "duration": 21,
    "start_time": "2022-02-17T04:21:58.554Z"
   },
   {
    "duration": 7,
    "start_time": "2022-02-17T04:21:58.577Z"
   },
   {
    "duration": 10,
    "start_time": "2022-02-17T04:21:58.586Z"
   },
   {
    "duration": 27,
    "start_time": "2022-02-17T04:21:58.599Z"
   },
   {
    "duration": 500,
    "start_time": "2022-02-17T04:21:58.629Z"
   },
   {
    "duration": 463,
    "start_time": "2022-02-17T04:21:59.131Z"
   },
   {
    "duration": 596,
    "start_time": "2022-02-17T04:21:59.595Z"
   },
   {
    "duration": 22,
    "start_time": "2022-02-17T04:22:00.192Z"
   },
   {
    "duration": 28,
    "start_time": "2022-02-17T04:22:00.216Z"
   },
   {
    "duration": 447,
    "start_time": "2022-02-17T04:22:00.246Z"
   },
   {
    "duration": 593,
    "start_time": "2022-02-17T04:22:00.695Z"
   },
   {
    "duration": 440,
    "start_time": "2022-02-17T04:22:01.290Z"
   },
   {
    "duration": 13,
    "start_time": "2022-02-17T04:22:01.732Z"
   },
   {
    "duration": 579,
    "start_time": "2022-02-17T04:22:01.747Z"
   },
   {
    "duration": 466,
    "start_time": "2022-02-17T04:22:02.327Z"
   },
   {
    "duration": 15,
    "start_time": "2022-02-17T04:22:02.795Z"
   },
   {
    "duration": 22,
    "start_time": "2022-02-17T04:22:02.812Z"
   },
   {
    "duration": 7,
    "start_time": "2022-02-17T04:22:02.836Z"
   },
   {
    "duration": 6,
    "start_time": "2022-02-17T04:22:02.870Z"
   },
   {
    "duration": 24,
    "start_time": "2022-02-17T04:22:02.878Z"
   },
   {
    "duration": 17,
    "start_time": "2022-02-17T04:22:02.905Z"
   },
   {
    "duration": 16,
    "start_time": "2022-02-17T04:22:02.926Z"
   },
   {
    "duration": 22,
    "start_time": "2022-02-17T04:22:02.944Z"
   },
   {
    "duration": 27,
    "start_time": "2022-02-17T04:22:02.969Z"
   },
   {
    "duration": 19,
    "start_time": "2022-02-17T04:22:02.998Z"
   },
   {
    "duration": 26,
    "start_time": "2022-02-17T04:22:03.019Z"
   },
   {
    "duration": 32,
    "start_time": "2022-02-17T04:22:03.047Z"
   },
   {
    "duration": 41,
    "start_time": "2022-02-17T04:22:03.081Z"
   },
   {
    "duration": 15,
    "start_time": "2022-02-17T04:22:03.124Z"
   },
   {
    "duration": 31,
    "start_time": "2022-02-17T04:22:03.141Z"
   },
   {
    "duration": 21,
    "start_time": "2022-02-17T04:22:03.174Z"
   },
   {
    "duration": 28,
    "start_time": "2022-02-17T04:22:03.198Z"
   },
   {
    "duration": 37,
    "start_time": "2022-02-17T04:22:03.228Z"
   },
   {
    "duration": 34,
    "start_time": "2022-02-17T04:22:03.267Z"
   },
   {
    "duration": 3,
    "start_time": "2022-02-17T04:32:06.619Z"
   },
   {
    "duration": 12,
    "start_time": "2022-02-17T04:33:10.790Z"
   },
   {
    "duration": 12,
    "start_time": "2022-02-17T04:33:29.505Z"
   },
   {
    "duration": 3,
    "start_time": "2022-02-17T04:33:38.641Z"
   },
   {
    "duration": 14,
    "start_time": "2022-02-17T04:35:39.448Z"
   },
   {
    "duration": 12,
    "start_time": "2022-02-17T04:35:52.058Z"
   },
   {
    "duration": 15,
    "start_time": "2022-02-17T04:36:25.116Z"
   },
   {
    "duration": 17,
    "start_time": "2022-02-17T04:39:44.338Z"
   },
   {
    "duration": 88,
    "start_time": "2022-02-17T04:40:21.347Z"
   },
   {
    "duration": 19,
    "start_time": "2022-02-17T04:40:22.432Z"
   },
   {
    "duration": 13,
    "start_time": "2022-02-17T04:40:38.423Z"
   },
   {
    "duration": 12,
    "start_time": "2022-02-17T04:40:46.286Z"
   },
   {
    "duration": 15,
    "start_time": "2022-02-17T04:40:50.208Z"
   },
   {
    "duration": 22,
    "start_time": "2022-02-17T04:40:51.231Z"
   },
   {
    "duration": 20,
    "start_time": "2022-02-17T04:41:17.657Z"
   },
   {
    "duration": 272,
    "start_time": "2022-02-17T04:42:19.411Z"
   },
   {
    "duration": 288,
    "start_time": "2022-02-17T04:42:27.542Z"
   },
   {
    "duration": 512,
    "start_time": "2022-02-17T04:43:03.196Z"
   },
   {
    "duration": 522,
    "start_time": "2022-02-17T04:44:30.536Z"
   },
   {
    "duration": 17,
    "start_time": "2022-02-17T04:49:53.270Z"
   },
   {
    "duration": 353,
    "start_time": "2022-02-17T10:11:17.848Z"
   },
   {
    "duration": 1173,
    "start_time": "2022-02-17T10:11:52.607Z"
   },
   {
    "duration": 59,
    "start_time": "2022-02-17T10:11:53.781Z"
   },
   {
    "duration": 12,
    "start_time": "2022-02-17T10:11:57.230Z"
   },
   {
    "duration": 9,
    "start_time": "2022-02-17T10:11:58.544Z"
   },
   {
    "duration": 17,
    "start_time": "2022-02-17T10:11:59.346Z"
   },
   {
    "duration": 22,
    "start_time": "2022-02-17T10:12:02.765Z"
   },
   {
    "duration": 9,
    "start_time": "2022-02-17T10:12:03.954Z"
   },
   {
    "duration": 7,
    "start_time": "2022-02-17T10:12:05.512Z"
   },
   {
    "duration": 23,
    "start_time": "2022-02-17T10:12:06.057Z"
   },
   {
    "duration": 502,
    "start_time": "2022-02-17T10:12:08.929Z"
   },
   {
    "duration": 11,
    "start_time": "2022-02-17T10:17:50.755Z"
   },
   {
    "duration": 15,
    "start_time": "2022-02-17T10:18:42.535Z"
   },
   {
    "duration": 16,
    "start_time": "2022-02-17T10:19:51.729Z"
   },
   {
    "duration": 21,
    "start_time": "2022-02-17T10:22:30.893Z"
   },
   {
    "duration": 18,
    "start_time": "2022-02-17T10:23:58.680Z"
   },
   {
    "duration": 20,
    "start_time": "2022-02-17T10:25:55.225Z"
   },
   {
    "duration": 49,
    "start_time": "2022-02-17T10:26:14.899Z"
   },
   {
    "duration": 10,
    "start_time": "2022-02-17T10:26:30.119Z"
   },
   {
    "duration": 20,
    "start_time": "2022-02-17T10:26:38.474Z"
   },
   {
    "duration": 18,
    "start_time": "2022-02-17T10:26:52.953Z"
   },
   {
    "duration": 44,
    "start_time": "2022-02-17T10:26:58.497Z"
   },
   {
    "duration": 19,
    "start_time": "2022-02-17T10:27:05.013Z"
   },
   {
    "duration": 9,
    "start_time": "2022-02-17T10:27:21.884Z"
   },
   {
    "duration": 8,
    "start_time": "2022-02-17T10:27:31.263Z"
   },
   {
    "duration": 10,
    "start_time": "2022-02-17T10:27:34.060Z"
   },
   {
    "duration": 14,
    "start_time": "2022-02-17T10:27:48.946Z"
   },
   {
    "duration": 18,
    "start_time": "2022-02-17T10:27:53.686Z"
   },
   {
    "duration": 307,
    "start_time": "2022-02-17T10:28:22.246Z"
   },
   {
    "duration": 351,
    "start_time": "2022-02-17T10:29:04.880Z"
   },
   {
    "duration": 369,
    "start_time": "2022-02-17T10:29:57.053Z"
   },
   {
    "duration": 12,
    "start_time": "2022-02-17T10:30:19.757Z"
   },
   {
    "duration": 16,
    "start_time": "2022-02-17T10:30:29.995Z"
   },
   {
    "duration": 23,
    "start_time": "2022-02-17T10:30:35.717Z"
   },
   {
    "duration": 694,
    "start_time": "2022-02-17T10:30:42.744Z"
   },
   {
    "duration": 640,
    "start_time": "2022-02-17T10:31:55.245Z"
   },
   {
    "duration": 671,
    "start_time": "2022-02-17T10:34:05.047Z"
   },
   {
    "duration": 199,
    "start_time": "2022-02-17T10:44:59.504Z"
   },
   {
    "duration": 459,
    "start_time": "2022-02-17T10:45:09.919Z"
   },
   {
    "duration": 295,
    "start_time": "2022-02-17T10:45:57.472Z"
   },
   {
    "duration": 294,
    "start_time": "2022-02-17T10:46:39.315Z"
   },
   {
    "duration": 300,
    "start_time": "2022-02-17T10:46:53.559Z"
   },
   {
    "duration": 302,
    "start_time": "2022-02-17T10:55:48.727Z"
   },
   {
    "duration": 385,
    "start_time": "2022-02-17T10:56:03.605Z"
   },
   {
    "duration": 391,
    "start_time": "2022-02-17T10:56:50.668Z"
   },
   {
    "duration": 419,
    "start_time": "2022-02-17T10:56:59.368Z"
   },
   {
    "duration": 96,
    "start_time": "2022-02-17T10:57:57.905Z"
   },
   {
    "duration": 427,
    "start_time": "2022-02-17T10:58:15.637Z"
   },
   {
    "duration": 410,
    "start_time": "2022-02-17T10:58:23.657Z"
   },
   {
    "duration": 8185,
    "start_time": "2022-02-17T11:11:30.575Z"
   },
   {
    "duration": 18,
    "start_time": "2022-02-17T11:12:05.895Z"
   },
   {
    "duration": 19,
    "start_time": "2022-02-17T11:12:31.694Z"
   },
   {
    "duration": 23,
    "start_time": "2022-02-17T11:12:49.809Z"
   },
   {
    "duration": 35,
    "start_time": "2022-02-17T11:13:00.089Z"
   },
   {
    "duration": 15,
    "start_time": "2022-02-17T11:13:10.723Z"
   },
   {
    "duration": 38,
    "start_time": "2022-02-17T11:15:47.344Z"
   },
   {
    "duration": 13,
    "start_time": "2022-02-17T11:15:57.096Z"
   },
   {
    "duration": 277,
    "start_time": "2022-02-17T11:16:20.431Z"
   },
   {
    "duration": 608,
    "start_time": "2022-02-17T11:16:50.814Z"
   },
   {
    "duration": 15,
    "start_time": "2022-02-17T11:18:13.335Z"
   },
   {
    "duration": 16,
    "start_time": "2022-02-17T11:18:25.984Z"
   },
   {
    "duration": 312,
    "start_time": "2022-02-17T11:20:00.801Z"
   },
   {
    "duration": 444,
    "start_time": "2022-02-17T11:20:25.639Z"
   },
   {
    "duration": 11,
    "start_time": "2022-02-17T11:21:12.673Z"
   },
   {
    "duration": 10,
    "start_time": "2022-02-17T11:21:33.199Z"
   },
   {
    "duration": 11,
    "start_time": "2022-02-17T11:22:05.567Z"
   },
   {
    "duration": 11,
    "start_time": "2022-02-17T11:22:09.790Z"
   },
   {
    "duration": 5,
    "start_time": "2022-02-17T11:22:50.826Z"
   },
   {
    "duration": 91,
    "start_time": "2022-02-17T11:22:50.833Z"
   },
   {
    "duration": 7,
    "start_time": "2022-02-17T11:22:50.926Z"
   },
   {
    "duration": 4,
    "start_time": "2022-02-17T11:22:50.935Z"
   },
   {
    "duration": 16,
    "start_time": "2022-02-17T11:22:50.941Z"
   },
   {
    "duration": 18,
    "start_time": "2022-02-17T11:22:50.959Z"
   },
   {
    "duration": 7,
    "start_time": "2022-02-17T11:22:50.979Z"
   },
   {
    "duration": 43,
    "start_time": "2022-02-17T11:22:50.989Z"
   },
   {
    "duration": 21,
    "start_time": "2022-02-17T11:22:51.034Z"
   },
   {
    "duration": 381,
    "start_time": "2022-02-17T11:22:51.056Z"
   },
   {
    "duration": 392,
    "start_time": "2022-02-17T11:22:51.439Z"
   },
   {
    "duration": 3,
    "start_time": "2022-02-17T11:22:51.833Z"
   },
   {
    "duration": 11,
    "start_time": "2022-02-17T11:22:51.838Z"
   },
   {
    "duration": 13,
    "start_time": "2022-02-17T11:22:51.851Z"
   },
   {
    "duration": 17,
    "start_time": "2022-02-17T11:22:51.865Z"
   },
   {
    "duration": 432,
    "start_time": "2022-02-17T11:22:51.884Z"
   },
   {
    "duration": 439,
    "start_time": "2022-02-17T11:22:52.318Z"
   },
   {
    "duration": 19,
    "start_time": "2022-02-17T11:22:52.758Z"
   },
   {
    "duration": 12,
    "start_time": "2022-02-17T11:22:52.778Z"
   },
   {
    "duration": 299,
    "start_time": "2022-02-17T11:22:58.842Z"
   },
   {
    "duration": 19,
    "start_time": "2022-02-17T11:25:50.337Z"
   },
   {
    "duration": 3,
    "start_time": "2022-02-17T11:31:42.953Z"
   },
   {
    "duration": 69,
    "start_time": "2022-02-17T11:31:42.958Z"
   },
   {
    "duration": 7,
    "start_time": "2022-02-17T11:31:43.029Z"
   },
   {
    "duration": 4,
    "start_time": "2022-02-17T11:31:43.038Z"
   },
   {
    "duration": 20,
    "start_time": "2022-02-17T11:31:43.044Z"
   },
   {
    "duration": 18,
    "start_time": "2022-02-17T11:31:43.065Z"
   },
   {
    "duration": 8,
    "start_time": "2022-02-17T11:31:43.084Z"
   },
   {
    "duration": 42,
    "start_time": "2022-02-17T11:31:43.093Z"
   },
   {
    "duration": 29,
    "start_time": "2022-02-17T11:31:43.139Z"
   },
   {
    "duration": 581,
    "start_time": "2022-02-17T11:31:43.170Z"
   },
   {
    "duration": 312,
    "start_time": "2022-02-17T11:31:43.753Z"
   },
   {
    "duration": 2,
    "start_time": "2022-02-17T11:31:44.067Z"
   },
   {
    "duration": 12,
    "start_time": "2022-02-17T11:31:44.071Z"
   },
   {
    "duration": 13,
    "start_time": "2022-02-17T11:31:44.085Z"
   },
   {
    "duration": 36,
    "start_time": "2022-02-17T11:31:44.100Z"
   },
   {
    "duration": 504,
    "start_time": "2022-02-17T11:31:44.137Z"
   },
   {
    "duration": 412,
    "start_time": "2022-02-17T11:31:44.643Z"
   },
   {
    "duration": 19,
    "start_time": "2022-02-17T11:31:45.057Z"
   },
   {
    "duration": 12,
    "start_time": "2022-02-17T11:31:45.078Z"
   },
   {
    "duration": 359,
    "start_time": "2022-02-17T11:31:55.954Z"
   },
   {
    "duration": 468,
    "start_time": "2022-02-17T11:35:40.553Z"
   },
   {
    "duration": 407,
    "start_time": "2022-02-17T11:35:51.828Z"
   },
   {
    "duration": 5,
    "start_time": "2022-02-17T11:36:06.324Z"
   },
   {
    "duration": 7,
    "start_time": "2022-02-17T11:36:13.211Z"
   },
   {
    "duration": 7,
    "start_time": "2022-02-17T11:36:22.404Z"
   },
   {
    "duration": 5,
    "start_time": "2022-02-17T11:36:25.564Z"
   },
   {
    "duration": 9,
    "start_time": "2022-02-17T11:36:32.456Z"
   },
   {
    "duration": 4,
    "start_time": "2022-02-17T11:36:52.403Z"
   },
   {
    "duration": 7,
    "start_time": "2022-02-17T11:36:59.960Z"
   },
   {
    "duration": 6,
    "start_time": "2022-02-17T11:37:02.671Z"
   },
   {
    "duration": 5,
    "start_time": "2022-02-17T11:37:27.945Z"
   },
   {
    "duration": 5883,
    "start_time": "2022-02-17T11:37:32.454Z"
   },
   {
    "duration": 5,
    "start_time": "2022-02-17T11:37:41.109Z"
   },
   {
    "duration": 4,
    "start_time": "2022-02-17T11:37:48.168Z"
   },
   {
    "duration": 7,
    "start_time": "2022-02-17T11:40:24.001Z"
   },
   {
    "duration": 10,
    "start_time": "2022-02-17T11:40:36.807Z"
   },
   {
    "duration": 8,
    "start_time": "2022-02-17T11:41:21.681Z"
   },
   {
    "duration": 9,
    "start_time": "2022-02-17T11:41:31.958Z"
   },
   {
    "duration": 305,
    "start_time": "2022-02-17T11:41:40.537Z"
   },
   {
    "duration": -111,
    "start_time": "2022-02-17T11:41:40.954Z"
   },
   {
    "duration": 5,
    "start_time": "2022-02-17T11:42:37.220Z"
   },
   {
    "duration": 6,
    "start_time": "2022-02-17T11:43:04.097Z"
   },
   {
    "duration": 578,
    "start_time": "2022-02-17T11:45:49.514Z"
   },
   {
    "duration": 6,
    "start_time": "2022-02-17T11:46:16.069Z"
   },
   {
    "duration": 15,
    "start_time": "2022-02-17T11:46:27.796Z"
   },
   {
    "duration": 321,
    "start_time": "2022-02-17T11:47:27.804Z"
   },
   {
    "duration": 5,
    "start_time": "2022-02-17T11:47:33.661Z"
   },
   {
    "duration": 313,
    "start_time": "2022-02-17T11:47:46.801Z"
   },
   {
    "duration": 5,
    "start_time": "2022-02-17T11:47:49.336Z"
   },
   {
    "duration": 8,
    "start_time": "2022-02-17T11:48:32.182Z"
   },
   {
    "duration": 8,
    "start_time": "2022-02-17T11:48:37.193Z"
   },
   {
    "duration": 8,
    "start_time": "2022-02-17T11:48:50.833Z"
   },
   {
    "duration": 6,
    "start_time": "2022-02-17T11:48:57.215Z"
   },
   {
    "duration": 6,
    "start_time": "2022-02-17T11:49:00.357Z"
   },
   {
    "duration": 5,
    "start_time": "2022-02-17T11:49:17.358Z"
   },
   {
    "duration": 5,
    "start_time": "2022-02-17T11:49:22.433Z"
   },
   {
    "duration": 4,
    "start_time": "2022-02-17T11:49:27.277Z"
   },
   {
    "duration": 7,
    "start_time": "2022-02-17T11:49:30.599Z"
   },
   {
    "duration": 5,
    "start_time": "2022-02-17T11:49:34.207Z"
   },
   {
    "duration": 7,
    "start_time": "2022-02-17T11:50:04.156Z"
   },
   {
    "duration": 6,
    "start_time": "2022-02-17T11:50:11.038Z"
   },
   {
    "duration": 6,
    "start_time": "2022-02-17T11:50:17.231Z"
   },
   {
    "duration": 573,
    "start_time": "2022-02-17T11:51:00.360Z"
   },
   {
    "duration": 8,
    "start_time": "2022-02-17T11:51:20.266Z"
   },
   {
    "duration": 4,
    "start_time": "2022-02-17T11:51:53.867Z"
   },
   {
    "duration": 105,
    "start_time": "2022-02-17T11:51:53.873Z"
   },
   {
    "duration": 33,
    "start_time": "2022-02-17T11:51:53.980Z"
   },
   {
    "duration": 28,
    "start_time": "2022-02-17T11:51:54.015Z"
   },
   {
    "duration": 37,
    "start_time": "2022-02-17T11:51:54.045Z"
   },
   {
    "duration": 38,
    "start_time": "2022-02-17T11:51:54.084Z"
   },
   {
    "duration": 8,
    "start_time": "2022-02-17T11:51:54.124Z"
   },
   {
    "duration": 32,
    "start_time": "2022-02-17T11:51:54.134Z"
   },
   {
    "duration": 53,
    "start_time": "2022-02-17T11:51:54.168Z"
   },
   {
    "duration": 401,
    "start_time": "2022-02-17T11:51:54.224Z"
   },
   {
    "duration": 318,
    "start_time": "2022-02-17T11:51:54.627Z"
   },
   {
    "duration": 2,
    "start_time": "2022-02-17T11:51:54.947Z"
   },
   {
    "duration": 17,
    "start_time": "2022-02-17T11:51:54.951Z"
   },
   {
    "duration": 22,
    "start_time": "2022-02-17T11:51:54.970Z"
   },
   {
    "duration": 16,
    "start_time": "2022-02-17T11:51:54.994Z"
   },
   {
    "duration": 401,
    "start_time": "2022-02-17T11:51:55.012Z"
   },
   {
    "duration": 433,
    "start_time": "2022-02-17T11:51:55.415Z"
   },
   {
    "duration": 17,
    "start_time": "2022-02-17T11:51:55.850Z"
   },
   {
    "duration": 11,
    "start_time": "2022-02-17T11:51:55.868Z"
   },
   {
    "duration": 326,
    "start_time": "2022-02-17T11:51:55.880Z"
   },
   {
    "duration": 713,
    "start_time": "2022-02-17T11:51:59.172Z"
   },
   {
    "duration": 12,
    "start_time": "2022-02-17T11:52:06.612Z"
   },
   {
    "duration": 8,
    "start_time": "2022-02-17T11:52:10.399Z"
   },
   {
    "duration": 3,
    "start_time": "2022-02-17T11:52:46.131Z"
   },
   {
    "duration": 96,
    "start_time": "2022-02-17T11:52:46.136Z"
   },
   {
    "duration": 7,
    "start_time": "2022-02-17T11:52:46.234Z"
   },
   {
    "duration": 5,
    "start_time": "2022-02-17T11:52:46.243Z"
   },
   {
    "duration": 18,
    "start_time": "2022-02-17T11:52:46.249Z"
   },
   {
    "duration": 22,
    "start_time": "2022-02-17T11:52:46.268Z"
   },
   {
    "duration": 47,
    "start_time": "2022-02-17T11:52:46.292Z"
   },
   {
    "duration": 6,
    "start_time": "2022-02-17T11:52:46.342Z"
   },
   {
    "duration": 26,
    "start_time": "2022-02-17T11:52:46.350Z"
   },
   {
    "duration": 402,
    "start_time": "2022-02-17T11:52:46.377Z"
   },
   {
    "duration": 402,
    "start_time": "2022-02-17T11:52:46.781Z"
   },
   {
    "duration": 2,
    "start_time": "2022-02-17T11:52:47.185Z"
   },
   {
    "duration": 64,
    "start_time": "2022-02-17T11:52:47.189Z"
   },
   {
    "duration": 13,
    "start_time": "2022-02-17T11:52:47.254Z"
   },
   {
    "duration": 20,
    "start_time": "2022-02-17T11:52:47.269Z"
   },
   {
    "duration": 395,
    "start_time": "2022-02-17T11:52:47.291Z"
   },
   {
    "duration": 482,
    "start_time": "2022-02-17T11:52:47.688Z"
   },
   {
    "duration": 20,
    "start_time": "2022-02-17T11:52:48.172Z"
   },
   {
    "duration": 13,
    "start_time": "2022-02-17T11:52:48.193Z"
   },
   {
    "duration": 299,
    "start_time": "2022-02-17T11:52:53.254Z"
   },
   {
    "duration": 8,
    "start_time": "2022-02-17T11:52:57.901Z"
   },
   {
    "duration": 8,
    "start_time": "2022-02-17T11:53:06.199Z"
   },
   {
    "duration": 645,
    "start_time": "2022-02-17T11:53:56.003Z"
   },
   {
    "duration": 9,
    "start_time": "2022-02-17T11:54:05.319Z"
   },
   {
    "duration": 10,
    "start_time": "2022-02-17T11:54:25.158Z"
   },
   {
    "duration": 17,
    "start_time": "2022-02-17T11:54:38.662Z"
   },
   {
    "duration": 577,
    "start_time": "2022-02-17T11:54:44.403Z"
   },
   {
    "duration": 5,
    "start_time": "2022-02-17T11:55:09.050Z"
   },
   {
    "duration": 326,
    "start_time": "2022-02-17T11:55:44.231Z"
   },
   {
    "duration": 1357,
    "start_time": "2022-02-17T11:55:52.328Z"
   },
   {
    "duration": 2072,
    "start_time": "2022-02-17T11:55:57.457Z"
   },
   {
    "duration": 3,
    "start_time": "2022-02-17T11:56:02.918Z"
   },
   {
    "duration": 8,
    "start_time": "2022-02-17T11:56:16.720Z"
   },
   {
    "duration": 8,
    "start_time": "2022-02-17T11:56:34.374Z"
   },
   {
    "duration": 8,
    "start_time": "2022-02-17T11:56:40.026Z"
   },
   {
    "duration": 13,
    "start_time": "2022-02-17T11:57:07.560Z"
   },
   {
    "duration": 7,
    "start_time": "2022-02-17T11:57:27.601Z"
   },
   {
    "duration": 17,
    "start_time": "2022-02-17T11:57:46.446Z"
   },
   {
    "duration": 15,
    "start_time": "2022-02-17T11:58:44.899Z"
   },
   {
    "duration": 393,
    "start_time": "2022-02-17T11:59:22.468Z"
   },
   {
    "duration": 396,
    "start_time": "2022-02-17T11:59:42.925Z"
   },
   {
    "duration": 376,
    "start_time": "2022-02-17T12:09:34.094Z"
   },
   {
    "duration": 406,
    "start_time": "2022-02-17T12:09:56.387Z"
   },
   {
    "duration": 12,
    "start_time": "2022-02-17T12:11:45.829Z"
   },
   {
    "duration": 6,
    "start_time": "2022-02-17T12:12:33.134Z"
   },
   {
    "duration": 7,
    "start_time": "2022-02-17T12:12:38.150Z"
   },
   {
    "duration": 12,
    "start_time": "2022-02-17T12:12:52.579Z"
   },
   {
    "duration": 10,
    "start_time": "2022-02-17T12:13:11.524Z"
   },
   {
    "duration": 307,
    "start_time": "2022-02-17T12:14:33.696Z"
   },
   {
    "duration": 18,
    "start_time": "2022-02-17T12:14:38.204Z"
   },
   {
    "duration": 15,
    "start_time": "2022-02-17T12:14:39.568Z"
   },
   {
    "duration": 18,
    "start_time": "2022-02-17T12:15:24.898Z"
   },
   {
    "duration": 15,
    "start_time": "2022-02-17T12:16:04.809Z"
   },
   {
    "duration": 11,
    "start_time": "2022-02-17T12:16:15.825Z"
   },
   {
    "duration": 5,
    "start_time": "2022-02-17T12:16:21.836Z"
   },
   {
    "duration": 4,
    "start_time": "2022-02-17T12:16:40.963Z"
   },
   {
    "duration": 6,
    "start_time": "2022-02-17T12:16:46.433Z"
   },
   {
    "duration": 10,
    "start_time": "2022-02-17T12:17:16.605Z"
   },
   {
    "duration": 4,
    "start_time": "2022-02-17T12:17:20.207Z"
   },
   {
    "duration": 9,
    "start_time": "2022-02-17T12:17:28.940Z"
   },
   {
    "duration": 9,
    "start_time": "2022-02-17T12:19:24.215Z"
   },
   {
    "duration": 10,
    "start_time": "2022-02-17T12:19:52.510Z"
   },
   {
    "duration": 14,
    "start_time": "2022-02-17T12:25:18.436Z"
   },
   {
    "duration": 4,
    "start_time": "2022-02-17T12:38:30.299Z"
   },
   {
    "duration": 98,
    "start_time": "2022-02-17T12:38:30.305Z"
   },
   {
    "duration": 8,
    "start_time": "2022-02-17T12:38:30.405Z"
   },
   {
    "duration": 10,
    "start_time": "2022-02-17T12:38:30.415Z"
   },
   {
    "duration": 32,
    "start_time": "2022-02-17T12:38:30.427Z"
   },
   {
    "duration": 22,
    "start_time": "2022-02-17T12:38:30.461Z"
   },
   {
    "duration": 8,
    "start_time": "2022-02-17T12:38:30.485Z"
   },
   {
    "duration": 36,
    "start_time": "2022-02-17T12:38:30.495Z"
   },
   {
    "duration": 40,
    "start_time": "2022-02-17T12:38:30.532Z"
   },
   {
    "duration": 382,
    "start_time": "2022-02-17T12:38:30.574Z"
   },
   {
    "duration": 413,
    "start_time": "2022-02-17T12:38:30.957Z"
   },
   {
    "duration": 2,
    "start_time": "2022-02-17T12:38:31.371Z"
   },
   {
    "duration": 39,
    "start_time": "2022-02-17T12:38:31.375Z"
   },
   {
    "duration": 25,
    "start_time": "2022-02-17T12:38:31.416Z"
   },
   {
    "duration": 45,
    "start_time": "2022-02-17T12:38:31.442Z"
   },
   {
    "duration": 397,
    "start_time": "2022-02-17T12:38:31.488Z"
   },
   {
    "duration": 453,
    "start_time": "2022-02-17T12:38:31.887Z"
   },
   {
    "duration": 18,
    "start_time": "2022-02-17T12:38:32.342Z"
   },
   {
    "duration": 12,
    "start_time": "2022-02-17T12:38:32.361Z"
   },
   {
    "duration": 307,
    "start_time": "2022-02-17T12:38:32.374Z"
   },
   {
    "duration": 404,
    "start_time": "2022-02-17T12:38:32.682Z"
   },
   {
    "duration": 385,
    "start_time": "2022-02-17T12:38:33.087Z"
   },
   {
    "duration": 12,
    "start_time": "2022-02-17T12:38:33.475Z"
   },
   {
    "duration": 400,
    "start_time": "2022-02-17T12:38:33.489Z"
   },
   {
    "duration": 401,
    "start_time": "2022-02-17T12:38:33.890Z"
   },
   {
    "duration": 12,
    "start_time": "2022-02-17T12:38:34.293Z"
   },
   {
    "duration": 11,
    "start_time": "2022-02-17T12:38:34.306Z"
   },
   {
    "duration": 4,
    "start_time": "2022-02-17T12:38:34.332Z"
   },
   {
    "duration": 4,
    "start_time": "2022-02-17T12:38:34.337Z"
   },
   {
    "duration": 7,
    "start_time": "2022-02-17T12:38:34.343Z"
   },
   {
    "duration": 9,
    "start_time": "2022-02-17T12:38:34.352Z"
   },
   {
    "duration": 4,
    "start_time": "2022-02-17T12:38:34.362Z"
   },
   {
    "duration": 12,
    "start_time": "2022-02-17T12:38:34.367Z"
   },
   {
    "duration": 51,
    "start_time": "2022-02-17T12:38:34.381Z"
   },
   {
    "duration": 15,
    "start_time": "2022-02-17T12:38:34.433Z"
   },
   {
    "duration": 13,
    "start_time": "2022-02-17T12:38:34.449Z"
   },
   {
    "duration": 11,
    "start_time": "2022-02-17T12:38:34.463Z"
   },
   {
    "duration": 4,
    "start_time": "2022-02-17T12:38:34.476Z"
   },
   {
    "duration": 6,
    "start_time": "2022-02-17T12:38:34.482Z"
   },
   {
    "duration": 43,
    "start_time": "2022-02-17T12:38:34.490Z"
   },
   {
    "duration": 8,
    "start_time": "2022-02-17T12:38:34.535Z"
   },
   {
    "duration": 4,
    "start_time": "2022-02-17T12:38:34.545Z"
   },
   {
    "duration": 12,
    "start_time": "2022-02-17T12:38:34.551Z"
   },
   {
    "duration": 1201,
    "start_time": "2022-02-18T04:44:57.239Z"
   },
   {
    "duration": 108,
    "start_time": "2022-02-18T04:44:58.442Z"
   },
   {
    "duration": 12,
    "start_time": "2022-02-18T04:44:58.552Z"
   },
   {
    "duration": 10,
    "start_time": "2022-02-18T04:44:58.566Z"
   },
   {
    "duration": 21,
    "start_time": "2022-02-18T04:44:58.578Z"
   },
   {
    "duration": 21,
    "start_time": "2022-02-18T04:44:58.600Z"
   },
   {
    "duration": 8,
    "start_time": "2022-02-18T04:44:58.623Z"
   },
   {
    "duration": 36,
    "start_time": "2022-02-18T04:44:58.634Z"
   },
   {
    "duration": 28,
    "start_time": "2022-02-18T04:44:58.672Z"
   },
   {
    "duration": 488,
    "start_time": "2022-02-18T04:44:58.702Z"
   },
   {
    "duration": 381,
    "start_time": "2022-02-18T04:44:59.192Z"
   },
   {
    "duration": 3,
    "start_time": "2022-02-18T04:44:59.574Z"
   },
   {
    "duration": 17,
    "start_time": "2022-02-18T04:44:59.578Z"
   },
   {
    "duration": 21,
    "start_time": "2022-02-18T04:44:59.597Z"
   },
   {
    "duration": 22,
    "start_time": "2022-02-18T04:44:59.620Z"
   },
   {
    "duration": 517,
    "start_time": "2022-02-18T04:44:59.644Z"
   },
   {
    "duration": 497,
    "start_time": "2022-02-18T04:45:00.163Z"
   },
   {
    "duration": 22,
    "start_time": "2022-02-18T04:45:00.662Z"
   },
   {
    "duration": 12,
    "start_time": "2022-02-18T04:45:00.686Z"
   },
   {
    "duration": 403,
    "start_time": "2022-02-18T04:45:00.700Z"
   },
   {
    "duration": 528,
    "start_time": "2022-02-18T04:45:01.105Z"
   },
   {
    "duration": 488,
    "start_time": "2022-02-18T04:45:01.634Z"
   },
   {
    "duration": 13,
    "start_time": "2022-02-18T04:45:02.126Z"
   },
   {
    "duration": 497,
    "start_time": "2022-02-18T04:45:02.142Z"
   },
   {
    "duration": 535,
    "start_time": "2022-02-18T04:45:02.641Z"
   },
   {
    "duration": 16,
    "start_time": "2022-02-18T04:45:03.178Z"
   },
   {
    "duration": 16,
    "start_time": "2022-02-18T04:45:03.196Z"
   },
   {
    "duration": 22,
    "start_time": "2022-02-18T04:45:03.215Z"
   },
   {
    "duration": 18,
    "start_time": "2022-02-18T04:45:03.239Z"
   },
   {
    "duration": 28,
    "start_time": "2022-02-18T04:45:03.258Z"
   },
   {
    "duration": 28,
    "start_time": "2022-02-18T04:45:03.288Z"
   },
   {
    "duration": 7,
    "start_time": "2022-02-18T04:45:03.318Z"
   },
   {
    "duration": 16,
    "start_time": "2022-02-18T04:45:03.327Z"
   },
   {
    "duration": 20,
    "start_time": "2022-02-18T04:45:03.345Z"
   },
   {
    "duration": 16,
    "start_time": "2022-02-18T04:45:03.367Z"
   },
   {
    "duration": 16,
    "start_time": "2022-02-18T04:45:03.385Z"
   },
   {
    "duration": 24,
    "start_time": "2022-02-18T04:45:03.403Z"
   },
   {
    "duration": 8,
    "start_time": "2022-02-18T04:45:03.429Z"
   },
   {
    "duration": 10,
    "start_time": "2022-02-18T04:45:03.439Z"
   },
   {
    "duration": 18,
    "start_time": "2022-02-18T04:45:03.451Z"
   },
   {
    "duration": 17,
    "start_time": "2022-02-18T04:45:03.471Z"
   },
   {
    "duration": 15,
    "start_time": "2022-02-18T04:45:03.489Z"
   },
   {
    "duration": 18,
    "start_time": "2022-02-18T04:45:03.505Z"
   },
   {
    "duration": 1116,
    "start_time": "2022-02-18T07:53:27.132Z"
   },
   {
    "duration": 58,
    "start_time": "2022-02-18T07:53:28.250Z"
   },
   {
    "duration": 10,
    "start_time": "2022-02-18T07:53:28.310Z"
   },
   {
    "duration": 12,
    "start_time": "2022-02-18T07:53:28.322Z"
   },
   {
    "duration": 17,
    "start_time": "2022-02-18T07:53:28.335Z"
   },
   {
    "duration": 34,
    "start_time": "2022-02-18T07:53:28.354Z"
   },
   {
    "duration": 8,
    "start_time": "2022-02-18T07:53:28.389Z"
   },
   {
    "duration": 22,
    "start_time": "2022-02-18T07:53:28.399Z"
   },
   {
    "duration": 22,
    "start_time": "2022-02-18T07:53:28.423Z"
   },
   {
    "duration": 451,
    "start_time": "2022-02-18T07:53:28.447Z"
   },
   {
    "duration": 337,
    "start_time": "2022-02-18T07:53:28.900Z"
   },
   {
    "duration": 2,
    "start_time": "2022-02-18T07:53:29.239Z"
   },
   {
    "duration": 11,
    "start_time": "2022-02-18T07:53:29.243Z"
   },
   {
    "duration": 14,
    "start_time": "2022-02-18T07:53:29.255Z"
   },
   {
    "duration": 17,
    "start_time": "2022-02-18T07:53:29.270Z"
   },
   {
    "duration": 477,
    "start_time": "2022-02-18T07:53:29.289Z"
   },
   {
    "duration": 495,
    "start_time": "2022-02-18T07:53:29.768Z"
   },
   {
    "duration": 20,
    "start_time": "2022-02-18T07:53:35.138Z"
   },
   {
    "duration": 11,
    "start_time": "2022-02-18T07:53:49.161Z"
   },
   {
    "duration": 13,
    "start_time": "2022-02-18T07:56:51.585Z"
   },
   {
    "duration": 17,
    "start_time": "2022-02-18T07:56:59.278Z"
   },
   {
    "duration": 33,
    "start_time": "2022-02-18T07:57:10.684Z"
   },
   {
    "duration": 17,
    "start_time": "2022-02-18T07:57:25.034Z"
   },
   {
    "duration": 268,
    "start_time": "2022-02-18T07:57:25.629Z"
   },
   {
    "duration": 29,
    "start_time": "2022-02-18T07:59:15.616Z"
   },
   {
    "duration": 348,
    "start_time": "2022-02-18T07:59:41.714Z"
   },
   {
    "duration": 537,
    "start_time": "2022-02-18T08:00:28.226Z"
   },
   {
    "duration": 475,
    "start_time": "2022-02-18T08:01:13.775Z"
   },
   {
    "duration": 58,
    "start_time": "2022-02-18T08:02:15.819Z"
   },
   {
    "duration": 432,
    "start_time": "2022-02-18T08:03:26.740Z"
   },
   {
    "duration": 12,
    "start_time": "2022-02-18T08:03:29.741Z"
   },
   {
    "duration": 408,
    "start_time": "2022-02-18T08:03:33.233Z"
   },
   {
    "duration": 424,
    "start_time": "2022-02-18T08:03:35.983Z"
   },
   {
    "duration": 17,
    "start_time": "2022-02-18T08:03:41.679Z"
   },
   {
    "duration": 12,
    "start_time": "2022-02-18T08:03:46.981Z"
   },
   {
    "duration": 4785,
    "start_time": "2022-02-18T08:03:54.543Z"
   },
   {
    "duration": 11,
    "start_time": "2022-02-18T08:04:23.745Z"
   },
   {
    "duration": 16,
    "start_time": "2022-02-18T08:04:51.121Z"
   },
   {
    "duration": 17,
    "start_time": "2022-02-18T08:05:24.393Z"
   },
   {
    "duration": 192,
    "start_time": "2022-02-18T08:06:07.128Z"
   },
   {
    "duration": 17,
    "start_time": "2022-02-18T08:07:17.258Z"
   },
   {
    "duration": 1967,
    "start_time": "2022-02-18T08:07:35.115Z"
   },
   {
    "duration": 20,
    "start_time": "2022-02-18T08:08:18.758Z"
   },
   {
    "duration": 24,
    "start_time": "2022-02-18T08:09:36.726Z"
   },
   {
    "duration": 19,
    "start_time": "2022-02-18T08:10:33.560Z"
   },
   {
    "duration": 18,
    "start_time": "2022-02-18T08:10:51.715Z"
   },
   {
    "duration": 21,
    "start_time": "2022-02-18T08:11:21.765Z"
   },
   {
    "duration": 17,
    "start_time": "2022-02-18T08:12:05.846Z"
   },
   {
    "duration": 23,
    "start_time": "2022-02-18T08:12:40.571Z"
   },
   {
    "duration": 10,
    "start_time": "2022-02-18T08:13:16.201Z"
   },
   {
    "duration": 10,
    "start_time": "2022-02-18T08:13:23.869Z"
   },
   {
    "duration": 5,
    "start_time": "2022-02-18T08:13:44.632Z"
   },
   {
    "duration": 345,
    "start_time": "2022-02-18T08:13:57.232Z"
   },
   {
    "duration": 444,
    "start_time": "2022-02-18T08:14:17.841Z"
   },
   {
    "duration": 5,
    "start_time": "2022-02-18T08:14:42.627Z"
   },
   {
    "duration": 4,
    "start_time": "2022-02-18T08:14:48.061Z"
   },
   {
    "duration": 6,
    "start_time": "2022-02-18T08:14:49.056Z"
   },
   {
    "duration": 11,
    "start_time": "2022-02-18T08:14:55.184Z"
   },
   {
    "duration": 4,
    "start_time": "2022-02-18T08:14:57.008Z"
   },
   {
    "duration": 11,
    "start_time": "2022-02-18T08:15:03.882Z"
   },
   {
    "duration": 19,
    "start_time": "2022-02-18T08:17:57.839Z"
   },
   {
    "duration": 17,
    "start_time": "2022-02-18T08:18:32.917Z"
   },
   {
    "duration": 17,
    "start_time": "2022-02-18T08:18:36.536Z"
   },
   {
    "duration": 13,
    "start_time": "2022-02-18T08:18:40.659Z"
   },
   {
    "duration": 5,
    "start_time": "2022-02-18T08:18:47.176Z"
   },
   {
    "duration": 4,
    "start_time": "2022-02-18T08:18:50.464Z"
   },
   {
    "duration": 7,
    "start_time": "2022-02-18T08:18:53.605Z"
   },
   {
    "duration": 11,
    "start_time": "2022-02-18T08:18:56.506Z"
   },
   {
    "duration": 5,
    "start_time": "2022-02-18T08:18:59.540Z"
   },
   {
    "duration": 10,
    "start_time": "2022-02-18T08:19:04.807Z"
   },
   {
    "duration": 10,
    "start_time": "2022-02-18T08:19:28.406Z"
   },
   {
    "duration": 4,
    "start_time": "2022-02-18T08:21:39.887Z"
   },
   {
    "duration": 61,
    "start_time": "2022-02-18T08:21:39.893Z"
   },
   {
    "duration": 8,
    "start_time": "2022-02-18T08:21:39.956Z"
   },
   {
    "duration": 13,
    "start_time": "2022-02-18T08:21:39.966Z"
   },
   {
    "duration": 23,
    "start_time": "2022-02-18T08:21:39.980Z"
   },
   {
    "duration": 32,
    "start_time": "2022-02-18T08:21:40.005Z"
   },
   {
    "duration": 10,
    "start_time": "2022-02-18T08:21:40.040Z"
   },
   {
    "duration": 6,
    "start_time": "2022-02-18T08:21:40.052Z"
   },
   {
    "duration": 58,
    "start_time": "2022-02-18T08:21:40.060Z"
   },
   {
    "duration": 439,
    "start_time": "2022-02-18T08:21:40.121Z"
   },
   {
    "duration": 366,
    "start_time": "2022-02-18T08:21:40.562Z"
   },
   {
    "duration": 2,
    "start_time": "2022-02-18T08:21:40.930Z"
   },
   {
    "duration": 12,
    "start_time": "2022-02-18T08:21:40.935Z"
   },
   {
    "duration": 16,
    "start_time": "2022-02-18T08:21:40.949Z"
   },
   {
    "duration": 21,
    "start_time": "2022-02-18T08:21:40.967Z"
   },
   {
    "duration": 534,
    "start_time": "2022-02-18T08:21:40.990Z"
   },
   {
    "duration": 571,
    "start_time": "2022-02-18T08:21:41.526Z"
   },
   {
    "duration": 32,
    "start_time": "2022-02-18T08:21:42.099Z"
   },
   {
    "duration": 25,
    "start_time": "2022-02-18T08:21:42.132Z"
   },
   {
    "duration": 375,
    "start_time": "2022-02-18T08:21:42.158Z"
   },
   {
    "duration": 488,
    "start_time": "2022-02-18T08:21:42.535Z"
   },
   {
    "duration": 476,
    "start_time": "2022-02-18T08:21:43.024Z"
   },
   {
    "duration": 21,
    "start_time": "2022-02-18T08:21:43.502Z"
   },
   {
    "duration": 485,
    "start_time": "2022-02-18T08:21:43.524Z"
   },
   {
    "duration": 468,
    "start_time": "2022-02-18T08:21:44.018Z"
   },
   {
    "duration": 12,
    "start_time": "2022-02-18T08:21:44.488Z"
   },
   {
    "duration": 25,
    "start_time": "2022-02-18T08:21:44.503Z"
   },
   {
    "duration": 4,
    "start_time": "2022-02-18T08:21:44.531Z"
   },
   {
    "duration": 5,
    "start_time": "2022-02-18T08:21:44.537Z"
   },
   {
    "duration": 11,
    "start_time": "2022-02-18T08:21:44.544Z"
   },
   {
    "duration": 14,
    "start_time": "2022-02-18T08:21:44.557Z"
   },
   {
    "duration": 6,
    "start_time": "2022-02-18T08:21:44.573Z"
   },
   {
    "duration": 47,
    "start_time": "2022-02-18T08:21:44.580Z"
   },
   {
    "duration": 20,
    "start_time": "2022-02-18T08:21:44.629Z"
   },
   {
    "duration": 18,
    "start_time": "2022-02-18T08:21:44.651Z"
   },
   {
    "duration": 49,
    "start_time": "2022-02-18T08:21:44.671Z"
   },
   {
    "duration": 15,
    "start_time": "2022-02-18T08:21:44.722Z"
   },
   {
    "duration": 5,
    "start_time": "2022-02-18T08:21:44.739Z"
   },
   {
    "duration": 7,
    "start_time": "2022-02-18T08:21:44.746Z"
   },
   {
    "duration": 10,
    "start_time": "2022-02-18T08:21:44.755Z"
   },
   {
    "duration": 12,
    "start_time": "2022-02-18T08:21:44.767Z"
   },
   {
    "duration": 38,
    "start_time": "2022-02-18T08:21:44.781Z"
   },
   {
    "duration": 12,
    "start_time": "2022-02-18T08:21:44.821Z"
   }
  ],
  "hide_input": false,
  "kernelspec": {
   "display_name": "Python 3",
   "language": "python",
   "name": "python3"
  },
  "language_info": {
   "codemirror_mode": {
    "name": "ipython",
    "version": 3
   },
   "file_extension": ".py",
   "mimetype": "text/x-python",
   "name": "python",
   "nbconvert_exporter": "python",
   "pygments_lexer": "ipython3",
   "version": "3.8.8"
  },
  "toc": {
   "base_numbering": 1,
   "nav_menu": {},
   "number_sections": false,
   "sideBar": true,
   "skip_h1_title": false,
   "title_cell": "Table of Contents",
   "title_sidebar": "Contents",
   "toc_cell": false,
   "toc_position": {},
   "toc_section_display": true,
   "toc_window_display": true
  }
 },
 "nbformat": 4,
 "nbformat_minor": 2
}
